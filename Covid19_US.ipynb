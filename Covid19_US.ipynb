{
 "cells": [
  {
   "cell_type": "code",
   "execution_count": null,
   "metadata": {},
   "outputs": [],
   "source": []
  },
  {
   "cell_type": "code",
   "execution_count": 1,
   "metadata": {},
   "outputs": [
    {
     "ename": "ModuleNotFoundError",
     "evalue": "No module named 'geopandas'",
     "output_type": "error",
     "traceback": [
      "\u001b[1;31m---------------------------------------------------------------------------\u001b[0m",
      "\u001b[1;31mModuleNotFoundError\u001b[0m                       Traceback (most recent call last)",
      "\u001b[1;32m<ipython-input-1-709b23607015>\u001b[0m in \u001b[0;36m<module>\u001b[1;34m\u001b[0m\n\u001b[0;32m      5\u001b[0m \u001b[1;32mimport\u001b[0m \u001b[0mrequests\u001b[0m\u001b[1;33m\u001b[0m\u001b[1;33m\u001b[0m\u001b[0m\n\u001b[0;32m      6\u001b[0m \u001b[1;32mfrom\u001b[0m \u001b[0mbs4\u001b[0m \u001b[1;32mimport\u001b[0m \u001b[0mBeautifulSoup\u001b[0m\u001b[1;33m\u001b[0m\u001b[1;33m\u001b[0m\u001b[0m\n\u001b[1;32m----> 7\u001b[1;33m \u001b[1;32mimport\u001b[0m \u001b[0mgeopandas\u001b[0m \u001b[1;32mas\u001b[0m \u001b[0mgpd\u001b[0m\u001b[1;33m\u001b[0m\u001b[1;33m\u001b[0m\u001b[0m\n\u001b[0m\u001b[0;32m      8\u001b[0m \u001b[1;31m#from prettytable import PrettyTable\u001b[0m\u001b[1;33m\u001b[0m\u001b[1;33m\u001b[0m\u001b[1;33m\u001b[0m\u001b[0m\n\u001b[0;32m      9\u001b[0m \u001b[1;32mimport\u001b[0m \u001b[0mnumpy\u001b[0m \u001b[1;32mas\u001b[0m \u001b[0mnp\u001b[0m\u001b[1;33m\u001b[0m\u001b[1;33m\u001b[0m\u001b[0m\n",
      "\u001b[1;31mModuleNotFoundError\u001b[0m: No module named 'geopandas'"
     ]
    }
   ],
   "source": [
    "import os\n",
    "import pandas as pd\n",
    "import seaborn as sns\n",
    "import matplotlib.pyplot as plt\n",
    "import requests\n",
    "from bs4 import BeautifulSoup\n",
    "import geopandas as gpd\n",
    "#from prettytable import PrettyTable\n",
    "import numpy as np\n",
    "color = sns.color_palette()\n",
    "import plotly.offline as py\n",
    "from plotly import tools\n",
    "py.init_notebook_mode(connected=True)\n",
    "import plotly.graph_objs as go\n",
    "import plotly.express as px"
   ]
  },
  {
   "cell_type": "code",
   "execution_count": 22,
   "metadata": {},
   "outputs": [
    {
     "name": "stderr",
     "output_type": "stream",
     "text": [
      "F:\\Anaconda\\lib\\site-packages\\ipykernel_launcher.py:89: SettingWithCopyWarning:\n",
      "\n",
      "\n",
      "A value is trying to be set on a copy of a slice from a DataFrame.\n",
      "Try using .loc[row_indexer,col_indexer] = value instead\n",
      "\n",
      "See the caveats in the documentation: http://pandas.pydata.org/pandas-docs/stable/user_guide/indexing.html#returning-a-view-versus-a-copy\n",
      "\n",
      "F:\\Anaconda\\lib\\site-packages\\ipykernel_launcher.py:90: SettingWithCopyWarning:\n",
      "\n",
      "\n",
      "A value is trying to be set on a copy of a slice from a DataFrame.\n",
      "Try using .loc[row_indexer,col_indexer] = value instead\n",
      "\n",
      "See the caveats in the documentation: http://pandas.pydata.org/pandas-docs/stable/user_guide/indexing.html#returning-a-view-versus-a-copy\n",
      "\n"
     ]
    },
    {
     "data": {
      "application/vnd.plotly.v1+json": {
       "config": {
        "plotlyServerURL": "https://plot.ly"
       },
       "data": [
        {
         "alignmentgroup": "True",
         "hovertemplate": "ObservationDate=%{x}<br>Confirmed=%{y}<extra></extra>",
         "legendgroup": "",
         "marker": {
          "color": "#636efa"
         },
         "name": "",
         "offsetgroup": "",
         "orientation": "v",
         "showlegend": false,
         "textposition": "auto",
         "type": "bar",
         "x": [
          "01/22/2020",
          "01/23/2020",
          "01/24/2020",
          "01/25/2020",
          "01/26/2020",
          "01/27/2020",
          "01/28/2020",
          "01/29/2020",
          "01/30/2020",
          "01/31/2020",
          "02/01/2020",
          "02/02/2020",
          "02/03/2020",
          "02/04/2020",
          "02/05/2020",
          "02/06/2020",
          "02/07/2020",
          "02/08/2020",
          "02/09/2020",
          "02/10/2020",
          "02/11/2020",
          "02/12/2020",
          "02/13/2020",
          "02/14/2020",
          "02/15/2020",
          "02/16/2020",
          "02/17/2020",
          "02/18/2020",
          "02/19/2020",
          "02/20/2020",
          "02/21/2020",
          "02/22/2020",
          "02/23/2020",
          "02/24/2020",
          "02/25/2020",
          "02/26/2020",
          "02/27/2020",
          "02/28/2020",
          "02/29/2020",
          "03/01/2020",
          "03/02/2020",
          "03/03/2020",
          "03/04/2020",
          "03/05/2020",
          "03/06/2020",
          "03/07/2020",
          "03/08/2020",
          "03/09/2020",
          "03/10/2020",
          "03/11/2020",
          "03/12/2020",
          "03/13/2020",
          "03/14/2020",
          "03/15/2020",
          "03/16/2020",
          "03/17/2020",
          "03/18/2020",
          "03/19/2020",
          "03/20/2020",
          "03/21/2020",
          "03/22/2020",
          "03/23/2020",
          "03/24/2020",
          "03/25/2020",
          "03/26/2020",
          "03/27/2020",
          "03/28/2020",
          "03/29/2020",
          "03/30/2020",
          "03/31/2020",
          "04/01/2020",
          "04/02/2020",
          "04/03/2020",
          "04/04/2020",
          "04/05/2020",
          "04/06/2020",
          "04/07/2020",
          "04/08/2020",
          "04/09/2020",
          "04/10/2020",
          "04/11/2020",
          "04/12/2020",
          "04/13/2020",
          "04/14/2020",
          "04/15/2020",
          "04/16/2020",
          "04/17/2020",
          "04/18/2020",
          "04/19/2020",
          "04/20/2020",
          "04/21/2020",
          "04/22/2020",
          "04/23/2020",
          "04/24/2020",
          "04/25/2020",
          "04/26/2020"
         ],
         "xaxis": "x",
         "y": [
          1,
          1,
          2,
          2,
          5,
          5,
          5,
          5,
          5,
          6,
          8,
          8,
          11,
          11,
          12,
          12,
          12,
          12,
          12,
          12,
          13,
          13,
          15,
          15,
          15,
          15,
          15,
          15,
          15,
          15,
          35,
          35,
          35,
          53,
          53,
          59,
          60,
          62,
          70,
          76,
          101,
          122,
          153,
          221,
          278,
          417,
          537,
          605,
          959,
          1281,
          1663,
          2179,
          2726,
          3499,
          4632,
          6421,
          7786,
          13680,
          19101,
          25514,
          33848,
          43663,
          53736,
          65778,
          83836,
          101657,
          121465,
          140909,
          161831,
          188172,
          213372,
          243599,
          275586,
          308853,
          337072,
          366667,
          396223,
          429052,
          461437,
          496535,
          526396,
          555313,
          580619,
          607670,
          636350,
          667801,
          699706,
          732197,
          759086,
          784326,
          811865,
          840220,
          869170,
          905333,
          938154,
          965783
         ],
         "yaxis": "y"
        }
       ],
       "layout": {
        "barmode": "relative",
        "font": {
         "size": 14
        },
        "height": 500,
        "legend": {
         "tracegroupgap": 0
        },
        "margin": {
         "t": 60
        },
        "template": {
         "data": {
          "bar": [
           {
            "error_x": {
             "color": "#2a3f5f"
            },
            "error_y": {
             "color": "#2a3f5f"
            },
            "marker": {
             "line": {
              "color": "#E5ECF6",
              "width": 0.5
             }
            },
            "type": "bar"
           }
          ],
          "barpolar": [
           {
            "marker": {
             "line": {
              "color": "#E5ECF6",
              "width": 0.5
             }
            },
            "type": "barpolar"
           }
          ],
          "carpet": [
           {
            "aaxis": {
             "endlinecolor": "#2a3f5f",
             "gridcolor": "white",
             "linecolor": "white",
             "minorgridcolor": "white",
             "startlinecolor": "#2a3f5f"
            },
            "baxis": {
             "endlinecolor": "#2a3f5f",
             "gridcolor": "white",
             "linecolor": "white",
             "minorgridcolor": "white",
             "startlinecolor": "#2a3f5f"
            },
            "type": "carpet"
           }
          ],
          "choropleth": [
           {
            "colorbar": {
             "outlinewidth": 0,
             "ticks": ""
            },
            "type": "choropleth"
           }
          ],
          "contour": [
           {
            "colorbar": {
             "outlinewidth": 0,
             "ticks": ""
            },
            "colorscale": [
             [
              0,
              "#0d0887"
             ],
             [
              0.1111111111111111,
              "#46039f"
             ],
             [
              0.2222222222222222,
              "#7201a8"
             ],
             [
              0.3333333333333333,
              "#9c179e"
             ],
             [
              0.4444444444444444,
              "#bd3786"
             ],
             [
              0.5555555555555556,
              "#d8576b"
             ],
             [
              0.6666666666666666,
              "#ed7953"
             ],
             [
              0.7777777777777778,
              "#fb9f3a"
             ],
             [
              0.8888888888888888,
              "#fdca26"
             ],
             [
              1,
              "#f0f921"
             ]
            ],
            "type": "contour"
           }
          ],
          "contourcarpet": [
           {
            "colorbar": {
             "outlinewidth": 0,
             "ticks": ""
            },
            "type": "contourcarpet"
           }
          ],
          "heatmap": [
           {
            "colorbar": {
             "outlinewidth": 0,
             "ticks": ""
            },
            "colorscale": [
             [
              0,
              "#0d0887"
             ],
             [
              0.1111111111111111,
              "#46039f"
             ],
             [
              0.2222222222222222,
              "#7201a8"
             ],
             [
              0.3333333333333333,
              "#9c179e"
             ],
             [
              0.4444444444444444,
              "#bd3786"
             ],
             [
              0.5555555555555556,
              "#d8576b"
             ],
             [
              0.6666666666666666,
              "#ed7953"
             ],
             [
              0.7777777777777778,
              "#fb9f3a"
             ],
             [
              0.8888888888888888,
              "#fdca26"
             ],
             [
              1,
              "#f0f921"
             ]
            ],
            "type": "heatmap"
           }
          ],
          "heatmapgl": [
           {
            "colorbar": {
             "outlinewidth": 0,
             "ticks": ""
            },
            "colorscale": [
             [
              0,
              "#0d0887"
             ],
             [
              0.1111111111111111,
              "#46039f"
             ],
             [
              0.2222222222222222,
              "#7201a8"
             ],
             [
              0.3333333333333333,
              "#9c179e"
             ],
             [
              0.4444444444444444,
              "#bd3786"
             ],
             [
              0.5555555555555556,
              "#d8576b"
             ],
             [
              0.6666666666666666,
              "#ed7953"
             ],
             [
              0.7777777777777778,
              "#fb9f3a"
             ],
             [
              0.8888888888888888,
              "#fdca26"
             ],
             [
              1,
              "#f0f921"
             ]
            ],
            "type": "heatmapgl"
           }
          ],
          "histogram": [
           {
            "marker": {
             "colorbar": {
              "outlinewidth": 0,
              "ticks": ""
             }
            },
            "type": "histogram"
           }
          ],
          "histogram2d": [
           {
            "colorbar": {
             "outlinewidth": 0,
             "ticks": ""
            },
            "colorscale": [
             [
              0,
              "#0d0887"
             ],
             [
              0.1111111111111111,
              "#46039f"
             ],
             [
              0.2222222222222222,
              "#7201a8"
             ],
             [
              0.3333333333333333,
              "#9c179e"
             ],
             [
              0.4444444444444444,
              "#bd3786"
             ],
             [
              0.5555555555555556,
              "#d8576b"
             ],
             [
              0.6666666666666666,
              "#ed7953"
             ],
             [
              0.7777777777777778,
              "#fb9f3a"
             ],
             [
              0.8888888888888888,
              "#fdca26"
             ],
             [
              1,
              "#f0f921"
             ]
            ],
            "type": "histogram2d"
           }
          ],
          "histogram2dcontour": [
           {
            "colorbar": {
             "outlinewidth": 0,
             "ticks": ""
            },
            "colorscale": [
             [
              0,
              "#0d0887"
             ],
             [
              0.1111111111111111,
              "#46039f"
             ],
             [
              0.2222222222222222,
              "#7201a8"
             ],
             [
              0.3333333333333333,
              "#9c179e"
             ],
             [
              0.4444444444444444,
              "#bd3786"
             ],
             [
              0.5555555555555556,
              "#d8576b"
             ],
             [
              0.6666666666666666,
              "#ed7953"
             ],
             [
              0.7777777777777778,
              "#fb9f3a"
             ],
             [
              0.8888888888888888,
              "#fdca26"
             ],
             [
              1,
              "#f0f921"
             ]
            ],
            "type": "histogram2dcontour"
           }
          ],
          "mesh3d": [
           {
            "colorbar": {
             "outlinewidth": 0,
             "ticks": ""
            },
            "type": "mesh3d"
           }
          ],
          "parcoords": [
           {
            "line": {
             "colorbar": {
              "outlinewidth": 0,
              "ticks": ""
             }
            },
            "type": "parcoords"
           }
          ],
          "pie": [
           {
            "automargin": true,
            "type": "pie"
           }
          ],
          "scatter": [
           {
            "marker": {
             "colorbar": {
              "outlinewidth": 0,
              "ticks": ""
             }
            },
            "type": "scatter"
           }
          ],
          "scatter3d": [
           {
            "line": {
             "colorbar": {
              "outlinewidth": 0,
              "ticks": ""
             }
            },
            "marker": {
             "colorbar": {
              "outlinewidth": 0,
              "ticks": ""
             }
            },
            "type": "scatter3d"
           }
          ],
          "scattercarpet": [
           {
            "marker": {
             "colorbar": {
              "outlinewidth": 0,
              "ticks": ""
             }
            },
            "type": "scattercarpet"
           }
          ],
          "scattergeo": [
           {
            "marker": {
             "colorbar": {
              "outlinewidth": 0,
              "ticks": ""
             }
            },
            "type": "scattergeo"
           }
          ],
          "scattergl": [
           {
            "marker": {
             "colorbar": {
              "outlinewidth": 0,
              "ticks": ""
             }
            },
            "type": "scattergl"
           }
          ],
          "scattermapbox": [
           {
            "marker": {
             "colorbar": {
              "outlinewidth": 0,
              "ticks": ""
             }
            },
            "type": "scattermapbox"
           }
          ],
          "scatterpolar": [
           {
            "marker": {
             "colorbar": {
              "outlinewidth": 0,
              "ticks": ""
             }
            },
            "type": "scatterpolar"
           }
          ],
          "scatterpolargl": [
           {
            "marker": {
             "colorbar": {
              "outlinewidth": 0,
              "ticks": ""
             }
            },
            "type": "scatterpolargl"
           }
          ],
          "scatterternary": [
           {
            "marker": {
             "colorbar": {
              "outlinewidth": 0,
              "ticks": ""
             }
            },
            "type": "scatterternary"
           }
          ],
          "surface": [
           {
            "colorbar": {
             "outlinewidth": 0,
             "ticks": ""
            },
            "colorscale": [
             [
              0,
              "#0d0887"
             ],
             [
              0.1111111111111111,
              "#46039f"
             ],
             [
              0.2222222222222222,
              "#7201a8"
             ],
             [
              0.3333333333333333,
              "#9c179e"
             ],
             [
              0.4444444444444444,
              "#bd3786"
             ],
             [
              0.5555555555555556,
              "#d8576b"
             ],
             [
              0.6666666666666666,
              "#ed7953"
             ],
             [
              0.7777777777777778,
              "#fb9f3a"
             ],
             [
              0.8888888888888888,
              "#fdca26"
             ],
             [
              1,
              "#f0f921"
             ]
            ],
            "type": "surface"
           }
          ],
          "table": [
           {
            "cells": {
             "fill": {
              "color": "#EBF0F8"
             },
             "line": {
              "color": "white"
             }
            },
            "header": {
             "fill": {
              "color": "#C8D4E3"
             },
             "line": {
              "color": "white"
             }
            },
            "type": "table"
           }
          ]
         },
         "layout": {
          "annotationdefaults": {
           "arrowcolor": "#2a3f5f",
           "arrowhead": 0,
           "arrowwidth": 1
          },
          "coloraxis": {
           "colorbar": {
            "outlinewidth": 0,
            "ticks": ""
           }
          },
          "colorscale": {
           "diverging": [
            [
             0,
             "#8e0152"
            ],
            [
             0.1,
             "#c51b7d"
            ],
            [
             0.2,
             "#de77ae"
            ],
            [
             0.3,
             "#f1b6da"
            ],
            [
             0.4,
             "#fde0ef"
            ],
            [
             0.5,
             "#f7f7f7"
            ],
            [
             0.6,
             "#e6f5d0"
            ],
            [
             0.7,
             "#b8e186"
            ],
            [
             0.8,
             "#7fbc41"
            ],
            [
             0.9,
             "#4d9221"
            ],
            [
             1,
             "#276419"
            ]
           ],
           "sequential": [
            [
             0,
             "#0d0887"
            ],
            [
             0.1111111111111111,
             "#46039f"
            ],
            [
             0.2222222222222222,
             "#7201a8"
            ],
            [
             0.3333333333333333,
             "#9c179e"
            ],
            [
             0.4444444444444444,
             "#bd3786"
            ],
            [
             0.5555555555555556,
             "#d8576b"
            ],
            [
             0.6666666666666666,
             "#ed7953"
            ],
            [
             0.7777777777777778,
             "#fb9f3a"
            ],
            [
             0.8888888888888888,
             "#fdca26"
            ],
            [
             1,
             "#f0f921"
            ]
           ],
           "sequentialminus": [
            [
             0,
             "#0d0887"
            ],
            [
             0.1111111111111111,
             "#46039f"
            ],
            [
             0.2222222222222222,
             "#7201a8"
            ],
            [
             0.3333333333333333,
             "#9c179e"
            ],
            [
             0.4444444444444444,
             "#bd3786"
            ],
            [
             0.5555555555555556,
             "#d8576b"
            ],
            [
             0.6666666666666666,
             "#ed7953"
            ],
            [
             0.7777777777777778,
             "#fb9f3a"
            ],
            [
             0.8888888888888888,
             "#fdca26"
            ],
            [
             1,
             "#f0f921"
            ]
           ]
          },
          "colorway": [
           "#636efa",
           "#EF553B",
           "#00cc96",
           "#ab63fa",
           "#FFA15A",
           "#19d3f3",
           "#FF6692",
           "#B6E880",
           "#FF97FF",
           "#FECB52"
          ],
          "font": {
           "color": "#2a3f5f"
          },
          "geo": {
           "bgcolor": "white",
           "lakecolor": "white",
           "landcolor": "#E5ECF6",
           "showlakes": true,
           "showland": true,
           "subunitcolor": "white"
          },
          "hoverlabel": {
           "align": "left"
          },
          "hovermode": "closest",
          "mapbox": {
           "style": "light"
          },
          "paper_bgcolor": "white",
          "plot_bgcolor": "#E5ECF6",
          "polar": {
           "angularaxis": {
            "gridcolor": "white",
            "linecolor": "white",
            "ticks": ""
           },
           "bgcolor": "#E5ECF6",
           "radialaxis": {
            "gridcolor": "white",
            "linecolor": "white",
            "ticks": ""
           }
          },
          "scene": {
           "xaxis": {
            "backgroundcolor": "#E5ECF6",
            "gridcolor": "white",
            "gridwidth": 2,
            "linecolor": "white",
            "showbackground": true,
            "ticks": "",
            "zerolinecolor": "white"
           },
           "yaxis": {
            "backgroundcolor": "#E5ECF6",
            "gridcolor": "white",
            "gridwidth": 2,
            "linecolor": "white",
            "showbackground": true,
            "ticks": "",
            "zerolinecolor": "white"
           },
           "zaxis": {
            "backgroundcolor": "#E5ECF6",
            "gridcolor": "white",
            "gridwidth": 2,
            "linecolor": "white",
            "showbackground": true,
            "ticks": "",
            "zerolinecolor": "white"
           }
          },
          "shapedefaults": {
           "line": {
            "color": "#2a3f5f"
           }
          },
          "ternary": {
           "aaxis": {
            "gridcolor": "white",
            "linecolor": "white",
            "ticks": ""
           },
           "baxis": {
            "gridcolor": "white",
            "linecolor": "white",
            "ticks": ""
           },
           "bgcolor": "#E5ECF6",
           "caxis": {
            "gridcolor": "white",
            "linecolor": "white",
            "ticks": ""
           }
          },
          "title": {
           "x": 0.05
          },
          "xaxis": {
           "automargin": true,
           "gridcolor": "white",
           "linecolor": "white",
           "ticks": "",
           "title": {
            "standoff": 15
           },
           "zerolinecolor": "white",
           "zerolinewidth": 2
          },
          "yaxis": {
           "automargin": true,
           "gridcolor": "white",
           "linecolor": "white",
           "ticks": "",
           "title": {
            "standoff": 15
           },
           "zerolinecolor": "white",
           "zerolinewidth": 2
          }
         }
        },
        "title": {
         "text": "Daily cumulative count of confirmed COVID-19 cases in US",
         "x": 0.5
        },
        "width": 800,
        "xaxis": {
         "anchor": "y",
         "domain": [
          0,
          1
         ],
         "title": {
          "text": "Date of observation"
         }
        },
        "yaxis": {
         "anchor": "x",
         "domain": [
          0,
          1
         ],
         "title": {
          "text": "Number of confirmed cases"
         }
        }
       }
      },
      "text/html": [
       "<div>\n",
       "        \n",
       "        \n",
       "            <div id=\"70cb022a-1b3c-4b8a-9bed-b1790166b7f8\" class=\"plotly-graph-div\" style=\"height:500px; width:800px;\"></div>\n",
       "            <script type=\"text/javascript\">\n",
       "                require([\"plotly\"], function(Plotly) {\n",
       "                    window.PLOTLYENV=window.PLOTLYENV || {};\n",
       "                    \n",
       "                if (document.getElementById(\"70cb022a-1b3c-4b8a-9bed-b1790166b7f8\")) {\n",
       "                    Plotly.newPlot(\n",
       "                        '70cb022a-1b3c-4b8a-9bed-b1790166b7f8',\n",
       "                        [{\"alignmentgroup\": \"True\", \"hovertemplate\": \"ObservationDate=%{x}<br>Confirmed=%{y}<extra></extra>\", \"legendgroup\": \"\", \"marker\": {\"color\": \"#636efa\"}, \"name\": \"\", \"offsetgroup\": \"\", \"orientation\": \"v\", \"showlegend\": false, \"textposition\": \"auto\", \"type\": \"bar\", \"x\": [\"01/22/2020\", \"01/23/2020\", \"01/24/2020\", \"01/25/2020\", \"01/26/2020\", \"01/27/2020\", \"01/28/2020\", \"01/29/2020\", \"01/30/2020\", \"01/31/2020\", \"02/01/2020\", \"02/02/2020\", \"02/03/2020\", \"02/04/2020\", \"02/05/2020\", \"02/06/2020\", \"02/07/2020\", \"02/08/2020\", \"02/09/2020\", \"02/10/2020\", \"02/11/2020\", \"02/12/2020\", \"02/13/2020\", \"02/14/2020\", \"02/15/2020\", \"02/16/2020\", \"02/17/2020\", \"02/18/2020\", \"02/19/2020\", \"02/20/2020\", \"02/21/2020\", \"02/22/2020\", \"02/23/2020\", \"02/24/2020\", \"02/25/2020\", \"02/26/2020\", \"02/27/2020\", \"02/28/2020\", \"02/29/2020\", \"03/01/2020\", \"03/02/2020\", \"03/03/2020\", \"03/04/2020\", \"03/05/2020\", \"03/06/2020\", \"03/07/2020\", \"03/08/2020\", \"03/09/2020\", \"03/10/2020\", \"03/11/2020\", \"03/12/2020\", \"03/13/2020\", \"03/14/2020\", \"03/15/2020\", \"03/16/2020\", \"03/17/2020\", \"03/18/2020\", \"03/19/2020\", \"03/20/2020\", \"03/21/2020\", \"03/22/2020\", \"03/23/2020\", \"03/24/2020\", \"03/25/2020\", \"03/26/2020\", \"03/27/2020\", \"03/28/2020\", \"03/29/2020\", \"03/30/2020\", \"03/31/2020\", \"04/01/2020\", \"04/02/2020\", \"04/03/2020\", \"04/04/2020\", \"04/05/2020\", \"04/06/2020\", \"04/07/2020\", \"04/08/2020\", \"04/09/2020\", \"04/10/2020\", \"04/11/2020\", \"04/12/2020\", \"04/13/2020\", \"04/14/2020\", \"04/15/2020\", \"04/16/2020\", \"04/17/2020\", \"04/18/2020\", \"04/19/2020\", \"04/20/2020\", \"04/21/2020\", \"04/22/2020\", \"04/23/2020\", \"04/24/2020\", \"04/25/2020\", \"04/26/2020\"], \"xaxis\": \"x\", \"y\": [1.0, 1.0, 2.0, 2.0, 5.0, 5.0, 5.0, 5.0, 5.0, 6.0, 8.0, 8.0, 11.0, 11.0, 12.0, 12.0, 12.0, 12.0, 12.0, 12.0, 13.0, 13.0, 15.0, 15.0, 15.0, 15.0, 15.0, 15.0, 15.0, 15.0, 35.0, 35.0, 35.0, 53.0, 53.0, 59.0, 60.0, 62.0, 70.0, 76.0, 101.0, 122.0, 153.0, 221.0, 278.0, 417.0, 537.0, 605.0, 959.0, 1281.0, 1663.0, 2179.0, 2726.0, 3499.0, 4632.0, 6421.0, 7786.0, 13680.0, 19101.0, 25514.0, 33848.0, 43663.0, 53736.0, 65778.0, 83836.0, 101657.0, 121465.0, 140909.0, 161831.0, 188172.0, 213372.0, 243599.0, 275586.0, 308853.0, 337072.0, 366667.0, 396223.0, 429052.0, 461437.0, 496535.0, 526396.0, 555313.0, 580619.0, 607670.0, 636350.0, 667801.0, 699706.0, 732197.0, 759086.0, 784326.0, 811865.0, 840220.0, 869170.0, 905333.0, 938154.0, 965783.0], \"yaxis\": \"y\"}],\n",
       "                        {\"barmode\": \"relative\", \"font\": {\"size\": 14}, \"height\": 500, \"legend\": {\"tracegroupgap\": 0}, \"margin\": {\"t\": 60}, \"template\": {\"data\": {\"bar\": [{\"error_x\": {\"color\": \"#2a3f5f\"}, \"error_y\": {\"color\": \"#2a3f5f\"}, \"marker\": {\"line\": {\"color\": \"#E5ECF6\", \"width\": 0.5}}, \"type\": \"bar\"}], \"barpolar\": [{\"marker\": {\"line\": {\"color\": \"#E5ECF6\", \"width\": 0.5}}, \"type\": \"barpolar\"}], \"carpet\": [{\"aaxis\": {\"endlinecolor\": \"#2a3f5f\", \"gridcolor\": \"white\", \"linecolor\": \"white\", \"minorgridcolor\": \"white\", \"startlinecolor\": \"#2a3f5f\"}, \"baxis\": {\"endlinecolor\": \"#2a3f5f\", \"gridcolor\": \"white\", \"linecolor\": \"white\", \"minorgridcolor\": \"white\", \"startlinecolor\": \"#2a3f5f\"}, \"type\": \"carpet\"}], \"choropleth\": [{\"colorbar\": {\"outlinewidth\": 0, \"ticks\": \"\"}, \"type\": \"choropleth\"}], \"contour\": [{\"colorbar\": {\"outlinewidth\": 0, \"ticks\": \"\"}, \"colorscale\": [[0.0, \"#0d0887\"], [0.1111111111111111, \"#46039f\"], [0.2222222222222222, \"#7201a8\"], [0.3333333333333333, \"#9c179e\"], [0.4444444444444444, \"#bd3786\"], [0.5555555555555556, \"#d8576b\"], [0.6666666666666666, \"#ed7953\"], [0.7777777777777778, \"#fb9f3a\"], [0.8888888888888888, \"#fdca26\"], [1.0, \"#f0f921\"]], \"type\": \"contour\"}], \"contourcarpet\": [{\"colorbar\": {\"outlinewidth\": 0, \"ticks\": \"\"}, \"type\": \"contourcarpet\"}], \"heatmap\": [{\"colorbar\": {\"outlinewidth\": 0, \"ticks\": \"\"}, \"colorscale\": [[0.0, \"#0d0887\"], [0.1111111111111111, \"#46039f\"], [0.2222222222222222, \"#7201a8\"], [0.3333333333333333, \"#9c179e\"], [0.4444444444444444, \"#bd3786\"], [0.5555555555555556, \"#d8576b\"], [0.6666666666666666, \"#ed7953\"], [0.7777777777777778, \"#fb9f3a\"], [0.8888888888888888, \"#fdca26\"], [1.0, \"#f0f921\"]], \"type\": \"heatmap\"}], \"heatmapgl\": [{\"colorbar\": {\"outlinewidth\": 0, \"ticks\": \"\"}, \"colorscale\": [[0.0, \"#0d0887\"], [0.1111111111111111, \"#46039f\"], [0.2222222222222222, \"#7201a8\"], [0.3333333333333333, \"#9c179e\"], [0.4444444444444444, \"#bd3786\"], [0.5555555555555556, \"#d8576b\"], [0.6666666666666666, \"#ed7953\"], [0.7777777777777778, \"#fb9f3a\"], [0.8888888888888888, \"#fdca26\"], [1.0, \"#f0f921\"]], \"type\": \"heatmapgl\"}], \"histogram\": [{\"marker\": {\"colorbar\": {\"outlinewidth\": 0, \"ticks\": \"\"}}, \"type\": \"histogram\"}], \"histogram2d\": [{\"colorbar\": {\"outlinewidth\": 0, \"ticks\": \"\"}, \"colorscale\": [[0.0, \"#0d0887\"], [0.1111111111111111, \"#46039f\"], [0.2222222222222222, \"#7201a8\"], [0.3333333333333333, \"#9c179e\"], [0.4444444444444444, \"#bd3786\"], [0.5555555555555556, \"#d8576b\"], [0.6666666666666666, \"#ed7953\"], [0.7777777777777778, \"#fb9f3a\"], [0.8888888888888888, \"#fdca26\"], [1.0, \"#f0f921\"]], \"type\": \"histogram2d\"}], \"histogram2dcontour\": [{\"colorbar\": {\"outlinewidth\": 0, \"ticks\": \"\"}, \"colorscale\": [[0.0, \"#0d0887\"], [0.1111111111111111, \"#46039f\"], [0.2222222222222222, \"#7201a8\"], [0.3333333333333333, \"#9c179e\"], [0.4444444444444444, \"#bd3786\"], [0.5555555555555556, \"#d8576b\"], [0.6666666666666666, \"#ed7953\"], [0.7777777777777778, \"#fb9f3a\"], [0.8888888888888888, \"#fdca26\"], [1.0, \"#f0f921\"]], \"type\": \"histogram2dcontour\"}], \"mesh3d\": [{\"colorbar\": {\"outlinewidth\": 0, \"ticks\": \"\"}, \"type\": \"mesh3d\"}], \"parcoords\": [{\"line\": {\"colorbar\": {\"outlinewidth\": 0, \"ticks\": \"\"}}, \"type\": \"parcoords\"}], \"pie\": [{\"automargin\": true, \"type\": \"pie\"}], \"scatter\": [{\"marker\": {\"colorbar\": {\"outlinewidth\": 0, \"ticks\": \"\"}}, \"type\": \"scatter\"}], \"scatter3d\": [{\"line\": {\"colorbar\": {\"outlinewidth\": 0, \"ticks\": \"\"}}, \"marker\": {\"colorbar\": {\"outlinewidth\": 0, \"ticks\": \"\"}}, \"type\": \"scatter3d\"}], \"scattercarpet\": [{\"marker\": {\"colorbar\": {\"outlinewidth\": 0, \"ticks\": \"\"}}, \"type\": \"scattercarpet\"}], \"scattergeo\": [{\"marker\": {\"colorbar\": {\"outlinewidth\": 0, \"ticks\": \"\"}}, \"type\": \"scattergeo\"}], \"scattergl\": [{\"marker\": {\"colorbar\": {\"outlinewidth\": 0, \"ticks\": \"\"}}, \"type\": \"scattergl\"}], \"scattermapbox\": [{\"marker\": {\"colorbar\": {\"outlinewidth\": 0, \"ticks\": \"\"}}, \"type\": \"scattermapbox\"}], \"scatterpolar\": [{\"marker\": {\"colorbar\": {\"outlinewidth\": 0, \"ticks\": \"\"}}, \"type\": \"scatterpolar\"}], \"scatterpolargl\": [{\"marker\": {\"colorbar\": {\"outlinewidth\": 0, \"ticks\": \"\"}}, \"type\": \"scatterpolargl\"}], \"scatterternary\": [{\"marker\": {\"colorbar\": {\"outlinewidth\": 0, \"ticks\": \"\"}}, \"type\": \"scatterternary\"}], \"surface\": [{\"colorbar\": {\"outlinewidth\": 0, \"ticks\": \"\"}, \"colorscale\": [[0.0, \"#0d0887\"], [0.1111111111111111, \"#46039f\"], [0.2222222222222222, \"#7201a8\"], [0.3333333333333333, \"#9c179e\"], [0.4444444444444444, \"#bd3786\"], [0.5555555555555556, \"#d8576b\"], [0.6666666666666666, \"#ed7953\"], [0.7777777777777778, \"#fb9f3a\"], [0.8888888888888888, \"#fdca26\"], [1.0, \"#f0f921\"]], \"type\": \"surface\"}], \"table\": [{\"cells\": {\"fill\": {\"color\": \"#EBF0F8\"}, \"line\": {\"color\": \"white\"}}, \"header\": {\"fill\": {\"color\": \"#C8D4E3\"}, \"line\": {\"color\": \"white\"}}, \"type\": \"table\"}]}, \"layout\": {\"annotationdefaults\": {\"arrowcolor\": \"#2a3f5f\", \"arrowhead\": 0, \"arrowwidth\": 1}, \"coloraxis\": {\"colorbar\": {\"outlinewidth\": 0, \"ticks\": \"\"}}, \"colorscale\": {\"diverging\": [[0, \"#8e0152\"], [0.1, \"#c51b7d\"], [0.2, \"#de77ae\"], [0.3, \"#f1b6da\"], [0.4, \"#fde0ef\"], [0.5, \"#f7f7f7\"], [0.6, \"#e6f5d0\"], [0.7, \"#b8e186\"], [0.8, \"#7fbc41\"], [0.9, \"#4d9221\"], [1, \"#276419\"]], \"sequential\": [[0.0, \"#0d0887\"], [0.1111111111111111, \"#46039f\"], [0.2222222222222222, \"#7201a8\"], [0.3333333333333333, \"#9c179e\"], [0.4444444444444444, \"#bd3786\"], [0.5555555555555556, \"#d8576b\"], [0.6666666666666666, \"#ed7953\"], [0.7777777777777778, \"#fb9f3a\"], [0.8888888888888888, \"#fdca26\"], [1.0, \"#f0f921\"]], \"sequentialminus\": [[0.0, \"#0d0887\"], [0.1111111111111111, \"#46039f\"], [0.2222222222222222, \"#7201a8\"], [0.3333333333333333, \"#9c179e\"], [0.4444444444444444, \"#bd3786\"], [0.5555555555555556, \"#d8576b\"], [0.6666666666666666, \"#ed7953\"], [0.7777777777777778, \"#fb9f3a\"], [0.8888888888888888, \"#fdca26\"], [1.0, \"#f0f921\"]]}, \"colorway\": [\"#636efa\", \"#EF553B\", \"#00cc96\", \"#ab63fa\", \"#FFA15A\", \"#19d3f3\", \"#FF6692\", \"#B6E880\", \"#FF97FF\", \"#FECB52\"], \"font\": {\"color\": \"#2a3f5f\"}, \"geo\": {\"bgcolor\": \"white\", \"lakecolor\": \"white\", \"landcolor\": \"#E5ECF6\", \"showlakes\": true, \"showland\": true, \"subunitcolor\": \"white\"}, \"hoverlabel\": {\"align\": \"left\"}, \"hovermode\": \"closest\", \"mapbox\": {\"style\": \"light\"}, \"paper_bgcolor\": \"white\", \"plot_bgcolor\": \"#E5ECF6\", \"polar\": {\"angularaxis\": {\"gridcolor\": \"white\", \"linecolor\": \"white\", \"ticks\": \"\"}, \"bgcolor\": \"#E5ECF6\", \"radialaxis\": {\"gridcolor\": \"white\", \"linecolor\": \"white\", \"ticks\": \"\"}}, \"scene\": {\"xaxis\": {\"backgroundcolor\": \"#E5ECF6\", \"gridcolor\": \"white\", \"gridwidth\": 2, \"linecolor\": \"white\", \"showbackground\": true, \"ticks\": \"\", \"zerolinecolor\": \"white\"}, \"yaxis\": {\"backgroundcolor\": \"#E5ECF6\", \"gridcolor\": \"white\", \"gridwidth\": 2, \"linecolor\": \"white\", \"showbackground\": true, \"ticks\": \"\", \"zerolinecolor\": \"white\"}, \"zaxis\": {\"backgroundcolor\": \"#E5ECF6\", \"gridcolor\": \"white\", \"gridwidth\": 2, \"linecolor\": \"white\", \"showbackground\": true, \"ticks\": \"\", \"zerolinecolor\": \"white\"}}, \"shapedefaults\": {\"line\": {\"color\": \"#2a3f5f\"}}, \"ternary\": {\"aaxis\": {\"gridcolor\": \"white\", \"linecolor\": \"white\", \"ticks\": \"\"}, \"baxis\": {\"gridcolor\": \"white\", \"linecolor\": \"white\", \"ticks\": \"\"}, \"bgcolor\": \"#E5ECF6\", \"caxis\": {\"gridcolor\": \"white\", \"linecolor\": \"white\", \"ticks\": \"\"}}, \"title\": {\"x\": 0.05}, \"xaxis\": {\"automargin\": true, \"gridcolor\": \"white\", \"linecolor\": \"white\", \"ticks\": \"\", \"title\": {\"standoff\": 15}, \"zerolinecolor\": \"white\", \"zerolinewidth\": 2}, \"yaxis\": {\"automargin\": true, \"gridcolor\": \"white\", \"linecolor\": \"white\", \"ticks\": \"\", \"title\": {\"standoff\": 15}, \"zerolinecolor\": \"white\", \"zerolinewidth\": 2}}}, \"title\": {\"text\": \"Daily cumulative count of confirmed COVID-19 cases in US\", \"x\": 0.5}, \"width\": 800, \"xaxis\": {\"anchor\": \"y\", \"domain\": [0.0, 1.0], \"title\": {\"text\": \"Date of observation\"}}, \"yaxis\": {\"anchor\": \"x\", \"domain\": [0.0, 1.0], \"title\": {\"text\": \"Number of confirmed cases\"}}},\n",
       "                        {\"responsive\": true}\n",
       "                    ).then(function(){\n",
       "                            \n",
       "var gd = document.getElementById('70cb022a-1b3c-4b8a-9bed-b1790166b7f8');\n",
       "var x = new MutationObserver(function (mutations, observer) {{\n",
       "        var display = window.getComputedStyle(gd).display;\n",
       "        if (!display || display === 'none') {{\n",
       "            console.log([gd, 'removed!']);\n",
       "            Plotly.purge(gd);\n",
       "            observer.disconnect();\n",
       "        }}\n",
       "}});\n",
       "\n",
       "// Listen for the removal of the full notebook cells\n",
       "var notebookContainer = gd.closest('#notebook-container');\n",
       "if (notebookContainer) {{\n",
       "    x.observe(notebookContainer, {childList: true});\n",
       "}}\n",
       "\n",
       "// Listen for the clearing of the current output cell\n",
       "var outputEl = gd.closest('.output');\n",
       "if (outputEl) {{\n",
       "    x.observe(outputEl, {childList: true});\n",
       "}}\n",
       "\n",
       "                        })\n",
       "                };\n",
       "                });\n",
       "            </script>\n",
       "        </div>"
      ]
     },
     "metadata": {},
     "output_type": "display_data"
    },
    {
     "data": {
      "application/vnd.plotly.v1+json": {
       "config": {
        "plotlyServerURL": "https://plot.ly"
       },
       "data": [
        {
         "alignmentgroup": "True",
         "hovertemplate": "ObservationDate=%{x}<br>Deaths=%{y}<extra></extra>",
         "legendgroup": "",
         "marker": {
          "color": "#636efa"
         },
         "name": "",
         "offsetgroup": "",
         "orientation": "v",
         "showlegend": false,
         "textposition": "auto",
         "type": "bar",
         "x": [
          "01/22/2020",
          "01/23/2020",
          "01/24/2020",
          "01/25/2020",
          "01/26/2020",
          "01/27/2020",
          "01/28/2020",
          "01/29/2020",
          "01/30/2020",
          "01/31/2020",
          "02/01/2020",
          "02/02/2020",
          "02/03/2020",
          "02/04/2020",
          "02/05/2020",
          "02/06/2020",
          "02/07/2020",
          "02/08/2020",
          "02/09/2020",
          "02/10/2020",
          "02/11/2020",
          "02/12/2020",
          "02/13/2020",
          "02/14/2020",
          "02/15/2020",
          "02/16/2020",
          "02/17/2020",
          "02/18/2020",
          "02/19/2020",
          "02/20/2020",
          "02/21/2020",
          "02/22/2020",
          "02/23/2020",
          "02/24/2020",
          "02/25/2020",
          "02/26/2020",
          "02/27/2020",
          "02/28/2020",
          "02/29/2020",
          "03/01/2020",
          "03/02/2020",
          "03/03/2020",
          "03/04/2020",
          "03/05/2020",
          "03/06/2020",
          "03/07/2020",
          "03/08/2020",
          "03/09/2020",
          "03/10/2020",
          "03/11/2020",
          "03/12/2020",
          "03/13/2020",
          "03/14/2020",
          "03/15/2020",
          "03/16/2020",
          "03/17/2020",
          "03/18/2020",
          "03/19/2020",
          "03/20/2020",
          "03/21/2020",
          "03/22/2020",
          "03/23/2020",
          "03/24/2020",
          "03/25/2020",
          "03/26/2020",
          "03/27/2020",
          "03/28/2020",
          "03/29/2020",
          "03/30/2020",
          "03/31/2020",
          "04/01/2020",
          "04/02/2020",
          "04/03/2020",
          "04/04/2020",
          "04/05/2020",
          "04/06/2020",
          "04/07/2020",
          "04/08/2020",
          "04/09/2020",
          "04/10/2020",
          "04/11/2020",
          "04/12/2020",
          "04/13/2020",
          "04/14/2020",
          "04/15/2020",
          "04/16/2020",
          "04/17/2020",
          "04/18/2020",
          "04/19/2020",
          "04/20/2020",
          "04/21/2020",
          "04/22/2020",
          "04/23/2020",
          "04/24/2020",
          "04/25/2020",
          "04/26/2020"
         ],
         "xaxis": "x",
         "y": [
          0,
          0,
          0,
          0,
          0,
          0,
          0,
          0,
          0,
          0,
          0,
          0,
          0,
          0,
          0,
          0,
          0,
          0,
          0,
          0,
          0,
          0,
          0,
          0,
          0,
          0,
          0,
          0,
          0,
          0,
          0,
          0,
          0,
          0,
          0,
          0,
          0,
          0,
          1,
          1,
          6,
          7,
          11,
          12,
          14,
          17,
          21,
          22,
          28,
          36,
          40,
          47,
          54,
          63,
          85,
          108,
          118,
          200,
          244,
          307,
          427,
          552,
          706,
          942,
          1209,
          1581,
          2026,
          2467,
          2978,
          3873,
          4757,
          5926,
          7087,
          8407,
          9619,
          10783,
          12722,
          14695,
          16478,
          18586,
          20462,
          22019,
          23528,
          25831,
          28325,
          32916,
          36773,
          38664,
          40661,
          42094,
          44444,
          46622,
          49954,
          51949,
          53755,
          54881
         ],
         "yaxis": "y"
        }
       ],
       "layout": {
        "barmode": "relative",
        "font": {
         "size": 14
        },
        "height": 500,
        "legend": {
         "tracegroupgap": 0
        },
        "margin": {
         "t": 60
        },
        "template": {
         "data": {
          "bar": [
           {
            "error_x": {
             "color": "#2a3f5f"
            },
            "error_y": {
             "color": "#2a3f5f"
            },
            "marker": {
             "line": {
              "color": "#E5ECF6",
              "width": 0.5
             }
            },
            "type": "bar"
           }
          ],
          "barpolar": [
           {
            "marker": {
             "line": {
              "color": "#E5ECF6",
              "width": 0.5
             }
            },
            "type": "barpolar"
           }
          ],
          "carpet": [
           {
            "aaxis": {
             "endlinecolor": "#2a3f5f",
             "gridcolor": "white",
             "linecolor": "white",
             "minorgridcolor": "white",
             "startlinecolor": "#2a3f5f"
            },
            "baxis": {
             "endlinecolor": "#2a3f5f",
             "gridcolor": "white",
             "linecolor": "white",
             "minorgridcolor": "white",
             "startlinecolor": "#2a3f5f"
            },
            "type": "carpet"
           }
          ],
          "choropleth": [
           {
            "colorbar": {
             "outlinewidth": 0,
             "ticks": ""
            },
            "type": "choropleth"
           }
          ],
          "contour": [
           {
            "colorbar": {
             "outlinewidth": 0,
             "ticks": ""
            },
            "colorscale": [
             [
              0,
              "#0d0887"
             ],
             [
              0.1111111111111111,
              "#46039f"
             ],
             [
              0.2222222222222222,
              "#7201a8"
             ],
             [
              0.3333333333333333,
              "#9c179e"
             ],
             [
              0.4444444444444444,
              "#bd3786"
             ],
             [
              0.5555555555555556,
              "#d8576b"
             ],
             [
              0.6666666666666666,
              "#ed7953"
             ],
             [
              0.7777777777777778,
              "#fb9f3a"
             ],
             [
              0.8888888888888888,
              "#fdca26"
             ],
             [
              1,
              "#f0f921"
             ]
            ],
            "type": "contour"
           }
          ],
          "contourcarpet": [
           {
            "colorbar": {
             "outlinewidth": 0,
             "ticks": ""
            },
            "type": "contourcarpet"
           }
          ],
          "heatmap": [
           {
            "colorbar": {
             "outlinewidth": 0,
             "ticks": ""
            },
            "colorscale": [
             [
              0,
              "#0d0887"
             ],
             [
              0.1111111111111111,
              "#46039f"
             ],
             [
              0.2222222222222222,
              "#7201a8"
             ],
             [
              0.3333333333333333,
              "#9c179e"
             ],
             [
              0.4444444444444444,
              "#bd3786"
             ],
             [
              0.5555555555555556,
              "#d8576b"
             ],
             [
              0.6666666666666666,
              "#ed7953"
             ],
             [
              0.7777777777777778,
              "#fb9f3a"
             ],
             [
              0.8888888888888888,
              "#fdca26"
             ],
             [
              1,
              "#f0f921"
             ]
            ],
            "type": "heatmap"
           }
          ],
          "heatmapgl": [
           {
            "colorbar": {
             "outlinewidth": 0,
             "ticks": ""
            },
            "colorscale": [
             [
              0,
              "#0d0887"
             ],
             [
              0.1111111111111111,
              "#46039f"
             ],
             [
              0.2222222222222222,
              "#7201a8"
             ],
             [
              0.3333333333333333,
              "#9c179e"
             ],
             [
              0.4444444444444444,
              "#bd3786"
             ],
             [
              0.5555555555555556,
              "#d8576b"
             ],
             [
              0.6666666666666666,
              "#ed7953"
             ],
             [
              0.7777777777777778,
              "#fb9f3a"
             ],
             [
              0.8888888888888888,
              "#fdca26"
             ],
             [
              1,
              "#f0f921"
             ]
            ],
            "type": "heatmapgl"
           }
          ],
          "histogram": [
           {
            "marker": {
             "colorbar": {
              "outlinewidth": 0,
              "ticks": ""
             }
            },
            "type": "histogram"
           }
          ],
          "histogram2d": [
           {
            "colorbar": {
             "outlinewidth": 0,
             "ticks": ""
            },
            "colorscale": [
             [
              0,
              "#0d0887"
             ],
             [
              0.1111111111111111,
              "#46039f"
             ],
             [
              0.2222222222222222,
              "#7201a8"
             ],
             [
              0.3333333333333333,
              "#9c179e"
             ],
             [
              0.4444444444444444,
              "#bd3786"
             ],
             [
              0.5555555555555556,
              "#d8576b"
             ],
             [
              0.6666666666666666,
              "#ed7953"
             ],
             [
              0.7777777777777778,
              "#fb9f3a"
             ],
             [
              0.8888888888888888,
              "#fdca26"
             ],
             [
              1,
              "#f0f921"
             ]
            ],
            "type": "histogram2d"
           }
          ],
          "histogram2dcontour": [
           {
            "colorbar": {
             "outlinewidth": 0,
             "ticks": ""
            },
            "colorscale": [
             [
              0,
              "#0d0887"
             ],
             [
              0.1111111111111111,
              "#46039f"
             ],
             [
              0.2222222222222222,
              "#7201a8"
             ],
             [
              0.3333333333333333,
              "#9c179e"
             ],
             [
              0.4444444444444444,
              "#bd3786"
             ],
             [
              0.5555555555555556,
              "#d8576b"
             ],
             [
              0.6666666666666666,
              "#ed7953"
             ],
             [
              0.7777777777777778,
              "#fb9f3a"
             ],
             [
              0.8888888888888888,
              "#fdca26"
             ],
             [
              1,
              "#f0f921"
             ]
            ],
            "type": "histogram2dcontour"
           }
          ],
          "mesh3d": [
           {
            "colorbar": {
             "outlinewidth": 0,
             "ticks": ""
            },
            "type": "mesh3d"
           }
          ],
          "parcoords": [
           {
            "line": {
             "colorbar": {
              "outlinewidth": 0,
              "ticks": ""
             }
            },
            "type": "parcoords"
           }
          ],
          "pie": [
           {
            "automargin": true,
            "type": "pie"
           }
          ],
          "scatter": [
           {
            "marker": {
             "colorbar": {
              "outlinewidth": 0,
              "ticks": ""
             }
            },
            "type": "scatter"
           }
          ],
          "scatter3d": [
           {
            "line": {
             "colorbar": {
              "outlinewidth": 0,
              "ticks": ""
             }
            },
            "marker": {
             "colorbar": {
              "outlinewidth": 0,
              "ticks": ""
             }
            },
            "type": "scatter3d"
           }
          ],
          "scattercarpet": [
           {
            "marker": {
             "colorbar": {
              "outlinewidth": 0,
              "ticks": ""
             }
            },
            "type": "scattercarpet"
           }
          ],
          "scattergeo": [
           {
            "marker": {
             "colorbar": {
              "outlinewidth": 0,
              "ticks": ""
             }
            },
            "type": "scattergeo"
           }
          ],
          "scattergl": [
           {
            "marker": {
             "colorbar": {
              "outlinewidth": 0,
              "ticks": ""
             }
            },
            "type": "scattergl"
           }
          ],
          "scattermapbox": [
           {
            "marker": {
             "colorbar": {
              "outlinewidth": 0,
              "ticks": ""
             }
            },
            "type": "scattermapbox"
           }
          ],
          "scatterpolar": [
           {
            "marker": {
             "colorbar": {
              "outlinewidth": 0,
              "ticks": ""
             }
            },
            "type": "scatterpolar"
           }
          ],
          "scatterpolargl": [
           {
            "marker": {
             "colorbar": {
              "outlinewidth": 0,
              "ticks": ""
             }
            },
            "type": "scatterpolargl"
           }
          ],
          "scatterternary": [
           {
            "marker": {
             "colorbar": {
              "outlinewidth": 0,
              "ticks": ""
             }
            },
            "type": "scatterternary"
           }
          ],
          "surface": [
           {
            "colorbar": {
             "outlinewidth": 0,
             "ticks": ""
            },
            "colorscale": [
             [
              0,
              "#0d0887"
             ],
             [
              0.1111111111111111,
              "#46039f"
             ],
             [
              0.2222222222222222,
              "#7201a8"
             ],
             [
              0.3333333333333333,
              "#9c179e"
             ],
             [
              0.4444444444444444,
              "#bd3786"
             ],
             [
              0.5555555555555556,
              "#d8576b"
             ],
             [
              0.6666666666666666,
              "#ed7953"
             ],
             [
              0.7777777777777778,
              "#fb9f3a"
             ],
             [
              0.8888888888888888,
              "#fdca26"
             ],
             [
              1,
              "#f0f921"
             ]
            ],
            "type": "surface"
           }
          ],
          "table": [
           {
            "cells": {
             "fill": {
              "color": "#EBF0F8"
             },
             "line": {
              "color": "white"
             }
            },
            "header": {
             "fill": {
              "color": "#C8D4E3"
             },
             "line": {
              "color": "white"
             }
            },
            "type": "table"
           }
          ]
         },
         "layout": {
          "annotationdefaults": {
           "arrowcolor": "#2a3f5f",
           "arrowhead": 0,
           "arrowwidth": 1
          },
          "coloraxis": {
           "colorbar": {
            "outlinewidth": 0,
            "ticks": ""
           }
          },
          "colorscale": {
           "diverging": [
            [
             0,
             "#8e0152"
            ],
            [
             0.1,
             "#c51b7d"
            ],
            [
             0.2,
             "#de77ae"
            ],
            [
             0.3,
             "#f1b6da"
            ],
            [
             0.4,
             "#fde0ef"
            ],
            [
             0.5,
             "#f7f7f7"
            ],
            [
             0.6,
             "#e6f5d0"
            ],
            [
             0.7,
             "#b8e186"
            ],
            [
             0.8,
             "#7fbc41"
            ],
            [
             0.9,
             "#4d9221"
            ],
            [
             1,
             "#276419"
            ]
           ],
           "sequential": [
            [
             0,
             "#0d0887"
            ],
            [
             0.1111111111111111,
             "#46039f"
            ],
            [
             0.2222222222222222,
             "#7201a8"
            ],
            [
             0.3333333333333333,
             "#9c179e"
            ],
            [
             0.4444444444444444,
             "#bd3786"
            ],
            [
             0.5555555555555556,
             "#d8576b"
            ],
            [
             0.6666666666666666,
             "#ed7953"
            ],
            [
             0.7777777777777778,
             "#fb9f3a"
            ],
            [
             0.8888888888888888,
             "#fdca26"
            ],
            [
             1,
             "#f0f921"
            ]
           ],
           "sequentialminus": [
            [
             0,
             "#0d0887"
            ],
            [
             0.1111111111111111,
             "#46039f"
            ],
            [
             0.2222222222222222,
             "#7201a8"
            ],
            [
             0.3333333333333333,
             "#9c179e"
            ],
            [
             0.4444444444444444,
             "#bd3786"
            ],
            [
             0.5555555555555556,
             "#d8576b"
            ],
            [
             0.6666666666666666,
             "#ed7953"
            ],
            [
             0.7777777777777778,
             "#fb9f3a"
            ],
            [
             0.8888888888888888,
             "#fdca26"
            ],
            [
             1,
             "#f0f921"
            ]
           ]
          },
          "colorway": [
           "#636efa",
           "#EF553B",
           "#00cc96",
           "#ab63fa",
           "#FFA15A",
           "#19d3f3",
           "#FF6692",
           "#B6E880",
           "#FF97FF",
           "#FECB52"
          ],
          "font": {
           "color": "#2a3f5f"
          },
          "geo": {
           "bgcolor": "white",
           "lakecolor": "white",
           "landcolor": "#E5ECF6",
           "showlakes": true,
           "showland": true,
           "subunitcolor": "white"
          },
          "hoverlabel": {
           "align": "left"
          },
          "hovermode": "closest",
          "mapbox": {
           "style": "light"
          },
          "paper_bgcolor": "white",
          "plot_bgcolor": "#E5ECF6",
          "polar": {
           "angularaxis": {
            "gridcolor": "white",
            "linecolor": "white",
            "ticks": ""
           },
           "bgcolor": "#E5ECF6",
           "radialaxis": {
            "gridcolor": "white",
            "linecolor": "white",
            "ticks": ""
           }
          },
          "scene": {
           "xaxis": {
            "backgroundcolor": "#E5ECF6",
            "gridcolor": "white",
            "gridwidth": 2,
            "linecolor": "white",
            "showbackground": true,
            "ticks": "",
            "zerolinecolor": "white"
           },
           "yaxis": {
            "backgroundcolor": "#E5ECF6",
            "gridcolor": "white",
            "gridwidth": 2,
            "linecolor": "white",
            "showbackground": true,
            "ticks": "",
            "zerolinecolor": "white"
           },
           "zaxis": {
            "backgroundcolor": "#E5ECF6",
            "gridcolor": "white",
            "gridwidth": 2,
            "linecolor": "white",
            "showbackground": true,
            "ticks": "",
            "zerolinecolor": "white"
           }
          },
          "shapedefaults": {
           "line": {
            "color": "#2a3f5f"
           }
          },
          "ternary": {
           "aaxis": {
            "gridcolor": "white",
            "linecolor": "white",
            "ticks": ""
           },
           "baxis": {
            "gridcolor": "white",
            "linecolor": "white",
            "ticks": ""
           },
           "bgcolor": "#E5ECF6",
           "caxis": {
            "gridcolor": "white",
            "linecolor": "white",
            "ticks": ""
           }
          },
          "title": {
           "x": 0.05
          },
          "xaxis": {
           "automargin": true,
           "gridcolor": "white",
           "linecolor": "white",
           "ticks": "",
           "title": {
            "standoff": 15
           },
           "zerolinecolor": "white",
           "zerolinewidth": 2
          },
          "yaxis": {
           "automargin": true,
           "gridcolor": "white",
           "linecolor": "white",
           "ticks": "",
           "title": {
            "standoff": 15
           },
           "zerolinecolor": "white",
           "zerolinewidth": 2
          }
         }
        },
        "title": {
         "text": "Daily cumulative count of deaths due to COVID-19 in US",
         "x": 0.5
        },
        "width": 800,
        "xaxis": {
         "anchor": "y",
         "domain": [
          0,
          1
         ],
         "title": {
          "text": "Date of observation"
         }
        },
        "yaxis": {
         "anchor": "x",
         "domain": [
          0,
          1
         ],
         "title": {
          "text": "Number of death cases"
         }
        }
       }
      },
      "text/html": [
       "<div>\n",
       "        \n",
       "        \n",
       "            <div id=\"40df2284-3f1e-4462-9e5a-00d689d0d679\" class=\"plotly-graph-div\" style=\"height:500px; width:800px;\"></div>\n",
       "            <script type=\"text/javascript\">\n",
       "                require([\"plotly\"], function(Plotly) {\n",
       "                    window.PLOTLYENV=window.PLOTLYENV || {};\n",
       "                    \n",
       "                if (document.getElementById(\"40df2284-3f1e-4462-9e5a-00d689d0d679\")) {\n",
       "                    Plotly.newPlot(\n",
       "                        '40df2284-3f1e-4462-9e5a-00d689d0d679',\n",
       "                        [{\"alignmentgroup\": \"True\", \"hovertemplate\": \"ObservationDate=%{x}<br>Deaths=%{y}<extra></extra>\", \"legendgroup\": \"\", \"marker\": {\"color\": \"#636efa\"}, \"name\": \"\", \"offsetgroup\": \"\", \"orientation\": \"v\", \"showlegend\": false, \"textposition\": \"auto\", \"type\": \"bar\", \"x\": [\"01/22/2020\", \"01/23/2020\", \"01/24/2020\", \"01/25/2020\", \"01/26/2020\", \"01/27/2020\", \"01/28/2020\", \"01/29/2020\", \"01/30/2020\", \"01/31/2020\", \"02/01/2020\", \"02/02/2020\", \"02/03/2020\", \"02/04/2020\", \"02/05/2020\", \"02/06/2020\", \"02/07/2020\", \"02/08/2020\", \"02/09/2020\", \"02/10/2020\", \"02/11/2020\", \"02/12/2020\", \"02/13/2020\", \"02/14/2020\", \"02/15/2020\", \"02/16/2020\", \"02/17/2020\", \"02/18/2020\", \"02/19/2020\", \"02/20/2020\", \"02/21/2020\", \"02/22/2020\", \"02/23/2020\", \"02/24/2020\", \"02/25/2020\", \"02/26/2020\", \"02/27/2020\", \"02/28/2020\", \"02/29/2020\", \"03/01/2020\", \"03/02/2020\", \"03/03/2020\", \"03/04/2020\", \"03/05/2020\", \"03/06/2020\", \"03/07/2020\", \"03/08/2020\", \"03/09/2020\", \"03/10/2020\", \"03/11/2020\", \"03/12/2020\", \"03/13/2020\", \"03/14/2020\", \"03/15/2020\", \"03/16/2020\", \"03/17/2020\", \"03/18/2020\", \"03/19/2020\", \"03/20/2020\", \"03/21/2020\", \"03/22/2020\", \"03/23/2020\", \"03/24/2020\", \"03/25/2020\", \"03/26/2020\", \"03/27/2020\", \"03/28/2020\", \"03/29/2020\", \"03/30/2020\", \"03/31/2020\", \"04/01/2020\", \"04/02/2020\", \"04/03/2020\", \"04/04/2020\", \"04/05/2020\", \"04/06/2020\", \"04/07/2020\", \"04/08/2020\", \"04/09/2020\", \"04/10/2020\", \"04/11/2020\", \"04/12/2020\", \"04/13/2020\", \"04/14/2020\", \"04/15/2020\", \"04/16/2020\", \"04/17/2020\", \"04/18/2020\", \"04/19/2020\", \"04/20/2020\", \"04/21/2020\", \"04/22/2020\", \"04/23/2020\", \"04/24/2020\", \"04/25/2020\", \"04/26/2020\"], \"xaxis\": \"x\", \"y\": [0.0, 0.0, 0.0, 0.0, 0.0, 0.0, 0.0, 0.0, 0.0, 0.0, 0.0, 0.0, 0.0, 0.0, 0.0, 0.0, 0.0, 0.0, 0.0, 0.0, 0.0, 0.0, 0.0, 0.0, 0.0, 0.0, 0.0, 0.0, 0.0, 0.0, 0.0, 0.0, 0.0, 0.0, 0.0, 0.0, 0.0, 0.0, 1.0, 1.0, 6.0, 7.0, 11.0, 12.0, 14.0, 17.0, 21.0, 22.0, 28.0, 36.0, 40.0, 47.0, 54.0, 63.0, 85.0, 108.0, 118.0, 200.0, 244.0, 307.0, 427.0, 552.0, 706.0, 942.0, 1209.0, 1581.0, 2026.0, 2467.0, 2978.0, 3873.0, 4757.0, 5926.0, 7087.0, 8407.0, 9619.0, 10783.0, 12722.0, 14695.0, 16478.0, 18586.0, 20462.0, 22019.0, 23528.0, 25831.0, 28325.0, 32916.0, 36773.0, 38664.0, 40661.0, 42094.0, 44444.0, 46622.0, 49954.0, 51949.0, 53755.0, 54881.0], \"yaxis\": \"y\"}],\n",
       "                        {\"barmode\": \"relative\", \"font\": {\"size\": 14}, \"height\": 500, \"legend\": {\"tracegroupgap\": 0}, \"margin\": {\"t\": 60}, \"template\": {\"data\": {\"bar\": [{\"error_x\": {\"color\": \"#2a3f5f\"}, \"error_y\": {\"color\": \"#2a3f5f\"}, \"marker\": {\"line\": {\"color\": \"#E5ECF6\", \"width\": 0.5}}, \"type\": \"bar\"}], \"barpolar\": [{\"marker\": {\"line\": {\"color\": \"#E5ECF6\", \"width\": 0.5}}, \"type\": \"barpolar\"}], \"carpet\": [{\"aaxis\": {\"endlinecolor\": \"#2a3f5f\", \"gridcolor\": \"white\", \"linecolor\": \"white\", \"minorgridcolor\": \"white\", \"startlinecolor\": \"#2a3f5f\"}, \"baxis\": {\"endlinecolor\": \"#2a3f5f\", \"gridcolor\": \"white\", \"linecolor\": \"white\", \"minorgridcolor\": \"white\", \"startlinecolor\": \"#2a3f5f\"}, \"type\": \"carpet\"}], \"choropleth\": [{\"colorbar\": {\"outlinewidth\": 0, \"ticks\": \"\"}, \"type\": \"choropleth\"}], \"contour\": [{\"colorbar\": {\"outlinewidth\": 0, \"ticks\": \"\"}, \"colorscale\": [[0.0, \"#0d0887\"], [0.1111111111111111, \"#46039f\"], [0.2222222222222222, \"#7201a8\"], [0.3333333333333333, \"#9c179e\"], [0.4444444444444444, \"#bd3786\"], [0.5555555555555556, \"#d8576b\"], [0.6666666666666666, \"#ed7953\"], [0.7777777777777778, \"#fb9f3a\"], [0.8888888888888888, \"#fdca26\"], [1.0, \"#f0f921\"]], \"type\": \"contour\"}], \"contourcarpet\": [{\"colorbar\": {\"outlinewidth\": 0, \"ticks\": \"\"}, \"type\": \"contourcarpet\"}], \"heatmap\": [{\"colorbar\": {\"outlinewidth\": 0, \"ticks\": \"\"}, \"colorscale\": [[0.0, \"#0d0887\"], [0.1111111111111111, \"#46039f\"], [0.2222222222222222, \"#7201a8\"], [0.3333333333333333, \"#9c179e\"], [0.4444444444444444, \"#bd3786\"], [0.5555555555555556, \"#d8576b\"], [0.6666666666666666, \"#ed7953\"], [0.7777777777777778, \"#fb9f3a\"], [0.8888888888888888, \"#fdca26\"], [1.0, \"#f0f921\"]], \"type\": \"heatmap\"}], \"heatmapgl\": [{\"colorbar\": {\"outlinewidth\": 0, \"ticks\": \"\"}, \"colorscale\": [[0.0, \"#0d0887\"], [0.1111111111111111, \"#46039f\"], [0.2222222222222222, \"#7201a8\"], [0.3333333333333333, \"#9c179e\"], [0.4444444444444444, \"#bd3786\"], [0.5555555555555556, \"#d8576b\"], [0.6666666666666666, \"#ed7953\"], [0.7777777777777778, \"#fb9f3a\"], [0.8888888888888888, \"#fdca26\"], [1.0, \"#f0f921\"]], \"type\": \"heatmapgl\"}], \"histogram\": [{\"marker\": {\"colorbar\": {\"outlinewidth\": 0, \"ticks\": \"\"}}, \"type\": \"histogram\"}], \"histogram2d\": [{\"colorbar\": {\"outlinewidth\": 0, \"ticks\": \"\"}, \"colorscale\": [[0.0, \"#0d0887\"], [0.1111111111111111, \"#46039f\"], [0.2222222222222222, \"#7201a8\"], [0.3333333333333333, \"#9c179e\"], [0.4444444444444444, \"#bd3786\"], [0.5555555555555556, \"#d8576b\"], [0.6666666666666666, \"#ed7953\"], [0.7777777777777778, \"#fb9f3a\"], [0.8888888888888888, \"#fdca26\"], [1.0, \"#f0f921\"]], \"type\": \"histogram2d\"}], \"histogram2dcontour\": [{\"colorbar\": {\"outlinewidth\": 0, \"ticks\": \"\"}, \"colorscale\": [[0.0, \"#0d0887\"], [0.1111111111111111, \"#46039f\"], [0.2222222222222222, \"#7201a8\"], [0.3333333333333333, \"#9c179e\"], [0.4444444444444444, \"#bd3786\"], [0.5555555555555556, \"#d8576b\"], [0.6666666666666666, \"#ed7953\"], [0.7777777777777778, \"#fb9f3a\"], [0.8888888888888888, \"#fdca26\"], [1.0, \"#f0f921\"]], \"type\": \"histogram2dcontour\"}], \"mesh3d\": [{\"colorbar\": {\"outlinewidth\": 0, \"ticks\": \"\"}, \"type\": \"mesh3d\"}], \"parcoords\": [{\"line\": {\"colorbar\": {\"outlinewidth\": 0, \"ticks\": \"\"}}, \"type\": \"parcoords\"}], \"pie\": [{\"automargin\": true, \"type\": \"pie\"}], \"scatter\": [{\"marker\": {\"colorbar\": {\"outlinewidth\": 0, \"ticks\": \"\"}}, \"type\": \"scatter\"}], \"scatter3d\": [{\"line\": {\"colorbar\": {\"outlinewidth\": 0, \"ticks\": \"\"}}, \"marker\": {\"colorbar\": {\"outlinewidth\": 0, \"ticks\": \"\"}}, \"type\": \"scatter3d\"}], \"scattercarpet\": [{\"marker\": {\"colorbar\": {\"outlinewidth\": 0, \"ticks\": \"\"}}, \"type\": \"scattercarpet\"}], \"scattergeo\": [{\"marker\": {\"colorbar\": {\"outlinewidth\": 0, \"ticks\": \"\"}}, \"type\": \"scattergeo\"}], \"scattergl\": [{\"marker\": {\"colorbar\": {\"outlinewidth\": 0, \"ticks\": \"\"}}, \"type\": \"scattergl\"}], \"scattermapbox\": [{\"marker\": {\"colorbar\": {\"outlinewidth\": 0, \"ticks\": \"\"}}, \"type\": \"scattermapbox\"}], \"scatterpolar\": [{\"marker\": {\"colorbar\": {\"outlinewidth\": 0, \"ticks\": \"\"}}, \"type\": \"scatterpolar\"}], \"scatterpolargl\": [{\"marker\": {\"colorbar\": {\"outlinewidth\": 0, \"ticks\": \"\"}}, \"type\": \"scatterpolargl\"}], \"scatterternary\": [{\"marker\": {\"colorbar\": {\"outlinewidth\": 0, \"ticks\": \"\"}}, \"type\": \"scatterternary\"}], \"surface\": [{\"colorbar\": {\"outlinewidth\": 0, \"ticks\": \"\"}, \"colorscale\": [[0.0, \"#0d0887\"], [0.1111111111111111, \"#46039f\"], [0.2222222222222222, \"#7201a8\"], [0.3333333333333333, \"#9c179e\"], [0.4444444444444444, \"#bd3786\"], [0.5555555555555556, \"#d8576b\"], [0.6666666666666666, \"#ed7953\"], [0.7777777777777778, \"#fb9f3a\"], [0.8888888888888888, \"#fdca26\"], [1.0, \"#f0f921\"]], \"type\": \"surface\"}], \"table\": [{\"cells\": {\"fill\": {\"color\": \"#EBF0F8\"}, \"line\": {\"color\": \"white\"}}, \"header\": {\"fill\": {\"color\": \"#C8D4E3\"}, \"line\": {\"color\": \"white\"}}, \"type\": \"table\"}]}, \"layout\": {\"annotationdefaults\": {\"arrowcolor\": \"#2a3f5f\", \"arrowhead\": 0, \"arrowwidth\": 1}, \"coloraxis\": {\"colorbar\": {\"outlinewidth\": 0, \"ticks\": \"\"}}, \"colorscale\": {\"diverging\": [[0, \"#8e0152\"], [0.1, \"#c51b7d\"], [0.2, \"#de77ae\"], [0.3, \"#f1b6da\"], [0.4, \"#fde0ef\"], [0.5, \"#f7f7f7\"], [0.6, \"#e6f5d0\"], [0.7, \"#b8e186\"], [0.8, \"#7fbc41\"], [0.9, \"#4d9221\"], [1, \"#276419\"]], \"sequential\": [[0.0, \"#0d0887\"], [0.1111111111111111, \"#46039f\"], [0.2222222222222222, \"#7201a8\"], [0.3333333333333333, \"#9c179e\"], [0.4444444444444444, \"#bd3786\"], [0.5555555555555556, \"#d8576b\"], [0.6666666666666666, \"#ed7953\"], [0.7777777777777778, \"#fb9f3a\"], [0.8888888888888888, \"#fdca26\"], [1.0, \"#f0f921\"]], \"sequentialminus\": [[0.0, \"#0d0887\"], [0.1111111111111111, \"#46039f\"], [0.2222222222222222, \"#7201a8\"], [0.3333333333333333, \"#9c179e\"], [0.4444444444444444, \"#bd3786\"], [0.5555555555555556, \"#d8576b\"], [0.6666666666666666, \"#ed7953\"], [0.7777777777777778, \"#fb9f3a\"], [0.8888888888888888, \"#fdca26\"], [1.0, \"#f0f921\"]]}, \"colorway\": [\"#636efa\", \"#EF553B\", \"#00cc96\", \"#ab63fa\", \"#FFA15A\", \"#19d3f3\", \"#FF6692\", \"#B6E880\", \"#FF97FF\", \"#FECB52\"], \"font\": {\"color\": \"#2a3f5f\"}, \"geo\": {\"bgcolor\": \"white\", \"lakecolor\": \"white\", \"landcolor\": \"#E5ECF6\", \"showlakes\": true, \"showland\": true, \"subunitcolor\": \"white\"}, \"hoverlabel\": {\"align\": \"left\"}, \"hovermode\": \"closest\", \"mapbox\": {\"style\": \"light\"}, \"paper_bgcolor\": \"white\", \"plot_bgcolor\": \"#E5ECF6\", \"polar\": {\"angularaxis\": {\"gridcolor\": \"white\", \"linecolor\": \"white\", \"ticks\": \"\"}, \"bgcolor\": \"#E5ECF6\", \"radialaxis\": {\"gridcolor\": \"white\", \"linecolor\": \"white\", \"ticks\": \"\"}}, \"scene\": {\"xaxis\": {\"backgroundcolor\": \"#E5ECF6\", \"gridcolor\": \"white\", \"gridwidth\": 2, \"linecolor\": \"white\", \"showbackground\": true, \"ticks\": \"\", \"zerolinecolor\": \"white\"}, \"yaxis\": {\"backgroundcolor\": \"#E5ECF6\", \"gridcolor\": \"white\", \"gridwidth\": 2, \"linecolor\": \"white\", \"showbackground\": true, \"ticks\": \"\", \"zerolinecolor\": \"white\"}, \"zaxis\": {\"backgroundcolor\": \"#E5ECF6\", \"gridcolor\": \"white\", \"gridwidth\": 2, \"linecolor\": \"white\", \"showbackground\": true, \"ticks\": \"\", \"zerolinecolor\": \"white\"}}, \"shapedefaults\": {\"line\": {\"color\": \"#2a3f5f\"}}, \"ternary\": {\"aaxis\": {\"gridcolor\": \"white\", \"linecolor\": \"white\", \"ticks\": \"\"}, \"baxis\": {\"gridcolor\": \"white\", \"linecolor\": \"white\", \"ticks\": \"\"}, \"bgcolor\": \"#E5ECF6\", \"caxis\": {\"gridcolor\": \"white\", \"linecolor\": \"white\", \"ticks\": \"\"}}, \"title\": {\"x\": 0.05}, \"xaxis\": {\"automargin\": true, \"gridcolor\": \"white\", \"linecolor\": \"white\", \"ticks\": \"\", \"title\": {\"standoff\": 15}, \"zerolinecolor\": \"white\", \"zerolinewidth\": 2}, \"yaxis\": {\"automargin\": true, \"gridcolor\": \"white\", \"linecolor\": \"white\", \"ticks\": \"\", \"title\": {\"standoff\": 15}, \"zerolinecolor\": \"white\", \"zerolinewidth\": 2}}}, \"title\": {\"text\": \"Daily cumulative count of deaths due to COVID-19 in US\", \"x\": 0.5}, \"width\": 800, \"xaxis\": {\"anchor\": \"y\", \"domain\": [0.0, 1.0], \"title\": {\"text\": \"Date of observation\"}}, \"yaxis\": {\"anchor\": \"x\", \"domain\": [0.0, 1.0], \"title\": {\"text\": \"Number of death cases\"}}},\n",
       "                        {\"responsive\": true}\n",
       "                    ).then(function(){\n",
       "                            \n",
       "var gd = document.getElementById('40df2284-3f1e-4462-9e5a-00d689d0d679');\n",
       "var x = new MutationObserver(function (mutations, observer) {{\n",
       "        var display = window.getComputedStyle(gd).display;\n",
       "        if (!display || display === 'none') {{\n",
       "            console.log([gd, 'removed!']);\n",
       "            Plotly.purge(gd);\n",
       "            observer.disconnect();\n",
       "        }}\n",
       "}});\n",
       "\n",
       "// Listen for the removal of the full notebook cells\n",
       "var notebookContainer = gd.closest('#notebook-container');\n",
       "if (notebookContainer) {{\n",
       "    x.observe(notebookContainer, {childList: true});\n",
       "}}\n",
       "\n",
       "// Listen for the clearing of the current output cell\n",
       "var outputEl = gd.closest('.output');\n",
       "if (outputEl) {{\n",
       "    x.observe(outputEl, {childList: true});\n",
       "}}\n",
       "\n",
       "                        })\n",
       "                };\n",
       "                });\n",
       "            </script>\n",
       "        </div>"
      ]
     },
     "metadata": {},
     "output_type": "display_data"
    },
    {
     "data": {
      "application/vnd.plotly.v1+json": {
       "config": {
        "plotlyServerURL": "https://plot.ly"
       },
       "data": [
        {
         "alignmentgroup": "True",
         "hovertemplate": "ObservationDate=%{x}<br>ConfirmedNew=%{y}<extra></extra>",
         "legendgroup": "",
         "marker": {
          "color": "#636efa"
         },
         "name": "",
         "offsetgroup": "",
         "orientation": "v",
         "showlegend": false,
         "textposition": "auto",
         "type": "bar",
         "x": [
          "01/22/2020",
          "01/23/2020",
          "01/24/2020",
          "01/25/2020",
          "01/26/2020",
          "01/27/2020",
          "01/28/2020",
          "01/29/2020",
          "01/30/2020",
          "01/31/2020",
          "02/01/2020",
          "02/02/2020",
          "02/03/2020",
          "02/04/2020",
          "02/05/2020",
          "02/06/2020",
          "02/07/2020",
          "02/08/2020",
          "02/09/2020",
          "02/10/2020",
          "02/11/2020",
          "02/12/2020",
          "02/13/2020",
          "02/14/2020",
          "02/15/2020",
          "02/16/2020",
          "02/17/2020",
          "02/18/2020",
          "02/19/2020",
          "02/20/2020",
          "02/21/2020",
          "02/22/2020",
          "02/23/2020",
          "02/24/2020",
          "02/25/2020",
          "02/26/2020",
          "02/27/2020",
          "02/28/2020",
          "02/29/2020",
          "03/01/2020",
          "03/02/2020",
          "03/03/2020",
          "03/04/2020",
          "03/05/2020",
          "03/06/2020",
          "03/07/2020",
          "03/08/2020",
          "03/09/2020",
          "03/10/2020",
          "03/11/2020",
          "03/12/2020",
          "03/13/2020",
          "03/14/2020",
          "03/15/2020",
          "03/16/2020",
          "03/17/2020",
          "03/18/2020",
          "03/19/2020",
          "03/20/2020",
          "03/21/2020",
          "03/22/2020",
          "03/23/2020",
          "03/24/2020",
          "03/25/2020",
          "03/26/2020",
          "03/27/2020",
          "03/28/2020",
          "03/29/2020",
          "03/30/2020",
          "03/31/2020",
          "04/01/2020",
          "04/02/2020",
          "04/03/2020",
          "04/04/2020",
          "04/05/2020",
          "04/06/2020",
          "04/07/2020",
          "04/08/2020",
          "04/09/2020",
          "04/10/2020",
          "04/11/2020",
          "04/12/2020",
          "04/13/2020",
          "04/14/2020",
          "04/15/2020",
          "04/16/2020",
          "04/17/2020",
          "04/18/2020",
          "04/19/2020",
          "04/20/2020",
          "04/21/2020",
          "04/22/2020",
          "04/23/2020",
          "04/24/2020",
          "04/25/2020",
          "04/26/2020"
         ],
         "xaxis": "x",
         "y": [
          null,
          0,
          1,
          0,
          3,
          0,
          0,
          0,
          0,
          1,
          2,
          0,
          3,
          0,
          1,
          0,
          0,
          0,
          0,
          0,
          1,
          0,
          2,
          0,
          0,
          0,
          0,
          0,
          0,
          0,
          20,
          0,
          0,
          18,
          0,
          6,
          1,
          2,
          8,
          6,
          25,
          21,
          31,
          68,
          57,
          139,
          120,
          68,
          354,
          322,
          382,
          516,
          547,
          773,
          1133,
          1789,
          1365,
          5894,
          5421,
          6413,
          8334,
          9815,
          10073,
          12042,
          18058,
          17821,
          19808,
          19444,
          20922,
          26341,
          25200,
          30227,
          31987,
          33267,
          28219,
          29595,
          29556,
          32829,
          32385,
          35098,
          29861,
          28917,
          25306,
          27051,
          28680,
          31451,
          31905,
          32491,
          26889,
          25240,
          27539,
          28355,
          28950,
          36163,
          32821,
          27629
         ],
         "yaxis": "y"
        }
       ],
       "layout": {
        "barmode": "relative",
        "font": {
         "size": 14
        },
        "height": 500,
        "legend": {
         "tracegroupgap": 0
        },
        "margin": {
         "t": 60
        },
        "template": {
         "data": {
          "bar": [
           {
            "error_x": {
             "color": "#2a3f5f"
            },
            "error_y": {
             "color": "#2a3f5f"
            },
            "marker": {
             "line": {
              "color": "#E5ECF6",
              "width": 0.5
             }
            },
            "type": "bar"
           }
          ],
          "barpolar": [
           {
            "marker": {
             "line": {
              "color": "#E5ECF6",
              "width": 0.5
             }
            },
            "type": "barpolar"
           }
          ],
          "carpet": [
           {
            "aaxis": {
             "endlinecolor": "#2a3f5f",
             "gridcolor": "white",
             "linecolor": "white",
             "minorgridcolor": "white",
             "startlinecolor": "#2a3f5f"
            },
            "baxis": {
             "endlinecolor": "#2a3f5f",
             "gridcolor": "white",
             "linecolor": "white",
             "minorgridcolor": "white",
             "startlinecolor": "#2a3f5f"
            },
            "type": "carpet"
           }
          ],
          "choropleth": [
           {
            "colorbar": {
             "outlinewidth": 0,
             "ticks": ""
            },
            "type": "choropleth"
           }
          ],
          "contour": [
           {
            "colorbar": {
             "outlinewidth": 0,
             "ticks": ""
            },
            "colorscale": [
             [
              0,
              "#0d0887"
             ],
             [
              0.1111111111111111,
              "#46039f"
             ],
             [
              0.2222222222222222,
              "#7201a8"
             ],
             [
              0.3333333333333333,
              "#9c179e"
             ],
             [
              0.4444444444444444,
              "#bd3786"
             ],
             [
              0.5555555555555556,
              "#d8576b"
             ],
             [
              0.6666666666666666,
              "#ed7953"
             ],
             [
              0.7777777777777778,
              "#fb9f3a"
             ],
             [
              0.8888888888888888,
              "#fdca26"
             ],
             [
              1,
              "#f0f921"
             ]
            ],
            "type": "contour"
           }
          ],
          "contourcarpet": [
           {
            "colorbar": {
             "outlinewidth": 0,
             "ticks": ""
            },
            "type": "contourcarpet"
           }
          ],
          "heatmap": [
           {
            "colorbar": {
             "outlinewidth": 0,
             "ticks": ""
            },
            "colorscale": [
             [
              0,
              "#0d0887"
             ],
             [
              0.1111111111111111,
              "#46039f"
             ],
             [
              0.2222222222222222,
              "#7201a8"
             ],
             [
              0.3333333333333333,
              "#9c179e"
             ],
             [
              0.4444444444444444,
              "#bd3786"
             ],
             [
              0.5555555555555556,
              "#d8576b"
             ],
             [
              0.6666666666666666,
              "#ed7953"
             ],
             [
              0.7777777777777778,
              "#fb9f3a"
             ],
             [
              0.8888888888888888,
              "#fdca26"
             ],
             [
              1,
              "#f0f921"
             ]
            ],
            "type": "heatmap"
           }
          ],
          "heatmapgl": [
           {
            "colorbar": {
             "outlinewidth": 0,
             "ticks": ""
            },
            "colorscale": [
             [
              0,
              "#0d0887"
             ],
             [
              0.1111111111111111,
              "#46039f"
             ],
             [
              0.2222222222222222,
              "#7201a8"
             ],
             [
              0.3333333333333333,
              "#9c179e"
             ],
             [
              0.4444444444444444,
              "#bd3786"
             ],
             [
              0.5555555555555556,
              "#d8576b"
             ],
             [
              0.6666666666666666,
              "#ed7953"
             ],
             [
              0.7777777777777778,
              "#fb9f3a"
             ],
             [
              0.8888888888888888,
              "#fdca26"
             ],
             [
              1,
              "#f0f921"
             ]
            ],
            "type": "heatmapgl"
           }
          ],
          "histogram": [
           {
            "marker": {
             "colorbar": {
              "outlinewidth": 0,
              "ticks": ""
             }
            },
            "type": "histogram"
           }
          ],
          "histogram2d": [
           {
            "colorbar": {
             "outlinewidth": 0,
             "ticks": ""
            },
            "colorscale": [
             [
              0,
              "#0d0887"
             ],
             [
              0.1111111111111111,
              "#46039f"
             ],
             [
              0.2222222222222222,
              "#7201a8"
             ],
             [
              0.3333333333333333,
              "#9c179e"
             ],
             [
              0.4444444444444444,
              "#bd3786"
             ],
             [
              0.5555555555555556,
              "#d8576b"
             ],
             [
              0.6666666666666666,
              "#ed7953"
             ],
             [
              0.7777777777777778,
              "#fb9f3a"
             ],
             [
              0.8888888888888888,
              "#fdca26"
             ],
             [
              1,
              "#f0f921"
             ]
            ],
            "type": "histogram2d"
           }
          ],
          "histogram2dcontour": [
           {
            "colorbar": {
             "outlinewidth": 0,
             "ticks": ""
            },
            "colorscale": [
             [
              0,
              "#0d0887"
             ],
             [
              0.1111111111111111,
              "#46039f"
             ],
             [
              0.2222222222222222,
              "#7201a8"
             ],
             [
              0.3333333333333333,
              "#9c179e"
             ],
             [
              0.4444444444444444,
              "#bd3786"
             ],
             [
              0.5555555555555556,
              "#d8576b"
             ],
             [
              0.6666666666666666,
              "#ed7953"
             ],
             [
              0.7777777777777778,
              "#fb9f3a"
             ],
             [
              0.8888888888888888,
              "#fdca26"
             ],
             [
              1,
              "#f0f921"
             ]
            ],
            "type": "histogram2dcontour"
           }
          ],
          "mesh3d": [
           {
            "colorbar": {
             "outlinewidth": 0,
             "ticks": ""
            },
            "type": "mesh3d"
           }
          ],
          "parcoords": [
           {
            "line": {
             "colorbar": {
              "outlinewidth": 0,
              "ticks": ""
             }
            },
            "type": "parcoords"
           }
          ],
          "pie": [
           {
            "automargin": true,
            "type": "pie"
           }
          ],
          "scatter": [
           {
            "marker": {
             "colorbar": {
              "outlinewidth": 0,
              "ticks": ""
             }
            },
            "type": "scatter"
           }
          ],
          "scatter3d": [
           {
            "line": {
             "colorbar": {
              "outlinewidth": 0,
              "ticks": ""
             }
            },
            "marker": {
             "colorbar": {
              "outlinewidth": 0,
              "ticks": ""
             }
            },
            "type": "scatter3d"
           }
          ],
          "scattercarpet": [
           {
            "marker": {
             "colorbar": {
              "outlinewidth": 0,
              "ticks": ""
             }
            },
            "type": "scattercarpet"
           }
          ],
          "scattergeo": [
           {
            "marker": {
             "colorbar": {
              "outlinewidth": 0,
              "ticks": ""
             }
            },
            "type": "scattergeo"
           }
          ],
          "scattergl": [
           {
            "marker": {
             "colorbar": {
              "outlinewidth": 0,
              "ticks": ""
             }
            },
            "type": "scattergl"
           }
          ],
          "scattermapbox": [
           {
            "marker": {
             "colorbar": {
              "outlinewidth": 0,
              "ticks": ""
             }
            },
            "type": "scattermapbox"
           }
          ],
          "scatterpolar": [
           {
            "marker": {
             "colorbar": {
              "outlinewidth": 0,
              "ticks": ""
             }
            },
            "type": "scatterpolar"
           }
          ],
          "scatterpolargl": [
           {
            "marker": {
             "colorbar": {
              "outlinewidth": 0,
              "ticks": ""
             }
            },
            "type": "scatterpolargl"
           }
          ],
          "scatterternary": [
           {
            "marker": {
             "colorbar": {
              "outlinewidth": 0,
              "ticks": ""
             }
            },
            "type": "scatterternary"
           }
          ],
          "surface": [
           {
            "colorbar": {
             "outlinewidth": 0,
             "ticks": ""
            },
            "colorscale": [
             [
              0,
              "#0d0887"
             ],
             [
              0.1111111111111111,
              "#46039f"
             ],
             [
              0.2222222222222222,
              "#7201a8"
             ],
             [
              0.3333333333333333,
              "#9c179e"
             ],
             [
              0.4444444444444444,
              "#bd3786"
             ],
             [
              0.5555555555555556,
              "#d8576b"
             ],
             [
              0.6666666666666666,
              "#ed7953"
             ],
             [
              0.7777777777777778,
              "#fb9f3a"
             ],
             [
              0.8888888888888888,
              "#fdca26"
             ],
             [
              1,
              "#f0f921"
             ]
            ],
            "type": "surface"
           }
          ],
          "table": [
           {
            "cells": {
             "fill": {
              "color": "#EBF0F8"
             },
             "line": {
              "color": "white"
             }
            },
            "header": {
             "fill": {
              "color": "#C8D4E3"
             },
             "line": {
              "color": "white"
             }
            },
            "type": "table"
           }
          ]
         },
         "layout": {
          "annotationdefaults": {
           "arrowcolor": "#2a3f5f",
           "arrowhead": 0,
           "arrowwidth": 1
          },
          "coloraxis": {
           "colorbar": {
            "outlinewidth": 0,
            "ticks": ""
           }
          },
          "colorscale": {
           "diverging": [
            [
             0,
             "#8e0152"
            ],
            [
             0.1,
             "#c51b7d"
            ],
            [
             0.2,
             "#de77ae"
            ],
            [
             0.3,
             "#f1b6da"
            ],
            [
             0.4,
             "#fde0ef"
            ],
            [
             0.5,
             "#f7f7f7"
            ],
            [
             0.6,
             "#e6f5d0"
            ],
            [
             0.7,
             "#b8e186"
            ],
            [
             0.8,
             "#7fbc41"
            ],
            [
             0.9,
             "#4d9221"
            ],
            [
             1,
             "#276419"
            ]
           ],
           "sequential": [
            [
             0,
             "#0d0887"
            ],
            [
             0.1111111111111111,
             "#46039f"
            ],
            [
             0.2222222222222222,
             "#7201a8"
            ],
            [
             0.3333333333333333,
             "#9c179e"
            ],
            [
             0.4444444444444444,
             "#bd3786"
            ],
            [
             0.5555555555555556,
             "#d8576b"
            ],
            [
             0.6666666666666666,
             "#ed7953"
            ],
            [
             0.7777777777777778,
             "#fb9f3a"
            ],
            [
             0.8888888888888888,
             "#fdca26"
            ],
            [
             1,
             "#f0f921"
            ]
           ],
           "sequentialminus": [
            [
             0,
             "#0d0887"
            ],
            [
             0.1111111111111111,
             "#46039f"
            ],
            [
             0.2222222222222222,
             "#7201a8"
            ],
            [
             0.3333333333333333,
             "#9c179e"
            ],
            [
             0.4444444444444444,
             "#bd3786"
            ],
            [
             0.5555555555555556,
             "#d8576b"
            ],
            [
             0.6666666666666666,
             "#ed7953"
            ],
            [
             0.7777777777777778,
             "#fb9f3a"
            ],
            [
             0.8888888888888888,
             "#fdca26"
            ],
            [
             1,
             "#f0f921"
            ]
           ]
          },
          "colorway": [
           "#636efa",
           "#EF553B",
           "#00cc96",
           "#ab63fa",
           "#FFA15A",
           "#19d3f3",
           "#FF6692",
           "#B6E880",
           "#FF97FF",
           "#FECB52"
          ],
          "font": {
           "color": "#2a3f5f"
          },
          "geo": {
           "bgcolor": "white",
           "lakecolor": "white",
           "landcolor": "#E5ECF6",
           "showlakes": true,
           "showland": true,
           "subunitcolor": "white"
          },
          "hoverlabel": {
           "align": "left"
          },
          "hovermode": "closest",
          "mapbox": {
           "style": "light"
          },
          "paper_bgcolor": "white",
          "plot_bgcolor": "#E5ECF6",
          "polar": {
           "angularaxis": {
            "gridcolor": "white",
            "linecolor": "white",
            "ticks": ""
           },
           "bgcolor": "#E5ECF6",
           "radialaxis": {
            "gridcolor": "white",
            "linecolor": "white",
            "ticks": ""
           }
          },
          "scene": {
           "xaxis": {
            "backgroundcolor": "#E5ECF6",
            "gridcolor": "white",
            "gridwidth": 2,
            "linecolor": "white",
            "showbackground": true,
            "ticks": "",
            "zerolinecolor": "white"
           },
           "yaxis": {
            "backgroundcolor": "#E5ECF6",
            "gridcolor": "white",
            "gridwidth": 2,
            "linecolor": "white",
            "showbackground": true,
            "ticks": "",
            "zerolinecolor": "white"
           },
           "zaxis": {
            "backgroundcolor": "#E5ECF6",
            "gridcolor": "white",
            "gridwidth": 2,
            "linecolor": "white",
            "showbackground": true,
            "ticks": "",
            "zerolinecolor": "white"
           }
          },
          "shapedefaults": {
           "line": {
            "color": "#2a3f5f"
           }
          },
          "ternary": {
           "aaxis": {
            "gridcolor": "white",
            "linecolor": "white",
            "ticks": ""
           },
           "baxis": {
            "gridcolor": "white",
            "linecolor": "white",
            "ticks": ""
           },
           "bgcolor": "#E5ECF6",
           "caxis": {
            "gridcolor": "white",
            "linecolor": "white",
            "ticks": ""
           }
          },
          "title": {
           "x": 0.05
          },
          "xaxis": {
           "automargin": true,
           "gridcolor": "white",
           "linecolor": "white",
           "ticks": "",
           "title": {
            "standoff": 15
           },
           "zerolinecolor": "white",
           "zerolinewidth": 2
          },
          "yaxis": {
           "automargin": true,
           "gridcolor": "white",
           "linecolor": "white",
           "ticks": "",
           "title": {
            "standoff": 15
           },
           "zerolinecolor": "white",
           "zerolinewidth": 2
          }
         }
        },
        "title": {
         "text": "Daily count of new confirmed COVID-19 cases in US",
         "x": 0.5
        },
        "width": 800,
        "xaxis": {
         "anchor": "y",
         "domain": [
          0,
          1
         ],
         "title": {
          "text": "Date of observation"
         }
        },
        "yaxis": {
         "anchor": "x",
         "domain": [
          0,
          1
         ],
         "title": {
          "text": "Number of confirmed cases"
         }
        }
       }
      },
      "text/html": [
       "<div>\n",
       "        \n",
       "        \n",
       "            <div id=\"3fbb0fcf-c292-404f-889b-b5cdb93fb03e\" class=\"plotly-graph-div\" style=\"height:500px; width:800px;\"></div>\n",
       "            <script type=\"text/javascript\">\n",
       "                require([\"plotly\"], function(Plotly) {\n",
       "                    window.PLOTLYENV=window.PLOTLYENV || {};\n",
       "                    \n",
       "                if (document.getElementById(\"3fbb0fcf-c292-404f-889b-b5cdb93fb03e\")) {\n",
       "                    Plotly.newPlot(\n",
       "                        '3fbb0fcf-c292-404f-889b-b5cdb93fb03e',\n",
       "                        [{\"alignmentgroup\": \"True\", \"hovertemplate\": \"ObservationDate=%{x}<br>ConfirmedNew=%{y}<extra></extra>\", \"legendgroup\": \"\", \"marker\": {\"color\": \"#636efa\"}, \"name\": \"\", \"offsetgroup\": \"\", \"orientation\": \"v\", \"showlegend\": false, \"textposition\": \"auto\", \"type\": \"bar\", \"x\": [\"01/22/2020\", \"01/23/2020\", \"01/24/2020\", \"01/25/2020\", \"01/26/2020\", \"01/27/2020\", \"01/28/2020\", \"01/29/2020\", \"01/30/2020\", \"01/31/2020\", \"02/01/2020\", \"02/02/2020\", \"02/03/2020\", \"02/04/2020\", \"02/05/2020\", \"02/06/2020\", \"02/07/2020\", \"02/08/2020\", \"02/09/2020\", \"02/10/2020\", \"02/11/2020\", \"02/12/2020\", \"02/13/2020\", \"02/14/2020\", \"02/15/2020\", \"02/16/2020\", \"02/17/2020\", \"02/18/2020\", \"02/19/2020\", \"02/20/2020\", \"02/21/2020\", \"02/22/2020\", \"02/23/2020\", \"02/24/2020\", \"02/25/2020\", \"02/26/2020\", \"02/27/2020\", \"02/28/2020\", \"02/29/2020\", \"03/01/2020\", \"03/02/2020\", \"03/03/2020\", \"03/04/2020\", \"03/05/2020\", \"03/06/2020\", \"03/07/2020\", \"03/08/2020\", \"03/09/2020\", \"03/10/2020\", \"03/11/2020\", \"03/12/2020\", \"03/13/2020\", \"03/14/2020\", \"03/15/2020\", \"03/16/2020\", \"03/17/2020\", \"03/18/2020\", \"03/19/2020\", \"03/20/2020\", \"03/21/2020\", \"03/22/2020\", \"03/23/2020\", \"03/24/2020\", \"03/25/2020\", \"03/26/2020\", \"03/27/2020\", \"03/28/2020\", \"03/29/2020\", \"03/30/2020\", \"03/31/2020\", \"04/01/2020\", \"04/02/2020\", \"04/03/2020\", \"04/04/2020\", \"04/05/2020\", \"04/06/2020\", \"04/07/2020\", \"04/08/2020\", \"04/09/2020\", \"04/10/2020\", \"04/11/2020\", \"04/12/2020\", \"04/13/2020\", \"04/14/2020\", \"04/15/2020\", \"04/16/2020\", \"04/17/2020\", \"04/18/2020\", \"04/19/2020\", \"04/20/2020\", \"04/21/2020\", \"04/22/2020\", \"04/23/2020\", \"04/24/2020\", \"04/25/2020\", \"04/26/2020\"], \"xaxis\": \"x\", \"y\": [null, 0.0, 1.0, 0.0, 3.0, 0.0, 0.0, 0.0, 0.0, 1.0, 2.0, 0.0, 3.0, 0.0, 1.0, 0.0, 0.0, 0.0, 0.0, 0.0, 1.0, 0.0, 2.0, 0.0, 0.0, 0.0, 0.0, 0.0, 0.0, 0.0, 20.0, 0.0, 0.0, 18.0, 0.0, 6.0, 1.0, 2.0, 8.0, 6.0, 25.0, 21.0, 31.0, 68.0, 57.0, 139.0, 120.0, 68.0, 354.0, 322.0, 382.0, 516.0, 547.0, 773.0, 1133.0, 1789.0, 1365.0, 5894.0, 5421.0, 6413.0, 8334.0, 9815.0, 10073.0, 12042.0, 18058.0, 17821.0, 19808.0, 19444.0, 20922.0, 26341.0, 25200.0, 30227.0, 31987.0, 33267.0, 28219.0, 29595.0, 29556.0, 32829.0, 32385.0, 35098.0, 29861.0, 28917.0, 25306.0, 27051.0, 28680.0, 31451.0, 31905.0, 32491.0, 26889.0, 25240.0, 27539.0, 28355.0, 28950.0, 36163.0, 32821.0, 27629.0], \"yaxis\": \"y\"}],\n",
       "                        {\"barmode\": \"relative\", \"font\": {\"size\": 14}, \"height\": 500, \"legend\": {\"tracegroupgap\": 0}, \"margin\": {\"t\": 60}, \"template\": {\"data\": {\"bar\": [{\"error_x\": {\"color\": \"#2a3f5f\"}, \"error_y\": {\"color\": \"#2a3f5f\"}, \"marker\": {\"line\": {\"color\": \"#E5ECF6\", \"width\": 0.5}}, \"type\": \"bar\"}], \"barpolar\": [{\"marker\": {\"line\": {\"color\": \"#E5ECF6\", \"width\": 0.5}}, \"type\": \"barpolar\"}], \"carpet\": [{\"aaxis\": {\"endlinecolor\": \"#2a3f5f\", \"gridcolor\": \"white\", \"linecolor\": \"white\", \"minorgridcolor\": \"white\", \"startlinecolor\": \"#2a3f5f\"}, \"baxis\": {\"endlinecolor\": \"#2a3f5f\", \"gridcolor\": \"white\", \"linecolor\": \"white\", \"minorgridcolor\": \"white\", \"startlinecolor\": \"#2a3f5f\"}, \"type\": \"carpet\"}], \"choropleth\": [{\"colorbar\": {\"outlinewidth\": 0, \"ticks\": \"\"}, \"type\": \"choropleth\"}], \"contour\": [{\"colorbar\": {\"outlinewidth\": 0, \"ticks\": \"\"}, \"colorscale\": [[0.0, \"#0d0887\"], [0.1111111111111111, \"#46039f\"], [0.2222222222222222, \"#7201a8\"], [0.3333333333333333, \"#9c179e\"], [0.4444444444444444, \"#bd3786\"], [0.5555555555555556, \"#d8576b\"], [0.6666666666666666, \"#ed7953\"], [0.7777777777777778, \"#fb9f3a\"], [0.8888888888888888, \"#fdca26\"], [1.0, \"#f0f921\"]], \"type\": \"contour\"}], \"contourcarpet\": [{\"colorbar\": {\"outlinewidth\": 0, \"ticks\": \"\"}, \"type\": \"contourcarpet\"}], \"heatmap\": [{\"colorbar\": {\"outlinewidth\": 0, \"ticks\": \"\"}, \"colorscale\": [[0.0, \"#0d0887\"], [0.1111111111111111, \"#46039f\"], [0.2222222222222222, \"#7201a8\"], [0.3333333333333333, \"#9c179e\"], [0.4444444444444444, \"#bd3786\"], [0.5555555555555556, \"#d8576b\"], [0.6666666666666666, \"#ed7953\"], [0.7777777777777778, \"#fb9f3a\"], [0.8888888888888888, \"#fdca26\"], [1.0, \"#f0f921\"]], \"type\": \"heatmap\"}], \"heatmapgl\": [{\"colorbar\": {\"outlinewidth\": 0, \"ticks\": \"\"}, \"colorscale\": [[0.0, \"#0d0887\"], [0.1111111111111111, \"#46039f\"], [0.2222222222222222, \"#7201a8\"], [0.3333333333333333, \"#9c179e\"], [0.4444444444444444, \"#bd3786\"], [0.5555555555555556, \"#d8576b\"], [0.6666666666666666, \"#ed7953\"], [0.7777777777777778, \"#fb9f3a\"], [0.8888888888888888, \"#fdca26\"], [1.0, \"#f0f921\"]], \"type\": \"heatmapgl\"}], \"histogram\": [{\"marker\": {\"colorbar\": {\"outlinewidth\": 0, \"ticks\": \"\"}}, \"type\": \"histogram\"}], \"histogram2d\": [{\"colorbar\": {\"outlinewidth\": 0, \"ticks\": \"\"}, \"colorscale\": [[0.0, \"#0d0887\"], [0.1111111111111111, \"#46039f\"], [0.2222222222222222, \"#7201a8\"], [0.3333333333333333, \"#9c179e\"], [0.4444444444444444, \"#bd3786\"], [0.5555555555555556, \"#d8576b\"], [0.6666666666666666, \"#ed7953\"], [0.7777777777777778, \"#fb9f3a\"], [0.8888888888888888, \"#fdca26\"], [1.0, \"#f0f921\"]], \"type\": \"histogram2d\"}], \"histogram2dcontour\": [{\"colorbar\": {\"outlinewidth\": 0, \"ticks\": \"\"}, \"colorscale\": [[0.0, \"#0d0887\"], [0.1111111111111111, \"#46039f\"], [0.2222222222222222, \"#7201a8\"], [0.3333333333333333, \"#9c179e\"], [0.4444444444444444, \"#bd3786\"], [0.5555555555555556, \"#d8576b\"], [0.6666666666666666, \"#ed7953\"], [0.7777777777777778, \"#fb9f3a\"], [0.8888888888888888, \"#fdca26\"], [1.0, \"#f0f921\"]], \"type\": \"histogram2dcontour\"}], \"mesh3d\": [{\"colorbar\": {\"outlinewidth\": 0, \"ticks\": \"\"}, \"type\": \"mesh3d\"}], \"parcoords\": [{\"line\": {\"colorbar\": {\"outlinewidth\": 0, \"ticks\": \"\"}}, \"type\": \"parcoords\"}], \"pie\": [{\"automargin\": true, \"type\": \"pie\"}], \"scatter\": [{\"marker\": {\"colorbar\": {\"outlinewidth\": 0, \"ticks\": \"\"}}, \"type\": \"scatter\"}], \"scatter3d\": [{\"line\": {\"colorbar\": {\"outlinewidth\": 0, \"ticks\": \"\"}}, \"marker\": {\"colorbar\": {\"outlinewidth\": 0, \"ticks\": \"\"}}, \"type\": \"scatter3d\"}], \"scattercarpet\": [{\"marker\": {\"colorbar\": {\"outlinewidth\": 0, \"ticks\": \"\"}}, \"type\": \"scattercarpet\"}], \"scattergeo\": [{\"marker\": {\"colorbar\": {\"outlinewidth\": 0, \"ticks\": \"\"}}, \"type\": \"scattergeo\"}], \"scattergl\": [{\"marker\": {\"colorbar\": {\"outlinewidth\": 0, \"ticks\": \"\"}}, \"type\": \"scattergl\"}], \"scattermapbox\": [{\"marker\": {\"colorbar\": {\"outlinewidth\": 0, \"ticks\": \"\"}}, \"type\": \"scattermapbox\"}], \"scatterpolar\": [{\"marker\": {\"colorbar\": {\"outlinewidth\": 0, \"ticks\": \"\"}}, \"type\": \"scatterpolar\"}], \"scatterpolargl\": [{\"marker\": {\"colorbar\": {\"outlinewidth\": 0, \"ticks\": \"\"}}, \"type\": \"scatterpolargl\"}], \"scatterternary\": [{\"marker\": {\"colorbar\": {\"outlinewidth\": 0, \"ticks\": \"\"}}, \"type\": \"scatterternary\"}], \"surface\": [{\"colorbar\": {\"outlinewidth\": 0, \"ticks\": \"\"}, \"colorscale\": [[0.0, \"#0d0887\"], [0.1111111111111111, \"#46039f\"], [0.2222222222222222, \"#7201a8\"], [0.3333333333333333, \"#9c179e\"], [0.4444444444444444, \"#bd3786\"], [0.5555555555555556, \"#d8576b\"], [0.6666666666666666, \"#ed7953\"], [0.7777777777777778, \"#fb9f3a\"], [0.8888888888888888, \"#fdca26\"], [1.0, \"#f0f921\"]], \"type\": \"surface\"}], \"table\": [{\"cells\": {\"fill\": {\"color\": \"#EBF0F8\"}, \"line\": {\"color\": \"white\"}}, \"header\": {\"fill\": {\"color\": \"#C8D4E3\"}, \"line\": {\"color\": \"white\"}}, \"type\": \"table\"}]}, \"layout\": {\"annotationdefaults\": {\"arrowcolor\": \"#2a3f5f\", \"arrowhead\": 0, \"arrowwidth\": 1}, \"coloraxis\": {\"colorbar\": {\"outlinewidth\": 0, \"ticks\": \"\"}}, \"colorscale\": {\"diverging\": [[0, \"#8e0152\"], [0.1, \"#c51b7d\"], [0.2, \"#de77ae\"], [0.3, \"#f1b6da\"], [0.4, \"#fde0ef\"], [0.5, \"#f7f7f7\"], [0.6, \"#e6f5d0\"], [0.7, \"#b8e186\"], [0.8, \"#7fbc41\"], [0.9, \"#4d9221\"], [1, \"#276419\"]], \"sequential\": [[0.0, \"#0d0887\"], [0.1111111111111111, \"#46039f\"], [0.2222222222222222, \"#7201a8\"], [0.3333333333333333, \"#9c179e\"], [0.4444444444444444, \"#bd3786\"], [0.5555555555555556, \"#d8576b\"], [0.6666666666666666, \"#ed7953\"], [0.7777777777777778, \"#fb9f3a\"], [0.8888888888888888, \"#fdca26\"], [1.0, \"#f0f921\"]], \"sequentialminus\": [[0.0, \"#0d0887\"], [0.1111111111111111, \"#46039f\"], [0.2222222222222222, \"#7201a8\"], [0.3333333333333333, \"#9c179e\"], [0.4444444444444444, \"#bd3786\"], [0.5555555555555556, \"#d8576b\"], [0.6666666666666666, \"#ed7953\"], [0.7777777777777778, \"#fb9f3a\"], [0.8888888888888888, \"#fdca26\"], [1.0, \"#f0f921\"]]}, \"colorway\": [\"#636efa\", \"#EF553B\", \"#00cc96\", \"#ab63fa\", \"#FFA15A\", \"#19d3f3\", \"#FF6692\", \"#B6E880\", \"#FF97FF\", \"#FECB52\"], \"font\": {\"color\": \"#2a3f5f\"}, \"geo\": {\"bgcolor\": \"white\", \"lakecolor\": \"white\", \"landcolor\": \"#E5ECF6\", \"showlakes\": true, \"showland\": true, \"subunitcolor\": \"white\"}, \"hoverlabel\": {\"align\": \"left\"}, \"hovermode\": \"closest\", \"mapbox\": {\"style\": \"light\"}, \"paper_bgcolor\": \"white\", \"plot_bgcolor\": \"#E5ECF6\", \"polar\": {\"angularaxis\": {\"gridcolor\": \"white\", \"linecolor\": \"white\", \"ticks\": \"\"}, \"bgcolor\": \"#E5ECF6\", \"radialaxis\": {\"gridcolor\": \"white\", \"linecolor\": \"white\", \"ticks\": \"\"}}, \"scene\": {\"xaxis\": {\"backgroundcolor\": \"#E5ECF6\", \"gridcolor\": \"white\", \"gridwidth\": 2, \"linecolor\": \"white\", \"showbackground\": true, \"ticks\": \"\", \"zerolinecolor\": \"white\"}, \"yaxis\": {\"backgroundcolor\": \"#E5ECF6\", \"gridcolor\": \"white\", \"gridwidth\": 2, \"linecolor\": \"white\", \"showbackground\": true, \"ticks\": \"\", \"zerolinecolor\": \"white\"}, \"zaxis\": {\"backgroundcolor\": \"#E5ECF6\", \"gridcolor\": \"white\", \"gridwidth\": 2, \"linecolor\": \"white\", \"showbackground\": true, \"ticks\": \"\", \"zerolinecolor\": \"white\"}}, \"shapedefaults\": {\"line\": {\"color\": \"#2a3f5f\"}}, \"ternary\": {\"aaxis\": {\"gridcolor\": \"white\", \"linecolor\": \"white\", \"ticks\": \"\"}, \"baxis\": {\"gridcolor\": \"white\", \"linecolor\": \"white\", \"ticks\": \"\"}, \"bgcolor\": \"#E5ECF6\", \"caxis\": {\"gridcolor\": \"white\", \"linecolor\": \"white\", \"ticks\": \"\"}}, \"title\": {\"x\": 0.05}, \"xaxis\": {\"automargin\": true, \"gridcolor\": \"white\", \"linecolor\": \"white\", \"ticks\": \"\", \"title\": {\"standoff\": 15}, \"zerolinecolor\": \"white\", \"zerolinewidth\": 2}, \"yaxis\": {\"automargin\": true, \"gridcolor\": \"white\", \"linecolor\": \"white\", \"ticks\": \"\", \"title\": {\"standoff\": 15}, \"zerolinecolor\": \"white\", \"zerolinewidth\": 2}}}, \"title\": {\"text\": \"Daily count of new confirmed COVID-19 cases in US\", \"x\": 0.5}, \"width\": 800, \"xaxis\": {\"anchor\": \"y\", \"domain\": [0.0, 1.0], \"title\": {\"text\": \"Date of observation\"}}, \"yaxis\": {\"anchor\": \"x\", \"domain\": [0.0, 1.0], \"title\": {\"text\": \"Number of confirmed cases\"}}},\n",
       "                        {\"responsive\": true}\n",
       "                    ).then(function(){\n",
       "                            \n",
       "var gd = document.getElementById('3fbb0fcf-c292-404f-889b-b5cdb93fb03e');\n",
       "var x = new MutationObserver(function (mutations, observer) {{\n",
       "        var display = window.getComputedStyle(gd).display;\n",
       "        if (!display || display === 'none') {{\n",
       "            console.log([gd, 'removed!']);\n",
       "            Plotly.purge(gd);\n",
       "            observer.disconnect();\n",
       "        }}\n",
       "}});\n",
       "\n",
       "// Listen for the removal of the full notebook cells\n",
       "var notebookContainer = gd.closest('#notebook-container');\n",
       "if (notebookContainer) {{\n",
       "    x.observe(notebookContainer, {childList: true});\n",
       "}}\n",
       "\n",
       "// Listen for the clearing of the current output cell\n",
       "var outputEl = gd.closest('.output');\n",
       "if (outputEl) {{\n",
       "    x.observe(outputEl, {childList: true});\n",
       "}}\n",
       "\n",
       "                        })\n",
       "                };\n",
       "                });\n",
       "            </script>\n",
       "        </div>"
      ]
     },
     "metadata": {},
     "output_type": "display_data"
    }
   ],
   "source": [
    "# Read the data\n",
    "#us_data_path = \"C:/Users/cmreddy koduru/Downloads/covid19-in-usa\"\n",
    "us_df = pd.read_csv(\"C:/Users/cmreddy koduru/Downloads/covid19-in-usa/us_covid19_daily.csv\")\n",
    "us_states_df = pd.read_csv(\"C:/Users/cmreddy koduru/Downloads/covid19-in-usa/us_states_covid19_daily.csv\")\n",
    "us_df[\"date\"] = pd.to_datetime(us_df[\"date\"], format=\"%Y%m%d\")\n",
    "us_states_df = us_states_df.reindex(index=us_states_df.index[::-1])\n",
    "us_states_df[\"date\"] = pd.to_datetime(us_states_df[\"date\"], format=\"%Y%m%d\").dt.date.astype(str)\n",
    "#us_states_df.head()\n",
    "\n",
    "# US state code to name mapping\n",
    "state_map_dict = {'AL': 'Alabama',\n",
    " 'AK': 'Alaska',\n",
    " 'AS': 'American Samoa',\n",
    " 'AZ': 'Arizona',\n",
    " 'AR': 'Arkansas',\n",
    " 'CA': 'California',\n",
    " 'CO': 'Colorado',\n",
    " 'CT': 'Connecticut',\n",
    " 'DE': 'Delaware',\n",
    " 'DC': 'District of Columbia',\n",
    " 'D.C.': 'District of Columbia',\n",
    " 'FM': 'Federated States of Micronesia',\n",
    " 'FL': 'Florida',\n",
    " 'GA': 'Georgia',\n",
    " 'GU': 'Guam',\n",
    " 'HI': 'Hawaii',\n",
    " 'ID': 'Idaho',\n",
    " 'IL': 'Illinois',\n",
    " 'IN': 'Indiana',\n",
    " 'IA': 'Iowa',\n",
    " 'KS': 'Kansas',\n",
    " 'KY': 'Kentucky',\n",
    " 'LA': 'Louisiana',\n",
    " 'ME': 'Maine',\n",
    " 'MH': 'Marshall Islands',\n",
    " 'MD': 'Maryland',\n",
    " 'MA': 'Massachusetts',\n",
    " 'MI': 'Michigan',\n",
    " 'MN': 'Minnesota',\n",
    " 'MS': 'Mississippi',\n",
    " 'MO': 'Missouri',\n",
    " 'MT': 'Montana',\n",
    " 'NE': 'Nebraska',\n",
    " 'NV': 'Nevada',\n",
    " 'NH': 'New Hampshire',\n",
    " 'NJ': 'New Jersey',\n",
    " 'NM': 'New Mexico',\n",
    " 'NY': 'New York',\n",
    " 'NC': 'North Carolina',\n",
    " 'ND': 'North Dakota',\n",
    " 'MP': 'Northern Mariana Islands',\n",
    " 'OH': 'Ohio',\n",
    " 'OK': 'Oklahoma',\n",
    " 'OR': 'Oregon',\n",
    " 'PW': 'Palau',\n",
    " 'PA': 'Pennsylvania',\n",
    " 'PR': 'Puerto Rico',\n",
    " 'RI': 'Rhode Island',\n",
    " 'SC': 'South Carolina',\n",
    " 'SD': 'South Dakota',\n",
    " 'TN': 'Tennessee',\n",
    " 'TX': 'Texas',\n",
    " 'UT': 'Utah',\n",
    " 'VT': 'Vermont',\n",
    " 'VI': 'Virgin Islands',\n",
    " 'VA': 'Virginia',\n",
    " 'WA': 'Washington',\n",
    " 'WV': 'West Virginia',\n",
    " 'WI': 'Wisconsin',\n",
    " 'WY': 'Wyoming'}\n",
    "\n",
    "state_code_dict = {v:k for k, v in state_map_dict.items()}\n",
    "state_code_dict[\"Chicago\"] = 'Illinois'\n",
    "\n",
    "def correct_state_names(x):\n",
    "    try:\n",
    "        return state_map_dict[x.split(\",\")[-1].strip()]\n",
    "    except:\n",
    "        return x.strip()\n",
    "    \n",
    "def get_state_codes(x):\n",
    "    try:\n",
    "        return state_code_dict[x]\n",
    "    except:\n",
    "        return \"Others\"\n",
    "\n",
    "covid_19_df = pd.read_csv(\"C:/Users/cmreddy koduru/Downloads/covid19-in-usa/covid_19_data.csv\")\n",
    "us_covid_df = covid_19_df[covid_19_df[\"Country/Region\"]==\"US\"]\n",
    "us_covid_df[\"Province/State\"] = us_covid_df[\"Province/State\"].apply(correct_state_names)\n",
    "us_covid_df[\"StateCode\"] = us_covid_df[\"Province/State\"].apply(lambda x: get_state_codes(x))\n",
    "\n",
    "cumulative_df = us_covid_df.groupby(\"ObservationDate\")[\"Confirmed\", \"Deaths\", \"Recovered\"].sum().reset_index()\n",
    "\n",
    "### Plot for number of cumulative covid cases over time\n",
    "fig = px.bar(cumulative_df, x=\"ObservationDate\", y=\"Confirmed\")\n",
    "layout = go.Layout(\n",
    "    title=go.layout.Title(\n",
    "        text=\"Daily cumulative count of confirmed COVID-19 cases in US\",\n",
    "        x=0.5\n",
    "    ),\n",
    "    font=dict(size=14),\n",
    "    width=800,\n",
    "    height=500,\n",
    "    xaxis_title = \"Date of observation\",\n",
    "    yaxis_title = \"Number of confirmed cases\"\n",
    ")\n",
    "\n",
    "fig.update_layout(layout)\n",
    "fig.show()\n",
    "\n",
    "### Plot for number of cumulative covid cases over time\n",
    "fig = px.bar(cumulative_df, x=\"ObservationDate\", y=\"Deaths\")\n",
    "layout = go.Layout(\n",
    "    title=go.layout.Title(\n",
    "        text=\"Daily cumulative count of deaths due to COVID-19 in US\",\n",
    "        x=0.5\n",
    "    ),\n",
    "    font=dict(size=14),\n",
    "    width=800,\n",
    "    height=500,\n",
    "    xaxis_title = \"Date of observation\",\n",
    "    yaxis_title = \"Number of death cases\"\n",
    ")\n",
    "\n",
    "fig.update_layout(layout)\n",
    "fig.show()\n",
    "\n",
    "### Plot for number of cumulative covid cases over time\n",
    "cumulative_df[\"ConfirmedNew\"] = cumulative_df[\"Confirmed\"].diff() \n",
    "fig = px.bar(cumulative_df, x=\"ObservationDate\", y=\"ConfirmedNew\")\n",
    "layout = go.Layout(\n",
    "    title=go.layout.Title(\n",
    "        text=\"Daily count of new confirmed COVID-19 cases in US\",\n",
    "        x=0.5\n",
    "    ),\n",
    "    font=dict(size=14),\n",
    "    width=800,\n",
    "    height=500,\n",
    "    xaxis_title = \"Date of observation\",\n",
    "    yaxis_title = \"Number of confirmed cases\"\n",
    ")\n",
    "\n",
    "fig.update_layout(layout)\n",
    "fig.show()"
   ]
  },
  {
   "cell_type": "code",
   "execution_count": 23,
   "metadata": {},
   "outputs": [
    {
     "data": {
      "application/vnd.plotly.v1+json": {
       "config": {
        "plotlyServerURL": "https://plot.ly"
       },
       "data": [
        {
         "coloraxis": "coloraxis",
         "geo": "geo",
         "hovertemplate": "animation_frame=2020-01-25<br>locations=%{location}<br>color=%{z}<extra></extra>",
         "locationmode": "USA-states",
         "locations": [
          "IL",
          "WA"
         ],
         "name": "",
         "type": "choropleth",
         "z": [
          1,
          1
         ]
        }
       ],
       "frames": [
        {
         "data": [
          {
           "coloraxis": "coloraxis",
           "geo": "geo",
           "hovertemplate": "animation_frame=2020-01-25<br>locations=%{location}<br>color=%{z}<extra></extra>",
           "locationmode": "USA-states",
           "locations": [
            "IL",
            "WA"
           ],
           "name": "",
           "type": "choropleth",
           "z": [
            1,
            1
           ]
          }
         ],
         "name": "2020-01-25"
        },
        {
         "data": [
          {
           "coloraxis": "coloraxis",
           "geo": "geo",
           "hovertemplate": "animation_frame=2020-01-26<br>locations=%{location}<br>color=%{z}<extra></extra>",
           "locationmode": "USA-states",
           "locations": [
            "AZ",
            "IL",
            "WA",
            "CA"
           ],
           "name": "",
           "type": "choropleth",
           "z": [
            1,
            1,
            1,
            2
           ]
          }
         ],
         "name": "2020-01-26"
        },
        {
         "data": [
          {
           "coloraxis": "coloraxis",
           "geo": "geo",
           "hovertemplate": "animation_frame=2020-01-27<br>locations=%{location}<br>color=%{z}<extra></extra>",
           "locationmode": "USA-states",
           "locations": [
            "AZ",
            "WA",
            "IL",
            "CA"
           ],
           "name": "",
           "type": "choropleth",
           "z": [
            1,
            1,
            1,
            2
           ]
          }
         ],
         "name": "2020-01-27"
        },
        {
         "data": [
          {
           "coloraxis": "coloraxis",
           "geo": "geo",
           "hovertemplate": "animation_frame=2020-01-28<br>locations=%{location}<br>color=%{z}<extra></extra>",
           "locationmode": "USA-states",
           "locations": [
            "CA",
            "WA",
            "IL",
            "AZ"
           ],
           "name": "",
           "type": "choropleth",
           "z": [
            2,
            1,
            1,
            1
           ]
          }
         ],
         "name": "2020-01-28"
        },
        {
         "data": [
          {
           "coloraxis": "coloraxis",
           "geo": "geo",
           "hovertemplate": "animation_frame=2020-01-29<br>locations=%{location}<br>color=%{z}<extra></extra>",
           "locationmode": "USA-states",
           "locations": [
            "WA",
            "AZ",
            "IL",
            "CA"
           ],
           "name": "",
           "type": "choropleth",
           "z": [
            1,
            1,
            1,
            2
           ]
          }
         ],
         "name": "2020-01-29"
        },
        {
         "data": [
          {
           "coloraxis": "coloraxis",
           "geo": "geo",
           "hovertemplate": "animation_frame=2020-01-30<br>locations=%{location}<br>color=%{z}<extra></extra>",
           "locationmode": "USA-states",
           "locations": [
            "AZ",
            "IL",
            "CA",
            "WA"
           ],
           "name": "",
           "type": "choropleth",
           "z": [
            1,
            1,
            2,
            1
           ]
          }
         ],
         "name": "2020-01-30"
        },
        {
         "data": [
          {
           "coloraxis": "coloraxis",
           "geo": "geo",
           "hovertemplate": "animation_frame=2020-01-31<br>locations=%{location}<br>color=%{z}<extra></extra>",
           "locationmode": "USA-states",
           "locations": [
            "WA",
            "CA",
            "AZ",
            "IL"
           ],
           "name": "",
           "type": "choropleth",
           "z": [
            1,
            2,
            1,
            2
           ]
          }
         ],
         "name": "2020-01-31"
        },
        {
         "data": [
          {
           "coloraxis": "coloraxis",
           "geo": "geo",
           "hovertemplate": "animation_frame=2020-02-01<br>locations=%{location}<br>color=%{z}<extra></extra>",
           "locationmode": "USA-states",
           "locations": [
            "IL",
            "MA",
            "AZ",
            "WA",
            "CA"
           ],
           "name": "",
           "type": "choropleth",
           "z": [
            2,
            1,
            1,
            1,
            3
           ]
          }
         ],
         "name": "2020-02-01"
        },
        {
         "data": [
          {
           "coloraxis": "coloraxis",
           "geo": "geo",
           "hovertemplate": "animation_frame=2020-02-02<br>locations=%{location}<br>color=%{z}<extra></extra>",
           "locationmode": "USA-states",
           "locations": [
            "AZ",
            "WA",
            "CA",
            "IL",
            "MA"
           ],
           "name": "",
           "type": "choropleth",
           "z": [
            1,
            1,
            3,
            2,
            1
           ]
          }
         ],
         "name": "2020-02-02"
        },
        {
         "data": [
          {
           "coloraxis": "coloraxis",
           "geo": "geo",
           "hovertemplate": "animation_frame=2020-02-03<br>locations=%{location}<br>color=%{z}<extra></extra>",
           "locationmode": "USA-states",
           "locations": [
            "AZ",
            "WA",
            "CA",
            "MA",
            "IL"
           ],
           "name": "",
           "type": "choropleth",
           "z": [
            1,
            1,
            6,
            1,
            2
           ]
          }
         ],
         "name": "2020-02-03"
        },
        {
         "data": [
          {
           "coloraxis": "coloraxis",
           "geo": "geo",
           "hovertemplate": "animation_frame=2020-02-04<br>locations=%{location}<br>color=%{z}<extra></extra>",
           "locationmode": "USA-states",
           "locations": [
            "WA",
            "MA",
            "CA",
            "IL",
            "AZ"
           ],
           "name": "",
           "type": "choropleth",
           "z": [
            1,
            1,
            6,
            2,
            1
           ]
          }
         ],
         "name": "2020-02-04"
        },
        {
         "data": [
          {
           "coloraxis": "coloraxis",
           "geo": "geo",
           "hovertemplate": "animation_frame=2020-02-05<br>locations=%{location}<br>color=%{z}<extra></extra>",
           "locationmode": "USA-states",
           "locations": [
            "CA",
            "IL",
            "MA",
            "WI",
            "WA",
            "AZ"
           ],
           "name": "",
           "type": "choropleth",
           "z": [
            6,
            2,
            1,
            1,
            1,
            1
           ]
          }
         ],
         "name": "2020-02-05"
        },
        {
         "data": [
          {
           "coloraxis": "coloraxis",
           "geo": "geo",
           "hovertemplate": "animation_frame=2020-02-06<br>locations=%{location}<br>color=%{z}<extra></extra>",
           "locationmode": "USA-states",
           "locations": [
            "WA",
            "WI",
            "AZ",
            "CA",
            "IL",
            "MA"
           ],
           "name": "",
           "type": "choropleth",
           "z": [
            1,
            1,
            1,
            6,
            2,
            1
           ]
          }
         ],
         "name": "2020-02-06"
        },
        {
         "data": [
          {
           "coloraxis": "coloraxis",
           "geo": "geo",
           "hovertemplate": "animation_frame=2020-02-07<br>locations=%{location}<br>color=%{z}<extra></extra>",
           "locationmode": "USA-states",
           "locations": [
            "WI",
            "CA",
            "MA",
            "AZ",
            "WA",
            "IL"
           ],
           "name": "",
           "type": "choropleth",
           "z": [
            1,
            6,
            1,
            1,
            1,
            2
           ]
          }
         ],
         "name": "2020-02-07"
        },
        {
         "data": [
          {
           "coloraxis": "coloraxis",
           "geo": "geo",
           "hovertemplate": "animation_frame=2020-02-08<br>locations=%{location}<br>color=%{z}<extra></extra>",
           "locationmode": "USA-states",
           "locations": [
            "CA",
            "WI",
            "AZ",
            "WA",
            "MA",
            "IL"
           ],
           "name": "",
           "type": "choropleth",
           "z": [
            6,
            1,
            1,
            1,
            1,
            2
           ]
          }
         ],
         "name": "2020-02-08"
        },
        {
         "data": [
          {
           "coloraxis": "coloraxis",
           "geo": "geo",
           "hovertemplate": "animation_frame=2020-02-09<br>locations=%{location}<br>color=%{z}<extra></extra>",
           "locationmode": "USA-states",
           "locations": [
            "WA",
            "MA",
            "IL",
            "WI",
            "CA",
            "AZ"
           ],
           "name": "",
           "type": "choropleth",
           "z": [
            1,
            1,
            2,
            1,
            6,
            1
           ]
          }
         ],
         "name": "2020-02-09"
        },
        {
         "data": [
          {
           "coloraxis": "coloraxis",
           "geo": "geo",
           "hovertemplate": "animation_frame=2020-02-10<br>locations=%{location}<br>color=%{z}<extra></extra>",
           "locationmode": "USA-states",
           "locations": [
            "WA",
            "IL",
            "WI",
            "MA",
            "CA",
            "AZ"
           ],
           "name": "",
           "type": "choropleth",
           "z": [
            1,
            2,
            1,
            1,
            6,
            1
           ]
          }
         ],
         "name": "2020-02-10"
        },
        {
         "data": [
          {
           "coloraxis": "coloraxis",
           "geo": "geo",
           "hovertemplate": "animation_frame=2020-02-11<br>locations=%{location}<br>color=%{z}<extra></extra>",
           "locationmode": "USA-states",
           "locations": [
            "WI",
            "WA",
            "MA",
            "IL",
            "AZ",
            "CA"
           ],
           "name": "",
           "type": "choropleth",
           "z": [
            1,
            1,
            1,
            2,
            1,
            7
           ]
          }
         ],
         "name": "2020-02-11"
        },
        {
         "data": [
          {
           "coloraxis": "coloraxis",
           "geo": "geo",
           "hovertemplate": "animation_frame=2020-02-12<br>locations=%{location}<br>color=%{z}<extra></extra>",
           "locationmode": "USA-states",
           "locations": [
            "MA",
            "AZ",
            "IL",
            "WI",
            "CA",
            "WA"
           ],
           "name": "",
           "type": "choropleth",
           "z": [
            1,
            1,
            2,
            1,
            7,
            1
           ]
          }
         ],
         "name": "2020-02-12"
        },
        {
         "data": [
          {
           "coloraxis": "coloraxis",
           "geo": "geo",
           "hovertemplate": "animation_frame=2020-02-13<br>locations=%{location}<br>color=%{z}<extra></extra>",
           "locationmode": "USA-states",
           "locations": [
            "CA",
            "WA",
            "AZ",
            "MA",
            "WI",
            "IL",
            "TX"
           ],
           "name": "",
           "type": "choropleth",
           "z": [
            8,
            1,
            1,
            1,
            1,
            2,
            1
           ]
          }
         ],
         "name": "2020-02-13"
        },
        {
         "data": [
          {
           "coloraxis": "coloraxis",
           "geo": "geo",
           "hovertemplate": "animation_frame=2020-02-14<br>locations=%{location}<br>color=%{z}<extra></extra>",
           "locationmode": "USA-states",
           "locations": [
            "WA",
            "AZ",
            "IL",
            "TX",
            "WI",
            "MA",
            "CA"
           ],
           "name": "",
           "type": "choropleth",
           "z": [
            1,
            1,
            2,
            1,
            1,
            1,
            8
           ]
          }
         ],
         "name": "2020-02-14"
        },
        {
         "data": [
          {
           "coloraxis": "coloraxis",
           "geo": "geo",
           "hovertemplate": "animation_frame=2020-02-15<br>locations=%{location}<br>color=%{z}<extra></extra>",
           "locationmode": "USA-states",
           "locations": [
            "WA",
            "TX",
            "CA",
            "AZ",
            "IL",
            "MA",
            "WI"
           ],
           "name": "",
           "type": "choropleth",
           "z": [
            1,
            1,
            8,
            1,
            2,
            1,
            1
           ]
          }
         ],
         "name": "2020-02-15"
        },
        {
         "data": [
          {
           "coloraxis": "coloraxis",
           "geo": "geo",
           "hovertemplate": "animation_frame=2020-02-16<br>locations=%{location}<br>color=%{z}<extra></extra>",
           "locationmode": "USA-states",
           "locations": [
            "WA",
            "CA",
            "AZ",
            "MA",
            "IL",
            "WI",
            "TX"
           ],
           "name": "",
           "type": "choropleth",
           "z": [
            1,
            8,
            1,
            1,
            2,
            1,
            1
           ]
          }
         ],
         "name": "2020-02-16"
        },
        {
         "data": [
          {
           "coloraxis": "coloraxis",
           "geo": "geo",
           "hovertemplate": "animation_frame=2020-02-17<br>locations=%{location}<br>color=%{z}<extra></extra>",
           "locationmode": "USA-states",
           "locations": [
            "MA",
            "WI",
            "WA",
            "TX",
            "CA",
            "IL",
            "AZ"
           ],
           "name": "",
           "type": "choropleth",
           "z": [
            1,
            1,
            1,
            1,
            8,
            2,
            1
           ]
          }
         ],
         "name": "2020-02-17"
        },
        {
         "data": [
          {
           "coloraxis": "coloraxis",
           "geo": "geo",
           "hovertemplate": "animation_frame=2020-02-18<br>locations=%{location}<br>color=%{z}<extra></extra>",
           "locationmode": "USA-states",
           "locations": [
            "TX",
            "IL",
            "WI",
            "MA",
            "WA",
            "CA",
            "AZ"
           ],
           "name": "",
           "type": "choropleth",
           "z": [
            1,
            2,
            1,
            1,
            1,
            8,
            1
           ]
          }
         ],
         "name": "2020-02-18"
        },
        {
         "data": [
          {
           "coloraxis": "coloraxis",
           "geo": "geo",
           "hovertemplate": "animation_frame=2020-02-19<br>locations=%{location}<br>color=%{z}<extra></extra>",
           "locationmode": "USA-states",
           "locations": [
            "WA",
            "WI",
            "TX",
            "MA",
            "AZ",
            "IL",
            "CA"
           ],
           "name": "",
           "type": "choropleth",
           "z": [
            1,
            1,
            1,
            1,
            1,
            2,
            8
           ]
          }
         ],
         "name": "2020-02-19"
        },
        {
         "data": [
          {
           "coloraxis": "coloraxis",
           "geo": "geo",
           "hovertemplate": "animation_frame=2020-02-20<br>locations=%{location}<br>color=%{z}<extra></extra>",
           "locationmode": "USA-states",
           "locations": [
            "AZ",
            "MA",
            "WA",
            "IL",
            "TX",
            "WI",
            "CA"
           ],
           "name": "",
           "type": "choropleth",
           "z": [
            1,
            1,
            1,
            2,
            1,
            1,
            8
           ]
          }
         ],
         "name": "2020-02-20"
        },
        {
         "data": [
          {
           "coloraxis": "coloraxis",
           "geo": "geo",
           "hovertemplate": "animation_frame=2020-02-21<br>locations=%{location}<br>color=%{z}<extra></extra>",
           "locationmode": "USA-states",
           "locations": [
            "CA",
            "TX",
            "WA",
            "AZ",
            "WI",
            "MA",
            "NE",
            "IL"
           ],
           "name": "",
           "type": "choropleth",
           "z": [
            15,
            3,
            1,
            1,
            1,
            1,
            11,
            2
           ]
          }
         ],
         "name": "2020-02-21"
        },
        {
         "data": [
          {
           "coloraxis": "coloraxis",
           "geo": "geo",
           "hovertemplate": "animation_frame=2020-02-22<br>locations=%{location}<br>color=%{z}<extra></extra>",
           "locationmode": "USA-states",
           "locations": [
            "CA",
            "AZ",
            "IL",
            "MA",
            "Others",
            "WI",
            "WA",
            "TX"
           ],
           "name": "",
           "type": "choropleth",
           "z": [
            10,
            1,
            2,
            1,
            18,
            1,
            1,
            1
           ]
          }
         ],
         "name": "2020-02-22"
        },
        {
         "data": [
          {
           "coloraxis": "coloraxis",
           "geo": "geo",
           "hovertemplate": "animation_frame=2020-02-23<br>locations=%{location}<br>color=%{z}<extra></extra>",
           "locationmode": "USA-states",
           "locations": [
            "WI",
            "IL",
            "WA",
            "MA",
            "Others",
            "AZ",
            "TX",
            "CA"
           ],
           "name": "",
           "type": "choropleth",
           "z": [
            1,
            2,
            1,
            1,
            18,
            1,
            1,
            10
           ]
          }
         ],
         "name": "2020-02-23"
        },
        {
         "data": [
          {
           "coloraxis": "coloraxis",
           "geo": "geo",
           "hovertemplate": "animation_frame=2020-02-24<br>locations=%{location}<br>color=%{z}<extra></extra>",
           "locationmode": "USA-states",
           "locations": [
            "WI",
            "IL",
            "MA",
            "CA",
            "AZ",
            "Others",
            "WA",
            "TX"
           ],
           "name": "",
           "type": "choropleth",
           "z": [
            1,
            2,
            1,
            10,
            1,
            36,
            1,
            1
           ]
          }
         ],
         "name": "2020-02-24"
        },
        {
         "data": [
          {
           "coloraxis": "coloraxis",
           "geo": "geo",
           "hovertemplate": "animation_frame=2020-02-25<br>locations=%{location}<br>color=%{z}<extra></extra>",
           "locationmode": "USA-states",
           "locations": [
            "WA",
            "CA",
            "IL",
            "WI",
            "MA",
            "Others",
            "TX",
            "AZ"
           ],
           "name": "",
           "type": "choropleth",
           "z": [
            1,
            10,
            2,
            1,
            1,
            36,
            1,
            1
           ]
          }
         ],
         "name": "2020-02-25"
        },
        {
         "data": [
          {
           "coloraxis": "coloraxis",
           "geo": "geo",
           "hovertemplate": "animation_frame=2020-02-26<br>locations=%{location}<br>color=%{z}<extra></extra>",
           "locationmode": "USA-states",
           "locations": [
            "AZ",
            "MA",
            "TX",
            "WI",
            "Others",
            "IL",
            "CA",
            "WA"
           ],
           "name": "",
           "type": "choropleth",
           "z": [
            1,
            1,
            1,
            1,
            42,
            2,
            10,
            1
           ]
          }
         ],
         "name": "2020-02-26"
        },
        {
         "data": [
          {
           "coloraxis": "coloraxis",
           "geo": "geo",
           "hovertemplate": "animation_frame=2020-02-27<br>locations=%{location}<br>color=%{z}<extra></extra>",
           "locationmode": "USA-states",
           "locations": [
            "Others",
            "TX",
            "AZ",
            "WA",
            "WI",
            "IL",
            "CA",
            "MA"
           ],
           "name": "",
           "type": "choropleth",
           "z": [
            42,
            1,
            1,
            1,
            1,
            2,
            11,
            1
           ]
          }
         ],
         "name": "2020-02-27"
        },
        {
         "data": [
          {
           "coloraxis": "coloraxis",
           "geo": "geo",
           "hovertemplate": "animation_frame=2020-02-28<br>locations=%{location}<br>color=%{z}<extra></extra>",
           "locationmode": "USA-states",
           "locations": [
            "IL",
            "MA",
            "Others",
            "TX",
            "WA",
            "CA",
            "AZ",
            "WI"
           ],
           "name": "",
           "type": "choropleth",
           "z": [
            2,
            1,
            44,
            1,
            1,
            11,
            1,
            1
           ]
          }
         ],
         "name": "2020-02-28"
        },
        {
         "data": [
          {
           "coloraxis": "coloraxis",
           "geo": "geo",
           "hovertemplate": "animation_frame=2020-02-29<br>locations=%{location}<br>color=%{z}<extra></extra>",
           "locationmode": "USA-states",
           "locations": [
            "IL",
            "OR",
            "WI",
            "CA",
            "WA",
            "TX",
            "AZ",
            "MA",
            "Others"
           ],
           "name": "",
           "type": "choropleth",
           "z": [
            2,
            1,
            1,
            12,
            7,
            1,
            1,
            1,
            44
           ]
          }
         ],
         "name": "2020-02-29"
        },
        {
         "data": [
          {
           "coloraxis": "coloraxis",
           "geo": "geo",
           "hovertemplate": "animation_frame=2020-03-01<br>locations=%{location}<br>color=%{z}<extra></extra>",
           "locationmode": "USA-states",
           "locations": [
            "CA",
            "WA",
            "TX",
            "IL",
            "Others",
            "WI",
            "OR",
            "RI",
            "MA",
            "AZ"
           ],
           "name": "",
           "type": "choropleth",
           "z": [
            12,
            11,
            1,
            3,
            44,
            1,
            1,
            1,
            1,
            1
           ]
          }
         ],
         "name": "2020-03-01"
        },
        {
         "data": [
          {
           "coloraxis": "coloraxis",
           "geo": "geo",
           "hovertemplate": "animation_frame=2020-03-02<br>locations=%{location}<br>color=%{z}<extra></extra>",
           "locationmode": "USA-states",
           "locations": [
            "MA",
            "WA",
            "WI",
            "OR",
            "CA",
            "NY",
            "FL",
            "TX",
            "NH",
            "AZ",
            "RI",
            "Others",
            "IL"
           ],
           "name": "",
           "type": "choropleth",
           "z": [
            1,
            18,
            1,
            3,
            21,
            1,
            2,
            1,
            1,
            1,
            2,
            45,
            4
           ]
          }
         ],
         "name": "2020-03-02"
        },
        {
         "data": [
          {
           "coloraxis": "coloraxis",
           "geo": "geo",
           "hovertemplate": "animation_frame=2020-03-03<br>locations=%{location}<br>color=%{z}<extra></extra>",
           "locationmode": "USA-states",
           "locations": [
            "WA",
            "RI",
            "NC",
            "IL",
            "CA",
            "AZ",
            "TX",
            "NH",
            "NY",
            "FL",
            "MA",
            "GA",
            "OR",
            "WI",
            "Others"
           ],
           "name": "",
           "type": "choropleth",
           "z": [
            27,
            2,
            1,
            4,
            25,
            2,
            1,
            2,
            2,
            3,
            2,
            2,
            3,
            1,
            45
           ]
          }
         ],
         "name": "2020-03-03"
        },
        {
         "data": [
          {
           "coloraxis": "coloraxis",
           "geo": "geo",
           "hovertemplate": "animation_frame=2020-03-04<br>locations=%{location}<br>color=%{z}<extra></extra>",
           "locationmode": "USA-states",
           "locations": [
            "FL",
            "CA",
            "AZ",
            "NC",
            "OR",
            "TX",
            "WI",
            "IL",
            "NY",
            "MA",
            "WA",
            "GA",
            "NH",
            "Others",
            "RI"
           ],
           "name": "",
           "type": "choropleth",
           "z": [
            3,
            35,
            2,
            1,
            3,
            1,
            1,
            4,
            11,
            2,
            39,
            2,
            2,
            45,
            2
           ]
          }
         ],
         "name": "2020-03-04"
        },
        {
         "data": [
          {
           "coloraxis": "coloraxis",
           "geo": "geo",
           "hovertemplate": "animation_frame=2020-03-05<br>locations=%{location}<br>color=%{z}<extra></extra>",
           "locationmode": "USA-states",
           "locations": [
            "AZ",
            "Others",
            "GA",
            "IL",
            "TN",
            "NC",
            "WI",
            "OR",
            "NJ",
            "NY",
            "NH",
            "CA",
            "MA",
            "FL",
            "NV",
            "WA",
            "TX",
            "RI"
           ],
           "name": "",
           "type": "choropleth",
           "z": [
            2,
            45,
            2,
            5,
            1,
            1,
            1,
            3,
            2,
            23,
            2,
            51,
            2,
            4,
            1,
            70,
            4,
            2
           ]
          }
         ],
         "name": "2020-03-05"
        },
        {
         "data": [
          {
           "coloraxis": "coloraxis",
           "geo": "geo",
           "hovertemplate": "animation_frame=2020-03-06<br>locations=%{location}<br>color=%{z}<extra></extra>",
           "locationmode": "USA-states",
           "locations": [
            "TX",
            "RI",
            "KY",
            "NY",
            "MN",
            "CO",
            "NE",
            "NH",
            "IL",
            "NJ",
            "CA",
            "WI",
            "PA",
            "GA",
            "MA",
            "TN",
            "Others",
            "NV",
            "FL",
            "AZ",
            "WA",
            "MD",
            "OR",
            "NC",
            "IN"
           ],
           "name": "",
           "type": "choropleth",
           "z": [
            5,
            2,
            1,
            36,
            1,
            4,
            1,
            2,
            5,
            2,
            59,
            1,
            2,
            3,
            7,
            1,
            45,
            2,
            4,
            3,
            83,
            3,
            3,
            2,
            1
           ]
          }
         ],
         "name": "2020-03-06"
        },
        {
         "data": [
          {
           "coloraxis": "coloraxis",
           "geo": "geo",
           "hovertemplate": "animation_frame=2020-03-07<br>locations=%{location}<br>color=%{z}<extra></extra>",
           "locationmode": "USA-states",
           "locations": [
            "WI",
            "PA",
            "WA",
            "TN",
            "KY",
            "UT",
            "SC",
            "NE",
            "MA",
            "IL",
            "MN",
            "Others",
            "AZ",
            "NY",
            "CT",
            "MD",
            "FL",
            "GA",
            "NC",
            "OR",
            "TX",
            "NH",
            "CA",
            "NJ",
            "RI",
            "NV",
            "CO",
            "OK",
            "HI",
            "IN"
           ],
           "name": "",
           "type": "choropleth",
           "z": [
            1,
            2,
            107,
            1,
            1,
            1,
            2,
            1,
            7,
            6,
            1,
            66,
            5,
            76,
            2,
            3,
            8,
            6,
            2,
            6,
            9,
            2,
            82,
            4,
            3,
            2,
            8,
            1,
            1,
            1
           ]
          }
         ],
         "name": "2020-03-07"
        },
        {
         "data": [
          {
           "coloraxis": "coloraxis",
           "geo": "geo",
           "hovertemplate": "animation_frame=2020-03-08<br>locations=%{location}<br>color=%{z}<extra></extra>",
           "locationmode": "USA-states",
           "locations": [
            "CA",
            "HI",
            "VT",
            "UT",
            "VA",
            "PA",
            "KS",
            "MD",
            "MN",
            "D.C.",
            "CT",
            "OR",
            "NH",
            "NJ",
            "AZ",
            "NY",
            "IL",
            "GA",
            "NC",
            "TN",
            "IN",
            "WA",
            "Others",
            "WI",
            "CO",
            "MO",
            "KY",
            "MA",
            "RI",
            "NV",
            "SC",
            "FL",
            "NE",
            "TX",
            "OK"
           ],
           "name": "",
           "type": "choropleth",
           "z": [
            98,
            1,
            1,
            1,
            2,
            6,
            1,
            5,
            1,
            2,
            1,
            14,
            6,
            5,
            5,
            106,
            7,
            5,
            2,
            3,
            2,
            128,
            66,
            1,
            8,
            1,
            1,
            24,
            3,
            4,
            2,
            11,
            1,
            12,
            1
           ]
          }
         ],
         "name": "2020-03-08"
        },
        {
         "data": [
          {
           "coloraxis": "coloraxis",
           "geo": "geo",
           "hovertemplate": "animation_frame=2020-03-09<br>locations=%{location}<br>color=%{z}<extra></extra>",
           "locationmode": "USA-states",
           "locations": [
            "NJ",
            "D.C.",
            "PA",
            "VT",
            "NH",
            "IN",
            "Others",
            "FL",
            "KS",
            "OK",
            "WI",
            "MO",
            "TN",
            "NV",
            "GA",
            "WA",
            "CT",
            "UT",
            "MD",
            "AZ",
            "MA",
            "HI",
            "CA",
            "SC",
            "KY",
            "VA",
            "NY",
            "IL",
            "MN",
            "NE",
            "OR",
            "IA",
            "RI",
            "LA",
            "TX",
            "NC",
            "CO"
           ],
           "name": "",
           "type": "choropleth",
           "z": [
            5,
            2,
            7,
            1,
            5,
            3,
            66,
            14,
            1,
            1,
            1,
            1,
            3,
            4,
            10,
            128,
            1,
            1,
            5,
            5,
            24,
            2,
            104,
            6,
            4,
            2,
            142,
            7,
            2,
            3,
            14,
            3,
            3,
            1,
            14,
            2,
            8
           ]
          }
         ],
         "name": "2020-03-09"
        },
        {
         "data": [
          {
           "coloraxis": "coloraxis",
           "geo": "geo",
           "hovertemplate": "animation_frame=2020-03-10<br>locations=%{location}<br>color=%{z}<extra></extra>",
           "locationmode": "USA-states",
           "locations": [
            "HI",
            "NV",
            "OH",
            "NY",
            "OK",
            "ID",
            "WI",
            "GA",
            "NJ",
            "Others",
            "NM",
            "FL",
            "WV",
            "OR",
            "DE",
            "IL",
            "VA",
            "IA",
            "AK",
            "WY",
            "SD",
            "VT",
            "MI",
            "CT",
            "KS",
            "ME",
            "MN",
            "LA",
            "RI",
            "AZ",
            "MT",
            "CO",
            "NE",
            "MS",
            "TX",
            "KY",
            "ND",
            "UT",
            "NH",
            "MO",
            "MD",
            "PA",
            "IN",
            "NC",
            "MA",
            "AR",
            "D.C.",
            "CA",
            "TN",
            "WA",
            "SC"
           ],
           "name": "",
           "type": "choropleth",
           "z": [
            2,
            4,
            3,
            173,
            2,
            0,
            3,
            17,
            15,
            67,
            0,
            15,
            0,
            15,
            0,
            12,
            7,
            8,
            0,
            0,
            0,
            1,
            0,
            2,
            1,
            0,
            3,
            1,
            3,
            6,
            0,
            15,
            3,
            0,
            13,
            6,
            0,
            2,
            4,
            1,
            8,
            12,
            6,
            7,
            92,
            0,
            5,
            144,
            7,
            267,
            7
           ]
          }
         ],
         "name": "2020-03-10"
        },
        {
         "data": [
          {
           "coloraxis": "coloraxis",
           "geo": "geo",
           "hovertemplate": "animation_frame=2020-03-11<br>locations=%{location}<br>color=%{z}<extra></extra>",
           "locationmode": "USA-states",
           "locations": [
            "VA",
            "WY",
            "HI",
            "SC",
            "MS",
            "CO",
            "MA",
            "MT",
            "OK",
            "MO",
            "RI",
            "AZ",
            "WV",
            "LA",
            "ME",
            "NV",
            "ND",
            "IA",
            "OR",
            "NC",
            "CA",
            "MI",
            "FL",
            "AK",
            "GA",
            "IN",
            "ID",
            "NH",
            "VT",
            "MN",
            "MD",
            "CT",
            "KS",
            "TN",
            "Others",
            "IL",
            "AR",
            "PA",
            "TX",
            "UT",
            "WA",
            "KY",
            "D.C.",
            "NM",
            "NY",
            "WI",
            "NE",
            "NJ",
            "SD",
            "OH",
            "DE"
           ],
           "name": "",
           "type": "choropleth",
           "z": [
            9,
            0,
            2,
            10,
            0,
            34,
            95,
            1,
            2,
            1,
            5,
            9,
            0,
            6,
            0,
            7,
            0,
            13,
            19,
            7,
            177,
            2,
            28,
            0,
            23,
            11,
            0,
            5,
            1,
            5,
            9,
            3,
            1,
            9,
            67,
            25,
            1,
            16,
            21,
            3,
            366,
            8,
            10,
            3,
            220,
            6,
            5,
            23,
            8,
            4,
            1
           ]
          }
         ],
         "name": "2020-03-11"
        },
        {
         "data": [
          {
           "coloraxis": "coloraxis",
           "geo": "geo",
           "hovertemplate": "animation_frame=2020-03-12<br>locations=%{location}<br>color=%{z}<extra></extra>",
           "locationmode": "USA-states",
           "locations": [
            "ME",
            "WA",
            "MA",
            "MD",
            "GA",
            "SD",
            "ID",
            "TN",
            "AZ",
            "NM",
            "IA",
            "MS",
            "WI",
            "NJ",
            "FL",
            "MT",
            "LA",
            "AR",
            "CO",
            "CT",
            "TX",
            "NE",
            "DE",
            "OH",
            "VT",
            "KY",
            "NH",
            "SC",
            "MN",
            "MI",
            "ND",
            "VA",
            "HI",
            "IL",
            "KS",
            "AK",
            "NY",
            "UT",
            "OK",
            "CA",
            "D.C.",
            "Others",
            "WV",
            "MO",
            "NC",
            "OR",
            "NV",
            "RI",
            "IN",
            "WY",
            "PA"
           ],
           "name": "",
           "type": "choropleth",
           "z": [
            0,
            442,
            108,
            12,
            31,
            8,
            0,
            18,
            9,
            5,
            16,
            1,
            8,
            29,
            35,
            1,
            19,
            6,
            45,
            5,
            27,
            10,
            1,
            5,
            2,
            10,
            6,
            12,
            9,
            2,
            1,
            17,
            2,
            32,
            1,
            0,
            328,
            5,
            2,
            221,
            10,
            67,
            0,
            1,
            15,
            24,
            14,
            5,
            13,
            1,
            22
           ]
          }
         ],
         "name": "2020-03-12"
        },
        {
         "data": [
          {
           "coloraxis": "coloraxis",
           "geo": "geo",
           "hovertemplate": "animation_frame=2020-03-13<br>locations=%{location}<br>color=%{z}<extra></extra>",
           "locationmode": "USA-states",
           "locations": [
            "AK",
            "OK",
            "AL",
            "TX",
            "OH",
            "MN",
            "TN",
            "MI",
            "IA",
            "HI",
            "NV",
            "MO",
            "WI",
            "ME",
            "GA",
            "NH",
            "MA",
            "WA",
            "NC",
            "AR",
            "LA",
            "RI",
            "WY",
            "NY",
            "VA",
            "CO",
            "ND",
            "KY",
            "VT",
            "DE",
            "NE",
            "KS",
            "IL",
            "CT",
            "PA",
            "IN",
            "Others",
            "WV",
            "CA",
            "OR",
            "ID",
            "MD",
            "NM",
            "UT",
            "MS",
            "AZ",
            "MT",
            "D.C.",
            "NJ",
            "SC",
            "FL",
            "SD"
           ],
           "name": "",
           "type": "choropleth",
           "z": [
            1,
            2,
            5,
            43,
            13,
            14,
            26,
            16,
            17,
            2,
            17,
            2,
            19,
            1,
            42,
            6,
            123,
            568,
            17,
            6,
            36,
            14,
            1,
            421,
            30,
            49,
            1,
            14,
            2,
            4,
            13,
            5,
            46,
            11,
            41,
            13,
            67,
            0,
            282,
            30,
            1,
            18,
            10,
            9,
            1,
            9,
            1,
            10,
            29,
            13,
            50,
            8
           ]
          }
         ],
         "name": "2020-03-13"
        },
        {
         "data": [
          {
           "coloraxis": "coloraxis",
           "geo": "geo",
           "hovertemplate": "animation_frame=2020-03-14<br>locations=%{location}<br>color=%{z}<extra></extra>",
           "locationmode": "USA-states",
           "locations": [
            "IN",
            "MD",
            "NJ",
            "ID",
            "IL",
            "NM",
            "KS",
            "NE",
            "WA",
            "NH",
            "ME",
            "MI",
            "KY",
            "ND",
            "IA",
            "MS",
            "HI",
            "NV",
            "MA",
            "WI",
            "LA",
            "NC",
            "MT",
            "MO",
            "VT",
            "NY",
            "MN",
            "WV",
            "UT",
            "CT",
            "PA",
            "AL",
            "FL",
            "OK",
            "SC",
            "PR",
            "CA",
            "GA",
            "TN",
            "WY",
            "OR",
            "CO",
            "SD",
            "AZ",
            "RI",
            "Others",
            "D.C.",
            "TX",
            "AR",
            "VA",
            "DE",
            "OH"
           ],
           "name": "",
           "type": "choropleth",
           "z": [
            16,
            26,
            69,
            2,
            64,
            10,
            8,
            14,
            572,
            7,
            3,
            25,
            14,
            1,
            17,
            6,
            4,
            21,
            138,
            27,
            77,
            24,
            5,
            4,
            5,
            525,
            21,
            0,
            10,
            22,
            47,
            6,
            76,
            4,
            19,
            3,
            340,
            66,
            32,
            2,
            32,
            101,
            9,
            12,
            20,
            68,
            10,
            57,
            12,
            41,
            6,
            26
           ]
          }
         ],
         "name": "2020-03-14"
        },
        {
         "data": [
          {
           "coloraxis": "coloraxis",
           "geo": "geo",
           "hovertemplate": "animation_frame=2020-03-15<br>locations=%{location}<br>color=%{z}<extra></extra>",
           "locationmode": "USA-states",
           "locations": [
            "WY",
            "CO",
            "NV",
            "NC",
            "SC",
            "LA",
            "NM",
            "AR",
            "KS",
            "ND",
            "UT",
            "WA",
            "WI",
            "MO",
            "IN",
            "OK",
            "IA",
            "GA",
            "PR",
            "KY",
            "MD",
            "Others",
            "NH",
            "D.C.",
            "ID",
            "MN",
            "SD",
            "VA",
            "MI",
            "RI",
            "CA",
            "FL",
            "NY",
            "GU",
            "AK",
            "DE",
            "OH",
            "OR",
            "MA",
            "VT",
            "CT",
            "AL",
            "WV",
            "TN",
            "ME",
            "HI",
            "NJ",
            "MS",
            "IL",
            "AZ",
            "MT",
            "NE",
            "TX",
            "PA"
           ],
           "name": "",
           "type": "choropleth",
           "z": [
            3,
            131,
            24,
            33,
            28,
            91,
            13,
            16,
            8,
            1,
            28,
            643,
            32,
            5,
            20,
            7,
            18,
            99,
            5,
            20,
            32,
            68,
            13,
            16,
            5,
            35,
            9,
            45,
            33,
            20,
            426,
            115,
            732,
            3,
            1,
            7,
            37,
            36,
            164,
            8,
            24,
            12,
            0,
            39,
            12,
            6,
            98,
            10,
            93,
            13,
            7,
            17,
            72,
            66
           ]
          }
         ],
         "name": "2020-03-15"
        },
        {
         "data": [
          {
           "coloraxis": "coloraxis",
           "geo": "geo",
           "hovertemplate": "animation_frame=2020-03-16<br>locations=%{location}<br>color=%{z}<extra></extra>",
           "locationmode": "USA-states",
           "locations": [
            "MD",
            "NE",
            "WV",
            "GA",
            "AZ",
            "NM",
            "MA",
            "OR",
            "NH",
            "KY",
            "DE",
            "FL",
            "UT",
            "MN",
            "AL",
            "NC",
            "VA",
            "ID",
            "VT",
            "NJ",
            "KS",
            "WA",
            "IL",
            "MT",
            "SC",
            "OK",
            "MS",
            "D.C.",
            "VI",
            "GU",
            "IN",
            "WI",
            "AK",
            "ND",
            "MO",
            "OH",
            "CO",
            "NV",
            "WY",
            "AR",
            "ME",
            "HI",
            "TN",
            "SD",
            "LA",
            "IA",
            "PA",
            "NY",
            "PR",
            "MI",
            "RI",
            "CA",
            "Others",
            "TX",
            "CT"
           ],
           "name": "",
           "type": "choropleth",
           "z": [
            41,
            18,
            0,
            121,
            18,
            17,
            197,
            39,
            17,
            21,
            8,
            155,
            39,
            54,
            29,
            38,
            49,
            5,
            12,
            178,
            11,
            904,
            105,
            7,
            33,
            10,
            13,
            22,
            1,
            3,
            25,
            47,
            1,
            1,
            6,
            50,
            160,
            45,
            3,
            22,
            17,
            7,
            52,
            10,
            136,
            23,
            77,
            967,
            5,
            53,
            21,
            557,
            67,
            85,
            30
           ]
          }
         ],
         "name": "2020-03-16"
        },
        {
         "data": [
          {
           "coloraxis": "coloraxis",
           "geo": "geo",
           "hovertemplate": "animation_frame=2020-03-17<br>locations=%{location}<br>color=%{z}<extra></extra>",
           "locationmode": "USA-states",
           "locations": [
            "VA",
            "CT",
            "VT",
            "GU",
            "NC",
            "HI",
            "NJ",
            "PA",
            "CA",
            "MA",
            "RI",
            "TX",
            "AZ",
            "DE",
            "AL",
            "OR",
            "OH",
            "NY",
            "ME",
            "WV",
            "IL",
            "FL",
            "MO",
            "MI",
            "D.C.",
            "TN",
            "WI",
            "IN",
            "MT",
            "OK",
            "LA",
            "IA",
            "GA",
            "PR",
            "NM",
            "UT",
            "NH",
            "Others",
            "MD",
            "VI",
            "SD",
            "KY",
            "ND",
            "CO",
            "NE",
            "AK",
            "MS",
            "NV",
            "WY",
            "WA",
            "KS",
            "AR",
            "ID",
            "MN",
            "SC"
           ],
           "name": "",
           "type": "choropleth",
           "z": [
            67,
            68,
            12,
            3,
            64,
            10,
            267,
            112,
            698,
            218,
            23,
            110,
            20,
            16,
            39,
            66,
            67,
            1706,
            32,
            1,
            161,
            216,
            11,
            65,
            22,
            74,
            72,
            30,
            9,
            19,
            196,
            23,
            146,
            5,
            23,
            51,
            26,
            68,
            60,
            2,
            11,
            26,
            3,
            160,
            21,
            3,
            21,
            56,
            11,
            1076,
            18,
            22,
            8,
            60,
            47
           ]
          }
         ],
         "name": "2020-03-17"
        },
        {
         "data": [
          {
           "coloraxis": "coloraxis",
           "geo": "geo",
           "hovertemplate": "animation_frame=2020-03-18<br>locations=%{location}<br>color=%{z}<extra></extra>",
           "locationmode": "USA-states",
           "locations": [
            "CT",
            "MA",
            "KS",
            "NE",
            "D.C.",
            "PA",
            "DE",
            "WV",
            "Others",
            "PR",
            "NH",
            "TX",
            "MT",
            "AZ",
            "IN",
            "WY",
            "SC",
            "IL",
            "NC",
            "SD",
            "NJ",
            "RI",
            "VT",
            "IA",
            "AK",
            "MS",
            "CA",
            "ND",
            "GA",
            "MN",
            "AR",
            "CO",
            "NM",
            "OK",
            "WA",
            "WI",
            "NV",
            "HI",
            "ID",
            "VA",
            "VI",
            "MO",
            "UT",
            "TN",
            "OR",
            "MI",
            "NY",
            "FL",
            "GU",
            "LA",
            "ME",
            "OH",
            "AL",
            "MD",
            "KY"
           ],
           "name": "",
           "type": "choropleth",
           "z": [
            68,
            218,
            18,
            24,
            31,
            152,
            19,
            1,
            71,
            5,
            26,
            173,
            11,
            27,
            39,
            15,
            47,
            162,
            70,
            11,
            267,
            33,
            18,
            29,
            6,
            34,
            751,
            6,
            199,
            77,
            33,
            184,
            23,
            19,
            1014,
            92,
            55,
            14,
            9,
            77,
            2,
            18,
            51,
            79,
            68,
            83,
            2495,
            314,
            5,
            257,
            42,
            86,
            46,
            85,
            27
           ]
          }
         ],
         "name": "2020-03-18"
        },
        {
         "data": [
          {
           "coloraxis": "coloraxis",
           "geo": "geo",
           "hovertemplate": "animation_frame=2020-03-19<br>locations=%{location}<br>color=%{z}<extra></extra>",
           "locationmode": "USA-states",
           "locations": [
            "GA",
            "Others",
            "WY",
            "LA",
            "TX",
            "IA",
            "MD",
            "TN",
            "WI",
            "IN",
            "AR",
            "AK",
            "RI",
            "HI",
            "PA",
            "OH",
            "ME",
            "GU",
            "CT",
            "NY",
            "MO",
            "ND",
            "NV",
            "CA",
            "DE",
            "NE",
            "FL",
            "MN",
            "AZ",
            "MT",
            "VA",
            "NJ",
            "VT",
            "IL",
            "MS",
            "SD",
            "KS",
            "SC",
            "OR",
            "WV",
            "UT",
            "MI",
            "VI",
            "KY",
            "MA",
            "CO",
            "NM",
            "NH",
            "WA",
            "PR",
            "AL",
            "OK",
            "NC",
            "ID",
            "D.C."
           ],
           "name": "",
           "type": "choropleth",
           "z": [
            287,
            72,
            18,
            392,
            260,
            44,
            107,
            154,
            159,
            60,
            62,
            9,
            44,
            16,
            206,
            119,
            52,
            12,
            159,
            5365,
            31,
            18,
            95,
            952,
            30,
            29,
            417,
            89,
            45,
            11,
            99,
            742,
            22,
            422,
            50,
            11,
            34,
            81,
            88,
            2,
            80,
            334,
            3,
            37,
            328,
            277,
            35,
            44,
            1376,
            5,
            78,
            44,
            123,
            11,
            40
           ]
          }
         ],
         "name": "2020-03-19"
        },
        {
         "data": [
          {
           "coloraxis": "coloraxis",
           "geo": "geo",
           "hovertemplate": "animation_frame=2020-03-20<br>locations=%{location}<br>color=%{z}<extra></extra>",
           "locationmode": "USA-states",
           "locations": [
            "CA",
            "NC",
            "AL",
            "KY",
            "KS",
            "NE",
            "VT",
            "MI",
            "RI",
            "CO",
            "ND",
            "PR",
            "LA",
            "UT",
            "MT",
            "MO",
            "DE",
            "IL",
            "AZ",
            "TN",
            "WV",
            "MA",
            "MN",
            "GA",
            "IA",
            "OR",
            "FL",
            "SD",
            "MD",
            "MS",
            "VA",
            "NM",
            "NJ",
            "OK",
            "CT",
            "ID",
            "AR",
            "AK",
            "WI",
            "WA",
            "GU",
            "NV",
            "IN",
            "OH",
            "ME",
            "Others",
            "WY",
            "NH",
            "TX",
            "HI",
            "D.C.",
            "PA",
            "SC",
            "NY"
           ],
           "name": "",
           "type": "choropleth",
           "z": [
            1177,
            172,
            83,
            47,
            44,
            37,
            29,
            552,
            54,
            363,
            19,
            14,
            538,
            78,
            15,
            53,
            38,
            585,
            78,
            233,
            7,
            413,
            115,
            420,
            45,
            114,
            563,
            14,
            149,
            80,
            122,
            43,
            890,
            49,
            194,
            23,
            96,
            12,
            207,
            1524,
            14,
            114,
            86,
            173,
            56,
            76,
            19,
            44,
            394,
            26,
            71,
            303,
            126,
            8310
           ]
          }
         ],
         "name": "2020-03-20"
        },
        {
         "data": [
          {
           "coloraxis": "coloraxis",
           "geo": "geo",
           "hovertemplate": "animation_frame=2020-03-21<br>locations=%{location}<br>color=%{z}<extra></extra>",
           "locationmode": "USA-states",
           "locations": [
            "NY",
            "CO",
            "NM",
            "NC",
            "GU",
            "OK",
            "MD",
            "ME",
            "AK",
            "SD",
            "IA",
            "OH",
            "GA",
            "ND",
            "TN",
            "HI",
            "ID",
            "WI",
            "NV",
            "AR",
            "KY",
            "LA",
            "CT",
            "RI",
            "MN",
            "DE",
            "UT",
            "NE",
            "AZ",
            "IL",
            "KS",
            "SC",
            "D.C.",
            "TX",
            "NH",
            "Others",
            "WY",
            "CA",
            "MO",
            "PA",
            "IN",
            "PR",
            "MA",
            "WV",
            "VA",
            "WA",
            "MI",
            "NJ",
            "MT",
            "MS",
            "VT",
            "AL",
            "OR",
            "FL"
           ],
           "name": "",
           "type": "choropleth",
           "z": [
            11710,
            390,
            43,
            253,
            15,
            53,
            193,
            70,
            15,
            14,
            68,
            248,
            507,
            28,
            371,
            37,
            36,
            282,
            161,
            122,
            87,
            585,
            194,
            66,
            138,
            45,
            136,
            38,
            118,
            753,
            57,
            171,
            98,
            581,
            55,
            79,
            23,
            1364,
            74,
            396,
            128,
            21,
            525,
            8,
            156,
            1793,
            788,
            1327,
            21,
            140,
            29,
            131,
            114,
            659
           ]
          }
         ],
         "name": "2020-03-21"
        },
        {
         "data": [
          {
           "coloraxis": "coloraxis",
           "geo": "geo",
           "hovertemplate": "animation_frame=2020-03-22<br>locations=%{location}<br>color=%{z}<extra></extra>",
           "locationmode": "USA-states",
           "locations": [
            "AR",
            "MO",
            "SD",
            "AS",
            "ME",
            "LA",
            "CA",
            "AL",
            "WY",
            "MA",
            "RI",
            "MP",
            "MS",
            "SC",
            "MD",
            "AZ",
            "TN",
            "WA",
            "MT",
            "WI",
            "FL",
            "NE",
            "CT",
            "IN",
            "Others",
            "NH",
            "D.C.",
            "IL",
            "WV",
            "DE",
            "MN",
            "OR",
            "NC",
            "NJ",
            "VA",
            "TX",
            "ID",
            "OK",
            "NM",
            "VI",
            "IA",
            "GA",
            "AK",
            "NV",
            "HI",
            "OH",
            "GU",
            "NY",
            "KS",
            "PR",
            "PA",
            "KY",
            "UT",
            "CO",
            "ND",
            "MI",
            "VT"
           ],
           "name": "",
           "type": "choropleth",
           "z": [
            165,
            87,
            21,
            0,
            89,
            837,
            1646,
            157,
            26,
            646,
            83,
            0,
            207,
            196,
            244,
            152,
            505,
            1997,
            34,
            381,
            1004,
            51,
            327,
            204,
            83,
            74,
            204,
            1049,
            16,
            56,
            167,
            161,
            305,
            1914,
            220,
            643,
            42,
            67,
            57,
            6,
            90,
            621,
            20,
            190,
            53,
            356,
            27,
            15800,
            65,
            23,
            509,
            103,
            162,
            591,
            28,
            1035,
            52
           ]
          }
         ],
         "name": "2020-03-22"
        },
        {
         "data": [
          {
           "coloraxis": "coloraxis",
           "geo": "geo",
           "hovertemplate": "animation_frame=2020-03-23<br>locations=%{location}<br>color=%{z}<extra></extra>",
           "locationmode": "USA-states",
           "locations": [
            "MD",
            "MN",
            "AZ",
            "VI",
            "AL",
            "IL",
            "NC",
            "WV",
            "ND",
            "GA",
            "MI",
            "MP",
            "IA",
            "TX",
            "NM",
            "SD",
            "WA",
            "NJ",
            "VA",
            "FL",
            "MS",
            "ID",
            "SC",
            "AS",
            "CO",
            "OR",
            "OK",
            "WY",
            "MA",
            "TN",
            "KY",
            "DE",
            "NH",
            "D.C.",
            "CA",
            "MO",
            "NY",
            "MT",
            "PR",
            "ME",
            "KS",
            "GU",
            "WI",
            "OH",
            "HI",
            "RI",
            "PA",
            "NE",
            "NV",
            "LA",
            "VT",
            "UT",
            "AR",
            "Others",
            "AK",
            "CT",
            "IN"
           ],
           "name": "",
           "type": "choropleth",
           "z": [
            290,
            234,
            235,
            7,
            196,
            1285,
            353,
            16,
            30,
            772,
            1329,
            0,
            105,
            758,
            83,
            28,
            2221,
            2844,
            254,
            1227,
            249,
            68,
            298,
            0,
            704,
            191,
            81,
            26,
            777,
            614,
            123,
            68,
            101,
            120,
            2108,
            187,
            20884,
            34,
            31,
            107,
            84,
            29,
            425,
            443,
            56,
            106,
            698,
            51,
            245,
            1172,
            75,
            257,
            192,
            77,
            30,
            415,
            270
           ]
          }
         ],
         "name": "2020-03-23"
        },
        {
         "data": [
          {
           "coloraxis": "coloraxis",
           "geo": "geo",
           "hovertemplate": "animation_frame=2020-03-24<br>locations=%{location}<br>color=%{z}<extra></extra>",
           "locationmode": "USA-states",
           "locations": [
            "MD",
            "AS",
            "OK",
            "ME",
            "AK",
            "NC",
            "ID",
            "NY",
            "MO",
            "GA",
            "VA",
            "MP",
            "WI",
            "AR",
            "VI",
            "WY",
            "TN",
            "VT",
            "OH",
            "KY",
            "HI",
            "NM",
            "IA",
            "NV",
            "TX",
            "GU",
            "SD",
            "MI",
            "D.C.",
            "ND",
            "WV",
            "MN",
            "AZ",
            "IL",
            "NH",
            "RI",
            "Others",
            "DE",
            "IN",
            "NE",
            "UT",
            "PA",
            "CA",
            "WA",
            "KS",
            "PR",
            "MT",
            "CT",
            "CO",
            "SC",
            "MS",
            "OR",
            "NJ",
            "FL",
            "MA",
            "AL",
            "LA"
           ],
           "name": "",
           "type": "choropleth",
           "z": [
            349,
            0,
            106,
            118,
            34,
            495,
            81,
            25681,
            257,
            1026,
            293,
            0,
            481,
            219,
            17,
            29,
            772,
            95,
            567,
            162,
            90,
            100,
            124,
            278,
            955,
            32,
            30,
            1793,
            141,
            36,
            22,
            261,
            326,
            1537,
            101,
            124,
            77,
            104,
            368,
            66,
            298,
            946,
            2538,
            2328,
            100,
            39,
            51,
            618,
            723,
            342,
            320,
            210,
            3675,
            1412,
            1159,
            242,
            1388
           ]
          }
         ],
         "name": "2020-03-24"
        },
        {
         "data": [
          {
           "coloraxis": "coloraxis",
           "geo": "geo",
           "hovertemplate": "animation_frame=2020-03-25<br>locations=%{location}<br>color=%{z}<extra></extra>",
           "locationmode": "USA-states",
           "locations": [
            "WA",
            "OK",
            "HI",
            "FL",
            "VT",
            "ID",
            "NE",
            "OH",
            "CT",
            "NV",
            "PA",
            "WI",
            "IN",
            "NC",
            "UT",
            "AS",
            "KS",
            "ME",
            "GU",
            "TN",
            "MT",
            "MO",
            "PR",
            "MI",
            "NY",
            "CA",
            "VA",
            "DE",
            "RI",
            "CO",
            "NM",
            "WY",
            "TX",
            "WV",
            "MA",
            "MD",
            "VI",
            "ND",
            "KY",
            "AK",
            "IA",
            "OR",
            "LA",
            "AZ",
            "MN",
            "AR",
            "Others",
            "MS",
            "GA",
            "SD",
            "IL",
            "SC",
            "NH",
            "NJ",
            "MP",
            "D.C.",
            "AL"
           ],
           "name": "",
           "type": "choropleth",
           "z": [
            2591,
            164,
            91,
            1682,
            125,
            91,
            71,
            704,
            875,
            323,
            1260,
            621,
            477,
            590,
            340,
            0,
            134,
            142,
            37,
            916,
            65,
            354,
            51,
            2296,
            30841,
            2998,
            396,
            119,
            132,
            1021,
            113,
            44,
            1229,
            39,
            1838,
            425,
            17,
            45,
            197,
            41,
            146,
            266,
            1795,
            401,
            286,
            280,
            77,
            377,
            1247,
            41,
            1865,
            424,
            108,
            4402,
            0,
            187,
            381
           ]
          }
         ],
         "name": "2020-03-25"
        },
        {
         "data": [
          {
           "coloraxis": "coloraxis",
           "geo": "geo",
           "hovertemplate": "animation_frame=2020-03-26<br>locations=%{location}<br>color=%{z}<extra></extra>",
           "locationmode": "USA-states",
           "locations": [
            "MI",
            "TN",
            "AK",
            "MN",
            "AL",
            "NY",
            "MO",
            "PR",
            "KS",
            "TX",
            "PA",
            "NE",
            "CT",
            "IN",
            "Others",
            "NH",
            "IL",
            "D.C.",
            "WV",
            "DE",
            "OR",
            "FL",
            "NJ",
            "OK",
            "ID",
            "NM",
            "VI",
            "IA",
            "GA",
            "VA",
            "OH",
            "NV",
            "HI",
            "WI",
            "GU",
            "ND",
            "UT",
            "KY",
            "ME",
            "AR",
            "SD",
            "MP",
            "MD",
            "WY",
            "AS",
            "SC",
            "CO",
            "MA",
            "AZ",
            "WA",
            "MT",
            "MS",
            "RI",
            "NC",
            "CA",
            "VT",
            "LA"
           ],
           "name": "",
           "type": "choropleth",
           "z": [
            2845,
            1097,
            56,
            344,
            517,
            37877,
            520,
            64,
            172,
            1563,
            1795,
            74,
            1012,
            645,
            77,
            137,
            2538,
            231,
            52,
            130,
            316,
            2357,
            6876,
            248,
            146,
            113,
            17,
            179,
            1525,
            466,
            868,
            420,
            95,
            728,
            45,
            51,
            396,
            247,
            155,
            335,
            46,
            0,
            583,
            53,
            0,
            424,
            1430,
            2417,
            508,
            3207,
            90,
            485,
            165,
            738,
            3899,
            158,
            2304
           ]
          }
         ],
         "name": "2020-03-26"
        },
        {
         "data": [
          {
           "coloraxis": "coloraxis",
           "geo": "geo",
           "hovertemplate": "animation_frame=2020-03-27<br>locations=%{location}<br>color=%{z}<extra></extra>",
           "locationmode": "USA-states",
           "locations": [
            "PR",
            "UT",
            "VA",
            "OH",
            "Others",
            "SD",
            "NV",
            "ND",
            "MO",
            "NY",
            "MP",
            "VT",
            "SC",
            "NM",
            "MT",
            "NC",
            "OK",
            "NJ",
            "TN",
            "OR",
            "MS",
            "NE",
            "RI",
            "NH",
            "MN",
            "VI",
            "PA",
            "TX",
            "GU",
            "KS",
            "CA",
            "MD",
            "IL",
            "FL",
            "AR",
            "CT",
            "CO",
            "WI",
            "ID",
            "AZ",
            "AS",
            "MA",
            "WA",
            "IN",
            "IA",
            "LA",
            "AL",
            "HI",
            "WV",
            "D.C.",
            "KY",
            "ME",
            "GA",
            "DE",
            "MI",
            "AK",
            "WY"
           ],
           "name": "",
           "type": "choropleth",
           "z": [
            79,
            472,
            607,
            1137,
            77,
            58,
            536,
            68,
            666,
            44876,
            0,
            184,
            542,
            136,
            109,
            887,
            322,
            8825,
            1318,
            416,
            579,
            82,
            203,
            158,
            396,
            19,
            2345,
            1937,
            51,
            206,
            4657,
            775,
            3024,
            2900,
            381,
            1291,
            1433,
            926,
            205,
            665,
            0,
            3240,
            3477,
            979,
            235,
            2744,
            587,
            106,
            76,
            271,
            301,
            168,
            2000,
            163,
            3634,
            58,
            70
           ]
          }
         ],
         "name": "2020-03-27"
        },
        {
         "data": [
          {
           "coloraxis": "coloraxis",
           "geo": "geo",
           "hovertemplate": "animation_frame=2020-03-28<br>locations=%{location}<br>color=%{z}<extra></extra>",
           "locationmode": "USA-states",
           "locations": [
            "IA",
            "NV",
            "ND",
            "CA",
            "MD",
            "AZ",
            "AS",
            "MP",
            "SC",
            "OH",
            "WY",
            "SD",
            "NM",
            "RI",
            "KY",
            "MA",
            "CO",
            "DE",
            "NE",
            "NC",
            "D.C.",
            "WV",
            "LA",
            "VT",
            "NY",
            "GU",
            "Others",
            "MS",
            "OR",
            "CT",
            "PA",
            "MT",
            "FL",
            "IN",
            "KS",
            "WA",
            "PR",
            "UT",
            "HI",
            "WI",
            "ID",
            "NH",
            "AR",
            "OK",
            "TN",
            "GA",
            "MI",
            "IL",
            "TX",
            "MO",
            "VA",
            "MN",
            "AL",
            "ME",
            "VI",
            "AK",
            "NJ"
           ],
           "name": "",
           "type": "choropleth",
           "z": [
            298,
            626,
            94,
            5095,
            995,
            773,
            0,
            0,
            660,
            1406,
            82,
            68,
            208,
            239,
            380,
            4257,
            1740,
            214,
            96,
            1020,
            304,
            96,
            3315,
            211,
            52410,
            55,
            152,
            663,
            479,
            1524,
            2845,
            129,
            3763,
            1233,
            266,
            4030,
            100,
            602,
            149,
            1055,
            234,
            187,
            409,
            377,
            1511,
            2366,
            4650,
            3491,
            2455,
            836,
            740,
            441,
            694,
            211,
            22,
            85,
            11124
           ]
          }
         ],
         "name": "2020-03-28"
        },
        {
         "data": [
          {
           "coloraxis": "coloraxis",
           "geo": "geo",
           "hovertemplate": "animation_frame=2020-03-29<br>locations=%{location}<br>color=%{z}<extra></extra>",
           "locationmode": "USA-states",
           "locations": [
            "PR",
            "AR",
            "NV",
            "UT",
            "MI",
            "CO",
            "NE",
            "HI",
            "KY",
            "MS",
            "AK",
            "TN",
            "RI",
            "NH",
            "CA",
            "DE",
            "IL",
            "MA",
            "NJ",
            "WA",
            "LA",
            "MN",
            "NY",
            "VA",
            "GU",
            "Others",
            "OR",
            "WI",
            "WV",
            "AL",
            "PA",
            "MT",
            "D.C.",
            "VI",
            "NC",
            "FL",
            "IN",
            "TX",
            "CT",
            "VT",
            "GA",
            "MD",
            "AS",
            "MP",
            "SC",
            "OK",
            "AZ",
            "MO",
            "ND",
            "NM",
            "IA",
            "OH",
            "WY",
            "ME",
            "KS",
            "SD",
            "ID"
           ],
           "name": "",
           "type": "choropleth",
           "z": [
            127,
            426,
            920,
            720,
            5488,
            2307,
            108,
            149,
            438,
            759,
            102,
            1720,
            294,
            214,
            5852,
            232,
            4596,
            4955,
            13386,
            4465,
            3540,
            503,
            59648,
            890,
            56,
            152,
            548,
            1164,
            113,
            825,
            3432,
            154,
            342,
            23,
            1191,
            4246,
            1513,
            2792,
            1993,
            235,
            2651,
            1239,
            0,
            0,
            774,
            429,
            919,
            915,
            98,
            237,
            336,
            1653,
            86,
            253,
            330,
            90,
            281
           ]
          }
         ],
         "name": "2020-03-29"
        },
        {
         "data": [
          {
           "coloraxis": "coloraxis",
           "geo": "geo",
           "hovertemplate": "animation_frame=2020-03-30<br>locations=%{location}<br>color=%{z}<extra></extra>",
           "locationmode": "USA-states",
           "locations": [
            "CT",
            "SC",
            "PA",
            "OH",
            "ID",
            "FL",
            "AL",
            "IN",
            "TX",
            "WA",
            "ND",
            "GA",
            "MP",
            "WI",
            "AR",
            "VT",
            "NJ",
            "D.C.",
            "WV",
            "NY",
            "NC",
            "NM",
            "LA",
            "MN",
            "WY",
            "SD",
            "VI",
            "MO",
            "OR",
            "GU",
            "Others",
            "VA",
            "AK",
            "MT",
            "NE",
            "IA",
            "TN",
            "MI",
            "OK",
            "KY",
            "CA",
            "KS",
            "MS",
            "CO",
            "RI",
            "NV",
            "AS",
            "MD",
            "IL",
            "DE",
            "UT",
            "MA",
            "PR",
            "AZ",
            "HI",
            "NH",
            "ME"
           ],
           "name": "",
           "type": "choropleth",
           "z": [
            2571,
            925,
            4155,
            1933,
            340,
            5473,
            899,
            1786,
            3147,
            4923,
            109,
            2808,
            0,
            1230,
            473,
            256,
            16636,
            401,
            145,
            66663,
            1313,
            237,
            4025,
            576,
            94,
            101,
            30,
            1051,
            606,
            58,
            152,
            1020,
            114,
            171,
            145,
            424,
            1917,
            6498,
            481,
            479,
            7138,
            372,
            847,
            2311,
            408,
            1012,
            0,
            1413,
            5056,
            264,
            798,
            5752,
            174,
            1157,
            175,
            314,
            275
           ]
          }
         ],
         "name": "2020-03-30"
        },
        {
         "data": [
          {
           "coloraxis": "coloraxis",
           "geo": "geo",
           "hovertemplate": "animation_frame=2020-03-31<br>locations=%{location}<br>color=%{z}<extra></extra>",
           "locationmode": "USA-states",
           "locations": [
            "WI",
            "LA",
            "WY",
            "MS",
            "IL",
            "MN",
            "NM",
            "MO",
            "FL",
            "TN",
            "NY",
            "WV",
            "AR",
            "CA",
            "AK",
            "NH",
            "NC",
            "RI",
            "OR",
            "D.C.",
            "SD",
            "NE",
            "MD",
            "MA",
            "NJ",
            "UT",
            "VT",
            "MT",
            "VA",
            "MI",
            "GA",
            "OK",
            "IN",
            "HI",
            "MP",
            "PR",
            "TX",
            "WA",
            "ME",
            "VI",
            "IA",
            "ND",
            "NV",
            "AZ",
            "PA",
            "ID",
            "OH",
            "GU",
            "Others",
            "AL",
            "SC",
            "KY",
            "CT",
            "KS",
            "DE",
            "CO"
           ],
           "name": "",
           "type": "choropleth",
           "z": [
            1412,
            5237,
            109,
            937,
            5994,
            629,
            315,
            1357,
            6741,
            2391,
            75833,
            162,
            523,
            8210,
            119,
            357,
            1535,
            488,
            690,
            495,
            108,
            172,
            1660,
            6620,
            18696,
            888,
            293,
            198,
            1249,
            7615,
            3929,
            568,
            2158,
            204,
            2,
            239,
            3809,
            5432,
            303,
            30,
            497,
            122,
            1114,
            1289,
            4963,
            515,
            2199,
            69,
            152,
            987,
            1083,
            628,
            3128,
            434,
            319,
            2966
           ]
          }
         ],
         "name": "2020-03-31"
        },
        {
         "data": [
          {
           "coloraxis": "coloraxis",
           "geo": "geo",
           "hovertemplate": "animation_frame=2020-04-01<br>locations=%{location}<br>color=%{z}<extra></extra>",
           "locationmode": "USA-states",
           "locations": [
            "KS",
            "ND",
            "FL",
            "DE",
            "WI",
            "KY",
            "OH",
            "OK",
            "OR",
            "GA",
            "WV",
            "NH",
            "MD",
            "NE",
            "AZ",
            "IA",
            "MP",
            "SC",
            "NM",
            "AR",
            "SD",
            "MO",
            "RI",
            "ME",
            "WY",
            "TN",
            "IL",
            "MI",
            "TX",
            "VI",
            "AL",
            "NJ",
            "MN",
            "AK",
            "ID",
            "CA",
            "VA",
            "MA",
            "D.C.",
            "NY",
            "NC",
            "LA",
            "VT",
            "Others",
            "GU",
            "CT",
            "MT",
            "PA",
            "NV",
            "WA",
            "MS",
            "HI",
            "CO",
            "IN",
            "UT",
            "PR"
           ],
           "name": "",
           "type": "choropleth",
           "z": [
            485,
            142,
            6956,
            368,
            1556,
            632,
            2547,
            721,
            736,
            4638,
            191,
            367,
            1986,
            210,
            1530,
            547,
            6,
            1293,
            340,
            584,
            129,
            1613,
            566,
            303,
            130,
            2933,
            6980,
            9315,
            4355,
            30,
            1060,
            22255,
            689,
            132,
            566,
            9399,
            1483,
            7738,
            586,
            83948,
            1675,
            6424,
            321,
            152,
            77,
            3557,
            208,
            6009,
            1279,
            5608,
            1073,
            224,
            2982,
            2564,
            888,
            286
           ]
          }
         ],
         "name": "2020-04-01"
        },
        {
         "data": [
          {
           "coloraxis": "coloraxis",
           "geo": "geo",
           "hovertemplate": "animation_frame=2020-04-02<br>locations=%{location}<br>color=%{z}<extra></extra>",
           "locationmode": "USA-states",
           "locations": [
            "NY",
            "OH",
            "NJ",
            "VI",
            "NH",
            "IN",
            "NV",
            "IL",
            "VA",
            "HI",
            "WI",
            "IA",
            "NM",
            "KS",
            "NE",
            "GU",
            "ID",
            "D.C.",
            "SD",
            "AR",
            "WA",
            "LA",
            "WV",
            "SC",
            "VT",
            "MP",
            "Others",
            "AZ",
            "MD",
            "RI",
            "CT",
            "MT",
            "CA",
            "PA",
            "MA",
            "MS",
            "UT",
            "PR",
            "MO",
            "ME",
            "NC",
            "WY",
            "AK",
            "GA",
            "OK",
            "MN",
            "AL",
            "TX",
            "FL",
            "KY",
            "MI",
            "ND",
            "CO",
            "OR",
            "DE",
            "TN"
           ],
           "name": "",
           "type": "choropleth",
           "z": [
            92506,
            2901,
            25590,
            30,
            316,
            3038,
            1463,
            7695,
            1706,
            256,
            1748,
            614,
            388,
            553,
            246,
            82,
            776,
            653,
            165,
            643,
            6389,
            9149,
            216,
            1554,
            338,
            6,
            152,
            1715,
            2331,
            645,
            3824,
            241,
            10773,
            7268,
            8966,
            1177,
            1092,
            316,
            1857,
            376,
            1977,
            150,
            143,
            5348,
            881,
            742,
            1233,
            5069,
            9008,
            770,
            10791,
            159,
            3342,
            826,
            393,
            3013
           ]
          }
         ],
         "name": "2020-04-02"
        },
        {
         "data": [
          {
           "coloraxis": "coloraxis",
           "geo": "geo",
           "hovertemplate": "animation_frame=2020-04-03<br>locations=%{location}<br>color=%{z}<extra></extra>",
           "locationmode": "USA-states",
           "locations": [
            "MS",
            "AK",
            "WY",
            "MO",
            "HI",
            "MA",
            "SD",
            "MN",
            "IL",
            "NJ",
            "VI",
            "SC",
            "AL",
            "MD",
            "NH",
            "AZ",
            "ME",
            "MP",
            "CA",
            "AR",
            "TX",
            "IA",
            "MI",
            "NM",
            "TN",
            "RI",
            "OH",
            "NC",
            "OR",
            "VT",
            "WV",
            "FL",
            "KY",
            "ID",
            "LA",
            "WI",
            "WA",
            "CO",
            "NY",
            "NE",
            "D.C.",
            "DE",
            "VA",
            "ND",
            "Others",
            "GU",
            "PA",
            "CT",
            "GA",
            "KS",
            "PR",
            "NV",
            "MT",
            "IN",
            "UT",
            "OK"
           ],
           "name": "",
           "type": "choropleth",
           "z": [
            1358,
            157,
            162,
            1864,
            319,
            10402,
            187,
            788,
            8904,
            29895,
            37,
            1700,
            1495,
            2758,
            479,
            1937,
            432,
            8,
            12004,
            704,
            5734,
            699,
            12744,
            534,
            3067,
            711,
            3312,
            2251,
            899,
            389,
            237,
            10268,
            770,
            891,
            10297,
            2012,
            6846,
            3742,
            102987,
            279,
            757,
            450,
            2012,
            173,
            152,
            84,
            8570,
            4914,
            5831,
            629,
            316,
            1514,
            243,
            3437,
            1255,
            990
           ]
          }
         ],
         "name": "2020-04-03"
        },
        {
         "data": [
          {
           "coloraxis": "coloraxis",
           "geo": "geo",
           "hovertemplate": "animation_frame=2020-04-04<br>locations=%{location}<br>color=%{z}<extra></extra>",
           "locationmode": "USA-states",
           "locations": [
            "GA",
            "TN",
            "DE",
            "VI",
            "OK",
            "FL",
            "TX",
            "WI",
            "AL",
            "NJ",
            "AK",
            "WY",
            "OH",
            "OR",
            "CA",
            "PR",
            "UT",
            "PA",
            "HI",
            "NV",
            "RI",
            "CT",
            "AZ",
            "Others",
            "GU",
            "WV",
            "IA",
            "NM",
            "SC",
            "AR",
            "NY",
            "SD",
            "D.C.",
            "VA",
            "CO",
            "ME",
            "NE",
            "NC",
            "IN",
            "MO",
            "ID",
            "VT",
            "KS",
            "MD",
            "MP",
            "WA",
            "MI",
            "IL",
            "KY",
            "ND",
            "NH",
            "LA",
            "MA",
            "MS",
            "MN",
            "MT"
           ],
           "name": "",
           "type": "choropleth",
           "z": [
            6160,
            3322,
            593,
            40,
            1161,
            11537,
            6567,
            2030,
            1614,
            34124,
            171,
            187,
            3739,
            899,
            12837,
            452,
            1435,
            10444,
            351,
            1742,
            806,
            5276,
            2187,
            152,
            93,
            282,
            787,
            534,
            1917,
            743,
            113833,
            212,
            902,
            2407,
            4188,
            456,
            321,
            2486,
            3953,
            2310,
            1022,
            461,
            698,
            3125,
            8,
            7247,
            14225,
            10357,
            917,
            186,
            540,
            12496,
            11736,
            1455,
            865,
            265
           ]
          }
         ],
         "name": "2020-04-04"
        },
        {
         "data": [
          {
           "coloraxis": "coloraxis",
           "geo": "geo",
           "hovertemplate": "animation_frame=2020-04-05<br>locations=%{location}<br>color=%{z}<extra></extra>",
           "locationmode": "USA-states",
           "locations": [
            "CA",
            "MS",
            "NE",
            "GU",
            "NM",
            "SD",
            "MA",
            "VT",
            "Others",
            "SC",
            "NY",
            "AR",
            "AZ",
            "MD",
            "RI",
            "CO",
            "CT",
            "WV",
            "NH",
            "HI",
            "PR",
            "UT",
            "IL",
            "MP",
            "PA",
            "MT",
            "IA",
            "NV",
            "ID",
            "KY",
            "OR",
            "DE",
            "TX",
            "LA",
            "VI",
            "AL",
            "KS",
            "TN",
            "MN",
            "FL",
            "OH",
            "NJ",
            "AK",
            "OK",
            "ND",
            "GA",
            "MI",
            "WI",
            "IN",
            "WY",
            "WA",
            "NC",
            "MO",
            "VA",
            "D.C.",
            "ME"
           ],
           "name": "",
           "type": "choropleth",
           "z": [
            15034,
            1638,
            364,
            112,
            670,
            240,
            12500,
            512,
            152,
            2049,
            123160,
            837,
            2486,
            3617,
            922,
            4950,
            5675,
            324,
            621,
            371,
            475,
            1608,
            11259,
            8,
            11589,
            286,
            869,
            1855,
            1078,
            955,
            1068,
            673,
            7209,
            13010,
            42,
            1765,
            751,
            3633,
            935,
            12350,
            4043,
            37505,
            185,
            1254,
            207,
            6647,
            15718,
            2320,
            4411,
            197,
            7825,
            2649,
            2347,
            2640,
            1002,
            470
           ]
          }
         ],
         "name": "2020-04-05"
        },
        {
         "data": [
          {
           "coloraxis": "coloraxis",
           "geo": "geo",
           "hovertemplate": "animation_frame=2020-04-06<br>locations=%{location}<br>color=%{z}<extra></extra>",
           "locationmode": "USA-states",
           "locations": [
            "NC",
            "PR",
            "OH",
            "GA",
            "GU",
            "FL",
            "OK",
            "CA",
            "WA",
            "ND",
            "NV",
            "CO",
            "UT",
            "CT",
            "PA",
            "KS",
            "LA",
            "VA",
            "MT",
            "WV",
            "VT",
            "Others",
            "KY",
            "DE",
            "D.C.",
            "OR",
            "WI",
            "NE",
            "NY",
            "MS",
            "MA",
            "NH",
            "MD",
            "SC",
            "AR",
            "NM",
            "MO",
            "IN",
            "IA",
            "TX",
            "ME",
            "WY",
            "VI",
            "TN",
            "AL",
            "MN",
            "MI",
            "NJ",
            "AK",
            "ID",
            "MP",
            "AZ",
            "SD",
            "HI",
            "IL",
            "RI"
           ],
           "name": "",
           "type": "choropleth",
           "z": [
            2962,
            513,
            4453,
            7314,
            113,
            13324,
            1329,
            16019,
            8311,
            225,
            1953,
            5183,
            1685,
            6906,
            13127,
            849,
            14867,
            2878,
            299,
            345,
            543,
            152,
            955,
            783,
            1097,
            1068,
            2449,
            417,
            131815,
            1738,
            13837,
            715,
            4045,
            2232,
            875,
            757,
            2736,
            4956,
            946,
            8043,
            499,
            210,
            43,
            3802,
            1952,
            986,
            17221,
            41090,
            190,
            1101,
            8,
            2732,
            288,
            387,
            12262,
            1082
           ]
          }
         ],
         "name": "2020-04-06"
        },
        {
         "data": [
          {
           "coloraxis": "coloraxis",
           "geo": "geo",
           "hovertemplate": "animation_frame=2020-04-07<br>locations=%{location}<br>color=%{z}<extra></extra>",
           "locationmode": "USA-states",
           "locations": [
            "AL",
            "OR",
            "D.C.",
            "WY",
            "IL",
            "VA",
            "ME",
            "NC",
            "PR",
            "TX",
            "WA",
            "IA",
            "SD",
            "VI",
            "WI",
            "AZ",
            "TN",
            "CA",
            "ND",
            "ID",
            "MI",
            "MA",
            "OK",
            "OH",
            "NJ",
            "FL",
            "AK",
            "KS",
            "NV",
            "MN",
            "KY",
            "DE",
            "NY",
            "MS",
            "GA",
            "MO",
            "CT",
            "HI",
            "NH",
            "Others",
            "RI",
            "UT",
            "SC",
            "MD",
            "WV",
            "AR",
            "VT",
            "MP",
            "PA",
            "CO",
            "IN",
            "NE",
            "MT",
            "NM",
            "GU",
            "LA"
           ],
           "name": "",
           "type": "choropleth",
           "z": [
            2169,
            1132,
            1211,
            216,
            12271,
            3335,
            519,
            3299,
            573,
            8925,
            8692,
            1046,
            320,
            43,
            2578,
            2870,
            4139,
            17351,
            237,
            1170,
            18970,
            15202,
            1474,
            4782,
            44416,
            14545,
            213,
            912,
            2124,
            1069,
            1149,
            928,
            139875,
            1915,
            8822,
            3130,
            7781,
            410,
            715,
            152,
            1229,
            1746,
            2417,
            4371,
            412,
            946,
            575,
            8,
            14853,
            5429,
            5510,
            447,
            319,
            876,
            121,
            16284
           ]
          }
         ],
         "name": "2020-04-07"
        },
        {
         "data": [
          {
           "coloraxis": "coloraxis",
           "geo": "geo",
           "hovertemplate": "animation_frame=2020-04-08<br>locations=%{location}<br>color=%{z}<extra></extra>",
           "locationmode": "USA-states",
           "locations": [
            "OK",
            "MP",
            "PA",
            "MA",
            "AK",
            "MI",
            "RI",
            "ND",
            "CA",
            "WV",
            "MN",
            "FL",
            "MT",
            "UT",
            "DE",
            "SD",
            "MO",
            "TX",
            "WA",
            "AZ",
            "CO",
            "NC",
            "AR",
            "ME",
            "TN",
            "SC",
            "D.C.",
            "OR",
            "WY",
            "AL",
            "Others",
            "MS",
            "KY",
            "CT",
            "MD",
            "VT",
            "PR",
            "LA",
            "VA",
            "NY",
            "OH",
            "GU",
            "NV",
            "IN",
            "WI",
            "VI",
            "IL",
            "HI",
            "KS",
            "GA",
            "IA",
            "NM",
            "NH",
            "NE",
            "NJ",
            "ID"
           ],
           "name": "",
           "type": "choropleth",
           "z": [
            1526,
            11,
            16631,
            16790,
            226,
            20346,
            1450,
            251,
            18897,
            483,
            1154,
            15456,
            332,
            1855,
            1116,
            393,
            3209,
            9777,
            9276,
            3036,
            5655,
            3499,
            1000,
            537,
            4363,
            2417,
            1440,
            1181,
            221,
            2328,
            152,
            2003,
            1149,
            7781,
            5529,
            605,
            620,
            17030,
            3645,
            151061,
            5148,
            121,
            2259,
            5943,
            2710,
            45,
            15078,
            410,
            1046,
            9901,
            1145,
            902,
            747,
            519,
            47437,
            1210
           ]
          }
         ],
         "name": "2020-04-08"
        },
        {
         "data": [
          {
           "coloraxis": "coloraxis",
           "geo": "geo",
           "hovertemplate": "animation_frame=2020-04-09<br>locations=%{location}<br>color=%{z}<extra></extra>",
           "locationmode": "USA-states",
           "locations": [
            "VA",
            "DE",
            "GU",
            "NE",
            "IN",
            "CT",
            "MA",
            "WA",
            "VI",
            "UT",
            "MP",
            "TX",
            "MN",
            "AZ",
            "KS",
            "LA",
            "NV",
            "IA",
            "SD",
            "WY",
            "MS",
            "ME",
            "GA",
            "Others",
            "KY",
            "FL",
            "MT",
            "OK",
            "SC",
            "CO",
            "PR",
            "NC",
            "MI",
            "ID",
            "VT",
            "NJ",
            "AK",
            "OR",
            "RI",
            "WI",
            "D.C.",
            "AL",
            "AR",
            "HI",
            "OH",
            "NH",
            "WV",
            "TN",
            "MO",
            "NM",
            "ND",
            "NY",
            "MD",
            "PA",
            "IL",
            "CA"
           ],
           "name": "",
           "type": "choropleth",
           "z": [
            4042,
            1209,
            128,
            568,
            6351,
            9784,
            18941,
            9639,
            45,
            1856,
            11,
            11208,
            1240,
            3018,
            1116,
            18283,
            2456,
            1270,
            447,
            230,
            2260,
            560,
            10566,
            152,
            1341,
            16364,
            354,
            1686,
            2793,
            5655,
            683,
            3736,
            21504,
            1232,
            628,
            51027,
            235,
            1321,
            1727,
            2886,
            1523,
            2703,
            1119,
            442,
            5512,
            819,
            514,
            4634,
            3432,
            865,
            269,
            161779,
            6185,
            18300,
            15079,
            19710
           ]
          }
         ],
         "name": "2020-04-09"
        },
        {
         "data": [
          {
           "coloraxis": "coloraxis",
           "geo": "geo",
           "hovertemplate": "animation_frame=2020-04-10<br>locations=%{location}<br>color=%{z}<extra></extra>",
           "locationmode": "USA-states",
           "locations": [
            "VA",
            "D.C.",
            "NY",
            "NC",
            "WA",
            "AL",
            "VI",
            "IN",
            "IA",
            "CO",
            "PR",
            "VT",
            "AR",
            "NM",
            "PA",
            "MD",
            "LA",
            "MO",
            "MP",
            "WV",
            "MT",
            "GU",
            "CT",
            "UT",
            "SD",
            "MS",
            "NV",
            "Others",
            "NE",
            "NH",
            "ME",
            "TX",
            "SC",
            "IL",
            "MN",
            "KS",
            "FL",
            "MA",
            "NJ",
            "DE",
            "OK",
            "OH",
            "WY",
            "ND",
            "AZ",
            "HI",
            "WI",
            "AK",
            "KY",
            "GA",
            "CA",
            "OR",
            "MI",
            "ID",
            "RI",
            "TN"
           ],
           "name": "",
           "type": "choropleth",
           "z": [
            4509,
            1660,
            172348,
            3965,
            10119,
            2947,
            50,
            6907,
            1388,
            6202,
            725,
            679,
            1171,
            1081,
            20051,
            6968,
            19253,
            3897,
            11,
            574,
            365,
            130,
            10538,
            2103,
            536,
            2469,
            2722,
            152,
            635,
            819,
            586,
            12105,
            3067,
            17887,
            1336,
            1117,
            17531,
            20974,
            54588,
            1326,
            1794,
            5878,
            239,
            278,
            3112,
            442,
            3068,
            246,
            1693,
            11485,
            21081,
            1322,
            22434,
            1354,
            1727,
            4891
           ]
          }
         ],
         "name": "2020-04-10"
        },
        {
         "data": [
          {
           "coloraxis": "coloraxis",
           "geo": "geo",
           "hovertemplate": "animation_frame=2020-04-11<br>locations=%{location}<br>color=%{z}<extra></extra>",
           "locationmode": "USA-states",
           "locations": [
            "MA",
            "NJ",
            "CO",
            "FL",
            "ME",
            "NM",
            "SD",
            "MS",
            "VT",
            "RI",
            "IL",
            "NV",
            "Others",
            "UT",
            "OK",
            "AR",
            "GU",
            "WI",
            "AK",
            "NH",
            "PA",
            "PR",
            "VA",
            "WY",
            "LA",
            "MO",
            "ND",
            "WA",
            "ID",
            "WV",
            "OH",
            "MI",
            "MD",
            "MT",
            "KS",
            "IN",
            "KY",
            "MP",
            "NY",
            "AZ",
            "SC",
            "TN",
            "DE",
            "D.C.",
            "IA",
            "AL",
            "CA",
            "CT",
            "HI",
            "VI",
            "NC",
            "MN",
            "NE",
            "GA",
            "OR",
            "TX"
           ],
           "name": "",
           "type": "choropleth",
           "z": [
            22860,
            58151,
            6513,
            18494,
            616,
            1091,
            626,
            2642,
            711,
            2349,
            19180,
            2702,
            152,
            2207,
            1868,
            1228,
            133,
            3213,
            257,
            885,
            21719,
            788,
            5077,
            261,
            20014,
            4108,
            293,
            10434,
            1396,
            577,
            6250,
            23605,
            7694,
            377,
            1275,
            7435,
            1693,
            11,
            181026,
            3393,
            3211,
            5132,
            1479,
            1778,
            1510,
            3217,
            21706,
            11510,
            465,
            51,
            4354,
            1427,
            699,
            12159,
            1371,
            13023
           ]
          }
         ],
         "name": "2020-04-11"
        },
        {
         "data": [
          {
           "coloraxis": "coloraxis",
           "geo": "geo",
           "hovertemplate": "animation_frame=2020-04-12<br>locations=%{location}<br>color=%{z}<extra></extra>",
           "locationmode": "USA-states",
           "locations": [
            "WY",
            "CA",
            "MO",
            "VA",
            "TN",
            "PA",
            "VT",
            "NC",
            "PR",
            "AK",
            "CO",
            "HI",
            "SC",
            "NM",
            "AR",
            "D.C.",
            "KY",
            "OR",
            "WV",
            "AL",
            "MI",
            "MD",
            "IN",
            "WI",
            "ND",
            "VI",
            "DE",
            "NJ",
            "IL",
            "FL",
            "CT",
            "MN",
            "UT",
            "MS",
            "NE",
            "SD",
            "ID",
            "GA",
            "RI",
            "WA",
            "Others",
            "IA",
            "LA",
            "OK",
            "ME",
            "MT",
            "TX",
            "MP",
            "NY",
            "KS",
            "AZ",
            "GU",
            "MA",
            "NV",
            "OH",
            "NH"
           ],
           "name": "",
           "type": "choropleth",
           "z": [
            270,
            22795,
            4269,
            5274,
            5508,
            22938,
            727,
            4570,
            897,
            272,
            7307,
            499,
            3320,
            1245,
            1280,
            1875,
            1963,
            1527,
            593,
            3563,
            24244,
            8225,
            7928,
            3341,
            308,
            51,
            1625,
            61850,
            20852,
            19895,
            12035,
            1621,
            2303,
            2781,
            791,
            730,
            1407,
            12452,
            2665,
            10609,
            152,
            1587,
            20595,
            1970,
            633,
            387,
            13677,
            11,
            189033,
            1344,
            3542,
            133,
            25475,
            2836,
            6604,
            929
           ]
          }
         ],
         "name": "2020-04-12"
        },
        {
         "data": [
          {
           "coloraxis": "coloraxis",
           "geo": "geo",
           "hovertemplate": "animation_frame=2020-04-13<br>locations=%{location}<br>color=%{z}<extra></extra>",
           "locationmode": "USA-states",
           "locations": [
            "MP",
            "MA",
            "MS",
            "NM",
            "NV",
            "AZ",
            "HI",
            "CA",
            "IL",
            "KS",
            "PR",
            "RI",
            "SC",
            "NY",
            "VI",
            "VT",
            "D.C.",
            "AL",
            "OR",
            "ME",
            "NC",
            "TN",
            "KY",
            "ID",
            "IA",
            "MN",
            "DE",
            "WA",
            "FL",
            "NJ",
            "OK",
            "OH",
            "WY",
            "AK",
            "WI",
            "ND",
            "MI",
            "GA",
            "CT",
            "IN",
            "Others",
            "CO",
            "MD",
            "WV",
            "AR",
            "MO",
            "PA",
            "VA",
            "NE",
            "NH",
            "GU",
            "MT",
            "LA",
            "TX",
            "UT",
            "SD"
           ],
           "name": "",
           "type": "choropleth",
           "z": [
            11,
            26867,
            2942,
            1262,
            2990,
            3705,
            504,
            23931,
            22025,
            1390,
            903,
            2665,
            3391,
            195749,
            51,
            748,
            1955,
            3734,
            1584,
            698,
            4886,
            5610,
            2018,
            1426,
            1710,
            1621,
            1758,
            10635,
            21019,
            64584,
            2069,
            6975,
            275,
            277,
            3428,
            331,
            25635,
            13315,
            13381,
            8359,
            152,
            7691,
            8936,
            611,
            1410,
            4515,
            24292,
            5747,
            814,
            985,
            133,
            394,
            21016,
            14275,
            2363,
            868
           ]
          }
         ],
         "name": "2020-04-13"
        },
        {
         "data": [
          {
           "coloraxis": "coloraxis",
           "geo": "geo",
           "hovertemplate": "animation_frame=2020-04-14<br>locations=%{location}<br>color=%{z}<extra></extra>",
           "locationmode": "USA-states",
           "locations": [
            "ME",
            "MI",
            "SC",
            "NM",
            "IA",
            "AK",
            "WY",
            "RI",
            "AZ",
            "MD",
            "AR",
            "TX",
            "MP",
            "MO",
            "NJ",
            "SD",
            "AL",
            "MN",
            "VI",
            "ID",
            "HI",
            "TN",
            "NH",
            "KS",
            "PR",
            "Others",
            "WV",
            "MS",
            "KY",
            "NC",
            "OR",
            "D.C.",
            "NV",
            "IN",
            "GA",
            "NY",
            "CT",
            "NE",
            "CO",
            "UT",
            "MT",
            "GU",
            "VA",
            "PA",
            "VT",
            "DE",
            "LA",
            "MA",
            "WA",
            "IL",
            "WI",
            "OK",
            "CA",
            "OH",
            "ND",
            "FL"
           ],
           "name": "",
           "type": "choropleth",
           "z": [
            735,
            27001,
            3553,
            1345,
            1899,
            285,
            282,
            3251,
            3809,
            9472,
            1498,
            15006,
            11,
            4746,
            68824,
            988,
            3953,
            1695,
            51,
            1464,
            511,
            5827,
            922,
            1441,
            923,
            152,
            640,
            3087,
            2048,
            5113,
            1633,
            2058,
            3134,
            8527,
            14578,
            203020,
            13989,
            897,
            7950,
            2417,
            399,
            133,
            6182,
            25465,
            752,
            1926,
            21518,
            28164,
            10799,
            23248,
            3555,
            2184,
            25356,
            7285,
            341,
            21628
           ]
          }
         ],
         "name": "2020-04-14"
        },
        {
         "data": [
          {
           "coloraxis": "coloraxis",
           "geo": "geo",
           "hovertemplate": "animation_frame=2020-04-15<br>locations=%{location}<br>color=%{z}<extra></extra>",
           "locationmode": "USA-states",
           "locations": [
            "NE",
            "MA",
            "Others",
            "SD",
            "UT",
            "ND",
            "NJ",
            "WI",
            "WA",
            "OH",
            "GU",
            "KS",
            "MI",
            "PA",
            "MO",
            "MT",
            "NH",
            "IA",
            "DE",
            "GA",
            "MN",
            "TN",
            "OK",
            "KY",
            "NC",
            "VA",
            "CT",
            "ME",
            "OR",
            "D.C.",
            "FL",
            "WY",
            "AK",
            "AL",
            "NY",
            "IN",
            "ID",
            "RI",
            "VT",
            "VI",
            "SC",
            "MD",
            "TX",
            "LA",
            "AR",
            "IL",
            "MS",
            "CA",
            "HI",
            "NM",
            "WV",
            "CO",
            "MP",
            "PR",
            "NV",
            "AZ"
           ],
           "name": "",
           "type": "choropleth",
           "z": [
            901,
            29918,
            152,
            1168,
            2548,
            365,
            71030,
            3721,
            10942,
            7794,
            135,
            1504,
            28059,
            26753,
            4791,
            404,
            1139,
            1995,
            2014,
            14987,
            1809,
            5827,
            2263,
            2210,
            5340,
            6500,
            14755,
            770,
            1663,
            2197,
            22511,
            287,
            293,
            4075,
            214454,
            8960,
            1473,
            3251,
            759,
            51,
            3656,
            10032,
            15907,
            21951,
            1569,
            24593,
            3360,
            26686,
            524,
            1484,
            702,
            7956,
            13,
            974,
            3211,
            3964
           ]
          }
         ],
         "name": "2020-04-15"
        },
        {
         "data": [
          {
           "coloraxis": "coloraxis",
           "geo": "geo",
           "hovertemplate": "animation_frame=2020-04-16<br>locations=%{location}<br>color=%{z}<extra></extra>",
           "locationmode": "USA-states",
           "locations": [
            "HI",
            "LA",
            "ME",
            "MS",
            "ID",
            "TN",
            "NM",
            "OR",
            "D.C.",
            "PR",
            "NC",
            "GA",
            "DE",
            "WV",
            "RI",
            "KS",
            "OH",
            "MA",
            "WA",
            "ND",
            "AZ",
            "WI",
            "MN",
            "AK",
            "IL",
            "FL",
            "VI",
            "CA",
            "OK",
            "MP",
            "NJ",
            "NV",
            "WY",
            "AL",
            "IN",
            "CO",
            "VA",
            "PA",
            "MD",
            "MO",
            "AR",
            "GU",
            "TX",
            "NH",
            "MT",
            "NY",
            "UT",
            "Others",
            "SD",
            "SC",
            "NE",
            "MI",
            "KY",
            "CT",
            "VT",
            "IA"
           ],
           "name": "",
           "type": "choropleth",
           "z": [
            530,
            22532,
            796,
            3624,
            1587,
            6375,
            1484,
            1736,
            2350,
            1043,
            5639,
            15669,
            2070,
            728,
            3529,
            1615,
            8414,
            32181,
            11057,
            393,
            4237,
            3875,
            1809,
            300,
            25734,
            23343,
            51,
            27677,
            2357,
            13,
            75317,
            3214,
            296,
            4345,
            9542,
            8286,
            6889,
            28258,
            10784,
            5174,
            1620,
            135,
            16876,
            1139,
            415,
            223691,
            2683,
            152,
            1311,
            3931,
            952,
            28809,
            2435,
            15884,
            774,
            2141
           ]
          }
         ],
         "name": "2020-04-16"
        },
        {
         "data": [
          {
           "coloraxis": "coloraxis",
           "geo": "geo",
           "hovertemplate": "animation_frame=2020-04-17<br>locations=%{location}<br>color=%{z}<extra></extra>",
           "locationmode": "USA-states",
           "locations": [
            "PR",
            "WI",
            "CO",
            "KY",
            "AK",
            "GU",
            "FL",
            "UT",
            "IL",
            "TX",
            "NV",
            "WY",
            "IA",
            "MD",
            "AZ",
            "ND",
            "MA",
            "MS",
            "WA",
            "PA",
            "LA",
            "OH",
            "KS",
            "AL",
            "RI",
            "VA",
            "MO",
            "OK",
            "AR",
            "NH",
            "VI",
            "ME",
            "IN",
            "ID",
            "MT",
            "NM",
            "HI",
            "NE",
            "NC",
            "MI",
            "SD",
            "CT",
            "TN",
            "MP",
            "SC",
            "GA",
            "Others",
            "VT",
            "DE",
            "NJ",
            "MN",
            "D.C.",
            "OR",
            "NY",
            "CA",
            "WV"
           ],
           "name": "",
           "type": "choropleth",
           "z": [
            1068,
            4053,
            8691,
            2522,
            309,
            136,
            24759,
            2793,
            27578,
            17849,
            3524,
            305,
            2332,
            11572,
            4511,
            393,
            34402,
            3793,
            11517,
            29888,
            23118,
            9107,
            1730,
            4571,
            4177,
            7491,
            5371,
            2465,
            1695,
            1287,
            51,
            827,
            10154,
            1609,
            422,
            1597,
            541,
            1066,
            6045,
            30023,
            1411,
            16809,
            6263,
            13,
            4099,
            17194,
            152,
            779,
            2317,
            78467,
            2070,
            2476,
            1785,
            230597,
            29157,
            775
           ]
          }
         ],
         "name": "2020-04-17"
        },
        {
         "data": [
          {
           "coloraxis": "coloraxis",
           "geo": "geo",
           "hovertemplate": "animation_frame=2020-04-18<br>locations=%{location}<br>color=%{z}<extra></extra>",
           "locationmode": "USA-states",
           "locations": [
            "WY",
            "VT",
            "WV",
            "VA",
            "UT",
            "WI",
            "TX",
            "VI",
            "WA",
            "MS",
            "NM",
            "SC",
            "NV",
            "DE",
            "GA",
            "RI",
            "NY",
            "MN",
            "AR",
            "KS",
            "PR",
            "OH",
            "IN",
            "IA",
            "OK",
            "PA",
            "AK",
            "CT",
            "MP",
            "D.C.",
            "ID",
            "NE",
            "OR",
            "Others",
            "LA",
            "GU",
            "MT",
            "MI",
            "CA",
            "MO",
            "NJ",
            "ND",
            "TN",
            "NH",
            "IL",
            "MD",
            "AZ",
            "NC",
            "SD",
            "HI",
            "MA",
            "ME",
            "AL",
            "CO",
            "FL",
            "KY"
           ],
           "name": "",
           "type": "choropleth",
           "z": [
            309,
            803,
            785,
            8053,
            2917,
            4199,
            18704,
            53,
            11776,
            3974,
            1798,
            4248,
            3626,
            2538,
            17669,
            4491,
            241712,
            2209,
            1744,
            1821,
            1118,
            10222,
            10641,
            2513,
            2465,
            31652,
            314,
            17550,
            14,
            2666,
            1655,
            1249,
            1844,
            152,
            23580,
            136,
            426,
            30791,
            30491,
            5579,
            81420,
            528,
            6589,
            1342,
            29160,
            12326,
            4724,
            6328,
            1542,
            574,
            36372,
            847,
            4712,
            9047,
            25492,
            2707
           ]
          }
         ],
         "name": "2020-04-18"
        },
        {
         "data": [
          {
           "coloraxis": "coloraxis",
           "geo": "geo",
           "hovertemplate": "animation_frame=2020-04-19<br>locations=%{location}<br>color=%{z}<extra></extra>",
           "locationmode": "USA-states",
           "locations": [
            "FL",
            "OK",
            "ND",
            "MP",
            "WI",
            "OR",
            "NE",
            "LA",
            "VI",
            "D.C.",
            "WA",
            "IA",
            "MT",
            "DE",
            "MO",
            "KS",
            "VA",
            "NV",
            "MS",
            "NH",
            "NJ",
            "VT",
            "NY",
            "AZ",
            "AL",
            "NM",
            "OH",
            "KY",
            "GA",
            "NC",
            "AR",
            "GU",
            "WY",
            "PR",
            "ID",
            "RI",
            "CO",
            "MI",
            "SC",
            "MN",
            "ME",
            "HI",
            "IL",
            "SD",
            "MA",
            "MD",
            "WV",
            "TN",
            "TX",
            "IN",
            "CA",
            "CT",
            "Others",
            "AK",
            "PA",
            "UT"
           ],
           "name": "",
           "type": "choropleth",
           "z": [
            26314,
            2567,
            585,
            14,
            4346,
            1910,
            1474,
            23928,
            53,
            2793,
            12255,
            2902,
            433,
            2538,
            5743,
            1905,
            8542,
            3728,
            4274,
            1390,
            85301,
            813,
            247815,
            4933,
            4888,
            1845,
            11602,
            2960,
            18301,
            6601,
            1781,
            136,
            313,
            1213,
            1668,
            4706,
            9730,
            31424,
            4377,
            2356,
            867,
            580,
            30357,
            1635,
            38077,
            12847,
            890,
            7070,
            19260,
            11211,
            31431,
            17962,
            152,
            319,
            32902,
            3069
           ]
          }
         ],
         "name": "2020-04-19"
        },
        {
         "data": [
          {
           "coloraxis": "coloraxis",
           "geo": "geo",
           "hovertemplate": "animation_frame=2020-04-20<br>locations=%{location}<br>color=%{z}<extra></extra>",
           "locationmode": "USA-states",
           "locations": [
            "MT",
            "WA",
            "MO",
            "CA",
            "NM",
            "ME",
            "WV",
            "SC",
            "Others",
            "TX",
            "ND",
            "KS",
            "ID",
            "GU",
            "VI",
            "NJ",
            "OR",
            "IL",
            "CT",
            "NC",
            "AK",
            "SD",
            "NH",
            "UT",
            "AL",
            "KY",
            "DE",
            "LA",
            "CO",
            "D.C.",
            "AZ",
            "MN",
            "PA",
            "OH",
            "OK",
            "MP",
            "PR",
            "MA",
            "NE",
            "IA",
            "FL",
            "HI",
            "NY",
            "GA",
            "WY",
            "IN",
            "MS",
            "NV",
            "RI",
            "TN",
            "VA",
            "WI",
            "MI",
            "AR",
            "VT",
            "MD"
           ],
           "name": "",
           "type": "choropleth",
           "z": [
            433,
            12114,
            5890,
            33686,
            1971,
            875,
            902,
            4446,
            152,
            19751,
            627,
            2048,
            1672,
            136,
            53,
            88722,
            1957,
            31513,
            19815,
            6895,
            321,
            1685,
            1447,
            3213,
            5079,
            3050,
            2745,
            24523,
            9730,
            2927,
            5068,
            2470,
            33914,
            12919,
            2680,
            14,
            1252,
            38077,
            1648,
            3159,
            27059,
            584,
            253060,
            19407,
            317,
            11688,
            4512,
            3830,
            5090,
            7238,
            8990,
            4499,
            32000,
            1973,
            816,
            13684
           ]
          }
         ],
         "name": "2020-04-20"
        },
        {
         "data": [
          {
           "coloraxis": "coloraxis",
           "geo": "geo",
           "hovertemplate": "animation_frame=2020-04-21<br>locations=%{location}<br>color=%{z}<extra></extra>",
           "locationmode": "USA-states",
           "locations": [
            "ND",
            "HI",
            "MO",
            "MN",
            "NC",
            "FL",
            "KY",
            "MP",
            "ME",
            "MS",
            "MI",
            "LA",
            "GU",
            "VT",
            "AR",
            "GA",
            "MD",
            "MT",
            "AL",
            "NE",
            "CA",
            "NY",
            "D.C.",
            "OH",
            "OK",
            "AK",
            "OR",
            "CT",
            "IN",
            "UT",
            "Others",
            "NV",
            "PA",
            "PR",
            "CO",
            "RI",
            "WY",
            "SC",
            "TX",
            "IL",
            "SD",
            "TN",
            "ID",
            "WV",
            "AZ",
            "VA",
            "MA",
            "KS",
            "NM",
            "NH",
            "DE",
            "WI",
            "NJ",
            "WA",
            "IA",
            "VI"
           ],
           "name": "",
           "type": "choropleth",
           "z": [
            644,
            586,
            6066,
            2567,
            7134,
            27869,
            3204,
            14,
            888,
            4716,
            32667,
            24854,
            136,
            818,
            1990,
            19881,
            14193,
            437,
            5317,
            1685,
            35465,
            258361,
            3098,
            13725,
            2807,
            329,
            2004,
            20360,
            12097,
            3297,
            152,
            3937,
            35249,
            1298,
            10473,
            5500,
            443,
            4439,
            20574,
            33059,
            1755,
            7394,
            1736,
            908,
            5256,
            9630,
            41199,
            2164,
            1971,
            1490,
            2931,
            4625,
            92387,
            12392,
            3641,
            53
           ]
          }
         ],
         "name": "2020-04-21"
        },
        {
         "data": [
          {
           "coloraxis": "coloraxis",
           "geo": "geo",
           "hovertemplate": "animation_frame=2020-04-22<br>locations=%{location}<br>color=%{z}<extra></extra>",
           "locationmode": "USA-states",
           "locations": [
            "VA",
            "TN",
            "PA",
            "WI",
            "NC",
            "PR",
            "CO",
            "GU",
            "MI",
            "NH",
            "MN",
            "IA",
            "Others",
            "LA",
            "ID",
            "CA",
            "ME",
            "SC",
            "WY",
            "AZ",
            "IL",
            "TX",
            "VI",
            "RI",
            "AR",
            "UT",
            "MD",
            "MS",
            "KY",
            "NV",
            "WA",
            "NE",
            "HI",
            "DE",
            "VT",
            "NY",
            "D.C.",
            "GA",
            "NM",
            "WV",
            "OH",
            "MP",
            "AK",
            "MT",
            "OK",
            "AL",
            "MA",
            "NJ",
            "OR",
            "ND",
            "MO",
            "IN",
            "CT",
            "FL",
            "KS",
            "SD"
           ],
           "name": "",
           "type": "choropleth",
           "z": [
            10266,
            7394,
            36082,
            4845,
            7495,
            1252,
            10891,
            136,
            33966,
            1588,
            2722,
            3748,
            152,
            25258,
            1766,
            37344,
            907,
            4761,
            447,
            5473,
            35107,
            21321,
            54,
            5841,
            2276,
            3445,
            14775,
            4894,
            3378,
            4081,
            12596,
            1813,
            592,
            3200,
            823,
            263292,
            3206,
            21214,
            2210,
            939,
            14117,
            14,
            335,
            439,
            2894,
            5593,
            42944,
            95914,
            2059,
            679,
            6277,
            12438,
            22469,
            28309,
            2331,
            1858
           ]
          }
         ],
         "name": "2020-04-22"
        },
        {
         "data": [
          {
           "coloraxis": "coloraxis",
           "geo": "geo",
           "hovertemplate": "animation_frame=2020-04-23<br>locations=%{location}<br>color=%{z}<extra></extra>",
           "locationmode": "USA-states",
           "locations": [
            "KY",
            "HI",
            "LA",
            "KS",
            "IN",
            "IA",
            "WA",
            "IL",
            "AZ",
            "WV",
            "MD",
            "MA",
            "VA",
            "NV",
            "D.C.",
            "NY",
            "AK",
            "OH",
            "OK",
            "OR",
            "CT",
            "NM",
            "UT",
            "PA",
            "CO",
            "PR",
            "RI",
            "TX",
            "SC",
            "CA",
            "WY",
            "SD",
            "TN",
            "Others",
            "NJ",
            "DE",
            "WI",
            "AR",
            "ME",
            "GU",
            "MI",
            "MN",
            "MO",
            "MP",
            "VT",
            "MS",
            "MT",
            "GA",
            "VI",
            "NH",
            "NE",
            "FL",
            "ND",
            "ID",
            "NC",
            "AL"
           ],
           "name": "",
           "type": "choropleth",
           "z": [
            3479,
            596,
            25739,
            2721,
            13039,
            3924,
            12753,
            36937,
            5772,
            981,
            15737,
            46023,
            10998,
            4208,
            3361,
            263460,
            337,
            14694,
            3017,
            2127,
            23100,
            2379,
            3612,
            38379,
            11278,
            1416,
            6256,
            22650,
            4917,
            39561,
            453,
            1956,
            8266,
            152,
            100025,
            3308,
            5052,
            2599,
            937,
            139,
            35296,
            2942,
            6506,
            14,
            825,
            5153,
            442,
            21883,
            54,
            1670,
            2202,
            29648,
            709,
            1836,
            7820,
            5832
           ]
          }
         ],
         "name": "2020-04-23"
        },
        {
         "data": [
          {
           "coloraxis": "coloraxis",
           "geo": "geo",
           "hovertemplate": "animation_frame=2020-04-24<br>locations=%{location}<br>color=%{z}<extra></extra>",
           "locationmode": "USA-states",
           "locations": [
            "GA",
            "CO",
            "D.C.",
            "WI",
            "IA",
            "WV",
            "GU",
            "CA",
            "AZ",
            "HI",
            "CT",
            "DE",
            "FL",
            "MP",
            "VI",
            "MN",
            "NM",
            "Others",
            "UT",
            "VT",
            "OR",
            "MS",
            "OK",
            "MT",
            "OH",
            "AL",
            "NC",
            "ND",
            "NY",
            "AK",
            "ID",
            "NE",
            "NH",
            "NV",
            "NJ",
            "VA",
            "MI",
            "PA",
            "MO",
            "LA",
            "ME",
            "KS",
            "TX",
            "WA",
            "SD",
            "MA",
            "SC",
            "RI",
            "WY",
            "AR",
            "IN",
            "MD",
            "TN",
            "IL",
            "PR",
            "KY"
           ],
           "name": "",
           "type": "choropleth",
           "z": [
            22491,
            12256,
            3528,
            5356,
            4445,
            1010,
            141,
            41355,
            6045,
            601,
            23936,
            3442,
            30533,
            14,
            54,
            3185,
            2521,
            152,
            3782,
            827,
            2177,
            5434,
            3121,
            444,
            15169,
            6026,
            8290,
            748,
            271590,
            339,
            1870,
            2424,
            1720,
            4398,
            102196,
            11594,
            36641,
            40208,
            6788,
            26140,
            965,
            2959,
            23642,
            12977,
            2040,
            50969,
            5070,
            6699,
            473,
            2810,
            13681,
            16616,
            8728,
            39658,
            1276,
            3779
           ]
          }
         ],
         "name": "2020-04-24"
        },
        {
         "data": [
          {
           "coloraxis": "coloraxis",
           "geo": "geo",
           "hovertemplate": "animation_frame=2020-04-25<br>locations=%{location}<br>color=%{z}<extra></extra>",
           "locationmode": "USA-states",
           "locations": [
            "NV",
            "SD",
            "VA",
            "SC",
            "D.C.",
            "PA",
            "CA",
            "OH",
            "CT",
            "TX",
            "OK",
            "RI",
            "UT",
            "OR",
            "Others",
            "WV",
            "PR",
            "CO",
            "NY",
            "AK",
            "ID",
            "NM",
            "MI",
            "ME",
            "GU",
            "AZ",
            "MD",
            "MA",
            "AR",
            "LA",
            "HI",
            "KY",
            "KS",
            "WA",
            "IA",
            "IN",
            "IL",
            "MN",
            "MO",
            "GA",
            "NC",
            "NJ",
            "DE",
            "WI",
            "NH",
            "NE",
            "VI",
            "ND",
            "MP",
            "TN",
            "AL",
            "FL",
            "MS",
            "WY",
            "VT",
            "MT"
           ],
           "name": "",
           "type": "choropleth",
           "z": [
            4539,
            2147,
            12366,
            5253,
            3699,
            41153,
            42368,
            15587,
            24583,
            24153,
            3194,
            7129,
            3948,
            2253,
            152,
            1010,
            1307,
            12968,
            282143,
            339,
            1887,
            2660,
            37074,
            965,
            141,
            6286,
            17766,
            53348,
            2911,
            26512,
            605,
            3915,
            3135,
            13319,
            5092,
            14399,
            41777,
            3446,
            6935,
            23222,
            8768,
            105498,
            3576,
            5687,
            1797,
            2719,
            55,
            803,
            14,
            9189,
            6026,
            30839,
            5718,
            491,
            843,
            445
           ]
          }
         ],
         "name": "2020-04-25"
        },
        {
         "data": [
          {
           "coloraxis": "coloraxis",
           "geo": "geo",
           "hovertemplate": "animation_frame=2020-04-26<br>locations=%{location}<br>color=%{z}<extra></extra>",
           "locationmode": "USA-states",
           "locations": [
            "AR",
            "WV",
            "AL",
            "AZ",
            "AK",
            "MI",
            "CO",
            "NC",
            "ND",
            "VI",
            "NE",
            "NH",
            "NJ",
            "NM",
            "VA",
            "NV",
            "NY",
            "OH",
            "OK",
            "UT",
            "OR",
            "Others",
            "PA",
            "PR",
            "RI",
            "TX",
            "SC",
            "SD",
            "MT",
            "MS",
            "MP",
            "VT",
            "CT",
            "D.C.",
            "WI",
            "DE",
            "FL",
            "GA",
            "GU",
            "HI",
            "IA",
            "ID",
            "CA",
            "IL",
            "WA",
            "KS",
            "KY",
            "LA",
            "MA",
            "MD",
            "ME",
            "TN",
            "MN",
            "MO",
            "IN",
            "WY"
           ],
           "name": "",
           "type": "choropleth",
           "z": [
            3001,
            1055,
            6421,
            6534,
            340,
            37778,
            13441,
            8997,
            867,
            57,
            3028,
            1864,
            109038,
            2726,
            12970,
            4734,
            288045,
            15972,
            3254,
            4123,
            2311,
            152,
            42616,
            1371,
            7439,
            24967,
            5498,
            2212,
            448,
            5911,
            14,
            851,
            25269,
            3841,
            5912,
            4034,
            31532,
            23486,
            141,
            606,
            5476,
            1897,
            43558,
            43903,
            13521,
            3277,
            4085,
            26773,
            54938,
            18581,
            1015,
            9667,
            3602,
            7120,
            15012,
            502
           ]
          }
         ],
         "name": "2020-04-26"
        }
       ],
       "layout": {
        "coloraxis": {
         "cmax": 55000,
         "cmin": 0,
         "colorbar": {
          "title": {
           "text": "color"
          }
         },
         "colorscale": [
          [
           0,
           "rgb(255,245,240)"
          ],
          [
           0.125,
           "rgb(254,224,210)"
          ],
          [
           0.25,
           "rgb(252,187,161)"
          ],
          [
           0.375,
           "rgb(252,146,114)"
          ],
          [
           0.5,
           "rgb(251,106,74)"
          ],
          [
           0.625,
           "rgb(239,59,44)"
          ],
          [
           0.75,
           "rgb(203,24,29)"
          ],
          [
           0.875,
           "rgb(165,15,21)"
          ],
          [
           1,
           "rgb(103,0,13)"
          ]
         ]
        },
        "font": {
         "size": 14
        },
        "geo": {
         "center": {},
         "domain": {
          "x": [
           0,
           1
          ],
          "y": [
           0,
           1
          ]
         },
         "scope": "usa"
        },
        "legend": {
         "tracegroupgap": 0
        },
        "margin": {
         "t": 60
        },
        "sliders": [
         {
          "active": 0,
          "currentvalue": {
           "prefix": "animation_frame="
          },
          "len": 0.9,
          "pad": {
           "b": 10,
           "t": 60
          },
          "steps": [
           {
            "args": [
             [
              "2020-01-25"
             ],
             {
              "frame": {
               "duration": 0,
               "redraw": true
              },
              "fromcurrent": true,
              "mode": "immediate",
              "transition": {
               "duration": 0,
               "easing": "linear"
              }
             }
            ],
            "label": "2020-01-25",
            "method": "animate"
           },
           {
            "args": [
             [
              "2020-01-26"
             ],
             {
              "frame": {
               "duration": 0,
               "redraw": true
              },
              "fromcurrent": true,
              "mode": "immediate",
              "transition": {
               "duration": 0,
               "easing": "linear"
              }
             }
            ],
            "label": "2020-01-26",
            "method": "animate"
           },
           {
            "args": [
             [
              "2020-01-27"
             ],
             {
              "frame": {
               "duration": 0,
               "redraw": true
              },
              "fromcurrent": true,
              "mode": "immediate",
              "transition": {
               "duration": 0,
               "easing": "linear"
              }
             }
            ],
            "label": "2020-01-27",
            "method": "animate"
           },
           {
            "args": [
             [
              "2020-01-28"
             ],
             {
              "frame": {
               "duration": 0,
               "redraw": true
              },
              "fromcurrent": true,
              "mode": "immediate",
              "transition": {
               "duration": 0,
               "easing": "linear"
              }
             }
            ],
            "label": "2020-01-28",
            "method": "animate"
           },
           {
            "args": [
             [
              "2020-01-29"
             ],
             {
              "frame": {
               "duration": 0,
               "redraw": true
              },
              "fromcurrent": true,
              "mode": "immediate",
              "transition": {
               "duration": 0,
               "easing": "linear"
              }
             }
            ],
            "label": "2020-01-29",
            "method": "animate"
           },
           {
            "args": [
             [
              "2020-01-30"
             ],
             {
              "frame": {
               "duration": 0,
               "redraw": true
              },
              "fromcurrent": true,
              "mode": "immediate",
              "transition": {
               "duration": 0,
               "easing": "linear"
              }
             }
            ],
            "label": "2020-01-30",
            "method": "animate"
           },
           {
            "args": [
             [
              "2020-01-31"
             ],
             {
              "frame": {
               "duration": 0,
               "redraw": true
              },
              "fromcurrent": true,
              "mode": "immediate",
              "transition": {
               "duration": 0,
               "easing": "linear"
              }
             }
            ],
            "label": "2020-01-31",
            "method": "animate"
           },
           {
            "args": [
             [
              "2020-02-01"
             ],
             {
              "frame": {
               "duration": 0,
               "redraw": true
              },
              "fromcurrent": true,
              "mode": "immediate",
              "transition": {
               "duration": 0,
               "easing": "linear"
              }
             }
            ],
            "label": "2020-02-01",
            "method": "animate"
           },
           {
            "args": [
             [
              "2020-02-02"
             ],
             {
              "frame": {
               "duration": 0,
               "redraw": true
              },
              "fromcurrent": true,
              "mode": "immediate",
              "transition": {
               "duration": 0,
               "easing": "linear"
              }
             }
            ],
            "label": "2020-02-02",
            "method": "animate"
           },
           {
            "args": [
             [
              "2020-02-03"
             ],
             {
              "frame": {
               "duration": 0,
               "redraw": true
              },
              "fromcurrent": true,
              "mode": "immediate",
              "transition": {
               "duration": 0,
               "easing": "linear"
              }
             }
            ],
            "label": "2020-02-03",
            "method": "animate"
           },
           {
            "args": [
             [
              "2020-02-04"
             ],
             {
              "frame": {
               "duration": 0,
               "redraw": true
              },
              "fromcurrent": true,
              "mode": "immediate",
              "transition": {
               "duration": 0,
               "easing": "linear"
              }
             }
            ],
            "label": "2020-02-04",
            "method": "animate"
           },
           {
            "args": [
             [
              "2020-02-05"
             ],
             {
              "frame": {
               "duration": 0,
               "redraw": true
              },
              "fromcurrent": true,
              "mode": "immediate",
              "transition": {
               "duration": 0,
               "easing": "linear"
              }
             }
            ],
            "label": "2020-02-05",
            "method": "animate"
           },
           {
            "args": [
             [
              "2020-02-06"
             ],
             {
              "frame": {
               "duration": 0,
               "redraw": true
              },
              "fromcurrent": true,
              "mode": "immediate",
              "transition": {
               "duration": 0,
               "easing": "linear"
              }
             }
            ],
            "label": "2020-02-06",
            "method": "animate"
           },
           {
            "args": [
             [
              "2020-02-07"
             ],
             {
              "frame": {
               "duration": 0,
               "redraw": true
              },
              "fromcurrent": true,
              "mode": "immediate",
              "transition": {
               "duration": 0,
               "easing": "linear"
              }
             }
            ],
            "label": "2020-02-07",
            "method": "animate"
           },
           {
            "args": [
             [
              "2020-02-08"
             ],
             {
              "frame": {
               "duration": 0,
               "redraw": true
              },
              "fromcurrent": true,
              "mode": "immediate",
              "transition": {
               "duration": 0,
               "easing": "linear"
              }
             }
            ],
            "label": "2020-02-08",
            "method": "animate"
           },
           {
            "args": [
             [
              "2020-02-09"
             ],
             {
              "frame": {
               "duration": 0,
               "redraw": true
              },
              "fromcurrent": true,
              "mode": "immediate",
              "transition": {
               "duration": 0,
               "easing": "linear"
              }
             }
            ],
            "label": "2020-02-09",
            "method": "animate"
           },
           {
            "args": [
             [
              "2020-02-10"
             ],
             {
              "frame": {
               "duration": 0,
               "redraw": true
              },
              "fromcurrent": true,
              "mode": "immediate",
              "transition": {
               "duration": 0,
               "easing": "linear"
              }
             }
            ],
            "label": "2020-02-10",
            "method": "animate"
           },
           {
            "args": [
             [
              "2020-02-11"
             ],
             {
              "frame": {
               "duration": 0,
               "redraw": true
              },
              "fromcurrent": true,
              "mode": "immediate",
              "transition": {
               "duration": 0,
               "easing": "linear"
              }
             }
            ],
            "label": "2020-02-11",
            "method": "animate"
           },
           {
            "args": [
             [
              "2020-02-12"
             ],
             {
              "frame": {
               "duration": 0,
               "redraw": true
              },
              "fromcurrent": true,
              "mode": "immediate",
              "transition": {
               "duration": 0,
               "easing": "linear"
              }
             }
            ],
            "label": "2020-02-12",
            "method": "animate"
           },
           {
            "args": [
             [
              "2020-02-13"
             ],
             {
              "frame": {
               "duration": 0,
               "redraw": true
              },
              "fromcurrent": true,
              "mode": "immediate",
              "transition": {
               "duration": 0,
               "easing": "linear"
              }
             }
            ],
            "label": "2020-02-13",
            "method": "animate"
           },
           {
            "args": [
             [
              "2020-02-14"
             ],
             {
              "frame": {
               "duration": 0,
               "redraw": true
              },
              "fromcurrent": true,
              "mode": "immediate",
              "transition": {
               "duration": 0,
               "easing": "linear"
              }
             }
            ],
            "label": "2020-02-14",
            "method": "animate"
           },
           {
            "args": [
             [
              "2020-02-15"
             ],
             {
              "frame": {
               "duration": 0,
               "redraw": true
              },
              "fromcurrent": true,
              "mode": "immediate",
              "transition": {
               "duration": 0,
               "easing": "linear"
              }
             }
            ],
            "label": "2020-02-15",
            "method": "animate"
           },
           {
            "args": [
             [
              "2020-02-16"
             ],
             {
              "frame": {
               "duration": 0,
               "redraw": true
              },
              "fromcurrent": true,
              "mode": "immediate",
              "transition": {
               "duration": 0,
               "easing": "linear"
              }
             }
            ],
            "label": "2020-02-16",
            "method": "animate"
           },
           {
            "args": [
             [
              "2020-02-17"
             ],
             {
              "frame": {
               "duration": 0,
               "redraw": true
              },
              "fromcurrent": true,
              "mode": "immediate",
              "transition": {
               "duration": 0,
               "easing": "linear"
              }
             }
            ],
            "label": "2020-02-17",
            "method": "animate"
           },
           {
            "args": [
             [
              "2020-02-18"
             ],
             {
              "frame": {
               "duration": 0,
               "redraw": true
              },
              "fromcurrent": true,
              "mode": "immediate",
              "transition": {
               "duration": 0,
               "easing": "linear"
              }
             }
            ],
            "label": "2020-02-18",
            "method": "animate"
           },
           {
            "args": [
             [
              "2020-02-19"
             ],
             {
              "frame": {
               "duration": 0,
               "redraw": true
              },
              "fromcurrent": true,
              "mode": "immediate",
              "transition": {
               "duration": 0,
               "easing": "linear"
              }
             }
            ],
            "label": "2020-02-19",
            "method": "animate"
           },
           {
            "args": [
             [
              "2020-02-20"
             ],
             {
              "frame": {
               "duration": 0,
               "redraw": true
              },
              "fromcurrent": true,
              "mode": "immediate",
              "transition": {
               "duration": 0,
               "easing": "linear"
              }
             }
            ],
            "label": "2020-02-20",
            "method": "animate"
           },
           {
            "args": [
             [
              "2020-02-21"
             ],
             {
              "frame": {
               "duration": 0,
               "redraw": true
              },
              "fromcurrent": true,
              "mode": "immediate",
              "transition": {
               "duration": 0,
               "easing": "linear"
              }
             }
            ],
            "label": "2020-02-21",
            "method": "animate"
           },
           {
            "args": [
             [
              "2020-02-22"
             ],
             {
              "frame": {
               "duration": 0,
               "redraw": true
              },
              "fromcurrent": true,
              "mode": "immediate",
              "transition": {
               "duration": 0,
               "easing": "linear"
              }
             }
            ],
            "label": "2020-02-22",
            "method": "animate"
           },
           {
            "args": [
             [
              "2020-02-23"
             ],
             {
              "frame": {
               "duration": 0,
               "redraw": true
              },
              "fromcurrent": true,
              "mode": "immediate",
              "transition": {
               "duration": 0,
               "easing": "linear"
              }
             }
            ],
            "label": "2020-02-23",
            "method": "animate"
           },
           {
            "args": [
             [
              "2020-02-24"
             ],
             {
              "frame": {
               "duration": 0,
               "redraw": true
              },
              "fromcurrent": true,
              "mode": "immediate",
              "transition": {
               "duration": 0,
               "easing": "linear"
              }
             }
            ],
            "label": "2020-02-24",
            "method": "animate"
           },
           {
            "args": [
             [
              "2020-02-25"
             ],
             {
              "frame": {
               "duration": 0,
               "redraw": true
              },
              "fromcurrent": true,
              "mode": "immediate",
              "transition": {
               "duration": 0,
               "easing": "linear"
              }
             }
            ],
            "label": "2020-02-25",
            "method": "animate"
           },
           {
            "args": [
             [
              "2020-02-26"
             ],
             {
              "frame": {
               "duration": 0,
               "redraw": true
              },
              "fromcurrent": true,
              "mode": "immediate",
              "transition": {
               "duration": 0,
               "easing": "linear"
              }
             }
            ],
            "label": "2020-02-26",
            "method": "animate"
           },
           {
            "args": [
             [
              "2020-02-27"
             ],
             {
              "frame": {
               "duration": 0,
               "redraw": true
              },
              "fromcurrent": true,
              "mode": "immediate",
              "transition": {
               "duration": 0,
               "easing": "linear"
              }
             }
            ],
            "label": "2020-02-27",
            "method": "animate"
           },
           {
            "args": [
             [
              "2020-02-28"
             ],
             {
              "frame": {
               "duration": 0,
               "redraw": true
              },
              "fromcurrent": true,
              "mode": "immediate",
              "transition": {
               "duration": 0,
               "easing": "linear"
              }
             }
            ],
            "label": "2020-02-28",
            "method": "animate"
           },
           {
            "args": [
             [
              "2020-02-29"
             ],
             {
              "frame": {
               "duration": 0,
               "redraw": true
              },
              "fromcurrent": true,
              "mode": "immediate",
              "transition": {
               "duration": 0,
               "easing": "linear"
              }
             }
            ],
            "label": "2020-02-29",
            "method": "animate"
           },
           {
            "args": [
             [
              "2020-03-01"
             ],
             {
              "frame": {
               "duration": 0,
               "redraw": true
              },
              "fromcurrent": true,
              "mode": "immediate",
              "transition": {
               "duration": 0,
               "easing": "linear"
              }
             }
            ],
            "label": "2020-03-01",
            "method": "animate"
           },
           {
            "args": [
             [
              "2020-03-02"
             ],
             {
              "frame": {
               "duration": 0,
               "redraw": true
              },
              "fromcurrent": true,
              "mode": "immediate",
              "transition": {
               "duration": 0,
               "easing": "linear"
              }
             }
            ],
            "label": "2020-03-02",
            "method": "animate"
           },
           {
            "args": [
             [
              "2020-03-03"
             ],
             {
              "frame": {
               "duration": 0,
               "redraw": true
              },
              "fromcurrent": true,
              "mode": "immediate",
              "transition": {
               "duration": 0,
               "easing": "linear"
              }
             }
            ],
            "label": "2020-03-03",
            "method": "animate"
           },
           {
            "args": [
             [
              "2020-03-04"
             ],
             {
              "frame": {
               "duration": 0,
               "redraw": true
              },
              "fromcurrent": true,
              "mode": "immediate",
              "transition": {
               "duration": 0,
               "easing": "linear"
              }
             }
            ],
            "label": "2020-03-04",
            "method": "animate"
           },
           {
            "args": [
             [
              "2020-03-05"
             ],
             {
              "frame": {
               "duration": 0,
               "redraw": true
              },
              "fromcurrent": true,
              "mode": "immediate",
              "transition": {
               "duration": 0,
               "easing": "linear"
              }
             }
            ],
            "label": "2020-03-05",
            "method": "animate"
           },
           {
            "args": [
             [
              "2020-03-06"
             ],
             {
              "frame": {
               "duration": 0,
               "redraw": true
              },
              "fromcurrent": true,
              "mode": "immediate",
              "transition": {
               "duration": 0,
               "easing": "linear"
              }
             }
            ],
            "label": "2020-03-06",
            "method": "animate"
           },
           {
            "args": [
             [
              "2020-03-07"
             ],
             {
              "frame": {
               "duration": 0,
               "redraw": true
              },
              "fromcurrent": true,
              "mode": "immediate",
              "transition": {
               "duration": 0,
               "easing": "linear"
              }
             }
            ],
            "label": "2020-03-07",
            "method": "animate"
           },
           {
            "args": [
             [
              "2020-03-08"
             ],
             {
              "frame": {
               "duration": 0,
               "redraw": true
              },
              "fromcurrent": true,
              "mode": "immediate",
              "transition": {
               "duration": 0,
               "easing": "linear"
              }
             }
            ],
            "label": "2020-03-08",
            "method": "animate"
           },
           {
            "args": [
             [
              "2020-03-09"
             ],
             {
              "frame": {
               "duration": 0,
               "redraw": true
              },
              "fromcurrent": true,
              "mode": "immediate",
              "transition": {
               "duration": 0,
               "easing": "linear"
              }
             }
            ],
            "label": "2020-03-09",
            "method": "animate"
           },
           {
            "args": [
             [
              "2020-03-10"
             ],
             {
              "frame": {
               "duration": 0,
               "redraw": true
              },
              "fromcurrent": true,
              "mode": "immediate",
              "transition": {
               "duration": 0,
               "easing": "linear"
              }
             }
            ],
            "label": "2020-03-10",
            "method": "animate"
           },
           {
            "args": [
             [
              "2020-03-11"
             ],
             {
              "frame": {
               "duration": 0,
               "redraw": true
              },
              "fromcurrent": true,
              "mode": "immediate",
              "transition": {
               "duration": 0,
               "easing": "linear"
              }
             }
            ],
            "label": "2020-03-11",
            "method": "animate"
           },
           {
            "args": [
             [
              "2020-03-12"
             ],
             {
              "frame": {
               "duration": 0,
               "redraw": true
              },
              "fromcurrent": true,
              "mode": "immediate",
              "transition": {
               "duration": 0,
               "easing": "linear"
              }
             }
            ],
            "label": "2020-03-12",
            "method": "animate"
           },
           {
            "args": [
             [
              "2020-03-13"
             ],
             {
              "frame": {
               "duration": 0,
               "redraw": true
              },
              "fromcurrent": true,
              "mode": "immediate",
              "transition": {
               "duration": 0,
               "easing": "linear"
              }
             }
            ],
            "label": "2020-03-13",
            "method": "animate"
           },
           {
            "args": [
             [
              "2020-03-14"
             ],
             {
              "frame": {
               "duration": 0,
               "redraw": true
              },
              "fromcurrent": true,
              "mode": "immediate",
              "transition": {
               "duration": 0,
               "easing": "linear"
              }
             }
            ],
            "label": "2020-03-14",
            "method": "animate"
           },
           {
            "args": [
             [
              "2020-03-15"
             ],
             {
              "frame": {
               "duration": 0,
               "redraw": true
              },
              "fromcurrent": true,
              "mode": "immediate",
              "transition": {
               "duration": 0,
               "easing": "linear"
              }
             }
            ],
            "label": "2020-03-15",
            "method": "animate"
           },
           {
            "args": [
             [
              "2020-03-16"
             ],
             {
              "frame": {
               "duration": 0,
               "redraw": true
              },
              "fromcurrent": true,
              "mode": "immediate",
              "transition": {
               "duration": 0,
               "easing": "linear"
              }
             }
            ],
            "label": "2020-03-16",
            "method": "animate"
           },
           {
            "args": [
             [
              "2020-03-17"
             ],
             {
              "frame": {
               "duration": 0,
               "redraw": true
              },
              "fromcurrent": true,
              "mode": "immediate",
              "transition": {
               "duration": 0,
               "easing": "linear"
              }
             }
            ],
            "label": "2020-03-17",
            "method": "animate"
           },
           {
            "args": [
             [
              "2020-03-18"
             ],
             {
              "frame": {
               "duration": 0,
               "redraw": true
              },
              "fromcurrent": true,
              "mode": "immediate",
              "transition": {
               "duration": 0,
               "easing": "linear"
              }
             }
            ],
            "label": "2020-03-18",
            "method": "animate"
           },
           {
            "args": [
             [
              "2020-03-19"
             ],
             {
              "frame": {
               "duration": 0,
               "redraw": true
              },
              "fromcurrent": true,
              "mode": "immediate",
              "transition": {
               "duration": 0,
               "easing": "linear"
              }
             }
            ],
            "label": "2020-03-19",
            "method": "animate"
           },
           {
            "args": [
             [
              "2020-03-20"
             ],
             {
              "frame": {
               "duration": 0,
               "redraw": true
              },
              "fromcurrent": true,
              "mode": "immediate",
              "transition": {
               "duration": 0,
               "easing": "linear"
              }
             }
            ],
            "label": "2020-03-20",
            "method": "animate"
           },
           {
            "args": [
             [
              "2020-03-21"
             ],
             {
              "frame": {
               "duration": 0,
               "redraw": true
              },
              "fromcurrent": true,
              "mode": "immediate",
              "transition": {
               "duration": 0,
               "easing": "linear"
              }
             }
            ],
            "label": "2020-03-21",
            "method": "animate"
           },
           {
            "args": [
             [
              "2020-03-22"
             ],
             {
              "frame": {
               "duration": 0,
               "redraw": true
              },
              "fromcurrent": true,
              "mode": "immediate",
              "transition": {
               "duration": 0,
               "easing": "linear"
              }
             }
            ],
            "label": "2020-03-22",
            "method": "animate"
           },
           {
            "args": [
             [
              "2020-03-23"
             ],
             {
              "frame": {
               "duration": 0,
               "redraw": true
              },
              "fromcurrent": true,
              "mode": "immediate",
              "transition": {
               "duration": 0,
               "easing": "linear"
              }
             }
            ],
            "label": "2020-03-23",
            "method": "animate"
           },
           {
            "args": [
             [
              "2020-03-24"
             ],
             {
              "frame": {
               "duration": 0,
               "redraw": true
              },
              "fromcurrent": true,
              "mode": "immediate",
              "transition": {
               "duration": 0,
               "easing": "linear"
              }
             }
            ],
            "label": "2020-03-24",
            "method": "animate"
           },
           {
            "args": [
             [
              "2020-03-25"
             ],
             {
              "frame": {
               "duration": 0,
               "redraw": true
              },
              "fromcurrent": true,
              "mode": "immediate",
              "transition": {
               "duration": 0,
               "easing": "linear"
              }
             }
            ],
            "label": "2020-03-25",
            "method": "animate"
           },
           {
            "args": [
             [
              "2020-03-26"
             ],
             {
              "frame": {
               "duration": 0,
               "redraw": true
              },
              "fromcurrent": true,
              "mode": "immediate",
              "transition": {
               "duration": 0,
               "easing": "linear"
              }
             }
            ],
            "label": "2020-03-26",
            "method": "animate"
           },
           {
            "args": [
             [
              "2020-03-27"
             ],
             {
              "frame": {
               "duration": 0,
               "redraw": true
              },
              "fromcurrent": true,
              "mode": "immediate",
              "transition": {
               "duration": 0,
               "easing": "linear"
              }
             }
            ],
            "label": "2020-03-27",
            "method": "animate"
           },
           {
            "args": [
             [
              "2020-03-28"
             ],
             {
              "frame": {
               "duration": 0,
               "redraw": true
              },
              "fromcurrent": true,
              "mode": "immediate",
              "transition": {
               "duration": 0,
               "easing": "linear"
              }
             }
            ],
            "label": "2020-03-28",
            "method": "animate"
           },
           {
            "args": [
             [
              "2020-03-29"
             ],
             {
              "frame": {
               "duration": 0,
               "redraw": true
              },
              "fromcurrent": true,
              "mode": "immediate",
              "transition": {
               "duration": 0,
               "easing": "linear"
              }
             }
            ],
            "label": "2020-03-29",
            "method": "animate"
           },
           {
            "args": [
             [
              "2020-03-30"
             ],
             {
              "frame": {
               "duration": 0,
               "redraw": true
              },
              "fromcurrent": true,
              "mode": "immediate",
              "transition": {
               "duration": 0,
               "easing": "linear"
              }
             }
            ],
            "label": "2020-03-30",
            "method": "animate"
           },
           {
            "args": [
             [
              "2020-03-31"
             ],
             {
              "frame": {
               "duration": 0,
               "redraw": true
              },
              "fromcurrent": true,
              "mode": "immediate",
              "transition": {
               "duration": 0,
               "easing": "linear"
              }
             }
            ],
            "label": "2020-03-31",
            "method": "animate"
           },
           {
            "args": [
             [
              "2020-04-01"
             ],
             {
              "frame": {
               "duration": 0,
               "redraw": true
              },
              "fromcurrent": true,
              "mode": "immediate",
              "transition": {
               "duration": 0,
               "easing": "linear"
              }
             }
            ],
            "label": "2020-04-01",
            "method": "animate"
           },
           {
            "args": [
             [
              "2020-04-02"
             ],
             {
              "frame": {
               "duration": 0,
               "redraw": true
              },
              "fromcurrent": true,
              "mode": "immediate",
              "transition": {
               "duration": 0,
               "easing": "linear"
              }
             }
            ],
            "label": "2020-04-02",
            "method": "animate"
           },
           {
            "args": [
             [
              "2020-04-03"
             ],
             {
              "frame": {
               "duration": 0,
               "redraw": true
              },
              "fromcurrent": true,
              "mode": "immediate",
              "transition": {
               "duration": 0,
               "easing": "linear"
              }
             }
            ],
            "label": "2020-04-03",
            "method": "animate"
           },
           {
            "args": [
             [
              "2020-04-04"
             ],
             {
              "frame": {
               "duration": 0,
               "redraw": true
              },
              "fromcurrent": true,
              "mode": "immediate",
              "transition": {
               "duration": 0,
               "easing": "linear"
              }
             }
            ],
            "label": "2020-04-04",
            "method": "animate"
           },
           {
            "args": [
             [
              "2020-04-05"
             ],
             {
              "frame": {
               "duration": 0,
               "redraw": true
              },
              "fromcurrent": true,
              "mode": "immediate",
              "transition": {
               "duration": 0,
               "easing": "linear"
              }
             }
            ],
            "label": "2020-04-05",
            "method": "animate"
           },
           {
            "args": [
             [
              "2020-04-06"
             ],
             {
              "frame": {
               "duration": 0,
               "redraw": true
              },
              "fromcurrent": true,
              "mode": "immediate",
              "transition": {
               "duration": 0,
               "easing": "linear"
              }
             }
            ],
            "label": "2020-04-06",
            "method": "animate"
           },
           {
            "args": [
             [
              "2020-04-07"
             ],
             {
              "frame": {
               "duration": 0,
               "redraw": true
              },
              "fromcurrent": true,
              "mode": "immediate",
              "transition": {
               "duration": 0,
               "easing": "linear"
              }
             }
            ],
            "label": "2020-04-07",
            "method": "animate"
           },
           {
            "args": [
             [
              "2020-04-08"
             ],
             {
              "frame": {
               "duration": 0,
               "redraw": true
              },
              "fromcurrent": true,
              "mode": "immediate",
              "transition": {
               "duration": 0,
               "easing": "linear"
              }
             }
            ],
            "label": "2020-04-08",
            "method": "animate"
           },
           {
            "args": [
             [
              "2020-04-09"
             ],
             {
              "frame": {
               "duration": 0,
               "redraw": true
              },
              "fromcurrent": true,
              "mode": "immediate",
              "transition": {
               "duration": 0,
               "easing": "linear"
              }
             }
            ],
            "label": "2020-04-09",
            "method": "animate"
           },
           {
            "args": [
             [
              "2020-04-10"
             ],
             {
              "frame": {
               "duration": 0,
               "redraw": true
              },
              "fromcurrent": true,
              "mode": "immediate",
              "transition": {
               "duration": 0,
               "easing": "linear"
              }
             }
            ],
            "label": "2020-04-10",
            "method": "animate"
           },
           {
            "args": [
             [
              "2020-04-11"
             ],
             {
              "frame": {
               "duration": 0,
               "redraw": true
              },
              "fromcurrent": true,
              "mode": "immediate",
              "transition": {
               "duration": 0,
               "easing": "linear"
              }
             }
            ],
            "label": "2020-04-11",
            "method": "animate"
           },
           {
            "args": [
             [
              "2020-04-12"
             ],
             {
              "frame": {
               "duration": 0,
               "redraw": true
              },
              "fromcurrent": true,
              "mode": "immediate",
              "transition": {
               "duration": 0,
               "easing": "linear"
              }
             }
            ],
            "label": "2020-04-12",
            "method": "animate"
           },
           {
            "args": [
             [
              "2020-04-13"
             ],
             {
              "frame": {
               "duration": 0,
               "redraw": true
              },
              "fromcurrent": true,
              "mode": "immediate",
              "transition": {
               "duration": 0,
               "easing": "linear"
              }
             }
            ],
            "label": "2020-04-13",
            "method": "animate"
           },
           {
            "args": [
             [
              "2020-04-14"
             ],
             {
              "frame": {
               "duration": 0,
               "redraw": true
              },
              "fromcurrent": true,
              "mode": "immediate",
              "transition": {
               "duration": 0,
               "easing": "linear"
              }
             }
            ],
            "label": "2020-04-14",
            "method": "animate"
           },
           {
            "args": [
             [
              "2020-04-15"
             ],
             {
              "frame": {
               "duration": 0,
               "redraw": true
              },
              "fromcurrent": true,
              "mode": "immediate",
              "transition": {
               "duration": 0,
               "easing": "linear"
              }
             }
            ],
            "label": "2020-04-15",
            "method": "animate"
           },
           {
            "args": [
             [
              "2020-04-16"
             ],
             {
              "frame": {
               "duration": 0,
               "redraw": true
              },
              "fromcurrent": true,
              "mode": "immediate",
              "transition": {
               "duration": 0,
               "easing": "linear"
              }
             }
            ],
            "label": "2020-04-16",
            "method": "animate"
           },
           {
            "args": [
             [
              "2020-04-17"
             ],
             {
              "frame": {
               "duration": 0,
               "redraw": true
              },
              "fromcurrent": true,
              "mode": "immediate",
              "transition": {
               "duration": 0,
               "easing": "linear"
              }
             }
            ],
            "label": "2020-04-17",
            "method": "animate"
           },
           {
            "args": [
             [
              "2020-04-18"
             ],
             {
              "frame": {
               "duration": 0,
               "redraw": true
              },
              "fromcurrent": true,
              "mode": "immediate",
              "transition": {
               "duration": 0,
               "easing": "linear"
              }
             }
            ],
            "label": "2020-04-18",
            "method": "animate"
           },
           {
            "args": [
             [
              "2020-04-19"
             ],
             {
              "frame": {
               "duration": 0,
               "redraw": true
              },
              "fromcurrent": true,
              "mode": "immediate",
              "transition": {
               "duration": 0,
               "easing": "linear"
              }
             }
            ],
            "label": "2020-04-19",
            "method": "animate"
           },
           {
            "args": [
             [
              "2020-04-20"
             ],
             {
              "frame": {
               "duration": 0,
               "redraw": true
              },
              "fromcurrent": true,
              "mode": "immediate",
              "transition": {
               "duration": 0,
               "easing": "linear"
              }
             }
            ],
            "label": "2020-04-20",
            "method": "animate"
           },
           {
            "args": [
             [
              "2020-04-21"
             ],
             {
              "frame": {
               "duration": 0,
               "redraw": true
              },
              "fromcurrent": true,
              "mode": "immediate",
              "transition": {
               "duration": 0,
               "easing": "linear"
              }
             }
            ],
            "label": "2020-04-21",
            "method": "animate"
           },
           {
            "args": [
             [
              "2020-04-22"
             ],
             {
              "frame": {
               "duration": 0,
               "redraw": true
              },
              "fromcurrent": true,
              "mode": "immediate",
              "transition": {
               "duration": 0,
               "easing": "linear"
              }
             }
            ],
            "label": "2020-04-22",
            "method": "animate"
           },
           {
            "args": [
             [
              "2020-04-23"
             ],
             {
              "frame": {
               "duration": 0,
               "redraw": true
              },
              "fromcurrent": true,
              "mode": "immediate",
              "transition": {
               "duration": 0,
               "easing": "linear"
              }
             }
            ],
            "label": "2020-04-23",
            "method": "animate"
           },
           {
            "args": [
             [
              "2020-04-24"
             ],
             {
              "frame": {
               "duration": 0,
               "redraw": true
              },
              "fromcurrent": true,
              "mode": "immediate",
              "transition": {
               "duration": 0,
               "easing": "linear"
              }
             }
            ],
            "label": "2020-04-24",
            "method": "animate"
           },
           {
            "args": [
             [
              "2020-04-25"
             ],
             {
              "frame": {
               "duration": 0,
               "redraw": true
              },
              "fromcurrent": true,
              "mode": "immediate",
              "transition": {
               "duration": 0,
               "easing": "linear"
              }
             }
            ],
            "label": "2020-04-25",
            "method": "animate"
           },
           {
            "args": [
             [
              "2020-04-26"
             ],
             {
              "frame": {
               "duration": 0,
               "redraw": true
              },
              "fromcurrent": true,
              "mode": "immediate",
              "transition": {
               "duration": 0,
               "easing": "linear"
              }
             }
            ],
            "label": "2020-04-26",
            "method": "animate"
           }
          ],
          "x": 0.1,
          "xanchor": "left",
          "y": 0,
          "yanchor": "top"
         }
        ],
        "template": {
         "data": {
          "bar": [
           {
            "error_x": {
             "color": "#2a3f5f"
            },
            "error_y": {
             "color": "#2a3f5f"
            },
            "marker": {
             "line": {
              "color": "#E5ECF6",
              "width": 0.5
             }
            },
            "type": "bar"
           }
          ],
          "barpolar": [
           {
            "marker": {
             "line": {
              "color": "#E5ECF6",
              "width": 0.5
             }
            },
            "type": "barpolar"
           }
          ],
          "carpet": [
           {
            "aaxis": {
             "endlinecolor": "#2a3f5f",
             "gridcolor": "white",
             "linecolor": "white",
             "minorgridcolor": "white",
             "startlinecolor": "#2a3f5f"
            },
            "baxis": {
             "endlinecolor": "#2a3f5f",
             "gridcolor": "white",
             "linecolor": "white",
             "minorgridcolor": "white",
             "startlinecolor": "#2a3f5f"
            },
            "type": "carpet"
           }
          ],
          "choropleth": [
           {
            "colorbar": {
             "outlinewidth": 0,
             "ticks": ""
            },
            "type": "choropleth"
           }
          ],
          "contour": [
           {
            "colorbar": {
             "outlinewidth": 0,
             "ticks": ""
            },
            "colorscale": [
             [
              0,
              "#0d0887"
             ],
             [
              0.1111111111111111,
              "#46039f"
             ],
             [
              0.2222222222222222,
              "#7201a8"
             ],
             [
              0.3333333333333333,
              "#9c179e"
             ],
             [
              0.4444444444444444,
              "#bd3786"
             ],
             [
              0.5555555555555556,
              "#d8576b"
             ],
             [
              0.6666666666666666,
              "#ed7953"
             ],
             [
              0.7777777777777778,
              "#fb9f3a"
             ],
             [
              0.8888888888888888,
              "#fdca26"
             ],
             [
              1,
              "#f0f921"
             ]
            ],
            "type": "contour"
           }
          ],
          "contourcarpet": [
           {
            "colorbar": {
             "outlinewidth": 0,
             "ticks": ""
            },
            "type": "contourcarpet"
           }
          ],
          "heatmap": [
           {
            "colorbar": {
             "outlinewidth": 0,
             "ticks": ""
            },
            "colorscale": [
             [
              0,
              "#0d0887"
             ],
             [
              0.1111111111111111,
              "#46039f"
             ],
             [
              0.2222222222222222,
              "#7201a8"
             ],
             [
              0.3333333333333333,
              "#9c179e"
             ],
             [
              0.4444444444444444,
              "#bd3786"
             ],
             [
              0.5555555555555556,
              "#d8576b"
             ],
             [
              0.6666666666666666,
              "#ed7953"
             ],
             [
              0.7777777777777778,
              "#fb9f3a"
             ],
             [
              0.8888888888888888,
              "#fdca26"
             ],
             [
              1,
              "#f0f921"
             ]
            ],
            "type": "heatmap"
           }
          ],
          "heatmapgl": [
           {
            "colorbar": {
             "outlinewidth": 0,
             "ticks": ""
            },
            "colorscale": [
             [
              0,
              "#0d0887"
             ],
             [
              0.1111111111111111,
              "#46039f"
             ],
             [
              0.2222222222222222,
              "#7201a8"
             ],
             [
              0.3333333333333333,
              "#9c179e"
             ],
             [
              0.4444444444444444,
              "#bd3786"
             ],
             [
              0.5555555555555556,
              "#d8576b"
             ],
             [
              0.6666666666666666,
              "#ed7953"
             ],
             [
              0.7777777777777778,
              "#fb9f3a"
             ],
             [
              0.8888888888888888,
              "#fdca26"
             ],
             [
              1,
              "#f0f921"
             ]
            ],
            "type": "heatmapgl"
           }
          ],
          "histogram": [
           {
            "marker": {
             "colorbar": {
              "outlinewidth": 0,
              "ticks": ""
             }
            },
            "type": "histogram"
           }
          ],
          "histogram2d": [
           {
            "colorbar": {
             "outlinewidth": 0,
             "ticks": ""
            },
            "colorscale": [
             [
              0,
              "#0d0887"
             ],
             [
              0.1111111111111111,
              "#46039f"
             ],
             [
              0.2222222222222222,
              "#7201a8"
             ],
             [
              0.3333333333333333,
              "#9c179e"
             ],
             [
              0.4444444444444444,
              "#bd3786"
             ],
             [
              0.5555555555555556,
              "#d8576b"
             ],
             [
              0.6666666666666666,
              "#ed7953"
             ],
             [
              0.7777777777777778,
              "#fb9f3a"
             ],
             [
              0.8888888888888888,
              "#fdca26"
             ],
             [
              1,
              "#f0f921"
             ]
            ],
            "type": "histogram2d"
           }
          ],
          "histogram2dcontour": [
           {
            "colorbar": {
             "outlinewidth": 0,
             "ticks": ""
            },
            "colorscale": [
             [
              0,
              "#0d0887"
             ],
             [
              0.1111111111111111,
              "#46039f"
             ],
             [
              0.2222222222222222,
              "#7201a8"
             ],
             [
              0.3333333333333333,
              "#9c179e"
             ],
             [
              0.4444444444444444,
              "#bd3786"
             ],
             [
              0.5555555555555556,
              "#d8576b"
             ],
             [
              0.6666666666666666,
              "#ed7953"
             ],
             [
              0.7777777777777778,
              "#fb9f3a"
             ],
             [
              0.8888888888888888,
              "#fdca26"
             ],
             [
              1,
              "#f0f921"
             ]
            ],
            "type": "histogram2dcontour"
           }
          ],
          "mesh3d": [
           {
            "colorbar": {
             "outlinewidth": 0,
             "ticks": ""
            },
            "type": "mesh3d"
           }
          ],
          "parcoords": [
           {
            "line": {
             "colorbar": {
              "outlinewidth": 0,
              "ticks": ""
             }
            },
            "type": "parcoords"
           }
          ],
          "pie": [
           {
            "automargin": true,
            "type": "pie"
           }
          ],
          "scatter": [
           {
            "marker": {
             "colorbar": {
              "outlinewidth": 0,
              "ticks": ""
             }
            },
            "type": "scatter"
           }
          ],
          "scatter3d": [
           {
            "line": {
             "colorbar": {
              "outlinewidth": 0,
              "ticks": ""
             }
            },
            "marker": {
             "colorbar": {
              "outlinewidth": 0,
              "ticks": ""
             }
            },
            "type": "scatter3d"
           }
          ],
          "scattercarpet": [
           {
            "marker": {
             "colorbar": {
              "outlinewidth": 0,
              "ticks": ""
             }
            },
            "type": "scattercarpet"
           }
          ],
          "scattergeo": [
           {
            "marker": {
             "colorbar": {
              "outlinewidth": 0,
              "ticks": ""
             }
            },
            "type": "scattergeo"
           }
          ],
          "scattergl": [
           {
            "marker": {
             "colorbar": {
              "outlinewidth": 0,
              "ticks": ""
             }
            },
            "type": "scattergl"
           }
          ],
          "scattermapbox": [
           {
            "marker": {
             "colorbar": {
              "outlinewidth": 0,
              "ticks": ""
             }
            },
            "type": "scattermapbox"
           }
          ],
          "scatterpolar": [
           {
            "marker": {
             "colorbar": {
              "outlinewidth": 0,
              "ticks": ""
             }
            },
            "type": "scatterpolar"
           }
          ],
          "scatterpolargl": [
           {
            "marker": {
             "colorbar": {
              "outlinewidth": 0,
              "ticks": ""
             }
            },
            "type": "scatterpolargl"
           }
          ],
          "scatterternary": [
           {
            "marker": {
             "colorbar": {
              "outlinewidth": 0,
              "ticks": ""
             }
            },
            "type": "scatterternary"
           }
          ],
          "surface": [
           {
            "colorbar": {
             "outlinewidth": 0,
             "ticks": ""
            },
            "colorscale": [
             [
              0,
              "#0d0887"
             ],
             [
              0.1111111111111111,
              "#46039f"
             ],
             [
              0.2222222222222222,
              "#7201a8"
             ],
             [
              0.3333333333333333,
              "#9c179e"
             ],
             [
              0.4444444444444444,
              "#bd3786"
             ],
             [
              0.5555555555555556,
              "#d8576b"
             ],
             [
              0.6666666666666666,
              "#ed7953"
             ],
             [
              0.7777777777777778,
              "#fb9f3a"
             ],
             [
              0.8888888888888888,
              "#fdca26"
             ],
             [
              1,
              "#f0f921"
             ]
            ],
            "type": "surface"
           }
          ],
          "table": [
           {
            "cells": {
             "fill": {
              "color": "#EBF0F8"
             },
             "line": {
              "color": "white"
             }
            },
            "header": {
             "fill": {
              "color": "#C8D4E3"
             },
             "line": {
              "color": "white"
             }
            },
            "type": "table"
           }
          ]
         },
         "layout": {
          "annotationdefaults": {
           "arrowcolor": "#2a3f5f",
           "arrowhead": 0,
           "arrowwidth": 1
          },
          "coloraxis": {
           "colorbar": {
            "outlinewidth": 0,
            "ticks": ""
           }
          },
          "colorscale": {
           "diverging": [
            [
             0,
             "#8e0152"
            ],
            [
             0.1,
             "#c51b7d"
            ],
            [
             0.2,
             "#de77ae"
            ],
            [
             0.3,
             "#f1b6da"
            ],
            [
             0.4,
             "#fde0ef"
            ],
            [
             0.5,
             "#f7f7f7"
            ],
            [
             0.6,
             "#e6f5d0"
            ],
            [
             0.7,
             "#b8e186"
            ],
            [
             0.8,
             "#7fbc41"
            ],
            [
             0.9,
             "#4d9221"
            ],
            [
             1,
             "#276419"
            ]
           ],
           "sequential": [
            [
             0,
             "#0d0887"
            ],
            [
             0.1111111111111111,
             "#46039f"
            ],
            [
             0.2222222222222222,
             "#7201a8"
            ],
            [
             0.3333333333333333,
             "#9c179e"
            ],
            [
             0.4444444444444444,
             "#bd3786"
            ],
            [
             0.5555555555555556,
             "#d8576b"
            ],
            [
             0.6666666666666666,
             "#ed7953"
            ],
            [
             0.7777777777777778,
             "#fb9f3a"
            ],
            [
             0.8888888888888888,
             "#fdca26"
            ],
            [
             1,
             "#f0f921"
            ]
           ],
           "sequentialminus": [
            [
             0,
             "#0d0887"
            ],
            [
             0.1111111111111111,
             "#46039f"
            ],
            [
             0.2222222222222222,
             "#7201a8"
            ],
            [
             0.3333333333333333,
             "#9c179e"
            ],
            [
             0.4444444444444444,
             "#bd3786"
            ],
            [
             0.5555555555555556,
             "#d8576b"
            ],
            [
             0.6666666666666666,
             "#ed7953"
            ],
            [
             0.7777777777777778,
             "#fb9f3a"
            ],
            [
             0.8888888888888888,
             "#fdca26"
            ],
            [
             1,
             "#f0f921"
            ]
           ]
          },
          "colorway": [
           "#636efa",
           "#EF553B",
           "#00cc96",
           "#ab63fa",
           "#FFA15A",
           "#19d3f3",
           "#FF6692",
           "#B6E880",
           "#FF97FF",
           "#FECB52"
          ],
          "font": {
           "color": "#2a3f5f"
          },
          "geo": {
           "bgcolor": "white",
           "lakecolor": "white",
           "landcolor": "#E5ECF6",
           "showlakes": true,
           "showland": true,
           "subunitcolor": "white"
          },
          "hoverlabel": {
           "align": "left"
          },
          "hovermode": "closest",
          "mapbox": {
           "style": "light"
          },
          "paper_bgcolor": "white",
          "plot_bgcolor": "#E5ECF6",
          "polar": {
           "angularaxis": {
            "gridcolor": "white",
            "linecolor": "white",
            "ticks": ""
           },
           "bgcolor": "#E5ECF6",
           "radialaxis": {
            "gridcolor": "white",
            "linecolor": "white",
            "ticks": ""
           }
          },
          "scene": {
           "xaxis": {
            "backgroundcolor": "#E5ECF6",
            "gridcolor": "white",
            "gridwidth": 2,
            "linecolor": "white",
            "showbackground": true,
            "ticks": "",
            "zerolinecolor": "white"
           },
           "yaxis": {
            "backgroundcolor": "#E5ECF6",
            "gridcolor": "white",
            "gridwidth": 2,
            "linecolor": "white",
            "showbackground": true,
            "ticks": "",
            "zerolinecolor": "white"
           },
           "zaxis": {
            "backgroundcolor": "#E5ECF6",
            "gridcolor": "white",
            "gridwidth": 2,
            "linecolor": "white",
            "showbackground": true,
            "ticks": "",
            "zerolinecolor": "white"
           }
          },
          "shapedefaults": {
           "line": {
            "color": "#2a3f5f"
           }
          },
          "ternary": {
           "aaxis": {
            "gridcolor": "white",
            "linecolor": "white",
            "ticks": ""
           },
           "baxis": {
            "gridcolor": "white",
            "linecolor": "white",
            "ticks": ""
           },
           "bgcolor": "#E5ECF6",
           "caxis": {
            "gridcolor": "white",
            "linecolor": "white",
            "ticks": ""
           }
          },
          "title": {
           "x": 0.05
          },
          "xaxis": {
           "automargin": true,
           "gridcolor": "white",
           "linecolor": "white",
           "ticks": "",
           "title": {
            "standoff": 15
           },
           "zerolinecolor": "white",
           "zerolinewidth": 2
          },
          "yaxis": {
           "automargin": true,
           "gridcolor": "white",
           "linecolor": "white",
           "ticks": "",
           "title": {
            "standoff": 15
           },
           "zerolinecolor": "white",
           "zerolinewidth": 2
          }
         }
        },
        "title": {
         "text": "Cumulative count of COVID-19 cases in US states",
         "x": 0.5
        },
        "updatemenus": [
         {
          "buttons": [
           {
            "args": [
             null,
             {
              "frame": {
               "duration": 500,
               "redraw": true
              },
              "fromcurrent": true,
              "mode": "immediate",
              "transition": {
               "duration": 500,
               "easing": "linear"
              }
             }
            ],
            "label": "&#9654;",
            "method": "animate"
           },
           {
            "args": [
             [
              null
             ],
             {
              "frame": {
               "duration": 0,
               "redraw": true
              },
              "fromcurrent": true,
              "mode": "immediate",
              "transition": {
               "duration": 0,
               "easing": "linear"
              }
             }
            ],
            "label": "&#9724;",
            "method": "animate"
           }
          ],
          "direction": "left",
          "pad": {
           "r": 10,
           "t": 70
          },
          "showactive": false,
          "type": "buttons",
          "x": 0.1,
          "xanchor": "right",
          "y": 0,
          "yanchor": "top"
         }
        ]
       }
      },
      "text/html": [
       "<div>\n",
       "        \n",
       "        \n",
       "            <div id=\"700153e9-7f81-4e88-bcb6-a5f698962e38\" class=\"plotly-graph-div\" style=\"height:525px; width:100%;\"></div>\n",
       "            <script type=\"text/javascript\">\n",
       "                require([\"plotly\"], function(Plotly) {\n",
       "                    window.PLOTLYENV=window.PLOTLYENV || {};\n",
       "                    \n",
       "                if (document.getElementById(\"700153e9-7f81-4e88-bcb6-a5f698962e38\")) {\n",
       "                    Plotly.newPlot(\n",
       "                        '700153e9-7f81-4e88-bcb6-a5f698962e38',\n",
       "                        [{\"coloraxis\": \"coloraxis\", \"geo\": \"geo\", \"hovertemplate\": \"animation_frame=2020-01-25<br>locations=%{location}<br>color=%{z}<extra></extra>\", \"locationmode\": \"USA-states\", \"locations\": [\"IL\", \"WA\"], \"name\": \"\", \"type\": \"choropleth\", \"z\": [1.0, 1.0]}],\n",
       "                        {\"coloraxis\": {\"cmax\": 55000, \"cmin\": 0, \"colorbar\": {\"title\": {\"text\": \"color\"}}, \"colorscale\": [[0.0, \"rgb(255,245,240)\"], [0.125, \"rgb(254,224,210)\"], [0.25, \"rgb(252,187,161)\"], [0.375, \"rgb(252,146,114)\"], [0.5, \"rgb(251,106,74)\"], [0.625, \"rgb(239,59,44)\"], [0.75, \"rgb(203,24,29)\"], [0.875, \"rgb(165,15,21)\"], [1.0, \"rgb(103,0,13)\"]]}, \"font\": {\"size\": 14}, \"geo\": {\"center\": {}, \"domain\": {\"x\": [0.0, 1.0], \"y\": [0.0, 1.0]}, \"scope\": \"usa\"}, \"legend\": {\"tracegroupgap\": 0}, \"margin\": {\"t\": 60}, \"sliders\": [{\"active\": 0, \"currentvalue\": {\"prefix\": \"animation_frame=\"}, \"len\": 0.9, \"pad\": {\"b\": 10, \"t\": 60}, \"steps\": [{\"args\": [[\"2020-01-25\"], {\"frame\": {\"duration\": 0, \"redraw\": true}, \"fromcurrent\": true, \"mode\": \"immediate\", \"transition\": {\"duration\": 0, \"easing\": \"linear\"}}], \"label\": \"2020-01-25\", \"method\": \"animate\"}, {\"args\": [[\"2020-01-26\"], {\"frame\": {\"duration\": 0, \"redraw\": true}, \"fromcurrent\": true, \"mode\": \"immediate\", \"transition\": {\"duration\": 0, \"easing\": \"linear\"}}], \"label\": \"2020-01-26\", \"method\": \"animate\"}, {\"args\": [[\"2020-01-27\"], {\"frame\": {\"duration\": 0, \"redraw\": true}, \"fromcurrent\": true, \"mode\": \"immediate\", \"transition\": {\"duration\": 0, \"easing\": \"linear\"}}], \"label\": \"2020-01-27\", \"method\": \"animate\"}, {\"args\": [[\"2020-01-28\"], {\"frame\": {\"duration\": 0, \"redraw\": true}, \"fromcurrent\": true, \"mode\": \"immediate\", \"transition\": {\"duration\": 0, \"easing\": \"linear\"}}], \"label\": \"2020-01-28\", \"method\": \"animate\"}, {\"args\": [[\"2020-01-29\"], {\"frame\": {\"duration\": 0, \"redraw\": true}, \"fromcurrent\": true, \"mode\": \"immediate\", \"transition\": {\"duration\": 0, \"easing\": \"linear\"}}], \"label\": \"2020-01-29\", \"method\": \"animate\"}, {\"args\": [[\"2020-01-30\"], {\"frame\": {\"duration\": 0, \"redraw\": true}, \"fromcurrent\": true, \"mode\": \"immediate\", \"transition\": {\"duration\": 0, \"easing\": \"linear\"}}], \"label\": \"2020-01-30\", \"method\": \"animate\"}, {\"args\": [[\"2020-01-31\"], {\"frame\": {\"duration\": 0, \"redraw\": true}, \"fromcurrent\": true, \"mode\": \"immediate\", \"transition\": {\"duration\": 0, \"easing\": \"linear\"}}], \"label\": \"2020-01-31\", \"method\": \"animate\"}, {\"args\": [[\"2020-02-01\"], {\"frame\": {\"duration\": 0, \"redraw\": true}, \"fromcurrent\": true, \"mode\": \"immediate\", \"transition\": {\"duration\": 0, \"easing\": \"linear\"}}], \"label\": \"2020-02-01\", \"method\": \"animate\"}, {\"args\": [[\"2020-02-02\"], {\"frame\": {\"duration\": 0, \"redraw\": true}, \"fromcurrent\": true, \"mode\": \"immediate\", \"transition\": {\"duration\": 0, \"easing\": \"linear\"}}], \"label\": \"2020-02-02\", \"method\": \"animate\"}, {\"args\": [[\"2020-02-03\"], {\"frame\": {\"duration\": 0, \"redraw\": true}, \"fromcurrent\": true, \"mode\": \"immediate\", \"transition\": {\"duration\": 0, \"easing\": \"linear\"}}], \"label\": \"2020-02-03\", \"method\": \"animate\"}, {\"args\": [[\"2020-02-04\"], {\"frame\": {\"duration\": 0, \"redraw\": true}, \"fromcurrent\": true, \"mode\": \"immediate\", \"transition\": {\"duration\": 0, \"easing\": \"linear\"}}], \"label\": \"2020-02-04\", \"method\": \"animate\"}, {\"args\": [[\"2020-02-05\"], {\"frame\": {\"duration\": 0, \"redraw\": true}, \"fromcurrent\": true, \"mode\": \"immediate\", \"transition\": {\"duration\": 0, \"easing\": \"linear\"}}], \"label\": \"2020-02-05\", \"method\": \"animate\"}, {\"args\": [[\"2020-02-06\"], {\"frame\": {\"duration\": 0, \"redraw\": true}, \"fromcurrent\": true, \"mode\": \"immediate\", \"transition\": {\"duration\": 0, \"easing\": \"linear\"}}], \"label\": \"2020-02-06\", \"method\": \"animate\"}, {\"args\": [[\"2020-02-07\"], {\"frame\": {\"duration\": 0, \"redraw\": true}, \"fromcurrent\": true, \"mode\": \"immediate\", \"transition\": {\"duration\": 0, \"easing\": \"linear\"}}], \"label\": \"2020-02-07\", \"method\": \"animate\"}, {\"args\": [[\"2020-02-08\"], {\"frame\": {\"duration\": 0, \"redraw\": true}, \"fromcurrent\": true, \"mode\": \"immediate\", \"transition\": {\"duration\": 0, \"easing\": \"linear\"}}], \"label\": \"2020-02-08\", \"method\": \"animate\"}, {\"args\": [[\"2020-02-09\"], {\"frame\": {\"duration\": 0, \"redraw\": true}, \"fromcurrent\": true, \"mode\": \"immediate\", \"transition\": {\"duration\": 0, \"easing\": \"linear\"}}], \"label\": \"2020-02-09\", \"method\": \"animate\"}, {\"args\": [[\"2020-02-10\"], {\"frame\": {\"duration\": 0, \"redraw\": true}, \"fromcurrent\": true, \"mode\": \"immediate\", \"transition\": {\"duration\": 0, \"easing\": \"linear\"}}], \"label\": \"2020-02-10\", \"method\": \"animate\"}, {\"args\": [[\"2020-02-11\"], {\"frame\": {\"duration\": 0, \"redraw\": true}, \"fromcurrent\": true, \"mode\": \"immediate\", \"transition\": {\"duration\": 0, \"easing\": \"linear\"}}], \"label\": \"2020-02-11\", \"method\": \"animate\"}, {\"args\": [[\"2020-02-12\"], {\"frame\": {\"duration\": 0, \"redraw\": true}, \"fromcurrent\": true, \"mode\": \"immediate\", \"transition\": {\"duration\": 0, \"easing\": \"linear\"}}], \"label\": \"2020-02-12\", \"method\": \"animate\"}, {\"args\": [[\"2020-02-13\"], {\"frame\": {\"duration\": 0, \"redraw\": true}, \"fromcurrent\": true, \"mode\": \"immediate\", \"transition\": {\"duration\": 0, \"easing\": \"linear\"}}], \"label\": \"2020-02-13\", \"method\": \"animate\"}, {\"args\": [[\"2020-02-14\"], {\"frame\": {\"duration\": 0, \"redraw\": true}, \"fromcurrent\": true, \"mode\": \"immediate\", \"transition\": {\"duration\": 0, \"easing\": \"linear\"}}], \"label\": \"2020-02-14\", \"method\": \"animate\"}, {\"args\": [[\"2020-02-15\"], {\"frame\": {\"duration\": 0, \"redraw\": true}, \"fromcurrent\": true, \"mode\": \"immediate\", \"transition\": {\"duration\": 0, \"easing\": \"linear\"}}], \"label\": \"2020-02-15\", \"method\": \"animate\"}, {\"args\": [[\"2020-02-16\"], {\"frame\": {\"duration\": 0, \"redraw\": true}, \"fromcurrent\": true, \"mode\": \"immediate\", \"transition\": {\"duration\": 0, \"easing\": \"linear\"}}], \"label\": \"2020-02-16\", \"method\": \"animate\"}, {\"args\": [[\"2020-02-17\"], {\"frame\": {\"duration\": 0, \"redraw\": true}, \"fromcurrent\": true, \"mode\": \"immediate\", \"transition\": {\"duration\": 0, \"easing\": \"linear\"}}], \"label\": \"2020-02-17\", \"method\": \"animate\"}, {\"args\": [[\"2020-02-18\"], {\"frame\": {\"duration\": 0, \"redraw\": true}, \"fromcurrent\": true, \"mode\": \"immediate\", \"transition\": {\"duration\": 0, \"easing\": \"linear\"}}], \"label\": \"2020-02-18\", \"method\": \"animate\"}, {\"args\": [[\"2020-02-19\"], {\"frame\": {\"duration\": 0, \"redraw\": true}, \"fromcurrent\": true, \"mode\": \"immediate\", \"transition\": {\"duration\": 0, \"easing\": \"linear\"}}], \"label\": \"2020-02-19\", \"method\": \"animate\"}, {\"args\": [[\"2020-02-20\"], {\"frame\": {\"duration\": 0, \"redraw\": true}, \"fromcurrent\": true, \"mode\": \"immediate\", \"transition\": {\"duration\": 0, \"easing\": \"linear\"}}], \"label\": \"2020-02-20\", \"method\": \"animate\"}, {\"args\": [[\"2020-02-21\"], {\"frame\": {\"duration\": 0, \"redraw\": true}, \"fromcurrent\": true, \"mode\": \"immediate\", \"transition\": {\"duration\": 0, \"easing\": \"linear\"}}], \"label\": \"2020-02-21\", \"method\": \"animate\"}, {\"args\": [[\"2020-02-22\"], {\"frame\": {\"duration\": 0, \"redraw\": true}, \"fromcurrent\": true, \"mode\": \"immediate\", \"transition\": {\"duration\": 0, \"easing\": \"linear\"}}], \"label\": \"2020-02-22\", \"method\": \"animate\"}, {\"args\": [[\"2020-02-23\"], {\"frame\": {\"duration\": 0, \"redraw\": true}, \"fromcurrent\": true, \"mode\": \"immediate\", \"transition\": {\"duration\": 0, \"easing\": \"linear\"}}], \"label\": \"2020-02-23\", \"method\": \"animate\"}, {\"args\": [[\"2020-02-24\"], {\"frame\": {\"duration\": 0, \"redraw\": true}, \"fromcurrent\": true, \"mode\": \"immediate\", \"transition\": {\"duration\": 0, \"easing\": \"linear\"}}], \"label\": \"2020-02-24\", \"method\": \"animate\"}, {\"args\": [[\"2020-02-25\"], {\"frame\": {\"duration\": 0, \"redraw\": true}, \"fromcurrent\": true, \"mode\": \"immediate\", \"transition\": {\"duration\": 0, \"easing\": \"linear\"}}], \"label\": \"2020-02-25\", \"method\": \"animate\"}, {\"args\": [[\"2020-02-26\"], {\"frame\": {\"duration\": 0, \"redraw\": true}, \"fromcurrent\": true, \"mode\": \"immediate\", \"transition\": {\"duration\": 0, \"easing\": \"linear\"}}], \"label\": \"2020-02-26\", \"method\": \"animate\"}, {\"args\": [[\"2020-02-27\"], {\"frame\": {\"duration\": 0, \"redraw\": true}, \"fromcurrent\": true, \"mode\": \"immediate\", \"transition\": {\"duration\": 0, \"easing\": \"linear\"}}], \"label\": \"2020-02-27\", \"method\": \"animate\"}, {\"args\": [[\"2020-02-28\"], {\"frame\": {\"duration\": 0, \"redraw\": true}, \"fromcurrent\": true, \"mode\": \"immediate\", \"transition\": {\"duration\": 0, \"easing\": \"linear\"}}], \"label\": \"2020-02-28\", \"method\": \"animate\"}, {\"args\": [[\"2020-02-29\"], {\"frame\": {\"duration\": 0, \"redraw\": true}, \"fromcurrent\": true, \"mode\": \"immediate\", \"transition\": {\"duration\": 0, \"easing\": \"linear\"}}], \"label\": \"2020-02-29\", \"method\": \"animate\"}, {\"args\": [[\"2020-03-01\"], {\"frame\": {\"duration\": 0, \"redraw\": true}, \"fromcurrent\": true, \"mode\": \"immediate\", \"transition\": {\"duration\": 0, \"easing\": \"linear\"}}], \"label\": \"2020-03-01\", \"method\": \"animate\"}, {\"args\": [[\"2020-03-02\"], {\"frame\": {\"duration\": 0, \"redraw\": true}, \"fromcurrent\": true, \"mode\": \"immediate\", \"transition\": {\"duration\": 0, \"easing\": \"linear\"}}], \"label\": \"2020-03-02\", \"method\": \"animate\"}, {\"args\": [[\"2020-03-03\"], {\"frame\": {\"duration\": 0, \"redraw\": true}, \"fromcurrent\": true, \"mode\": \"immediate\", \"transition\": {\"duration\": 0, \"easing\": \"linear\"}}], \"label\": \"2020-03-03\", \"method\": \"animate\"}, {\"args\": [[\"2020-03-04\"], {\"frame\": {\"duration\": 0, \"redraw\": true}, \"fromcurrent\": true, \"mode\": \"immediate\", \"transition\": {\"duration\": 0, \"easing\": \"linear\"}}], \"label\": \"2020-03-04\", \"method\": \"animate\"}, {\"args\": [[\"2020-03-05\"], {\"frame\": {\"duration\": 0, \"redraw\": true}, \"fromcurrent\": true, \"mode\": \"immediate\", \"transition\": {\"duration\": 0, \"easing\": \"linear\"}}], \"label\": \"2020-03-05\", \"method\": \"animate\"}, {\"args\": [[\"2020-03-06\"], {\"frame\": {\"duration\": 0, \"redraw\": true}, \"fromcurrent\": true, \"mode\": \"immediate\", \"transition\": {\"duration\": 0, \"easing\": \"linear\"}}], \"label\": \"2020-03-06\", \"method\": \"animate\"}, {\"args\": [[\"2020-03-07\"], {\"frame\": {\"duration\": 0, \"redraw\": true}, \"fromcurrent\": true, \"mode\": \"immediate\", \"transition\": {\"duration\": 0, \"easing\": \"linear\"}}], \"label\": \"2020-03-07\", \"method\": \"animate\"}, {\"args\": [[\"2020-03-08\"], {\"frame\": {\"duration\": 0, \"redraw\": true}, \"fromcurrent\": true, \"mode\": \"immediate\", \"transition\": {\"duration\": 0, \"easing\": \"linear\"}}], \"label\": \"2020-03-08\", \"method\": \"animate\"}, {\"args\": [[\"2020-03-09\"], {\"frame\": {\"duration\": 0, \"redraw\": true}, \"fromcurrent\": true, \"mode\": \"immediate\", \"transition\": {\"duration\": 0, \"easing\": \"linear\"}}], \"label\": \"2020-03-09\", \"method\": \"animate\"}, {\"args\": [[\"2020-03-10\"], {\"frame\": {\"duration\": 0, \"redraw\": true}, \"fromcurrent\": true, \"mode\": \"immediate\", \"transition\": {\"duration\": 0, \"easing\": \"linear\"}}], \"label\": \"2020-03-10\", \"method\": \"animate\"}, {\"args\": [[\"2020-03-11\"], {\"frame\": {\"duration\": 0, \"redraw\": true}, \"fromcurrent\": true, \"mode\": \"immediate\", \"transition\": {\"duration\": 0, \"easing\": \"linear\"}}], \"label\": \"2020-03-11\", \"method\": \"animate\"}, {\"args\": [[\"2020-03-12\"], {\"frame\": {\"duration\": 0, \"redraw\": true}, \"fromcurrent\": true, \"mode\": \"immediate\", \"transition\": {\"duration\": 0, \"easing\": \"linear\"}}], \"label\": \"2020-03-12\", \"method\": \"animate\"}, {\"args\": [[\"2020-03-13\"], {\"frame\": {\"duration\": 0, \"redraw\": true}, \"fromcurrent\": true, \"mode\": \"immediate\", \"transition\": {\"duration\": 0, \"easing\": \"linear\"}}], \"label\": \"2020-03-13\", \"method\": \"animate\"}, {\"args\": [[\"2020-03-14\"], {\"frame\": {\"duration\": 0, \"redraw\": true}, \"fromcurrent\": true, \"mode\": \"immediate\", \"transition\": {\"duration\": 0, \"easing\": \"linear\"}}], \"label\": \"2020-03-14\", \"method\": \"animate\"}, {\"args\": [[\"2020-03-15\"], {\"frame\": {\"duration\": 0, \"redraw\": true}, \"fromcurrent\": true, \"mode\": \"immediate\", \"transition\": {\"duration\": 0, \"easing\": \"linear\"}}], \"label\": \"2020-03-15\", \"method\": \"animate\"}, {\"args\": [[\"2020-03-16\"], {\"frame\": {\"duration\": 0, \"redraw\": true}, \"fromcurrent\": true, \"mode\": \"immediate\", \"transition\": {\"duration\": 0, \"easing\": \"linear\"}}], \"label\": \"2020-03-16\", \"method\": \"animate\"}, {\"args\": [[\"2020-03-17\"], {\"frame\": {\"duration\": 0, \"redraw\": true}, \"fromcurrent\": true, \"mode\": \"immediate\", \"transition\": {\"duration\": 0, \"easing\": \"linear\"}}], \"label\": \"2020-03-17\", \"method\": \"animate\"}, {\"args\": [[\"2020-03-18\"], {\"frame\": {\"duration\": 0, \"redraw\": true}, \"fromcurrent\": true, \"mode\": \"immediate\", \"transition\": {\"duration\": 0, \"easing\": \"linear\"}}], \"label\": \"2020-03-18\", \"method\": \"animate\"}, {\"args\": [[\"2020-03-19\"], {\"frame\": {\"duration\": 0, \"redraw\": true}, \"fromcurrent\": true, \"mode\": \"immediate\", \"transition\": {\"duration\": 0, \"easing\": \"linear\"}}], \"label\": \"2020-03-19\", \"method\": \"animate\"}, {\"args\": [[\"2020-03-20\"], {\"frame\": {\"duration\": 0, \"redraw\": true}, \"fromcurrent\": true, \"mode\": \"immediate\", \"transition\": {\"duration\": 0, \"easing\": \"linear\"}}], \"label\": \"2020-03-20\", \"method\": \"animate\"}, {\"args\": [[\"2020-03-21\"], {\"frame\": {\"duration\": 0, \"redraw\": true}, \"fromcurrent\": true, \"mode\": \"immediate\", \"transition\": {\"duration\": 0, \"easing\": \"linear\"}}], \"label\": \"2020-03-21\", \"method\": \"animate\"}, {\"args\": [[\"2020-03-22\"], {\"frame\": {\"duration\": 0, \"redraw\": true}, \"fromcurrent\": true, \"mode\": \"immediate\", \"transition\": {\"duration\": 0, \"easing\": \"linear\"}}], \"label\": \"2020-03-22\", \"method\": \"animate\"}, {\"args\": [[\"2020-03-23\"], {\"frame\": {\"duration\": 0, \"redraw\": true}, \"fromcurrent\": true, \"mode\": \"immediate\", \"transition\": {\"duration\": 0, \"easing\": \"linear\"}}], \"label\": \"2020-03-23\", \"method\": \"animate\"}, {\"args\": [[\"2020-03-24\"], {\"frame\": {\"duration\": 0, \"redraw\": true}, \"fromcurrent\": true, \"mode\": \"immediate\", \"transition\": {\"duration\": 0, \"easing\": \"linear\"}}], \"label\": \"2020-03-24\", \"method\": \"animate\"}, {\"args\": [[\"2020-03-25\"], {\"frame\": {\"duration\": 0, \"redraw\": true}, \"fromcurrent\": true, \"mode\": \"immediate\", \"transition\": {\"duration\": 0, \"easing\": \"linear\"}}], \"label\": \"2020-03-25\", \"method\": \"animate\"}, {\"args\": [[\"2020-03-26\"], {\"frame\": {\"duration\": 0, \"redraw\": true}, \"fromcurrent\": true, \"mode\": \"immediate\", \"transition\": {\"duration\": 0, \"easing\": \"linear\"}}], \"label\": \"2020-03-26\", \"method\": \"animate\"}, {\"args\": [[\"2020-03-27\"], {\"frame\": {\"duration\": 0, \"redraw\": true}, \"fromcurrent\": true, \"mode\": \"immediate\", \"transition\": {\"duration\": 0, \"easing\": \"linear\"}}], \"label\": \"2020-03-27\", \"method\": \"animate\"}, {\"args\": [[\"2020-03-28\"], {\"frame\": {\"duration\": 0, \"redraw\": true}, \"fromcurrent\": true, \"mode\": \"immediate\", \"transition\": {\"duration\": 0, \"easing\": \"linear\"}}], \"label\": \"2020-03-28\", \"method\": \"animate\"}, {\"args\": [[\"2020-03-29\"], {\"frame\": {\"duration\": 0, \"redraw\": true}, \"fromcurrent\": true, \"mode\": \"immediate\", \"transition\": {\"duration\": 0, \"easing\": \"linear\"}}], \"label\": \"2020-03-29\", \"method\": \"animate\"}, {\"args\": [[\"2020-03-30\"], {\"frame\": {\"duration\": 0, \"redraw\": true}, \"fromcurrent\": true, \"mode\": \"immediate\", \"transition\": {\"duration\": 0, \"easing\": \"linear\"}}], \"label\": \"2020-03-30\", \"method\": \"animate\"}, {\"args\": [[\"2020-03-31\"], {\"frame\": {\"duration\": 0, \"redraw\": true}, \"fromcurrent\": true, \"mode\": \"immediate\", \"transition\": {\"duration\": 0, \"easing\": \"linear\"}}], \"label\": \"2020-03-31\", \"method\": \"animate\"}, {\"args\": [[\"2020-04-01\"], {\"frame\": {\"duration\": 0, \"redraw\": true}, \"fromcurrent\": true, \"mode\": \"immediate\", \"transition\": {\"duration\": 0, \"easing\": \"linear\"}}], \"label\": \"2020-04-01\", \"method\": \"animate\"}, {\"args\": [[\"2020-04-02\"], {\"frame\": {\"duration\": 0, \"redraw\": true}, \"fromcurrent\": true, \"mode\": \"immediate\", \"transition\": {\"duration\": 0, \"easing\": \"linear\"}}], \"label\": \"2020-04-02\", \"method\": \"animate\"}, {\"args\": [[\"2020-04-03\"], {\"frame\": {\"duration\": 0, \"redraw\": true}, \"fromcurrent\": true, \"mode\": \"immediate\", \"transition\": {\"duration\": 0, \"easing\": \"linear\"}}], \"label\": \"2020-04-03\", \"method\": \"animate\"}, {\"args\": [[\"2020-04-04\"], {\"frame\": {\"duration\": 0, \"redraw\": true}, \"fromcurrent\": true, \"mode\": \"immediate\", \"transition\": {\"duration\": 0, \"easing\": \"linear\"}}], \"label\": \"2020-04-04\", \"method\": \"animate\"}, {\"args\": [[\"2020-04-05\"], {\"frame\": {\"duration\": 0, \"redraw\": true}, \"fromcurrent\": true, \"mode\": \"immediate\", \"transition\": {\"duration\": 0, \"easing\": \"linear\"}}], \"label\": \"2020-04-05\", \"method\": \"animate\"}, {\"args\": [[\"2020-04-06\"], {\"frame\": {\"duration\": 0, \"redraw\": true}, \"fromcurrent\": true, \"mode\": \"immediate\", \"transition\": {\"duration\": 0, \"easing\": \"linear\"}}], \"label\": \"2020-04-06\", \"method\": \"animate\"}, {\"args\": [[\"2020-04-07\"], {\"frame\": {\"duration\": 0, \"redraw\": true}, \"fromcurrent\": true, \"mode\": \"immediate\", \"transition\": {\"duration\": 0, \"easing\": \"linear\"}}], \"label\": \"2020-04-07\", \"method\": \"animate\"}, {\"args\": [[\"2020-04-08\"], {\"frame\": {\"duration\": 0, \"redraw\": true}, \"fromcurrent\": true, \"mode\": \"immediate\", \"transition\": {\"duration\": 0, \"easing\": \"linear\"}}], \"label\": \"2020-04-08\", \"method\": \"animate\"}, {\"args\": [[\"2020-04-09\"], {\"frame\": {\"duration\": 0, \"redraw\": true}, \"fromcurrent\": true, \"mode\": \"immediate\", \"transition\": {\"duration\": 0, \"easing\": \"linear\"}}], \"label\": \"2020-04-09\", \"method\": \"animate\"}, {\"args\": [[\"2020-04-10\"], {\"frame\": {\"duration\": 0, \"redraw\": true}, \"fromcurrent\": true, \"mode\": \"immediate\", \"transition\": {\"duration\": 0, \"easing\": \"linear\"}}], \"label\": \"2020-04-10\", \"method\": \"animate\"}, {\"args\": [[\"2020-04-11\"], {\"frame\": {\"duration\": 0, \"redraw\": true}, \"fromcurrent\": true, \"mode\": \"immediate\", \"transition\": {\"duration\": 0, \"easing\": \"linear\"}}], \"label\": \"2020-04-11\", \"method\": \"animate\"}, {\"args\": [[\"2020-04-12\"], {\"frame\": {\"duration\": 0, \"redraw\": true}, \"fromcurrent\": true, \"mode\": \"immediate\", \"transition\": {\"duration\": 0, \"easing\": \"linear\"}}], \"label\": \"2020-04-12\", \"method\": \"animate\"}, {\"args\": [[\"2020-04-13\"], {\"frame\": {\"duration\": 0, \"redraw\": true}, \"fromcurrent\": true, \"mode\": \"immediate\", \"transition\": {\"duration\": 0, \"easing\": \"linear\"}}], \"label\": \"2020-04-13\", \"method\": \"animate\"}, {\"args\": [[\"2020-04-14\"], {\"frame\": {\"duration\": 0, \"redraw\": true}, \"fromcurrent\": true, \"mode\": \"immediate\", \"transition\": {\"duration\": 0, \"easing\": \"linear\"}}], \"label\": \"2020-04-14\", \"method\": \"animate\"}, {\"args\": [[\"2020-04-15\"], {\"frame\": {\"duration\": 0, \"redraw\": true}, \"fromcurrent\": true, \"mode\": \"immediate\", \"transition\": {\"duration\": 0, \"easing\": \"linear\"}}], \"label\": \"2020-04-15\", \"method\": \"animate\"}, {\"args\": [[\"2020-04-16\"], {\"frame\": {\"duration\": 0, \"redraw\": true}, \"fromcurrent\": true, \"mode\": \"immediate\", \"transition\": {\"duration\": 0, \"easing\": \"linear\"}}], \"label\": \"2020-04-16\", \"method\": \"animate\"}, {\"args\": [[\"2020-04-17\"], {\"frame\": {\"duration\": 0, \"redraw\": true}, \"fromcurrent\": true, \"mode\": \"immediate\", \"transition\": {\"duration\": 0, \"easing\": \"linear\"}}], \"label\": \"2020-04-17\", \"method\": \"animate\"}, {\"args\": [[\"2020-04-18\"], {\"frame\": {\"duration\": 0, \"redraw\": true}, \"fromcurrent\": true, \"mode\": \"immediate\", \"transition\": {\"duration\": 0, \"easing\": \"linear\"}}], \"label\": \"2020-04-18\", \"method\": \"animate\"}, {\"args\": [[\"2020-04-19\"], {\"frame\": {\"duration\": 0, \"redraw\": true}, \"fromcurrent\": true, \"mode\": \"immediate\", \"transition\": {\"duration\": 0, \"easing\": \"linear\"}}], \"label\": \"2020-04-19\", \"method\": \"animate\"}, {\"args\": [[\"2020-04-20\"], {\"frame\": {\"duration\": 0, \"redraw\": true}, \"fromcurrent\": true, \"mode\": \"immediate\", \"transition\": {\"duration\": 0, \"easing\": \"linear\"}}], \"label\": \"2020-04-20\", \"method\": \"animate\"}, {\"args\": [[\"2020-04-21\"], {\"frame\": {\"duration\": 0, \"redraw\": true}, \"fromcurrent\": true, \"mode\": \"immediate\", \"transition\": {\"duration\": 0, \"easing\": \"linear\"}}], \"label\": \"2020-04-21\", \"method\": \"animate\"}, {\"args\": [[\"2020-04-22\"], {\"frame\": {\"duration\": 0, \"redraw\": true}, \"fromcurrent\": true, \"mode\": \"immediate\", \"transition\": {\"duration\": 0, \"easing\": \"linear\"}}], \"label\": \"2020-04-22\", \"method\": \"animate\"}, {\"args\": [[\"2020-04-23\"], {\"frame\": {\"duration\": 0, \"redraw\": true}, \"fromcurrent\": true, \"mode\": \"immediate\", \"transition\": {\"duration\": 0, \"easing\": \"linear\"}}], \"label\": \"2020-04-23\", \"method\": \"animate\"}, {\"args\": [[\"2020-04-24\"], {\"frame\": {\"duration\": 0, \"redraw\": true}, \"fromcurrent\": true, \"mode\": \"immediate\", \"transition\": {\"duration\": 0, \"easing\": \"linear\"}}], \"label\": \"2020-04-24\", \"method\": \"animate\"}, {\"args\": [[\"2020-04-25\"], {\"frame\": {\"duration\": 0, \"redraw\": true}, \"fromcurrent\": true, \"mode\": \"immediate\", \"transition\": {\"duration\": 0, \"easing\": \"linear\"}}], \"label\": \"2020-04-25\", \"method\": \"animate\"}, {\"args\": [[\"2020-04-26\"], {\"frame\": {\"duration\": 0, \"redraw\": true}, \"fromcurrent\": true, \"mode\": \"immediate\", \"transition\": {\"duration\": 0, \"easing\": \"linear\"}}], \"label\": \"2020-04-26\", \"method\": \"animate\"}], \"x\": 0.1, \"xanchor\": \"left\", \"y\": 0, \"yanchor\": \"top\"}], \"template\": {\"data\": {\"bar\": [{\"error_x\": {\"color\": \"#2a3f5f\"}, \"error_y\": {\"color\": \"#2a3f5f\"}, \"marker\": {\"line\": {\"color\": \"#E5ECF6\", \"width\": 0.5}}, \"type\": \"bar\"}], \"barpolar\": [{\"marker\": {\"line\": {\"color\": \"#E5ECF6\", \"width\": 0.5}}, \"type\": \"barpolar\"}], \"carpet\": [{\"aaxis\": {\"endlinecolor\": \"#2a3f5f\", \"gridcolor\": \"white\", \"linecolor\": \"white\", \"minorgridcolor\": \"white\", \"startlinecolor\": \"#2a3f5f\"}, \"baxis\": {\"endlinecolor\": \"#2a3f5f\", \"gridcolor\": \"white\", \"linecolor\": \"white\", \"minorgridcolor\": \"white\", \"startlinecolor\": \"#2a3f5f\"}, \"type\": \"carpet\"}], \"choropleth\": [{\"colorbar\": {\"outlinewidth\": 0, \"ticks\": \"\"}, \"type\": \"choropleth\"}], \"contour\": [{\"colorbar\": {\"outlinewidth\": 0, \"ticks\": \"\"}, \"colorscale\": [[0.0, \"#0d0887\"], [0.1111111111111111, \"#46039f\"], [0.2222222222222222, \"#7201a8\"], [0.3333333333333333, \"#9c179e\"], [0.4444444444444444, \"#bd3786\"], [0.5555555555555556, \"#d8576b\"], [0.6666666666666666, \"#ed7953\"], [0.7777777777777778, \"#fb9f3a\"], [0.8888888888888888, \"#fdca26\"], [1.0, \"#f0f921\"]], \"type\": \"contour\"}], \"contourcarpet\": [{\"colorbar\": {\"outlinewidth\": 0, \"ticks\": \"\"}, \"type\": \"contourcarpet\"}], \"heatmap\": [{\"colorbar\": {\"outlinewidth\": 0, \"ticks\": \"\"}, \"colorscale\": [[0.0, \"#0d0887\"], [0.1111111111111111, \"#46039f\"], [0.2222222222222222, \"#7201a8\"], [0.3333333333333333, \"#9c179e\"], [0.4444444444444444, \"#bd3786\"], [0.5555555555555556, \"#d8576b\"], [0.6666666666666666, \"#ed7953\"], [0.7777777777777778, \"#fb9f3a\"], [0.8888888888888888, \"#fdca26\"], [1.0, \"#f0f921\"]], \"type\": \"heatmap\"}], \"heatmapgl\": [{\"colorbar\": {\"outlinewidth\": 0, \"ticks\": \"\"}, \"colorscale\": [[0.0, \"#0d0887\"], [0.1111111111111111, \"#46039f\"], [0.2222222222222222, \"#7201a8\"], [0.3333333333333333, \"#9c179e\"], [0.4444444444444444, \"#bd3786\"], [0.5555555555555556, \"#d8576b\"], [0.6666666666666666, \"#ed7953\"], [0.7777777777777778, \"#fb9f3a\"], [0.8888888888888888, \"#fdca26\"], [1.0, \"#f0f921\"]], \"type\": \"heatmapgl\"}], \"histogram\": [{\"marker\": {\"colorbar\": {\"outlinewidth\": 0, \"ticks\": \"\"}}, \"type\": \"histogram\"}], \"histogram2d\": [{\"colorbar\": {\"outlinewidth\": 0, \"ticks\": \"\"}, \"colorscale\": [[0.0, \"#0d0887\"], [0.1111111111111111, \"#46039f\"], [0.2222222222222222, \"#7201a8\"], [0.3333333333333333, \"#9c179e\"], [0.4444444444444444, \"#bd3786\"], [0.5555555555555556, \"#d8576b\"], [0.6666666666666666, \"#ed7953\"], [0.7777777777777778, \"#fb9f3a\"], [0.8888888888888888, \"#fdca26\"], [1.0, \"#f0f921\"]], \"type\": \"histogram2d\"}], \"histogram2dcontour\": [{\"colorbar\": {\"outlinewidth\": 0, \"ticks\": \"\"}, \"colorscale\": [[0.0, \"#0d0887\"], [0.1111111111111111, \"#46039f\"], [0.2222222222222222, \"#7201a8\"], [0.3333333333333333, \"#9c179e\"], [0.4444444444444444, \"#bd3786\"], [0.5555555555555556, \"#d8576b\"], [0.6666666666666666, \"#ed7953\"], [0.7777777777777778, \"#fb9f3a\"], [0.8888888888888888, \"#fdca26\"], [1.0, \"#f0f921\"]], \"type\": \"histogram2dcontour\"}], \"mesh3d\": [{\"colorbar\": {\"outlinewidth\": 0, \"ticks\": \"\"}, \"type\": \"mesh3d\"}], \"parcoords\": [{\"line\": {\"colorbar\": {\"outlinewidth\": 0, \"ticks\": \"\"}}, \"type\": \"parcoords\"}], \"pie\": [{\"automargin\": true, \"type\": \"pie\"}], \"scatter\": [{\"marker\": {\"colorbar\": {\"outlinewidth\": 0, \"ticks\": \"\"}}, \"type\": \"scatter\"}], \"scatter3d\": [{\"line\": {\"colorbar\": {\"outlinewidth\": 0, \"ticks\": \"\"}}, \"marker\": {\"colorbar\": {\"outlinewidth\": 0, \"ticks\": \"\"}}, \"type\": \"scatter3d\"}], \"scattercarpet\": [{\"marker\": {\"colorbar\": {\"outlinewidth\": 0, \"ticks\": \"\"}}, \"type\": \"scattercarpet\"}], \"scattergeo\": [{\"marker\": {\"colorbar\": {\"outlinewidth\": 0, \"ticks\": \"\"}}, \"type\": \"scattergeo\"}], \"scattergl\": [{\"marker\": {\"colorbar\": {\"outlinewidth\": 0, \"ticks\": \"\"}}, \"type\": \"scattergl\"}], \"scattermapbox\": [{\"marker\": {\"colorbar\": {\"outlinewidth\": 0, \"ticks\": \"\"}}, \"type\": \"scattermapbox\"}], \"scatterpolar\": [{\"marker\": {\"colorbar\": {\"outlinewidth\": 0, \"ticks\": \"\"}}, \"type\": \"scatterpolar\"}], \"scatterpolargl\": [{\"marker\": {\"colorbar\": {\"outlinewidth\": 0, \"ticks\": \"\"}}, \"type\": \"scatterpolargl\"}], \"scatterternary\": [{\"marker\": {\"colorbar\": {\"outlinewidth\": 0, \"ticks\": \"\"}}, \"type\": \"scatterternary\"}], \"surface\": [{\"colorbar\": {\"outlinewidth\": 0, \"ticks\": \"\"}, \"colorscale\": [[0.0, \"#0d0887\"], [0.1111111111111111, \"#46039f\"], [0.2222222222222222, \"#7201a8\"], [0.3333333333333333, \"#9c179e\"], [0.4444444444444444, \"#bd3786\"], [0.5555555555555556, \"#d8576b\"], [0.6666666666666666, \"#ed7953\"], [0.7777777777777778, \"#fb9f3a\"], [0.8888888888888888, \"#fdca26\"], [1.0, \"#f0f921\"]], \"type\": \"surface\"}], \"table\": [{\"cells\": {\"fill\": {\"color\": \"#EBF0F8\"}, \"line\": {\"color\": \"white\"}}, \"header\": {\"fill\": {\"color\": \"#C8D4E3\"}, \"line\": {\"color\": \"white\"}}, \"type\": \"table\"}]}, \"layout\": {\"annotationdefaults\": {\"arrowcolor\": \"#2a3f5f\", \"arrowhead\": 0, \"arrowwidth\": 1}, \"coloraxis\": {\"colorbar\": {\"outlinewidth\": 0, \"ticks\": \"\"}}, \"colorscale\": {\"diverging\": [[0, \"#8e0152\"], [0.1, \"#c51b7d\"], [0.2, \"#de77ae\"], [0.3, \"#f1b6da\"], [0.4, \"#fde0ef\"], [0.5, \"#f7f7f7\"], [0.6, \"#e6f5d0\"], [0.7, \"#b8e186\"], [0.8, \"#7fbc41\"], [0.9, \"#4d9221\"], [1, \"#276419\"]], \"sequential\": [[0.0, \"#0d0887\"], [0.1111111111111111, \"#46039f\"], [0.2222222222222222, \"#7201a8\"], [0.3333333333333333, \"#9c179e\"], [0.4444444444444444, \"#bd3786\"], [0.5555555555555556, \"#d8576b\"], [0.6666666666666666, \"#ed7953\"], [0.7777777777777778, \"#fb9f3a\"], [0.8888888888888888, \"#fdca26\"], [1.0, \"#f0f921\"]], \"sequentialminus\": [[0.0, \"#0d0887\"], [0.1111111111111111, \"#46039f\"], [0.2222222222222222, \"#7201a8\"], [0.3333333333333333, \"#9c179e\"], [0.4444444444444444, \"#bd3786\"], [0.5555555555555556, \"#d8576b\"], [0.6666666666666666, \"#ed7953\"], [0.7777777777777778, \"#fb9f3a\"], [0.8888888888888888, \"#fdca26\"], [1.0, \"#f0f921\"]]}, \"colorway\": [\"#636efa\", \"#EF553B\", \"#00cc96\", \"#ab63fa\", \"#FFA15A\", \"#19d3f3\", \"#FF6692\", \"#B6E880\", \"#FF97FF\", \"#FECB52\"], \"font\": {\"color\": \"#2a3f5f\"}, \"geo\": {\"bgcolor\": \"white\", \"lakecolor\": \"white\", \"landcolor\": \"#E5ECF6\", \"showlakes\": true, \"showland\": true, \"subunitcolor\": \"white\"}, \"hoverlabel\": {\"align\": \"left\"}, \"hovermode\": \"closest\", \"mapbox\": {\"style\": \"light\"}, \"paper_bgcolor\": \"white\", \"plot_bgcolor\": \"#E5ECF6\", \"polar\": {\"angularaxis\": {\"gridcolor\": \"white\", \"linecolor\": \"white\", \"ticks\": \"\"}, \"bgcolor\": \"#E5ECF6\", \"radialaxis\": {\"gridcolor\": \"white\", \"linecolor\": \"white\", \"ticks\": \"\"}}, \"scene\": {\"xaxis\": {\"backgroundcolor\": \"#E5ECF6\", \"gridcolor\": \"white\", \"gridwidth\": 2, \"linecolor\": \"white\", \"showbackground\": true, \"ticks\": \"\", \"zerolinecolor\": \"white\"}, \"yaxis\": {\"backgroundcolor\": \"#E5ECF6\", \"gridcolor\": \"white\", \"gridwidth\": 2, \"linecolor\": \"white\", \"showbackground\": true, \"ticks\": \"\", \"zerolinecolor\": \"white\"}, \"zaxis\": {\"backgroundcolor\": \"#E5ECF6\", \"gridcolor\": \"white\", \"gridwidth\": 2, \"linecolor\": \"white\", \"showbackground\": true, \"ticks\": \"\", \"zerolinecolor\": \"white\"}}, \"shapedefaults\": {\"line\": {\"color\": \"#2a3f5f\"}}, \"ternary\": {\"aaxis\": {\"gridcolor\": \"white\", \"linecolor\": \"white\", \"ticks\": \"\"}, \"baxis\": {\"gridcolor\": \"white\", \"linecolor\": \"white\", \"ticks\": \"\"}, \"bgcolor\": \"#E5ECF6\", \"caxis\": {\"gridcolor\": \"white\", \"linecolor\": \"white\", \"ticks\": \"\"}}, \"title\": {\"x\": 0.05}, \"xaxis\": {\"automargin\": true, \"gridcolor\": \"white\", \"linecolor\": \"white\", \"ticks\": \"\", \"title\": {\"standoff\": 15}, \"zerolinecolor\": \"white\", \"zerolinewidth\": 2}, \"yaxis\": {\"automargin\": true, \"gridcolor\": \"white\", \"linecolor\": \"white\", \"ticks\": \"\", \"title\": {\"standoff\": 15}, \"zerolinecolor\": \"white\", \"zerolinewidth\": 2}}}, \"title\": {\"text\": \"Cumulative count of COVID-19 cases in US states\", \"x\": 0.5}, \"updatemenus\": [{\"buttons\": [{\"args\": [null, {\"frame\": {\"duration\": 500, \"redraw\": true}, \"fromcurrent\": true, \"mode\": \"immediate\", \"transition\": {\"duration\": 500, \"easing\": \"linear\"}}], \"label\": \"&#9654;\", \"method\": \"animate\"}, {\"args\": [[null], {\"frame\": {\"duration\": 0, \"redraw\": true}, \"fromcurrent\": true, \"mode\": \"immediate\", \"transition\": {\"duration\": 0, \"easing\": \"linear\"}}], \"label\": \"&#9724;\", \"method\": \"animate\"}], \"direction\": \"left\", \"pad\": {\"r\": 10, \"t\": 70}, \"showactive\": false, \"type\": \"buttons\", \"x\": 0.1, \"xanchor\": \"right\", \"y\": 0, \"yanchor\": \"top\"}]},\n",
       "                        {\"responsive\": true}\n",
       "                    ).then(function(){\n",
       "                            Plotly.addFrames('700153e9-7f81-4e88-bcb6-a5f698962e38', [{\"data\": [{\"coloraxis\": \"coloraxis\", \"geo\": \"geo\", \"hovertemplate\": \"animation_frame=2020-01-25<br>locations=%{location}<br>color=%{z}<extra></extra>\", \"locationmode\": \"USA-states\", \"locations\": [\"IL\", \"WA\"], \"name\": \"\", \"z\": [1.0, 1.0], \"type\": \"choropleth\"}], \"name\": \"2020-01-25\"}, {\"data\": [{\"coloraxis\": \"coloraxis\", \"geo\": \"geo\", \"hovertemplate\": \"animation_frame=2020-01-26<br>locations=%{location}<br>color=%{z}<extra></extra>\", \"locationmode\": \"USA-states\", \"locations\": [\"AZ\", \"IL\", \"WA\", \"CA\"], \"name\": \"\", \"z\": [1.0, 1.0, 1.0, 2.0], \"type\": \"choropleth\"}], \"name\": \"2020-01-26\"}, {\"data\": [{\"coloraxis\": \"coloraxis\", \"geo\": \"geo\", \"hovertemplate\": \"animation_frame=2020-01-27<br>locations=%{location}<br>color=%{z}<extra></extra>\", \"locationmode\": \"USA-states\", \"locations\": [\"AZ\", \"WA\", \"IL\", \"CA\"], \"name\": \"\", \"z\": [1.0, 1.0, 1.0, 2.0], \"type\": \"choropleth\"}], \"name\": \"2020-01-27\"}, {\"data\": [{\"coloraxis\": \"coloraxis\", \"geo\": \"geo\", \"hovertemplate\": \"animation_frame=2020-01-28<br>locations=%{location}<br>color=%{z}<extra></extra>\", \"locationmode\": \"USA-states\", \"locations\": [\"CA\", \"WA\", \"IL\", \"AZ\"], \"name\": \"\", \"z\": [2.0, 1.0, 1.0, 1.0], \"type\": \"choropleth\"}], \"name\": \"2020-01-28\"}, {\"data\": [{\"coloraxis\": \"coloraxis\", \"geo\": \"geo\", \"hovertemplate\": \"animation_frame=2020-01-29<br>locations=%{location}<br>color=%{z}<extra></extra>\", \"locationmode\": \"USA-states\", \"locations\": [\"WA\", \"AZ\", \"IL\", \"CA\"], \"name\": \"\", \"z\": [1.0, 1.0, 1.0, 2.0], \"type\": \"choropleth\"}], \"name\": \"2020-01-29\"}, {\"data\": [{\"coloraxis\": \"coloraxis\", \"geo\": \"geo\", \"hovertemplate\": \"animation_frame=2020-01-30<br>locations=%{location}<br>color=%{z}<extra></extra>\", \"locationmode\": \"USA-states\", \"locations\": [\"AZ\", \"IL\", \"CA\", \"WA\"], \"name\": \"\", \"z\": [1.0, 1.0, 2.0, 1.0], \"type\": \"choropleth\"}], \"name\": \"2020-01-30\"}, {\"data\": [{\"coloraxis\": \"coloraxis\", \"geo\": \"geo\", \"hovertemplate\": \"animation_frame=2020-01-31<br>locations=%{location}<br>color=%{z}<extra></extra>\", \"locationmode\": \"USA-states\", \"locations\": [\"WA\", \"CA\", \"AZ\", \"IL\"], \"name\": \"\", \"z\": [1.0, 2.0, 1.0, 2.0], \"type\": \"choropleth\"}], \"name\": \"2020-01-31\"}, {\"data\": [{\"coloraxis\": \"coloraxis\", \"geo\": \"geo\", \"hovertemplate\": \"animation_frame=2020-02-01<br>locations=%{location}<br>color=%{z}<extra></extra>\", \"locationmode\": \"USA-states\", \"locations\": [\"IL\", \"MA\", \"AZ\", \"WA\", \"CA\"], \"name\": \"\", \"z\": [2.0, 1.0, 1.0, 1.0, 3.0], \"type\": \"choropleth\"}], \"name\": \"2020-02-01\"}, {\"data\": [{\"coloraxis\": \"coloraxis\", \"geo\": \"geo\", \"hovertemplate\": \"animation_frame=2020-02-02<br>locations=%{location}<br>color=%{z}<extra></extra>\", \"locationmode\": \"USA-states\", \"locations\": [\"AZ\", \"WA\", \"CA\", \"IL\", \"MA\"], \"name\": \"\", \"z\": [1.0, 1.0, 3.0, 2.0, 1.0], \"type\": \"choropleth\"}], \"name\": \"2020-02-02\"}, {\"data\": [{\"coloraxis\": \"coloraxis\", \"geo\": \"geo\", \"hovertemplate\": \"animation_frame=2020-02-03<br>locations=%{location}<br>color=%{z}<extra></extra>\", \"locationmode\": \"USA-states\", \"locations\": [\"AZ\", \"WA\", \"CA\", \"MA\", \"IL\"], \"name\": \"\", \"z\": [1.0, 1.0, 6.0, 1.0, 2.0], \"type\": \"choropleth\"}], \"name\": \"2020-02-03\"}, {\"data\": [{\"coloraxis\": \"coloraxis\", \"geo\": \"geo\", \"hovertemplate\": \"animation_frame=2020-02-04<br>locations=%{location}<br>color=%{z}<extra></extra>\", \"locationmode\": \"USA-states\", \"locations\": [\"WA\", \"MA\", \"CA\", \"IL\", \"AZ\"], \"name\": \"\", \"z\": [1.0, 1.0, 6.0, 2.0, 1.0], \"type\": \"choropleth\"}], \"name\": \"2020-02-04\"}, {\"data\": [{\"coloraxis\": \"coloraxis\", \"geo\": \"geo\", \"hovertemplate\": \"animation_frame=2020-02-05<br>locations=%{location}<br>color=%{z}<extra></extra>\", \"locationmode\": \"USA-states\", \"locations\": [\"CA\", \"IL\", \"MA\", \"WI\", \"WA\", \"AZ\"], \"name\": \"\", \"z\": [6.0, 2.0, 1.0, 1.0, 1.0, 1.0], \"type\": \"choropleth\"}], \"name\": \"2020-02-05\"}, {\"data\": [{\"coloraxis\": \"coloraxis\", \"geo\": \"geo\", \"hovertemplate\": \"animation_frame=2020-02-06<br>locations=%{location}<br>color=%{z}<extra></extra>\", \"locationmode\": \"USA-states\", \"locations\": [\"WA\", \"WI\", \"AZ\", \"CA\", \"IL\", \"MA\"], \"name\": \"\", \"z\": [1.0, 1.0, 1.0, 6.0, 2.0, 1.0], \"type\": \"choropleth\"}], \"name\": \"2020-02-06\"}, {\"data\": [{\"coloraxis\": \"coloraxis\", \"geo\": \"geo\", \"hovertemplate\": \"animation_frame=2020-02-07<br>locations=%{location}<br>color=%{z}<extra></extra>\", \"locationmode\": \"USA-states\", \"locations\": [\"WI\", \"CA\", \"MA\", \"AZ\", \"WA\", \"IL\"], \"name\": \"\", \"z\": [1.0, 6.0, 1.0, 1.0, 1.0, 2.0], \"type\": \"choropleth\"}], \"name\": \"2020-02-07\"}, {\"data\": [{\"coloraxis\": \"coloraxis\", \"geo\": \"geo\", \"hovertemplate\": \"animation_frame=2020-02-08<br>locations=%{location}<br>color=%{z}<extra></extra>\", \"locationmode\": \"USA-states\", \"locations\": [\"CA\", \"WI\", \"AZ\", \"WA\", \"MA\", \"IL\"], \"name\": \"\", \"z\": [6.0, 1.0, 1.0, 1.0, 1.0, 2.0], \"type\": \"choropleth\"}], \"name\": \"2020-02-08\"}, {\"data\": [{\"coloraxis\": \"coloraxis\", \"geo\": \"geo\", \"hovertemplate\": \"animation_frame=2020-02-09<br>locations=%{location}<br>color=%{z}<extra></extra>\", \"locationmode\": \"USA-states\", \"locations\": [\"WA\", \"MA\", \"IL\", \"WI\", \"CA\", \"AZ\"], \"name\": \"\", \"z\": [1.0, 1.0, 2.0, 1.0, 6.0, 1.0], \"type\": \"choropleth\"}], \"name\": \"2020-02-09\"}, {\"data\": [{\"coloraxis\": \"coloraxis\", \"geo\": \"geo\", \"hovertemplate\": \"animation_frame=2020-02-10<br>locations=%{location}<br>color=%{z}<extra></extra>\", \"locationmode\": \"USA-states\", \"locations\": [\"WA\", \"IL\", \"WI\", \"MA\", \"CA\", \"AZ\"], \"name\": \"\", \"z\": [1.0, 2.0, 1.0, 1.0, 6.0, 1.0], \"type\": \"choropleth\"}], \"name\": \"2020-02-10\"}, {\"data\": [{\"coloraxis\": \"coloraxis\", \"geo\": \"geo\", \"hovertemplate\": \"animation_frame=2020-02-11<br>locations=%{location}<br>color=%{z}<extra></extra>\", \"locationmode\": \"USA-states\", \"locations\": [\"WI\", \"WA\", \"MA\", \"IL\", \"AZ\", \"CA\"], \"name\": \"\", \"z\": [1.0, 1.0, 1.0, 2.0, 1.0, 7.0], \"type\": \"choropleth\"}], \"name\": \"2020-02-11\"}, {\"data\": [{\"coloraxis\": \"coloraxis\", \"geo\": \"geo\", \"hovertemplate\": \"animation_frame=2020-02-12<br>locations=%{location}<br>color=%{z}<extra></extra>\", \"locationmode\": \"USA-states\", \"locations\": [\"MA\", \"AZ\", \"IL\", \"WI\", \"CA\", \"WA\"], \"name\": \"\", \"z\": [1.0, 1.0, 2.0, 1.0, 7.0, 1.0], \"type\": \"choropleth\"}], \"name\": \"2020-02-12\"}, {\"data\": [{\"coloraxis\": \"coloraxis\", \"geo\": \"geo\", \"hovertemplate\": \"animation_frame=2020-02-13<br>locations=%{location}<br>color=%{z}<extra></extra>\", \"locationmode\": \"USA-states\", \"locations\": [\"CA\", \"WA\", \"AZ\", \"MA\", \"WI\", \"IL\", \"TX\"], \"name\": \"\", \"z\": [8.0, 1.0, 1.0, 1.0, 1.0, 2.0, 1.0], \"type\": \"choropleth\"}], \"name\": \"2020-02-13\"}, {\"data\": [{\"coloraxis\": \"coloraxis\", \"geo\": \"geo\", \"hovertemplate\": \"animation_frame=2020-02-14<br>locations=%{location}<br>color=%{z}<extra></extra>\", \"locationmode\": \"USA-states\", \"locations\": [\"WA\", \"AZ\", \"IL\", \"TX\", \"WI\", \"MA\", \"CA\"], \"name\": \"\", \"z\": [1.0, 1.0, 2.0, 1.0, 1.0, 1.0, 8.0], \"type\": \"choropleth\"}], \"name\": \"2020-02-14\"}, {\"data\": [{\"coloraxis\": \"coloraxis\", \"geo\": \"geo\", \"hovertemplate\": \"animation_frame=2020-02-15<br>locations=%{location}<br>color=%{z}<extra></extra>\", \"locationmode\": \"USA-states\", \"locations\": [\"WA\", \"TX\", \"CA\", \"AZ\", \"IL\", \"MA\", \"WI\"], \"name\": \"\", \"z\": [1.0, 1.0, 8.0, 1.0, 2.0, 1.0, 1.0], \"type\": \"choropleth\"}], \"name\": \"2020-02-15\"}, {\"data\": [{\"coloraxis\": \"coloraxis\", \"geo\": \"geo\", \"hovertemplate\": \"animation_frame=2020-02-16<br>locations=%{location}<br>color=%{z}<extra></extra>\", \"locationmode\": \"USA-states\", \"locations\": [\"WA\", \"CA\", \"AZ\", \"MA\", \"IL\", \"WI\", \"TX\"], \"name\": \"\", \"z\": [1.0, 8.0, 1.0, 1.0, 2.0, 1.0, 1.0], \"type\": \"choropleth\"}], \"name\": \"2020-02-16\"}, {\"data\": [{\"coloraxis\": \"coloraxis\", \"geo\": \"geo\", \"hovertemplate\": \"animation_frame=2020-02-17<br>locations=%{location}<br>color=%{z}<extra></extra>\", \"locationmode\": \"USA-states\", \"locations\": [\"MA\", \"WI\", \"WA\", \"TX\", \"CA\", \"IL\", \"AZ\"], \"name\": \"\", \"z\": [1.0, 1.0, 1.0, 1.0, 8.0, 2.0, 1.0], \"type\": \"choropleth\"}], \"name\": \"2020-02-17\"}, {\"data\": [{\"coloraxis\": \"coloraxis\", \"geo\": \"geo\", \"hovertemplate\": \"animation_frame=2020-02-18<br>locations=%{location}<br>color=%{z}<extra></extra>\", \"locationmode\": \"USA-states\", \"locations\": [\"TX\", \"IL\", \"WI\", \"MA\", \"WA\", \"CA\", \"AZ\"], \"name\": \"\", \"z\": [1.0, 2.0, 1.0, 1.0, 1.0, 8.0, 1.0], \"type\": \"choropleth\"}], \"name\": \"2020-02-18\"}, {\"data\": [{\"coloraxis\": \"coloraxis\", \"geo\": \"geo\", \"hovertemplate\": \"animation_frame=2020-02-19<br>locations=%{location}<br>color=%{z}<extra></extra>\", \"locationmode\": \"USA-states\", \"locations\": [\"WA\", \"WI\", \"TX\", \"MA\", \"AZ\", \"IL\", \"CA\"], \"name\": \"\", \"z\": [1.0, 1.0, 1.0, 1.0, 1.0, 2.0, 8.0], \"type\": \"choropleth\"}], \"name\": \"2020-02-19\"}, {\"data\": [{\"coloraxis\": \"coloraxis\", \"geo\": \"geo\", \"hovertemplate\": \"animation_frame=2020-02-20<br>locations=%{location}<br>color=%{z}<extra></extra>\", \"locationmode\": \"USA-states\", \"locations\": [\"AZ\", \"MA\", \"WA\", \"IL\", \"TX\", \"WI\", \"CA\"], \"name\": \"\", \"z\": [1.0, 1.0, 1.0, 2.0, 1.0, 1.0, 8.0], \"type\": \"choropleth\"}], \"name\": \"2020-02-20\"}, {\"data\": [{\"coloraxis\": \"coloraxis\", \"geo\": \"geo\", \"hovertemplate\": \"animation_frame=2020-02-21<br>locations=%{location}<br>color=%{z}<extra></extra>\", \"locationmode\": \"USA-states\", \"locations\": [\"CA\", \"TX\", \"WA\", \"AZ\", \"WI\", \"MA\", \"NE\", \"IL\"], \"name\": \"\", \"z\": [15.0, 3.0, 1.0, 1.0, 1.0, 1.0, 11.0, 2.0], \"type\": \"choropleth\"}], \"name\": \"2020-02-21\"}, {\"data\": [{\"coloraxis\": \"coloraxis\", \"geo\": \"geo\", \"hovertemplate\": \"animation_frame=2020-02-22<br>locations=%{location}<br>color=%{z}<extra></extra>\", \"locationmode\": \"USA-states\", \"locations\": [\"CA\", \"AZ\", \"IL\", \"MA\", \"Others\", \"WI\", \"WA\", \"TX\"], \"name\": \"\", \"z\": [10.0, 1.0, 2.0, 1.0, 18.0, 1.0, 1.0, 1.0], \"type\": \"choropleth\"}], \"name\": \"2020-02-22\"}, {\"data\": [{\"coloraxis\": \"coloraxis\", \"geo\": \"geo\", \"hovertemplate\": \"animation_frame=2020-02-23<br>locations=%{location}<br>color=%{z}<extra></extra>\", \"locationmode\": \"USA-states\", \"locations\": [\"WI\", \"IL\", \"WA\", \"MA\", \"Others\", \"AZ\", \"TX\", \"CA\"], \"name\": \"\", \"z\": [1.0, 2.0, 1.0, 1.0, 18.0, 1.0, 1.0, 10.0], \"type\": \"choropleth\"}], \"name\": \"2020-02-23\"}, {\"data\": [{\"coloraxis\": \"coloraxis\", \"geo\": \"geo\", \"hovertemplate\": \"animation_frame=2020-02-24<br>locations=%{location}<br>color=%{z}<extra></extra>\", \"locationmode\": \"USA-states\", \"locations\": [\"WI\", \"IL\", \"MA\", \"CA\", \"AZ\", \"Others\", \"WA\", \"TX\"], \"name\": \"\", \"z\": [1.0, 2.0, 1.0, 10.0, 1.0, 36.0, 1.0, 1.0], \"type\": \"choropleth\"}], \"name\": \"2020-02-24\"}, {\"data\": [{\"coloraxis\": \"coloraxis\", \"geo\": \"geo\", \"hovertemplate\": \"animation_frame=2020-02-25<br>locations=%{location}<br>color=%{z}<extra></extra>\", \"locationmode\": \"USA-states\", \"locations\": [\"WA\", \"CA\", \"IL\", \"WI\", \"MA\", \"Others\", \"TX\", \"AZ\"], \"name\": \"\", \"z\": [1.0, 10.0, 2.0, 1.0, 1.0, 36.0, 1.0, 1.0], \"type\": \"choropleth\"}], \"name\": \"2020-02-25\"}, {\"data\": [{\"coloraxis\": \"coloraxis\", \"geo\": \"geo\", \"hovertemplate\": \"animation_frame=2020-02-26<br>locations=%{location}<br>color=%{z}<extra></extra>\", \"locationmode\": \"USA-states\", \"locations\": [\"AZ\", \"MA\", \"TX\", \"WI\", \"Others\", \"IL\", \"CA\", \"WA\"], \"name\": \"\", \"z\": [1.0, 1.0, 1.0, 1.0, 42.0, 2.0, 10.0, 1.0], \"type\": \"choropleth\"}], \"name\": \"2020-02-26\"}, {\"data\": [{\"coloraxis\": \"coloraxis\", \"geo\": \"geo\", \"hovertemplate\": \"animation_frame=2020-02-27<br>locations=%{location}<br>color=%{z}<extra></extra>\", \"locationmode\": \"USA-states\", \"locations\": [\"Others\", \"TX\", \"AZ\", \"WA\", \"WI\", \"IL\", \"CA\", \"MA\"], \"name\": \"\", \"z\": [42.0, 1.0, 1.0, 1.0, 1.0, 2.0, 11.0, 1.0], \"type\": \"choropleth\"}], \"name\": \"2020-02-27\"}, {\"data\": [{\"coloraxis\": \"coloraxis\", \"geo\": \"geo\", \"hovertemplate\": \"animation_frame=2020-02-28<br>locations=%{location}<br>color=%{z}<extra></extra>\", \"locationmode\": \"USA-states\", \"locations\": [\"IL\", \"MA\", \"Others\", \"TX\", \"WA\", \"CA\", \"AZ\", \"WI\"], \"name\": \"\", \"z\": [2.0, 1.0, 44.0, 1.0, 1.0, 11.0, 1.0, 1.0], \"type\": \"choropleth\"}], \"name\": \"2020-02-28\"}, {\"data\": [{\"coloraxis\": \"coloraxis\", \"geo\": \"geo\", \"hovertemplate\": \"animation_frame=2020-02-29<br>locations=%{location}<br>color=%{z}<extra></extra>\", \"locationmode\": \"USA-states\", \"locations\": [\"IL\", \"OR\", \"WI\", \"CA\", \"WA\", \"TX\", \"AZ\", \"MA\", \"Others\"], \"name\": \"\", \"z\": [2.0, 1.0, 1.0, 12.0, 7.0, 1.0, 1.0, 1.0, 44.0], \"type\": \"choropleth\"}], \"name\": \"2020-02-29\"}, {\"data\": [{\"coloraxis\": \"coloraxis\", \"geo\": \"geo\", \"hovertemplate\": \"animation_frame=2020-03-01<br>locations=%{location}<br>color=%{z}<extra></extra>\", \"locationmode\": \"USA-states\", \"locations\": [\"CA\", \"WA\", \"TX\", \"IL\", \"Others\", \"WI\", \"OR\", \"RI\", \"MA\", \"AZ\"], \"name\": \"\", \"z\": [12.0, 11.0, 1.0, 3.0, 44.0, 1.0, 1.0, 1.0, 1.0, 1.0], \"type\": \"choropleth\"}], \"name\": \"2020-03-01\"}, {\"data\": [{\"coloraxis\": \"coloraxis\", \"geo\": \"geo\", \"hovertemplate\": \"animation_frame=2020-03-02<br>locations=%{location}<br>color=%{z}<extra></extra>\", \"locationmode\": \"USA-states\", \"locations\": [\"MA\", \"WA\", \"WI\", \"OR\", \"CA\", \"NY\", \"FL\", \"TX\", \"NH\", \"AZ\", \"RI\", \"Others\", \"IL\"], \"name\": \"\", \"z\": [1.0, 18.0, 1.0, 3.0, 21.0, 1.0, 2.0, 1.0, 1.0, 1.0, 2.0, 45.0, 4.0], \"type\": \"choropleth\"}], \"name\": \"2020-03-02\"}, {\"data\": [{\"coloraxis\": \"coloraxis\", \"geo\": \"geo\", \"hovertemplate\": \"animation_frame=2020-03-03<br>locations=%{location}<br>color=%{z}<extra></extra>\", \"locationmode\": \"USA-states\", \"locations\": [\"WA\", \"RI\", \"NC\", \"IL\", \"CA\", \"AZ\", \"TX\", \"NH\", \"NY\", \"FL\", \"MA\", \"GA\", \"OR\", \"WI\", \"Others\"], \"name\": \"\", \"z\": [27.0, 2.0, 1.0, 4.0, 25.0, 2.0, 1.0, 2.0, 2.0, 3.0, 2.0, 2.0, 3.0, 1.0, 45.0], \"type\": \"choropleth\"}], \"name\": \"2020-03-03\"}, {\"data\": [{\"coloraxis\": \"coloraxis\", \"geo\": \"geo\", \"hovertemplate\": \"animation_frame=2020-03-04<br>locations=%{location}<br>color=%{z}<extra></extra>\", \"locationmode\": \"USA-states\", \"locations\": [\"FL\", \"CA\", \"AZ\", \"NC\", \"OR\", \"TX\", \"WI\", \"IL\", \"NY\", \"MA\", \"WA\", \"GA\", \"NH\", \"Others\", \"RI\"], \"name\": \"\", \"z\": [3.0, 35.0, 2.0, 1.0, 3.0, 1.0, 1.0, 4.0, 11.0, 2.0, 39.0, 2.0, 2.0, 45.0, 2.0], \"type\": \"choropleth\"}], \"name\": \"2020-03-04\"}, {\"data\": [{\"coloraxis\": \"coloraxis\", \"geo\": \"geo\", \"hovertemplate\": \"animation_frame=2020-03-05<br>locations=%{location}<br>color=%{z}<extra></extra>\", \"locationmode\": \"USA-states\", \"locations\": [\"AZ\", \"Others\", \"GA\", \"IL\", \"TN\", \"NC\", \"WI\", \"OR\", \"NJ\", \"NY\", \"NH\", \"CA\", \"MA\", \"FL\", \"NV\", \"WA\", \"TX\", \"RI\"], \"name\": \"\", \"z\": [2.0, 45.0, 2.0, 5.0, 1.0, 1.0, 1.0, 3.0, 2.0, 23.0, 2.0, 51.0, 2.0, 4.0, 1.0, 70.0, 4.0, 2.0], \"type\": \"choropleth\"}], \"name\": \"2020-03-05\"}, {\"data\": [{\"coloraxis\": \"coloraxis\", \"geo\": \"geo\", \"hovertemplate\": \"animation_frame=2020-03-06<br>locations=%{location}<br>color=%{z}<extra></extra>\", \"locationmode\": \"USA-states\", \"locations\": [\"TX\", \"RI\", \"KY\", \"NY\", \"MN\", \"CO\", \"NE\", \"NH\", \"IL\", \"NJ\", \"CA\", \"WI\", \"PA\", \"GA\", \"MA\", \"TN\", \"Others\", \"NV\", \"FL\", \"AZ\", \"WA\", \"MD\", \"OR\", \"NC\", \"IN\"], \"name\": \"\", \"z\": [5.0, 2.0, 1.0, 36.0, 1.0, 4.0, 1.0, 2.0, 5.0, 2.0, 59.0, 1.0, 2.0, 3.0, 7.0, 1.0, 45.0, 2.0, 4.0, 3.0, 83.0, 3.0, 3.0, 2.0, 1.0], \"type\": \"choropleth\"}], \"name\": \"2020-03-06\"}, {\"data\": [{\"coloraxis\": \"coloraxis\", \"geo\": \"geo\", \"hovertemplate\": \"animation_frame=2020-03-07<br>locations=%{location}<br>color=%{z}<extra></extra>\", \"locationmode\": \"USA-states\", \"locations\": [\"WI\", \"PA\", \"WA\", \"TN\", \"KY\", \"UT\", \"SC\", \"NE\", \"MA\", \"IL\", \"MN\", \"Others\", \"AZ\", \"NY\", \"CT\", \"MD\", \"FL\", \"GA\", \"NC\", \"OR\", \"TX\", \"NH\", \"CA\", \"NJ\", \"RI\", \"NV\", \"CO\", \"OK\", \"HI\", \"IN\"], \"name\": \"\", \"z\": [1.0, 2.0, 107.0, 1.0, 1.0, 1.0, 2.0, 1.0, 7.0, 6.0, 1.0, 66.0, 5.0, 76.0, 2.0, 3.0, 8.0, 6.0, 2.0, 6.0, 9.0, 2.0, 82.0, 4.0, 3.0, 2.0, 8.0, 1.0, 1.0, 1.0], \"type\": \"choropleth\"}], \"name\": \"2020-03-07\"}, {\"data\": [{\"coloraxis\": \"coloraxis\", \"geo\": \"geo\", \"hovertemplate\": \"animation_frame=2020-03-08<br>locations=%{location}<br>color=%{z}<extra></extra>\", \"locationmode\": \"USA-states\", \"locations\": [\"CA\", \"HI\", \"VT\", \"UT\", \"VA\", \"PA\", \"KS\", \"MD\", \"MN\", \"D.C.\", \"CT\", \"OR\", \"NH\", \"NJ\", \"AZ\", \"NY\", \"IL\", \"GA\", \"NC\", \"TN\", \"IN\", \"WA\", \"Others\", \"WI\", \"CO\", \"MO\", \"KY\", \"MA\", \"RI\", \"NV\", \"SC\", \"FL\", \"NE\", \"TX\", \"OK\"], \"name\": \"\", \"z\": [98.0, 1.0, 1.0, 1.0, 2.0, 6.0, 1.0, 5.0, 1.0, 2.0, 1.0, 14.0, 6.0, 5.0, 5.0, 106.0, 7.0, 5.0, 2.0, 3.0, 2.0, 128.0, 66.0, 1.0, 8.0, 1.0, 1.0, 24.0, 3.0, 4.0, 2.0, 11.0, 1.0, 12.0, 1.0], \"type\": \"choropleth\"}], \"name\": \"2020-03-08\"}, {\"data\": [{\"coloraxis\": \"coloraxis\", \"geo\": \"geo\", \"hovertemplate\": \"animation_frame=2020-03-09<br>locations=%{location}<br>color=%{z}<extra></extra>\", \"locationmode\": \"USA-states\", \"locations\": [\"NJ\", \"D.C.\", \"PA\", \"VT\", \"NH\", \"IN\", \"Others\", \"FL\", \"KS\", \"OK\", \"WI\", \"MO\", \"TN\", \"NV\", \"GA\", \"WA\", \"CT\", \"UT\", \"MD\", \"AZ\", \"MA\", \"HI\", \"CA\", \"SC\", \"KY\", \"VA\", \"NY\", \"IL\", \"MN\", \"NE\", \"OR\", \"IA\", \"RI\", \"LA\", \"TX\", \"NC\", \"CO\"], \"name\": \"\", \"z\": [5.0, 2.0, 7.0, 1.0, 5.0, 3.0, 66.0, 14.0, 1.0, 1.0, 1.0, 1.0, 3.0, 4.0, 10.0, 128.0, 1.0, 1.0, 5.0, 5.0, 24.0, 2.0, 104.0, 6.0, 4.0, 2.0, 142.0, 7.0, 2.0, 3.0, 14.0, 3.0, 3.0, 1.0, 14.0, 2.0, 8.0], \"type\": \"choropleth\"}], \"name\": \"2020-03-09\"}, {\"data\": [{\"coloraxis\": \"coloraxis\", \"geo\": \"geo\", \"hovertemplate\": \"animation_frame=2020-03-10<br>locations=%{location}<br>color=%{z}<extra></extra>\", \"locationmode\": \"USA-states\", \"locations\": [\"HI\", \"NV\", \"OH\", \"NY\", \"OK\", \"ID\", \"WI\", \"GA\", \"NJ\", \"Others\", \"NM\", \"FL\", \"WV\", \"OR\", \"DE\", \"IL\", \"VA\", \"IA\", \"AK\", \"WY\", \"SD\", \"VT\", \"MI\", \"CT\", \"KS\", \"ME\", \"MN\", \"LA\", \"RI\", \"AZ\", \"MT\", \"CO\", \"NE\", \"MS\", \"TX\", \"KY\", \"ND\", \"UT\", \"NH\", \"MO\", \"MD\", \"PA\", \"IN\", \"NC\", \"MA\", \"AR\", \"D.C.\", \"CA\", \"TN\", \"WA\", \"SC\"], \"name\": \"\", \"z\": [2.0, 4.0, 3.0, 173.0, 2.0, 0.0, 3.0, 17.0, 15.0, 67.0, 0.0, 15.0, 0.0, 15.0, 0.0, 12.0, 7.0, 8.0, 0.0, 0.0, 0.0, 1.0, 0.0, 2.0, 1.0, 0.0, 3.0, 1.0, 3.0, 6.0, 0.0, 15.0, 3.0, 0.0, 13.0, 6.0, 0.0, 2.0, 4.0, 1.0, 8.0, 12.0, 6.0, 7.0, 92.0, 0.0, 5.0, 144.0, 7.0, 267.0, 7.0], \"type\": \"choropleth\"}], \"name\": \"2020-03-10\"}, {\"data\": [{\"coloraxis\": \"coloraxis\", \"geo\": \"geo\", \"hovertemplate\": \"animation_frame=2020-03-11<br>locations=%{location}<br>color=%{z}<extra></extra>\", \"locationmode\": \"USA-states\", \"locations\": [\"VA\", \"WY\", \"HI\", \"SC\", \"MS\", \"CO\", \"MA\", \"MT\", \"OK\", \"MO\", \"RI\", \"AZ\", \"WV\", \"LA\", \"ME\", \"NV\", \"ND\", \"IA\", \"OR\", \"NC\", \"CA\", \"MI\", \"FL\", \"AK\", \"GA\", \"IN\", \"ID\", \"NH\", \"VT\", \"MN\", \"MD\", \"CT\", \"KS\", \"TN\", \"Others\", \"IL\", \"AR\", \"PA\", \"TX\", \"UT\", \"WA\", \"KY\", \"D.C.\", \"NM\", \"NY\", \"WI\", \"NE\", \"NJ\", \"SD\", \"OH\", \"DE\"], \"name\": \"\", \"z\": [9.0, 0.0, 2.0, 10.0, 0.0, 34.0, 95.0, 1.0, 2.0, 1.0, 5.0, 9.0, 0.0, 6.0, 0.0, 7.0, 0.0, 13.0, 19.0, 7.0, 177.0, 2.0, 28.0, 0.0, 23.0, 11.0, 0.0, 5.0, 1.0, 5.0, 9.0, 3.0, 1.0, 9.0, 67.0, 25.0, 1.0, 16.0, 21.0, 3.0, 366.0, 8.0, 10.0, 3.0, 220.0, 6.0, 5.0, 23.0, 8.0, 4.0, 1.0], \"type\": \"choropleth\"}], \"name\": \"2020-03-11\"}, {\"data\": [{\"coloraxis\": \"coloraxis\", \"geo\": \"geo\", \"hovertemplate\": \"animation_frame=2020-03-12<br>locations=%{location}<br>color=%{z}<extra></extra>\", \"locationmode\": \"USA-states\", \"locations\": [\"ME\", \"WA\", \"MA\", \"MD\", \"GA\", \"SD\", \"ID\", \"TN\", \"AZ\", \"NM\", \"IA\", \"MS\", \"WI\", \"NJ\", \"FL\", \"MT\", \"LA\", \"AR\", \"CO\", \"CT\", \"TX\", \"NE\", \"DE\", \"OH\", \"VT\", \"KY\", \"NH\", \"SC\", \"MN\", \"MI\", \"ND\", \"VA\", \"HI\", \"IL\", \"KS\", \"AK\", \"NY\", \"UT\", \"OK\", \"CA\", \"D.C.\", \"Others\", \"WV\", \"MO\", \"NC\", \"OR\", \"NV\", \"RI\", \"IN\", \"WY\", \"PA\"], \"name\": \"\", \"z\": [0.0, 442.0, 108.0, 12.0, 31.0, 8.0, 0.0, 18.0, 9.0, 5.0, 16.0, 1.0, 8.0, 29.0, 35.0, 1.0, 19.0, 6.0, 45.0, 5.0, 27.0, 10.0, 1.0, 5.0, 2.0, 10.0, 6.0, 12.0, 9.0, 2.0, 1.0, 17.0, 2.0, 32.0, 1.0, 0.0, 328.0, 5.0, 2.0, 221.0, 10.0, 67.0, 0.0, 1.0, 15.0, 24.0, 14.0, 5.0, 13.0, 1.0, 22.0], \"type\": \"choropleth\"}], \"name\": \"2020-03-12\"}, {\"data\": [{\"coloraxis\": \"coloraxis\", \"geo\": \"geo\", \"hovertemplate\": \"animation_frame=2020-03-13<br>locations=%{location}<br>color=%{z}<extra></extra>\", \"locationmode\": \"USA-states\", \"locations\": [\"AK\", \"OK\", \"AL\", \"TX\", \"OH\", \"MN\", \"TN\", \"MI\", \"IA\", \"HI\", \"NV\", \"MO\", \"WI\", \"ME\", \"GA\", \"NH\", \"MA\", \"WA\", \"NC\", \"AR\", \"LA\", \"RI\", \"WY\", \"NY\", \"VA\", \"CO\", \"ND\", \"KY\", \"VT\", \"DE\", \"NE\", \"KS\", \"IL\", \"CT\", \"PA\", \"IN\", \"Others\", \"WV\", \"CA\", \"OR\", \"ID\", \"MD\", \"NM\", \"UT\", \"MS\", \"AZ\", \"MT\", \"D.C.\", \"NJ\", \"SC\", \"FL\", \"SD\"], \"name\": \"\", \"z\": [1.0, 2.0, 5.0, 43.0, 13.0, 14.0, 26.0, 16.0, 17.0, 2.0, 17.0, 2.0, 19.0, 1.0, 42.0, 6.0, 123.0, 568.0, 17.0, 6.0, 36.0, 14.0, 1.0, 421.0, 30.0, 49.0, 1.0, 14.0, 2.0, 4.0, 13.0, 5.0, 46.0, 11.0, 41.0, 13.0, 67.0, 0.0, 282.0, 30.0, 1.0, 18.0, 10.0, 9.0, 1.0, 9.0, 1.0, 10.0, 29.0, 13.0, 50.0, 8.0], \"type\": \"choropleth\"}], \"name\": \"2020-03-13\"}, {\"data\": [{\"coloraxis\": \"coloraxis\", \"geo\": \"geo\", \"hovertemplate\": \"animation_frame=2020-03-14<br>locations=%{location}<br>color=%{z}<extra></extra>\", \"locationmode\": \"USA-states\", \"locations\": [\"IN\", \"MD\", \"NJ\", \"ID\", \"IL\", \"NM\", \"KS\", \"NE\", \"WA\", \"NH\", \"ME\", \"MI\", \"KY\", \"ND\", \"IA\", \"MS\", \"HI\", \"NV\", \"MA\", \"WI\", \"LA\", \"NC\", \"MT\", \"MO\", \"VT\", \"NY\", \"MN\", \"WV\", \"UT\", \"CT\", \"PA\", \"AL\", \"FL\", \"OK\", \"SC\", \"PR\", \"CA\", \"GA\", \"TN\", \"WY\", \"OR\", \"CO\", \"SD\", \"AZ\", \"RI\", \"Others\", \"D.C.\", \"TX\", \"AR\", \"VA\", \"DE\", \"OH\"], \"name\": \"\", \"z\": [16.0, 26.0, 69.0, 2.0, 64.0, 10.0, 8.0, 14.0, 572.0, 7.0, 3.0, 25.0, 14.0, 1.0, 17.0, 6.0, 4.0, 21.0, 138.0, 27.0, 77.0, 24.0, 5.0, 4.0, 5.0, 525.0, 21.0, 0.0, 10.0, 22.0, 47.0, 6.0, 76.0, 4.0, 19.0, 3.0, 340.0, 66.0, 32.0, 2.0, 32.0, 101.0, 9.0, 12.0, 20.0, 68.0, 10.0, 57.0, 12.0, 41.0, 6.0, 26.0], \"type\": \"choropleth\"}], \"name\": \"2020-03-14\"}, {\"data\": [{\"coloraxis\": \"coloraxis\", \"geo\": \"geo\", \"hovertemplate\": \"animation_frame=2020-03-15<br>locations=%{location}<br>color=%{z}<extra></extra>\", \"locationmode\": \"USA-states\", \"locations\": [\"WY\", \"CO\", \"NV\", \"NC\", \"SC\", \"LA\", \"NM\", \"AR\", \"KS\", \"ND\", \"UT\", \"WA\", \"WI\", \"MO\", \"IN\", \"OK\", \"IA\", \"GA\", \"PR\", \"KY\", \"MD\", \"Others\", \"NH\", \"D.C.\", \"ID\", \"MN\", \"SD\", \"VA\", \"MI\", \"RI\", \"CA\", \"FL\", \"NY\", \"GU\", \"AK\", \"DE\", \"OH\", \"OR\", \"MA\", \"VT\", \"CT\", \"AL\", \"WV\", \"TN\", \"ME\", \"HI\", \"NJ\", \"MS\", \"IL\", \"AZ\", \"MT\", \"NE\", \"TX\", \"PA\"], \"name\": \"\", \"z\": [3.0, 131.0, 24.0, 33.0, 28.0, 91.0, 13.0, 16.0, 8.0, 1.0, 28.0, 643.0, 32.0, 5.0, 20.0, 7.0, 18.0, 99.0, 5.0, 20.0, 32.0, 68.0, 13.0, 16.0, 5.0, 35.0, 9.0, 45.0, 33.0, 20.0, 426.0, 115.0, 732.0, 3.0, 1.0, 7.0, 37.0, 36.0, 164.0, 8.0, 24.0, 12.0, 0.0, 39.0, 12.0, 6.0, 98.0, 10.0, 93.0, 13.0, 7.0, 17.0, 72.0, 66.0], \"type\": \"choropleth\"}], \"name\": \"2020-03-15\"}, {\"data\": [{\"coloraxis\": \"coloraxis\", \"geo\": \"geo\", \"hovertemplate\": \"animation_frame=2020-03-16<br>locations=%{location}<br>color=%{z}<extra></extra>\", \"locationmode\": \"USA-states\", \"locations\": [\"MD\", \"NE\", \"WV\", \"GA\", \"AZ\", \"NM\", \"MA\", \"OR\", \"NH\", \"KY\", \"DE\", \"FL\", \"UT\", \"MN\", \"AL\", \"NC\", \"VA\", \"ID\", \"VT\", \"NJ\", \"KS\", \"WA\", \"IL\", \"MT\", \"SC\", \"OK\", \"MS\", \"D.C.\", \"VI\", \"GU\", \"IN\", \"WI\", \"AK\", \"ND\", \"MO\", \"OH\", \"CO\", \"NV\", \"WY\", \"AR\", \"ME\", \"HI\", \"TN\", \"SD\", \"LA\", \"IA\", \"PA\", \"NY\", \"PR\", \"MI\", \"RI\", \"CA\", \"Others\", \"TX\", \"CT\"], \"name\": \"\", \"z\": [41.0, 18.0, 0.0, 121.0, 18.0, 17.0, 197.0, 39.0, 17.0, 21.0, 8.0, 155.0, 39.0, 54.0, 29.0, 38.0, 49.0, 5.0, 12.0, 178.0, 11.0, 904.0, 105.0, 7.0, 33.0, 10.0, 13.0, 22.0, 1.0, 3.0, 25.0, 47.0, 1.0, 1.0, 6.0, 50.0, 160.0, 45.0, 3.0, 22.0, 17.0, 7.0, 52.0, 10.0, 136.0, 23.0, 77.0, 967.0, 5.0, 53.0, 21.0, 557.0, 67.0, 85.0, 30.0], \"type\": \"choropleth\"}], \"name\": \"2020-03-16\"}, {\"data\": [{\"coloraxis\": \"coloraxis\", \"geo\": \"geo\", \"hovertemplate\": \"animation_frame=2020-03-17<br>locations=%{location}<br>color=%{z}<extra></extra>\", \"locationmode\": \"USA-states\", \"locations\": [\"VA\", \"CT\", \"VT\", \"GU\", \"NC\", \"HI\", \"NJ\", \"PA\", \"CA\", \"MA\", \"RI\", \"TX\", \"AZ\", \"DE\", \"AL\", \"OR\", \"OH\", \"NY\", \"ME\", \"WV\", \"IL\", \"FL\", \"MO\", \"MI\", \"D.C.\", \"TN\", \"WI\", \"IN\", \"MT\", \"OK\", \"LA\", \"IA\", \"GA\", \"PR\", \"NM\", \"UT\", \"NH\", \"Others\", \"MD\", \"VI\", \"SD\", \"KY\", \"ND\", \"CO\", \"NE\", \"AK\", \"MS\", \"NV\", \"WY\", \"WA\", \"KS\", \"AR\", \"ID\", \"MN\", \"SC\"], \"name\": \"\", \"z\": [67.0, 68.0, 12.0, 3.0, 64.0, 10.0, 267.0, 112.0, 698.0, 218.0, 23.0, 110.0, 20.0, 16.0, 39.0, 66.0, 67.0, 1706.0, 32.0, 1.0, 161.0, 216.0, 11.0, 65.0, 22.0, 74.0, 72.0, 30.0, 9.0, 19.0, 196.0, 23.0, 146.0, 5.0, 23.0, 51.0, 26.0, 68.0, 60.0, 2.0, 11.0, 26.0, 3.0, 160.0, 21.0, 3.0, 21.0, 56.0, 11.0, 1076.0, 18.0, 22.0, 8.0, 60.0, 47.0], \"type\": \"choropleth\"}], \"name\": \"2020-03-17\"}, {\"data\": [{\"coloraxis\": \"coloraxis\", \"geo\": \"geo\", \"hovertemplate\": \"animation_frame=2020-03-18<br>locations=%{location}<br>color=%{z}<extra></extra>\", \"locationmode\": \"USA-states\", \"locations\": [\"CT\", \"MA\", \"KS\", \"NE\", \"D.C.\", \"PA\", \"DE\", \"WV\", \"Others\", \"PR\", \"NH\", \"TX\", \"MT\", \"AZ\", \"IN\", \"WY\", \"SC\", \"IL\", \"NC\", \"SD\", \"NJ\", \"RI\", \"VT\", \"IA\", \"AK\", \"MS\", \"CA\", \"ND\", \"GA\", \"MN\", \"AR\", \"CO\", \"NM\", \"OK\", \"WA\", \"WI\", \"NV\", \"HI\", \"ID\", \"VA\", \"VI\", \"MO\", \"UT\", \"TN\", \"OR\", \"MI\", \"NY\", \"FL\", \"GU\", \"LA\", \"ME\", \"OH\", \"AL\", \"MD\", \"KY\"], \"name\": \"\", \"z\": [68.0, 218.0, 18.0, 24.0, 31.0, 152.0, 19.0, 1.0, 71.0, 5.0, 26.0, 173.0, 11.0, 27.0, 39.0, 15.0, 47.0, 162.0, 70.0, 11.0, 267.0, 33.0, 18.0, 29.0, 6.0, 34.0, 751.0, 6.0, 199.0, 77.0, 33.0, 184.0, 23.0, 19.0, 1014.0, 92.0, 55.0, 14.0, 9.0, 77.0, 2.0, 18.0, 51.0, 79.0, 68.0, 83.0, 2495.0, 314.0, 5.0, 257.0, 42.0, 86.0, 46.0, 85.0, 27.0], \"type\": \"choropleth\"}], \"name\": \"2020-03-18\"}, {\"data\": [{\"coloraxis\": \"coloraxis\", \"geo\": \"geo\", \"hovertemplate\": \"animation_frame=2020-03-19<br>locations=%{location}<br>color=%{z}<extra></extra>\", \"locationmode\": \"USA-states\", \"locations\": [\"GA\", \"Others\", \"WY\", \"LA\", \"TX\", \"IA\", \"MD\", \"TN\", \"WI\", \"IN\", \"AR\", \"AK\", \"RI\", \"HI\", \"PA\", \"OH\", \"ME\", \"GU\", \"CT\", \"NY\", \"MO\", \"ND\", \"NV\", \"CA\", \"DE\", \"NE\", \"FL\", \"MN\", \"AZ\", \"MT\", \"VA\", \"NJ\", \"VT\", \"IL\", \"MS\", \"SD\", \"KS\", \"SC\", \"OR\", \"WV\", \"UT\", \"MI\", \"VI\", \"KY\", \"MA\", \"CO\", \"NM\", \"NH\", \"WA\", \"PR\", \"AL\", \"OK\", \"NC\", \"ID\", \"D.C.\"], \"name\": \"\", \"z\": [287.0, 72.0, 18.0, 392.0, 260.0, 44.0, 107.0, 154.0, 159.0, 60.0, 62.0, 9.0, 44.0, 16.0, 206.0, 119.0, 52.0, 12.0, 159.0, 5365.0, 31.0, 18.0, 95.0, 952.0, 30.0, 29.0, 417.0, 89.0, 45.0, 11.0, 99.0, 742.0, 22.0, 422.0, 50.0, 11.0, 34.0, 81.0, 88.0, 2.0, 80.0, 334.0, 3.0, 37.0, 328.0, 277.0, 35.0, 44.0, 1376.0, 5.0, 78.0, 44.0, 123.0, 11.0, 40.0], \"type\": \"choropleth\"}], \"name\": \"2020-03-19\"}, {\"data\": [{\"coloraxis\": \"coloraxis\", \"geo\": \"geo\", \"hovertemplate\": \"animation_frame=2020-03-20<br>locations=%{location}<br>color=%{z}<extra></extra>\", \"locationmode\": \"USA-states\", \"locations\": [\"CA\", \"NC\", \"AL\", \"KY\", \"KS\", \"NE\", \"VT\", \"MI\", \"RI\", \"CO\", \"ND\", \"PR\", \"LA\", \"UT\", \"MT\", \"MO\", \"DE\", \"IL\", \"AZ\", \"TN\", \"WV\", \"MA\", \"MN\", \"GA\", \"IA\", \"OR\", \"FL\", \"SD\", \"MD\", \"MS\", \"VA\", \"NM\", \"NJ\", \"OK\", \"CT\", \"ID\", \"AR\", \"AK\", \"WI\", \"WA\", \"GU\", \"NV\", \"IN\", \"OH\", \"ME\", \"Others\", \"WY\", \"NH\", \"TX\", \"HI\", \"D.C.\", \"PA\", \"SC\", \"NY\"], \"name\": \"\", \"z\": [1177.0, 172.0, 83.0, 47.0, 44.0, 37.0, 29.0, 552.0, 54.0, 363.0, 19.0, 14.0, 538.0, 78.0, 15.0, 53.0, 38.0, 585.0, 78.0, 233.0, 7.0, 413.0, 115.0, 420.0, 45.0, 114.0, 563.0, 14.0, 149.0, 80.0, 122.0, 43.0, 890.0, 49.0, 194.0, 23.0, 96.0, 12.0, 207.0, 1524.0, 14.0, 114.0, 86.0, 173.0, 56.0, 76.0, 19.0, 44.0, 394.0, 26.0, 71.0, 303.0, 126.0, 8310.0], \"type\": \"choropleth\"}], \"name\": \"2020-03-20\"}, {\"data\": [{\"coloraxis\": \"coloraxis\", \"geo\": \"geo\", \"hovertemplate\": \"animation_frame=2020-03-21<br>locations=%{location}<br>color=%{z}<extra></extra>\", \"locationmode\": \"USA-states\", \"locations\": [\"NY\", \"CO\", \"NM\", \"NC\", \"GU\", \"OK\", \"MD\", \"ME\", \"AK\", \"SD\", \"IA\", \"OH\", \"GA\", \"ND\", \"TN\", \"HI\", \"ID\", \"WI\", \"NV\", \"AR\", \"KY\", \"LA\", \"CT\", \"RI\", \"MN\", \"DE\", \"UT\", \"NE\", \"AZ\", \"IL\", \"KS\", \"SC\", \"D.C.\", \"TX\", \"NH\", \"Others\", \"WY\", \"CA\", \"MO\", \"PA\", \"IN\", \"PR\", \"MA\", \"WV\", \"VA\", \"WA\", \"MI\", \"NJ\", \"MT\", \"MS\", \"VT\", \"AL\", \"OR\", \"FL\"], \"name\": \"\", \"z\": [11710.0, 390.0, 43.0, 253.0, 15.0, 53.0, 193.0, 70.0, 15.0, 14.0, 68.0, 248.0, 507.0, 28.0, 371.0, 37.0, 36.0, 282.0, 161.0, 122.0, 87.0, 585.0, 194.0, 66.0, 138.0, 45.0, 136.0, 38.0, 118.0, 753.0, 57.0, 171.0, 98.0, 581.0, 55.0, 79.0, 23.0, 1364.0, 74.0, 396.0, 128.0, 21.0, 525.0, 8.0, 156.0, 1793.0, 788.0, 1327.0, 21.0, 140.0, 29.0, 131.0, 114.0, 659.0], \"type\": \"choropleth\"}], \"name\": \"2020-03-21\"}, {\"data\": [{\"coloraxis\": \"coloraxis\", \"geo\": \"geo\", \"hovertemplate\": \"animation_frame=2020-03-22<br>locations=%{location}<br>color=%{z}<extra></extra>\", \"locationmode\": \"USA-states\", \"locations\": [\"AR\", \"MO\", \"SD\", \"AS\", \"ME\", \"LA\", \"CA\", \"AL\", \"WY\", \"MA\", \"RI\", \"MP\", \"MS\", \"SC\", \"MD\", \"AZ\", \"TN\", \"WA\", \"MT\", \"WI\", \"FL\", \"NE\", \"CT\", \"IN\", \"Others\", \"NH\", \"D.C.\", \"IL\", \"WV\", \"DE\", \"MN\", \"OR\", \"NC\", \"NJ\", \"VA\", \"TX\", \"ID\", \"OK\", \"NM\", \"VI\", \"IA\", \"GA\", \"AK\", \"NV\", \"HI\", \"OH\", \"GU\", \"NY\", \"KS\", \"PR\", \"PA\", \"KY\", \"UT\", \"CO\", \"ND\", \"MI\", \"VT\"], \"name\": \"\", \"z\": [165.0, 87.0, 21.0, 0.0, 89.0, 837.0, 1646.0, 157.0, 26.0, 646.0, 83.0, 0.0, 207.0, 196.0, 244.0, 152.0, 505.0, 1997.0, 34.0, 381.0, 1004.0, 51.0, 327.0, 204.0, 83.0, 74.0, 204.0, 1049.0, 16.0, 56.0, 167.0, 161.0, 305.0, 1914.0, 220.0, 643.0, 42.0, 67.0, 57.0, 6.0, 90.0, 621.0, 20.0, 190.0, 53.0, 356.0, 27.0, 15800.0, 65.0, 23.0, 509.0, 103.0, 162.0, 591.0, 28.0, 1035.0, 52.0], \"type\": \"choropleth\"}], \"name\": \"2020-03-22\"}, {\"data\": [{\"coloraxis\": \"coloraxis\", \"geo\": \"geo\", \"hovertemplate\": \"animation_frame=2020-03-23<br>locations=%{location}<br>color=%{z}<extra></extra>\", \"locationmode\": \"USA-states\", \"locations\": [\"MD\", \"MN\", \"AZ\", \"VI\", \"AL\", \"IL\", \"NC\", \"WV\", \"ND\", \"GA\", \"MI\", \"MP\", \"IA\", \"TX\", \"NM\", \"SD\", \"WA\", \"NJ\", \"VA\", \"FL\", \"MS\", \"ID\", \"SC\", \"AS\", \"CO\", \"OR\", \"OK\", \"WY\", \"MA\", \"TN\", \"KY\", \"DE\", \"NH\", \"D.C.\", \"CA\", \"MO\", \"NY\", \"MT\", \"PR\", \"ME\", \"KS\", \"GU\", \"WI\", \"OH\", \"HI\", \"RI\", \"PA\", \"NE\", \"NV\", \"LA\", \"VT\", \"UT\", \"AR\", \"Others\", \"AK\", \"CT\", \"IN\"], \"name\": \"\", \"z\": [290.0, 234.0, 235.0, 7.0, 196.0, 1285.0, 353.0, 16.0, 30.0, 772.0, 1329.0, 0.0, 105.0, 758.0, 83.0, 28.0, 2221.0, 2844.0, 254.0, 1227.0, 249.0, 68.0, 298.0, 0.0, 704.0, 191.0, 81.0, 26.0, 777.0, 614.0, 123.0, 68.0, 101.0, 120.0, 2108.0, 187.0, 20884.0, 34.0, 31.0, 107.0, 84.0, 29.0, 425.0, 443.0, 56.0, 106.0, 698.0, 51.0, 245.0, 1172.0, 75.0, 257.0, 192.0, 77.0, 30.0, 415.0, 270.0], \"type\": \"choropleth\"}], \"name\": \"2020-03-23\"}, {\"data\": [{\"coloraxis\": \"coloraxis\", \"geo\": \"geo\", \"hovertemplate\": \"animation_frame=2020-03-24<br>locations=%{location}<br>color=%{z}<extra></extra>\", \"locationmode\": \"USA-states\", \"locations\": [\"MD\", \"AS\", \"OK\", \"ME\", \"AK\", \"NC\", \"ID\", \"NY\", \"MO\", \"GA\", \"VA\", \"MP\", \"WI\", \"AR\", \"VI\", \"WY\", \"TN\", \"VT\", \"OH\", \"KY\", \"HI\", \"NM\", \"IA\", \"NV\", \"TX\", \"GU\", \"SD\", \"MI\", \"D.C.\", \"ND\", \"WV\", \"MN\", \"AZ\", \"IL\", \"NH\", \"RI\", \"Others\", \"DE\", \"IN\", \"NE\", \"UT\", \"PA\", \"CA\", \"WA\", \"KS\", \"PR\", \"MT\", \"CT\", \"CO\", \"SC\", \"MS\", \"OR\", \"NJ\", \"FL\", \"MA\", \"AL\", \"LA\"], \"name\": \"\", \"z\": [349.0, 0.0, 106.0, 118.0, 34.0, 495.0, 81.0, 25681.0, 257.0, 1026.0, 293.0, 0.0, 481.0, 219.0, 17.0, 29.0, 772.0, 95.0, 567.0, 162.0, 90.0, 100.0, 124.0, 278.0, 955.0, 32.0, 30.0, 1793.0, 141.0, 36.0, 22.0, 261.0, 326.0, 1537.0, 101.0, 124.0, 77.0, 104.0, 368.0, 66.0, 298.0, 946.0, 2538.0, 2328.0, 100.0, 39.0, 51.0, 618.0, 723.0, 342.0, 320.0, 210.0, 3675.0, 1412.0, 1159.0, 242.0, 1388.0], \"type\": \"choropleth\"}], \"name\": \"2020-03-24\"}, {\"data\": [{\"coloraxis\": \"coloraxis\", \"geo\": \"geo\", \"hovertemplate\": \"animation_frame=2020-03-25<br>locations=%{location}<br>color=%{z}<extra></extra>\", \"locationmode\": \"USA-states\", \"locations\": [\"WA\", \"OK\", \"HI\", \"FL\", \"VT\", \"ID\", \"NE\", \"OH\", \"CT\", \"NV\", \"PA\", \"WI\", \"IN\", \"NC\", \"UT\", \"AS\", \"KS\", \"ME\", \"GU\", \"TN\", \"MT\", \"MO\", \"PR\", \"MI\", \"NY\", \"CA\", \"VA\", \"DE\", \"RI\", \"CO\", \"NM\", \"WY\", \"TX\", \"WV\", \"MA\", \"MD\", \"VI\", \"ND\", \"KY\", \"AK\", \"IA\", \"OR\", \"LA\", \"AZ\", \"MN\", \"AR\", \"Others\", \"MS\", \"GA\", \"SD\", \"IL\", \"SC\", \"NH\", \"NJ\", \"MP\", \"D.C.\", \"AL\"], \"name\": \"\", \"z\": [2591.0, 164.0, 91.0, 1682.0, 125.0, 91.0, 71.0, 704.0, 875.0, 323.0, 1260.0, 621.0, 477.0, 590.0, 340.0, 0.0, 134.0, 142.0, 37.0, 916.0, 65.0, 354.0, 51.0, 2296.0, 30841.0, 2998.0, 396.0, 119.0, 132.0, 1021.0, 113.0, 44.0, 1229.0, 39.0, 1838.0, 425.0, 17.0, 45.0, 197.0, 41.0, 146.0, 266.0, 1795.0, 401.0, 286.0, 280.0, 77.0, 377.0, 1247.0, 41.0, 1865.0, 424.0, 108.0, 4402.0, 0.0, 187.0, 381.0], \"type\": \"choropleth\"}], \"name\": \"2020-03-25\"}, {\"data\": [{\"coloraxis\": \"coloraxis\", \"geo\": \"geo\", \"hovertemplate\": \"animation_frame=2020-03-26<br>locations=%{location}<br>color=%{z}<extra></extra>\", \"locationmode\": \"USA-states\", \"locations\": [\"MI\", \"TN\", \"AK\", \"MN\", \"AL\", \"NY\", \"MO\", \"PR\", \"KS\", \"TX\", \"PA\", \"NE\", \"CT\", \"IN\", \"Others\", \"NH\", \"IL\", \"D.C.\", \"WV\", \"DE\", \"OR\", \"FL\", \"NJ\", \"OK\", \"ID\", \"NM\", \"VI\", \"IA\", \"GA\", \"VA\", \"OH\", \"NV\", \"HI\", \"WI\", \"GU\", \"ND\", \"UT\", \"KY\", \"ME\", \"AR\", \"SD\", \"MP\", \"MD\", \"WY\", \"AS\", \"SC\", \"CO\", \"MA\", \"AZ\", \"WA\", \"MT\", \"MS\", \"RI\", \"NC\", \"CA\", \"VT\", \"LA\"], \"name\": \"\", \"z\": [2845.0, 1097.0, 56.0, 344.0, 517.0, 37877.0, 520.0, 64.0, 172.0, 1563.0, 1795.0, 74.0, 1012.0, 645.0, 77.0, 137.0, 2538.0, 231.0, 52.0, 130.0, 316.0, 2357.0, 6876.0, 248.0, 146.0, 113.0, 17.0, 179.0, 1525.0, 466.0, 868.0, 420.0, 95.0, 728.0, 45.0, 51.0, 396.0, 247.0, 155.0, 335.0, 46.0, 0.0, 583.0, 53.0, 0.0, 424.0, 1430.0, 2417.0, 508.0, 3207.0, 90.0, 485.0, 165.0, 738.0, 3899.0, 158.0, 2304.0], \"type\": \"choropleth\"}], \"name\": \"2020-03-26\"}, {\"data\": [{\"coloraxis\": \"coloraxis\", \"geo\": \"geo\", \"hovertemplate\": \"animation_frame=2020-03-27<br>locations=%{location}<br>color=%{z}<extra></extra>\", \"locationmode\": \"USA-states\", \"locations\": [\"PR\", \"UT\", \"VA\", \"OH\", \"Others\", \"SD\", \"NV\", \"ND\", \"MO\", \"NY\", \"MP\", \"VT\", \"SC\", \"NM\", \"MT\", \"NC\", \"OK\", \"NJ\", \"TN\", \"OR\", \"MS\", \"NE\", \"RI\", \"NH\", \"MN\", \"VI\", \"PA\", \"TX\", \"GU\", \"KS\", \"CA\", \"MD\", \"IL\", \"FL\", \"AR\", \"CT\", \"CO\", \"WI\", \"ID\", \"AZ\", \"AS\", \"MA\", \"WA\", \"IN\", \"IA\", \"LA\", \"AL\", \"HI\", \"WV\", \"D.C.\", \"KY\", \"ME\", \"GA\", \"DE\", \"MI\", \"AK\", \"WY\"], \"name\": \"\", \"z\": [79.0, 472.0, 607.0, 1137.0, 77.0, 58.0, 536.0, 68.0, 666.0, 44876.0, 0.0, 184.0, 542.0, 136.0, 109.0, 887.0, 322.0, 8825.0, 1318.0, 416.0, 579.0, 82.0, 203.0, 158.0, 396.0, 19.0, 2345.0, 1937.0, 51.0, 206.0, 4657.0, 775.0, 3024.0, 2900.0, 381.0, 1291.0, 1433.0, 926.0, 205.0, 665.0, 0.0, 3240.0, 3477.0, 979.0, 235.0, 2744.0, 587.0, 106.0, 76.0, 271.0, 301.0, 168.0, 2000.0, 163.0, 3634.0, 58.0, 70.0], \"type\": \"choropleth\"}], \"name\": \"2020-03-27\"}, {\"data\": [{\"coloraxis\": \"coloraxis\", \"geo\": \"geo\", \"hovertemplate\": \"animation_frame=2020-03-28<br>locations=%{location}<br>color=%{z}<extra></extra>\", \"locationmode\": \"USA-states\", \"locations\": [\"IA\", \"NV\", \"ND\", \"CA\", \"MD\", \"AZ\", \"AS\", \"MP\", \"SC\", \"OH\", \"WY\", \"SD\", \"NM\", \"RI\", \"KY\", \"MA\", \"CO\", \"DE\", \"NE\", \"NC\", \"D.C.\", \"WV\", \"LA\", \"VT\", \"NY\", \"GU\", \"Others\", \"MS\", \"OR\", \"CT\", \"PA\", \"MT\", \"FL\", \"IN\", \"KS\", \"WA\", \"PR\", \"UT\", \"HI\", \"WI\", \"ID\", \"NH\", \"AR\", \"OK\", \"TN\", \"GA\", \"MI\", \"IL\", \"TX\", \"MO\", \"VA\", \"MN\", \"AL\", \"ME\", \"VI\", \"AK\", \"NJ\"], \"name\": \"\", \"z\": [298.0, 626.0, 94.0, 5095.0, 995.0, 773.0, 0.0, 0.0, 660.0, 1406.0, 82.0, 68.0, 208.0, 239.0, 380.0, 4257.0, 1740.0, 214.0, 96.0, 1020.0, 304.0, 96.0, 3315.0, 211.0, 52410.0, 55.0, 152.0, 663.0, 479.0, 1524.0, 2845.0, 129.0, 3763.0, 1233.0, 266.0, 4030.0, 100.0, 602.0, 149.0, 1055.0, 234.0, 187.0, 409.0, 377.0, 1511.0, 2366.0, 4650.0, 3491.0, 2455.0, 836.0, 740.0, 441.0, 694.0, 211.0, 22.0, 85.0, 11124.0], \"type\": \"choropleth\"}], \"name\": \"2020-03-28\"}, {\"data\": [{\"coloraxis\": \"coloraxis\", \"geo\": \"geo\", \"hovertemplate\": \"animation_frame=2020-03-29<br>locations=%{location}<br>color=%{z}<extra></extra>\", \"locationmode\": \"USA-states\", \"locations\": [\"PR\", \"AR\", \"NV\", \"UT\", \"MI\", \"CO\", \"NE\", \"HI\", \"KY\", \"MS\", \"AK\", \"TN\", \"RI\", \"NH\", \"CA\", \"DE\", \"IL\", \"MA\", \"NJ\", \"WA\", \"LA\", \"MN\", \"NY\", \"VA\", \"GU\", \"Others\", \"OR\", \"WI\", \"WV\", \"AL\", \"PA\", \"MT\", \"D.C.\", \"VI\", \"NC\", \"FL\", \"IN\", \"TX\", \"CT\", \"VT\", \"GA\", \"MD\", \"AS\", \"MP\", \"SC\", \"OK\", \"AZ\", \"MO\", \"ND\", \"NM\", \"IA\", \"OH\", \"WY\", \"ME\", \"KS\", \"SD\", \"ID\"], \"name\": \"\", \"z\": [127.0, 426.0, 920.0, 720.0, 5488.0, 2307.0, 108.0, 149.0, 438.0, 759.0, 102.0, 1720.0, 294.0, 214.0, 5852.0, 232.0, 4596.0, 4955.0, 13386.0, 4465.0, 3540.0, 503.0, 59648.0, 890.0, 56.0, 152.0, 548.0, 1164.0, 113.0, 825.0, 3432.0, 154.0, 342.0, 23.0, 1191.0, 4246.0, 1513.0, 2792.0, 1993.0, 235.0, 2651.0, 1239.0, 0.0, 0.0, 774.0, 429.0, 919.0, 915.0, 98.0, 237.0, 336.0, 1653.0, 86.0, 253.0, 330.0, 90.0, 281.0], \"type\": \"choropleth\"}], \"name\": \"2020-03-29\"}, {\"data\": [{\"coloraxis\": \"coloraxis\", \"geo\": \"geo\", \"hovertemplate\": \"animation_frame=2020-03-30<br>locations=%{location}<br>color=%{z}<extra></extra>\", \"locationmode\": \"USA-states\", \"locations\": [\"CT\", \"SC\", \"PA\", \"OH\", \"ID\", \"FL\", \"AL\", \"IN\", \"TX\", \"WA\", \"ND\", \"GA\", \"MP\", \"WI\", \"AR\", \"VT\", \"NJ\", \"D.C.\", \"WV\", \"NY\", \"NC\", \"NM\", \"LA\", \"MN\", \"WY\", \"SD\", \"VI\", \"MO\", \"OR\", \"GU\", \"Others\", \"VA\", \"AK\", \"MT\", \"NE\", \"IA\", \"TN\", \"MI\", \"OK\", \"KY\", \"CA\", \"KS\", \"MS\", \"CO\", \"RI\", \"NV\", \"AS\", \"MD\", \"IL\", \"DE\", \"UT\", \"MA\", \"PR\", \"AZ\", \"HI\", \"NH\", \"ME\"], \"name\": \"\", \"z\": [2571.0, 925.0, 4155.0, 1933.0, 340.0, 5473.0, 899.0, 1786.0, 3147.0, 4923.0, 109.0, 2808.0, 0.0, 1230.0, 473.0, 256.0, 16636.0, 401.0, 145.0, 66663.0, 1313.0, 237.0, 4025.0, 576.0, 94.0, 101.0, 30.0, 1051.0, 606.0, 58.0, 152.0, 1020.0, 114.0, 171.0, 145.0, 424.0, 1917.0, 6498.0, 481.0, 479.0, 7138.0, 372.0, 847.0, 2311.0, 408.0, 1012.0, 0.0, 1413.0, 5056.0, 264.0, 798.0, 5752.0, 174.0, 1157.0, 175.0, 314.0, 275.0], \"type\": \"choropleth\"}], \"name\": \"2020-03-30\"}, {\"data\": [{\"coloraxis\": \"coloraxis\", \"geo\": \"geo\", \"hovertemplate\": \"animation_frame=2020-03-31<br>locations=%{location}<br>color=%{z}<extra></extra>\", \"locationmode\": \"USA-states\", \"locations\": [\"WI\", \"LA\", \"WY\", \"MS\", \"IL\", \"MN\", \"NM\", \"MO\", \"FL\", \"TN\", \"NY\", \"WV\", \"AR\", \"CA\", \"AK\", \"NH\", \"NC\", \"RI\", \"OR\", \"D.C.\", \"SD\", \"NE\", \"MD\", \"MA\", \"NJ\", \"UT\", \"VT\", \"MT\", \"VA\", \"MI\", \"GA\", \"OK\", \"IN\", \"HI\", \"MP\", \"PR\", \"TX\", \"WA\", \"ME\", \"VI\", \"IA\", \"ND\", \"NV\", \"AZ\", \"PA\", \"ID\", \"OH\", \"GU\", \"Others\", \"AL\", \"SC\", \"KY\", \"CT\", \"KS\", \"DE\", \"CO\"], \"name\": \"\", \"z\": [1412.0, 5237.0, 109.0, 937.0, 5994.0, 629.0, 315.0, 1357.0, 6741.0, 2391.0, 75833.0, 162.0, 523.0, 8210.0, 119.0, 357.0, 1535.0, 488.0, 690.0, 495.0, 108.0, 172.0, 1660.0, 6620.0, 18696.0, 888.0, 293.0, 198.0, 1249.0, 7615.0, 3929.0, 568.0, 2158.0, 204.0, 2.0, 239.0, 3809.0, 5432.0, 303.0, 30.0, 497.0, 122.0, 1114.0, 1289.0, 4963.0, 515.0, 2199.0, 69.0, 152.0, 987.0, 1083.0, 628.0, 3128.0, 434.0, 319.0, 2966.0], \"type\": \"choropleth\"}], \"name\": \"2020-03-31\"}, {\"data\": [{\"coloraxis\": \"coloraxis\", \"geo\": \"geo\", \"hovertemplate\": \"animation_frame=2020-04-01<br>locations=%{location}<br>color=%{z}<extra></extra>\", \"locationmode\": \"USA-states\", \"locations\": [\"KS\", \"ND\", \"FL\", \"DE\", \"WI\", \"KY\", \"OH\", \"OK\", \"OR\", \"GA\", \"WV\", \"NH\", \"MD\", \"NE\", \"AZ\", \"IA\", \"MP\", \"SC\", \"NM\", \"AR\", \"SD\", \"MO\", \"RI\", \"ME\", \"WY\", \"TN\", \"IL\", \"MI\", \"TX\", \"VI\", \"AL\", \"NJ\", \"MN\", \"AK\", \"ID\", \"CA\", \"VA\", \"MA\", \"D.C.\", \"NY\", \"NC\", \"LA\", \"VT\", \"Others\", \"GU\", \"CT\", \"MT\", \"PA\", \"NV\", \"WA\", \"MS\", \"HI\", \"CO\", \"IN\", \"UT\", \"PR\"], \"name\": \"\", \"z\": [485.0, 142.0, 6956.0, 368.0, 1556.0, 632.0, 2547.0, 721.0, 736.0, 4638.0, 191.0, 367.0, 1986.0, 210.0, 1530.0, 547.0, 6.0, 1293.0, 340.0, 584.0, 129.0, 1613.0, 566.0, 303.0, 130.0, 2933.0, 6980.0, 9315.0, 4355.0, 30.0, 1060.0, 22255.0, 689.0, 132.0, 566.0, 9399.0, 1483.0, 7738.0, 586.0, 83948.0, 1675.0, 6424.0, 321.0, 152.0, 77.0, 3557.0, 208.0, 6009.0, 1279.0, 5608.0, 1073.0, 224.0, 2982.0, 2564.0, 888.0, 286.0], \"type\": \"choropleth\"}], \"name\": \"2020-04-01\"}, {\"data\": [{\"coloraxis\": \"coloraxis\", \"geo\": \"geo\", \"hovertemplate\": \"animation_frame=2020-04-02<br>locations=%{location}<br>color=%{z}<extra></extra>\", \"locationmode\": \"USA-states\", \"locations\": [\"NY\", \"OH\", \"NJ\", \"VI\", \"NH\", \"IN\", \"NV\", \"IL\", \"VA\", \"HI\", \"WI\", \"IA\", \"NM\", \"KS\", \"NE\", \"GU\", \"ID\", \"D.C.\", \"SD\", \"AR\", \"WA\", \"LA\", \"WV\", \"SC\", \"VT\", \"MP\", \"Others\", \"AZ\", \"MD\", \"RI\", \"CT\", \"MT\", \"CA\", \"PA\", \"MA\", \"MS\", \"UT\", \"PR\", \"MO\", \"ME\", \"NC\", \"WY\", \"AK\", \"GA\", \"OK\", \"MN\", \"AL\", \"TX\", \"FL\", \"KY\", \"MI\", \"ND\", \"CO\", \"OR\", \"DE\", \"TN\"], \"name\": \"\", \"z\": [92506.0, 2901.0, 25590.0, 30.0, 316.0, 3038.0, 1463.0, 7695.0, 1706.0, 256.0, 1748.0, 614.0, 388.0, 553.0, 246.0, 82.0, 776.0, 653.0, 165.0, 643.0, 6389.0, 9149.0, 216.0, 1554.0, 338.0, 6.0, 152.0, 1715.0, 2331.0, 645.0, 3824.0, 241.0, 10773.0, 7268.0, 8966.0, 1177.0, 1092.0, 316.0, 1857.0, 376.0, 1977.0, 150.0, 143.0, 5348.0, 881.0, 742.0, 1233.0, 5069.0, 9008.0, 770.0, 10791.0, 159.0, 3342.0, 826.0, 393.0, 3013.0], \"type\": \"choropleth\"}], \"name\": \"2020-04-02\"}, {\"data\": [{\"coloraxis\": \"coloraxis\", \"geo\": \"geo\", \"hovertemplate\": \"animation_frame=2020-04-03<br>locations=%{location}<br>color=%{z}<extra></extra>\", \"locationmode\": \"USA-states\", \"locations\": [\"MS\", \"AK\", \"WY\", \"MO\", \"HI\", \"MA\", \"SD\", \"MN\", \"IL\", \"NJ\", \"VI\", \"SC\", \"AL\", \"MD\", \"NH\", \"AZ\", \"ME\", \"MP\", \"CA\", \"AR\", \"TX\", \"IA\", \"MI\", \"NM\", \"TN\", \"RI\", \"OH\", \"NC\", \"OR\", \"VT\", \"WV\", \"FL\", \"KY\", \"ID\", \"LA\", \"WI\", \"WA\", \"CO\", \"NY\", \"NE\", \"D.C.\", \"DE\", \"VA\", \"ND\", \"Others\", \"GU\", \"PA\", \"CT\", \"GA\", \"KS\", \"PR\", \"NV\", \"MT\", \"IN\", \"UT\", \"OK\"], \"name\": \"\", \"z\": [1358.0, 157.0, 162.0, 1864.0, 319.0, 10402.0, 187.0, 788.0, 8904.0, 29895.0, 37.0, 1700.0, 1495.0, 2758.0, 479.0, 1937.0, 432.0, 8.0, 12004.0, 704.0, 5734.0, 699.0, 12744.0, 534.0, 3067.0, 711.0, 3312.0, 2251.0, 899.0, 389.0, 237.0, 10268.0, 770.0, 891.0, 10297.0, 2012.0, 6846.0, 3742.0, 102987.0, 279.0, 757.0, 450.0, 2012.0, 173.0, 152.0, 84.0, 8570.0, 4914.0, 5831.0, 629.0, 316.0, 1514.0, 243.0, 3437.0, 1255.0, 990.0], \"type\": \"choropleth\"}], \"name\": \"2020-04-03\"}, {\"data\": [{\"coloraxis\": \"coloraxis\", \"geo\": \"geo\", \"hovertemplate\": \"animation_frame=2020-04-04<br>locations=%{location}<br>color=%{z}<extra></extra>\", \"locationmode\": \"USA-states\", \"locations\": [\"GA\", \"TN\", \"DE\", \"VI\", \"OK\", \"FL\", \"TX\", \"WI\", \"AL\", \"NJ\", \"AK\", \"WY\", \"OH\", \"OR\", \"CA\", \"PR\", \"UT\", \"PA\", \"HI\", \"NV\", \"RI\", \"CT\", \"AZ\", \"Others\", \"GU\", \"WV\", \"IA\", \"NM\", \"SC\", \"AR\", \"NY\", \"SD\", \"D.C.\", \"VA\", \"CO\", \"ME\", \"NE\", \"NC\", \"IN\", \"MO\", \"ID\", \"VT\", \"KS\", \"MD\", \"MP\", \"WA\", \"MI\", \"IL\", \"KY\", \"ND\", \"NH\", \"LA\", \"MA\", \"MS\", \"MN\", \"MT\"], \"name\": \"\", \"z\": [6160.0, 3322.0, 593.0, 40.0, 1161.0, 11537.0, 6567.0, 2030.0, 1614.0, 34124.0, 171.0, 187.0, 3739.0, 899.0, 12837.0, 452.0, 1435.0, 10444.0, 351.0, 1742.0, 806.0, 5276.0, 2187.0, 152.0, 93.0, 282.0, 787.0, 534.0, 1917.0, 743.0, 113833.0, 212.0, 902.0, 2407.0, 4188.0, 456.0, 321.0, 2486.0, 3953.0, 2310.0, 1022.0, 461.0, 698.0, 3125.0, 8.0, 7247.0, 14225.0, 10357.0, 917.0, 186.0, 540.0, 12496.0, 11736.0, 1455.0, 865.0, 265.0], \"type\": \"choropleth\"}], \"name\": \"2020-04-04\"}, {\"data\": [{\"coloraxis\": \"coloraxis\", \"geo\": \"geo\", \"hovertemplate\": \"animation_frame=2020-04-05<br>locations=%{location}<br>color=%{z}<extra></extra>\", \"locationmode\": \"USA-states\", \"locations\": [\"CA\", \"MS\", \"NE\", \"GU\", \"NM\", \"SD\", \"MA\", \"VT\", \"Others\", \"SC\", \"NY\", \"AR\", \"AZ\", \"MD\", \"RI\", \"CO\", \"CT\", \"WV\", \"NH\", \"HI\", \"PR\", \"UT\", \"IL\", \"MP\", \"PA\", \"MT\", \"IA\", \"NV\", \"ID\", \"KY\", \"OR\", \"DE\", \"TX\", \"LA\", \"VI\", \"AL\", \"KS\", \"TN\", \"MN\", \"FL\", \"OH\", \"NJ\", \"AK\", \"OK\", \"ND\", \"GA\", \"MI\", \"WI\", \"IN\", \"WY\", \"WA\", \"NC\", \"MO\", \"VA\", \"D.C.\", \"ME\"], \"name\": \"\", \"z\": [15034.0, 1638.0, 364.0, 112.0, 670.0, 240.0, 12500.0, 512.0, 152.0, 2049.0, 123160.0, 837.0, 2486.0, 3617.0, 922.0, 4950.0, 5675.0, 324.0, 621.0, 371.0, 475.0, 1608.0, 11259.0, 8.0, 11589.0, 286.0, 869.0, 1855.0, 1078.0, 955.0, 1068.0, 673.0, 7209.0, 13010.0, 42.0, 1765.0, 751.0, 3633.0, 935.0, 12350.0, 4043.0, 37505.0, 185.0, 1254.0, 207.0, 6647.0, 15718.0, 2320.0, 4411.0, 197.0, 7825.0, 2649.0, 2347.0, 2640.0, 1002.0, 470.0], \"type\": \"choropleth\"}], \"name\": \"2020-04-05\"}, {\"data\": [{\"coloraxis\": \"coloraxis\", \"geo\": \"geo\", \"hovertemplate\": \"animation_frame=2020-04-06<br>locations=%{location}<br>color=%{z}<extra></extra>\", \"locationmode\": \"USA-states\", \"locations\": [\"NC\", \"PR\", \"OH\", \"GA\", \"GU\", \"FL\", \"OK\", \"CA\", \"WA\", \"ND\", \"NV\", \"CO\", \"UT\", \"CT\", \"PA\", \"KS\", \"LA\", \"VA\", \"MT\", \"WV\", \"VT\", \"Others\", \"KY\", \"DE\", \"D.C.\", \"OR\", \"WI\", \"NE\", \"NY\", \"MS\", \"MA\", \"NH\", \"MD\", \"SC\", \"AR\", \"NM\", \"MO\", \"IN\", \"IA\", \"TX\", \"ME\", \"WY\", \"VI\", \"TN\", \"AL\", \"MN\", \"MI\", \"NJ\", \"AK\", \"ID\", \"MP\", \"AZ\", \"SD\", \"HI\", \"IL\", \"RI\"], \"name\": \"\", \"z\": [2962.0, 513.0, 4453.0, 7314.0, 113.0, 13324.0, 1329.0, 16019.0, 8311.0, 225.0, 1953.0, 5183.0, 1685.0, 6906.0, 13127.0, 849.0, 14867.0, 2878.0, 299.0, 345.0, 543.0, 152.0, 955.0, 783.0, 1097.0, 1068.0, 2449.0, 417.0, 131815.0, 1738.0, 13837.0, 715.0, 4045.0, 2232.0, 875.0, 757.0, 2736.0, 4956.0, 946.0, 8043.0, 499.0, 210.0, 43.0, 3802.0, 1952.0, 986.0, 17221.0, 41090.0, 190.0, 1101.0, 8.0, 2732.0, 288.0, 387.0, 12262.0, 1082.0], \"type\": \"choropleth\"}], \"name\": \"2020-04-06\"}, {\"data\": [{\"coloraxis\": \"coloraxis\", \"geo\": \"geo\", \"hovertemplate\": \"animation_frame=2020-04-07<br>locations=%{location}<br>color=%{z}<extra></extra>\", \"locationmode\": \"USA-states\", \"locations\": [\"AL\", \"OR\", \"D.C.\", \"WY\", \"IL\", \"VA\", \"ME\", \"NC\", \"PR\", \"TX\", \"WA\", \"IA\", \"SD\", \"VI\", \"WI\", \"AZ\", \"TN\", \"CA\", \"ND\", \"ID\", \"MI\", \"MA\", \"OK\", \"OH\", \"NJ\", \"FL\", \"AK\", \"KS\", \"NV\", \"MN\", \"KY\", \"DE\", \"NY\", \"MS\", \"GA\", \"MO\", \"CT\", \"HI\", \"NH\", \"Others\", \"RI\", \"UT\", \"SC\", \"MD\", \"WV\", \"AR\", \"VT\", \"MP\", \"PA\", \"CO\", \"IN\", \"NE\", \"MT\", \"NM\", \"GU\", \"LA\"], \"name\": \"\", \"z\": [2169.0, 1132.0, 1211.0, 216.0, 12271.0, 3335.0, 519.0, 3299.0, 573.0, 8925.0, 8692.0, 1046.0, 320.0, 43.0, 2578.0, 2870.0, 4139.0, 17351.0, 237.0, 1170.0, 18970.0, 15202.0, 1474.0, 4782.0, 44416.0, 14545.0, 213.0, 912.0, 2124.0, 1069.0, 1149.0, 928.0, 139875.0, 1915.0, 8822.0, 3130.0, 7781.0, 410.0, 715.0, 152.0, 1229.0, 1746.0, 2417.0, 4371.0, 412.0, 946.0, 575.0, 8.0, 14853.0, 5429.0, 5510.0, 447.0, 319.0, 876.0, 121.0, 16284.0], \"type\": \"choropleth\"}], \"name\": \"2020-04-07\"}, {\"data\": [{\"coloraxis\": \"coloraxis\", \"geo\": \"geo\", \"hovertemplate\": \"animation_frame=2020-04-08<br>locations=%{location}<br>color=%{z}<extra></extra>\", \"locationmode\": \"USA-states\", \"locations\": [\"OK\", \"MP\", \"PA\", \"MA\", \"AK\", \"MI\", \"RI\", \"ND\", \"CA\", \"WV\", \"MN\", \"FL\", \"MT\", \"UT\", \"DE\", \"SD\", \"MO\", \"TX\", \"WA\", \"AZ\", \"CO\", \"NC\", \"AR\", \"ME\", \"TN\", \"SC\", \"D.C.\", \"OR\", \"WY\", \"AL\", \"Others\", \"MS\", \"KY\", \"CT\", \"MD\", \"VT\", \"PR\", \"LA\", \"VA\", \"NY\", \"OH\", \"GU\", \"NV\", \"IN\", \"WI\", \"VI\", \"IL\", \"HI\", \"KS\", \"GA\", \"IA\", \"NM\", \"NH\", \"NE\", \"NJ\", \"ID\"], \"name\": \"\", \"z\": [1526.0, 11.0, 16631.0, 16790.0, 226.0, 20346.0, 1450.0, 251.0, 18897.0, 483.0, 1154.0, 15456.0, 332.0, 1855.0, 1116.0, 393.0, 3209.0, 9777.0, 9276.0, 3036.0, 5655.0, 3499.0, 1000.0, 537.0, 4363.0, 2417.0, 1440.0, 1181.0, 221.0, 2328.0, 152.0, 2003.0, 1149.0, 7781.0, 5529.0, 605.0, 620.0, 17030.0, 3645.0, 151061.0, 5148.0, 121.0, 2259.0, 5943.0, 2710.0, 45.0, 15078.0, 410.0, 1046.0, 9901.0, 1145.0, 902.0, 747.0, 519.0, 47437.0, 1210.0], \"type\": \"choropleth\"}], \"name\": \"2020-04-08\"}, {\"data\": [{\"coloraxis\": \"coloraxis\", \"geo\": \"geo\", \"hovertemplate\": \"animation_frame=2020-04-09<br>locations=%{location}<br>color=%{z}<extra></extra>\", \"locationmode\": \"USA-states\", \"locations\": [\"VA\", \"DE\", \"GU\", \"NE\", \"IN\", \"CT\", \"MA\", \"WA\", \"VI\", \"UT\", \"MP\", \"TX\", \"MN\", \"AZ\", \"KS\", \"LA\", \"NV\", \"IA\", \"SD\", \"WY\", \"MS\", \"ME\", \"GA\", \"Others\", \"KY\", \"FL\", \"MT\", \"OK\", \"SC\", \"CO\", \"PR\", \"NC\", \"MI\", \"ID\", \"VT\", \"NJ\", \"AK\", \"OR\", \"RI\", \"WI\", \"D.C.\", \"AL\", \"AR\", \"HI\", \"OH\", \"NH\", \"WV\", \"TN\", \"MO\", \"NM\", \"ND\", \"NY\", \"MD\", \"PA\", \"IL\", \"CA\"], \"name\": \"\", \"z\": [4042.0, 1209.0, 128.0, 568.0, 6351.0, 9784.0, 18941.0, 9639.0, 45.0, 1856.0, 11.0, 11208.0, 1240.0, 3018.0, 1116.0, 18283.0, 2456.0, 1270.0, 447.0, 230.0, 2260.0, 560.0, 10566.0, 152.0, 1341.0, 16364.0, 354.0, 1686.0, 2793.0, 5655.0, 683.0, 3736.0, 21504.0, 1232.0, 628.0, 51027.0, 235.0, 1321.0, 1727.0, 2886.0, 1523.0, 2703.0, 1119.0, 442.0, 5512.0, 819.0, 514.0, 4634.0, 3432.0, 865.0, 269.0, 161779.0, 6185.0, 18300.0, 15079.0, 19710.0], \"type\": \"choropleth\"}], \"name\": \"2020-04-09\"}, {\"data\": [{\"coloraxis\": \"coloraxis\", \"geo\": \"geo\", \"hovertemplate\": \"animation_frame=2020-04-10<br>locations=%{location}<br>color=%{z}<extra></extra>\", \"locationmode\": \"USA-states\", \"locations\": [\"VA\", \"D.C.\", \"NY\", \"NC\", \"WA\", \"AL\", \"VI\", \"IN\", \"IA\", \"CO\", \"PR\", \"VT\", \"AR\", \"NM\", \"PA\", \"MD\", \"LA\", \"MO\", \"MP\", \"WV\", \"MT\", \"GU\", \"CT\", \"UT\", \"SD\", \"MS\", \"NV\", \"Others\", \"NE\", \"NH\", \"ME\", \"TX\", \"SC\", \"IL\", \"MN\", \"KS\", \"FL\", \"MA\", \"NJ\", \"DE\", \"OK\", \"OH\", \"WY\", \"ND\", \"AZ\", \"HI\", \"WI\", \"AK\", \"KY\", \"GA\", \"CA\", \"OR\", \"MI\", \"ID\", \"RI\", \"TN\"], \"name\": \"\", \"z\": [4509.0, 1660.0, 172348.0, 3965.0, 10119.0, 2947.0, 50.0, 6907.0, 1388.0, 6202.0, 725.0, 679.0, 1171.0, 1081.0, 20051.0, 6968.0, 19253.0, 3897.0, 11.0, 574.0, 365.0, 130.0, 10538.0, 2103.0, 536.0, 2469.0, 2722.0, 152.0, 635.0, 819.0, 586.0, 12105.0, 3067.0, 17887.0, 1336.0, 1117.0, 17531.0, 20974.0, 54588.0, 1326.0, 1794.0, 5878.0, 239.0, 278.0, 3112.0, 442.0, 3068.0, 246.0, 1693.0, 11485.0, 21081.0, 1322.0, 22434.0, 1354.0, 1727.0, 4891.0], \"type\": \"choropleth\"}], \"name\": \"2020-04-10\"}, {\"data\": [{\"coloraxis\": \"coloraxis\", \"geo\": \"geo\", \"hovertemplate\": \"animation_frame=2020-04-11<br>locations=%{location}<br>color=%{z}<extra></extra>\", \"locationmode\": \"USA-states\", \"locations\": [\"MA\", \"NJ\", \"CO\", \"FL\", \"ME\", \"NM\", \"SD\", \"MS\", \"VT\", \"RI\", \"IL\", \"NV\", \"Others\", \"UT\", \"OK\", \"AR\", \"GU\", \"WI\", \"AK\", \"NH\", \"PA\", \"PR\", \"VA\", \"WY\", \"LA\", \"MO\", \"ND\", \"WA\", \"ID\", \"WV\", \"OH\", \"MI\", \"MD\", \"MT\", \"KS\", \"IN\", \"KY\", \"MP\", \"NY\", \"AZ\", \"SC\", \"TN\", \"DE\", \"D.C.\", \"IA\", \"AL\", \"CA\", \"CT\", \"HI\", \"VI\", \"NC\", \"MN\", \"NE\", \"GA\", \"OR\", \"TX\"], \"name\": \"\", \"z\": [22860.0, 58151.0, 6513.0, 18494.0, 616.0, 1091.0, 626.0, 2642.0, 711.0, 2349.0, 19180.0, 2702.0, 152.0, 2207.0, 1868.0, 1228.0, 133.0, 3213.0, 257.0, 885.0, 21719.0, 788.0, 5077.0, 261.0, 20014.0, 4108.0, 293.0, 10434.0, 1396.0, 577.0, 6250.0, 23605.0, 7694.0, 377.0, 1275.0, 7435.0, 1693.0, 11.0, 181026.0, 3393.0, 3211.0, 5132.0, 1479.0, 1778.0, 1510.0, 3217.0, 21706.0, 11510.0, 465.0, 51.0, 4354.0, 1427.0, 699.0, 12159.0, 1371.0, 13023.0], \"type\": \"choropleth\"}], \"name\": \"2020-04-11\"}, {\"data\": [{\"coloraxis\": \"coloraxis\", \"geo\": \"geo\", \"hovertemplate\": \"animation_frame=2020-04-12<br>locations=%{location}<br>color=%{z}<extra></extra>\", \"locationmode\": \"USA-states\", \"locations\": [\"WY\", \"CA\", \"MO\", \"VA\", \"TN\", \"PA\", \"VT\", \"NC\", \"PR\", \"AK\", \"CO\", \"HI\", \"SC\", \"NM\", \"AR\", \"D.C.\", \"KY\", \"OR\", \"WV\", \"AL\", \"MI\", \"MD\", \"IN\", \"WI\", \"ND\", \"VI\", \"DE\", \"NJ\", \"IL\", \"FL\", \"CT\", \"MN\", \"UT\", \"MS\", \"NE\", \"SD\", \"ID\", \"GA\", \"RI\", \"WA\", \"Others\", \"IA\", \"LA\", \"OK\", \"ME\", \"MT\", \"TX\", \"MP\", \"NY\", \"KS\", \"AZ\", \"GU\", \"MA\", \"NV\", \"OH\", \"NH\"], \"name\": \"\", \"z\": [270.0, 22795.0, 4269.0, 5274.0, 5508.0, 22938.0, 727.0, 4570.0, 897.0, 272.0, 7307.0, 499.0, 3320.0, 1245.0, 1280.0, 1875.0, 1963.0, 1527.0, 593.0, 3563.0, 24244.0, 8225.0, 7928.0, 3341.0, 308.0, 51.0, 1625.0, 61850.0, 20852.0, 19895.0, 12035.0, 1621.0, 2303.0, 2781.0, 791.0, 730.0, 1407.0, 12452.0, 2665.0, 10609.0, 152.0, 1587.0, 20595.0, 1970.0, 633.0, 387.0, 13677.0, 11.0, 189033.0, 1344.0, 3542.0, 133.0, 25475.0, 2836.0, 6604.0, 929.0], \"type\": \"choropleth\"}], \"name\": \"2020-04-12\"}, {\"data\": [{\"coloraxis\": \"coloraxis\", \"geo\": \"geo\", \"hovertemplate\": \"animation_frame=2020-04-13<br>locations=%{location}<br>color=%{z}<extra></extra>\", \"locationmode\": \"USA-states\", \"locations\": [\"MP\", \"MA\", \"MS\", \"NM\", \"NV\", \"AZ\", \"HI\", \"CA\", \"IL\", \"KS\", \"PR\", \"RI\", \"SC\", \"NY\", \"VI\", \"VT\", \"D.C.\", \"AL\", \"OR\", \"ME\", \"NC\", \"TN\", \"KY\", \"ID\", \"IA\", \"MN\", \"DE\", \"WA\", \"FL\", \"NJ\", \"OK\", \"OH\", \"WY\", \"AK\", \"WI\", \"ND\", \"MI\", \"GA\", \"CT\", \"IN\", \"Others\", \"CO\", \"MD\", \"WV\", \"AR\", \"MO\", \"PA\", \"VA\", \"NE\", \"NH\", \"GU\", \"MT\", \"LA\", \"TX\", \"UT\", \"SD\"], \"name\": \"\", \"z\": [11.0, 26867.0, 2942.0, 1262.0, 2990.0, 3705.0, 504.0, 23931.0, 22025.0, 1390.0, 903.0, 2665.0, 3391.0, 195749.0, 51.0, 748.0, 1955.0, 3734.0, 1584.0, 698.0, 4886.0, 5610.0, 2018.0, 1426.0, 1710.0, 1621.0, 1758.0, 10635.0, 21019.0, 64584.0, 2069.0, 6975.0, 275.0, 277.0, 3428.0, 331.0, 25635.0, 13315.0, 13381.0, 8359.0, 152.0, 7691.0, 8936.0, 611.0, 1410.0, 4515.0, 24292.0, 5747.0, 814.0, 985.0, 133.0, 394.0, 21016.0, 14275.0, 2363.0, 868.0], \"type\": \"choropleth\"}], \"name\": \"2020-04-13\"}, {\"data\": [{\"coloraxis\": \"coloraxis\", \"geo\": \"geo\", \"hovertemplate\": \"animation_frame=2020-04-14<br>locations=%{location}<br>color=%{z}<extra></extra>\", \"locationmode\": \"USA-states\", \"locations\": [\"ME\", \"MI\", \"SC\", \"NM\", \"IA\", \"AK\", \"WY\", \"RI\", \"AZ\", \"MD\", \"AR\", \"TX\", \"MP\", \"MO\", \"NJ\", \"SD\", \"AL\", \"MN\", \"VI\", \"ID\", \"HI\", \"TN\", \"NH\", \"KS\", \"PR\", \"Others\", \"WV\", \"MS\", \"KY\", \"NC\", \"OR\", \"D.C.\", \"NV\", \"IN\", \"GA\", \"NY\", \"CT\", \"NE\", \"CO\", \"UT\", \"MT\", \"GU\", \"VA\", \"PA\", \"VT\", \"DE\", \"LA\", \"MA\", \"WA\", \"IL\", \"WI\", \"OK\", \"CA\", \"OH\", \"ND\", \"FL\"], \"name\": \"\", \"z\": [735.0, 27001.0, 3553.0, 1345.0, 1899.0, 285.0, 282.0, 3251.0, 3809.0, 9472.0, 1498.0, 15006.0, 11.0, 4746.0, 68824.0, 988.0, 3953.0, 1695.0, 51.0, 1464.0, 511.0, 5827.0, 922.0, 1441.0, 923.0, 152.0, 640.0, 3087.0, 2048.0, 5113.0, 1633.0, 2058.0, 3134.0, 8527.0, 14578.0, 203020.0, 13989.0, 897.0, 7950.0, 2417.0, 399.0, 133.0, 6182.0, 25465.0, 752.0, 1926.0, 21518.0, 28164.0, 10799.0, 23248.0, 3555.0, 2184.0, 25356.0, 7285.0, 341.0, 21628.0], \"type\": \"choropleth\"}], \"name\": \"2020-04-14\"}, {\"data\": [{\"coloraxis\": \"coloraxis\", \"geo\": \"geo\", \"hovertemplate\": \"animation_frame=2020-04-15<br>locations=%{location}<br>color=%{z}<extra></extra>\", \"locationmode\": \"USA-states\", \"locations\": [\"NE\", \"MA\", \"Others\", \"SD\", \"UT\", \"ND\", \"NJ\", \"WI\", \"WA\", \"OH\", \"GU\", \"KS\", \"MI\", \"PA\", \"MO\", \"MT\", \"NH\", \"IA\", \"DE\", \"GA\", \"MN\", \"TN\", \"OK\", \"KY\", \"NC\", \"VA\", \"CT\", \"ME\", \"OR\", \"D.C.\", \"FL\", \"WY\", \"AK\", \"AL\", \"NY\", \"IN\", \"ID\", \"RI\", \"VT\", \"VI\", \"SC\", \"MD\", \"TX\", \"LA\", \"AR\", \"IL\", \"MS\", \"CA\", \"HI\", \"NM\", \"WV\", \"CO\", \"MP\", \"PR\", \"NV\", \"AZ\"], \"name\": \"\", \"z\": [901.0, 29918.0, 152.0, 1168.0, 2548.0, 365.0, 71030.0, 3721.0, 10942.0, 7794.0, 135.0, 1504.0, 28059.0, 26753.0, 4791.0, 404.0, 1139.0, 1995.0, 2014.0, 14987.0, 1809.0, 5827.0, 2263.0, 2210.0, 5340.0, 6500.0, 14755.0, 770.0, 1663.0, 2197.0, 22511.0, 287.0, 293.0, 4075.0, 214454.0, 8960.0, 1473.0, 3251.0, 759.0, 51.0, 3656.0, 10032.0, 15907.0, 21951.0, 1569.0, 24593.0, 3360.0, 26686.0, 524.0, 1484.0, 702.0, 7956.0, 13.0, 974.0, 3211.0, 3964.0], \"type\": \"choropleth\"}], \"name\": \"2020-04-15\"}, {\"data\": [{\"coloraxis\": \"coloraxis\", \"geo\": \"geo\", \"hovertemplate\": \"animation_frame=2020-04-16<br>locations=%{location}<br>color=%{z}<extra></extra>\", \"locationmode\": \"USA-states\", \"locations\": [\"HI\", \"LA\", \"ME\", \"MS\", \"ID\", \"TN\", \"NM\", \"OR\", \"D.C.\", \"PR\", \"NC\", \"GA\", \"DE\", \"WV\", \"RI\", \"KS\", \"OH\", \"MA\", \"WA\", \"ND\", \"AZ\", \"WI\", \"MN\", \"AK\", \"IL\", \"FL\", \"VI\", \"CA\", \"OK\", \"MP\", \"NJ\", \"NV\", \"WY\", \"AL\", \"IN\", \"CO\", \"VA\", \"PA\", \"MD\", \"MO\", \"AR\", \"GU\", \"TX\", \"NH\", \"MT\", \"NY\", \"UT\", \"Others\", \"SD\", \"SC\", \"NE\", \"MI\", \"KY\", \"CT\", \"VT\", \"IA\"], \"name\": \"\", \"z\": [530.0, 22532.0, 796.0, 3624.0, 1587.0, 6375.0, 1484.0, 1736.0, 2350.0, 1043.0, 5639.0, 15669.0, 2070.0, 728.0, 3529.0, 1615.0, 8414.0, 32181.0, 11057.0, 393.0, 4237.0, 3875.0, 1809.0, 300.0, 25734.0, 23343.0, 51.0, 27677.0, 2357.0, 13.0, 75317.0, 3214.0, 296.0, 4345.0, 9542.0, 8286.0, 6889.0, 28258.0, 10784.0, 5174.0, 1620.0, 135.0, 16876.0, 1139.0, 415.0, 223691.0, 2683.0, 152.0, 1311.0, 3931.0, 952.0, 28809.0, 2435.0, 15884.0, 774.0, 2141.0], \"type\": \"choropleth\"}], \"name\": \"2020-04-16\"}, {\"data\": [{\"coloraxis\": \"coloraxis\", \"geo\": \"geo\", \"hovertemplate\": \"animation_frame=2020-04-17<br>locations=%{location}<br>color=%{z}<extra></extra>\", \"locationmode\": \"USA-states\", \"locations\": [\"PR\", \"WI\", \"CO\", \"KY\", \"AK\", \"GU\", \"FL\", \"UT\", \"IL\", \"TX\", \"NV\", \"WY\", \"IA\", \"MD\", \"AZ\", \"ND\", \"MA\", \"MS\", \"WA\", \"PA\", \"LA\", \"OH\", \"KS\", \"AL\", \"RI\", \"VA\", \"MO\", \"OK\", \"AR\", \"NH\", \"VI\", \"ME\", \"IN\", \"ID\", \"MT\", \"NM\", \"HI\", \"NE\", \"NC\", \"MI\", \"SD\", \"CT\", \"TN\", \"MP\", \"SC\", \"GA\", \"Others\", \"VT\", \"DE\", \"NJ\", \"MN\", \"D.C.\", \"OR\", \"NY\", \"CA\", \"WV\"], \"name\": \"\", \"z\": [1068.0, 4053.0, 8691.0, 2522.0, 309.0, 136.0, 24759.0, 2793.0, 27578.0, 17849.0, 3524.0, 305.0, 2332.0, 11572.0, 4511.0, 393.0, 34402.0, 3793.0, 11517.0, 29888.0, 23118.0, 9107.0, 1730.0, 4571.0, 4177.0, 7491.0, 5371.0, 2465.0, 1695.0, 1287.0, 51.0, 827.0, 10154.0, 1609.0, 422.0, 1597.0, 541.0, 1066.0, 6045.0, 30023.0, 1411.0, 16809.0, 6263.0, 13.0, 4099.0, 17194.0, 152.0, 779.0, 2317.0, 78467.0, 2070.0, 2476.0, 1785.0, 230597.0, 29157.0, 775.0], \"type\": \"choropleth\"}], \"name\": \"2020-04-17\"}, {\"data\": [{\"coloraxis\": \"coloraxis\", \"geo\": \"geo\", \"hovertemplate\": \"animation_frame=2020-04-18<br>locations=%{location}<br>color=%{z}<extra></extra>\", \"locationmode\": \"USA-states\", \"locations\": [\"WY\", \"VT\", \"WV\", \"VA\", \"UT\", \"WI\", \"TX\", \"VI\", \"WA\", \"MS\", \"NM\", \"SC\", \"NV\", \"DE\", \"GA\", \"RI\", \"NY\", \"MN\", \"AR\", \"KS\", \"PR\", \"OH\", \"IN\", \"IA\", \"OK\", \"PA\", \"AK\", \"CT\", \"MP\", \"D.C.\", \"ID\", \"NE\", \"OR\", \"Others\", \"LA\", \"GU\", \"MT\", \"MI\", \"CA\", \"MO\", \"NJ\", \"ND\", \"TN\", \"NH\", \"IL\", \"MD\", \"AZ\", \"NC\", \"SD\", \"HI\", \"MA\", \"ME\", \"AL\", \"CO\", \"FL\", \"KY\"], \"name\": \"\", \"z\": [309.0, 803.0, 785.0, 8053.0, 2917.0, 4199.0, 18704.0, 53.0, 11776.0, 3974.0, 1798.0, 4248.0, 3626.0, 2538.0, 17669.0, 4491.0, 241712.0, 2209.0, 1744.0, 1821.0, 1118.0, 10222.0, 10641.0, 2513.0, 2465.0, 31652.0, 314.0, 17550.0, 14.0, 2666.0, 1655.0, 1249.0, 1844.0, 152.0, 23580.0, 136.0, 426.0, 30791.0, 30491.0, 5579.0, 81420.0, 528.0, 6589.0, 1342.0, 29160.0, 12326.0, 4724.0, 6328.0, 1542.0, 574.0, 36372.0, 847.0, 4712.0, 9047.0, 25492.0, 2707.0], \"type\": \"choropleth\"}], \"name\": \"2020-04-18\"}, {\"data\": [{\"coloraxis\": \"coloraxis\", \"geo\": \"geo\", \"hovertemplate\": \"animation_frame=2020-04-19<br>locations=%{location}<br>color=%{z}<extra></extra>\", \"locationmode\": \"USA-states\", \"locations\": [\"FL\", \"OK\", \"ND\", \"MP\", \"WI\", \"OR\", \"NE\", \"LA\", \"VI\", \"D.C.\", \"WA\", \"IA\", \"MT\", \"DE\", \"MO\", \"KS\", \"VA\", \"NV\", \"MS\", \"NH\", \"NJ\", \"VT\", \"NY\", \"AZ\", \"AL\", \"NM\", \"OH\", \"KY\", \"GA\", \"NC\", \"AR\", \"GU\", \"WY\", \"PR\", \"ID\", \"RI\", \"CO\", \"MI\", \"SC\", \"MN\", \"ME\", \"HI\", \"IL\", \"SD\", \"MA\", \"MD\", \"WV\", \"TN\", \"TX\", \"IN\", \"CA\", \"CT\", \"Others\", \"AK\", \"PA\", \"UT\"], \"name\": \"\", \"z\": [26314.0, 2567.0, 585.0, 14.0, 4346.0, 1910.0, 1474.0, 23928.0, 53.0, 2793.0, 12255.0, 2902.0, 433.0, 2538.0, 5743.0, 1905.0, 8542.0, 3728.0, 4274.0, 1390.0, 85301.0, 813.0, 247815.0, 4933.0, 4888.0, 1845.0, 11602.0, 2960.0, 18301.0, 6601.0, 1781.0, 136.0, 313.0, 1213.0, 1668.0, 4706.0, 9730.0, 31424.0, 4377.0, 2356.0, 867.0, 580.0, 30357.0, 1635.0, 38077.0, 12847.0, 890.0, 7070.0, 19260.0, 11211.0, 31431.0, 17962.0, 152.0, 319.0, 32902.0, 3069.0], \"type\": \"choropleth\"}], \"name\": \"2020-04-19\"}, {\"data\": [{\"coloraxis\": \"coloraxis\", \"geo\": \"geo\", \"hovertemplate\": \"animation_frame=2020-04-20<br>locations=%{location}<br>color=%{z}<extra></extra>\", \"locationmode\": \"USA-states\", \"locations\": [\"MT\", \"WA\", \"MO\", \"CA\", \"NM\", \"ME\", \"WV\", \"SC\", \"Others\", \"TX\", \"ND\", \"KS\", \"ID\", \"GU\", \"VI\", \"NJ\", \"OR\", \"IL\", \"CT\", \"NC\", \"AK\", \"SD\", \"NH\", \"UT\", \"AL\", \"KY\", \"DE\", \"LA\", \"CO\", \"D.C.\", \"AZ\", \"MN\", \"PA\", \"OH\", \"OK\", \"MP\", \"PR\", \"MA\", \"NE\", \"IA\", \"FL\", \"HI\", \"NY\", \"GA\", \"WY\", \"IN\", \"MS\", \"NV\", \"RI\", \"TN\", \"VA\", \"WI\", \"MI\", \"AR\", \"VT\", \"MD\"], \"name\": \"\", \"z\": [433.0, 12114.0, 5890.0, 33686.0, 1971.0, 875.0, 902.0, 4446.0, 152.0, 19751.0, 627.0, 2048.0, 1672.0, 136.0, 53.0, 88722.0, 1957.0, 31513.0, 19815.0, 6895.0, 321.0, 1685.0, 1447.0, 3213.0, 5079.0, 3050.0, 2745.0, 24523.0, 9730.0, 2927.0, 5068.0, 2470.0, 33914.0, 12919.0, 2680.0, 14.0, 1252.0, 38077.0, 1648.0, 3159.0, 27059.0, 584.0, 253060.0, 19407.0, 317.0, 11688.0, 4512.0, 3830.0, 5090.0, 7238.0, 8990.0, 4499.0, 32000.0, 1973.0, 816.0, 13684.0], \"type\": \"choropleth\"}], \"name\": \"2020-04-20\"}, {\"data\": [{\"coloraxis\": \"coloraxis\", \"geo\": \"geo\", \"hovertemplate\": \"animation_frame=2020-04-21<br>locations=%{location}<br>color=%{z}<extra></extra>\", \"locationmode\": \"USA-states\", \"locations\": [\"ND\", \"HI\", \"MO\", \"MN\", \"NC\", \"FL\", \"KY\", \"MP\", \"ME\", \"MS\", \"MI\", \"LA\", \"GU\", \"VT\", \"AR\", \"GA\", \"MD\", \"MT\", \"AL\", \"NE\", \"CA\", \"NY\", \"D.C.\", \"OH\", \"OK\", \"AK\", \"OR\", \"CT\", \"IN\", \"UT\", \"Others\", \"NV\", \"PA\", \"PR\", \"CO\", \"RI\", \"WY\", \"SC\", \"TX\", \"IL\", \"SD\", \"TN\", \"ID\", \"WV\", \"AZ\", \"VA\", \"MA\", \"KS\", \"NM\", \"NH\", \"DE\", \"WI\", \"NJ\", \"WA\", \"IA\", \"VI\"], \"name\": \"\", \"z\": [644.0, 586.0, 6066.0, 2567.0, 7134.0, 27869.0, 3204.0, 14.0, 888.0, 4716.0, 32667.0, 24854.0, 136.0, 818.0, 1990.0, 19881.0, 14193.0, 437.0, 5317.0, 1685.0, 35465.0, 258361.0, 3098.0, 13725.0, 2807.0, 329.0, 2004.0, 20360.0, 12097.0, 3297.0, 152.0, 3937.0, 35249.0, 1298.0, 10473.0, 5500.0, 443.0, 4439.0, 20574.0, 33059.0, 1755.0, 7394.0, 1736.0, 908.0, 5256.0, 9630.0, 41199.0, 2164.0, 1971.0, 1490.0, 2931.0, 4625.0, 92387.0, 12392.0, 3641.0, 53.0], \"type\": \"choropleth\"}], \"name\": \"2020-04-21\"}, {\"data\": [{\"coloraxis\": \"coloraxis\", \"geo\": \"geo\", \"hovertemplate\": \"animation_frame=2020-04-22<br>locations=%{location}<br>color=%{z}<extra></extra>\", \"locationmode\": \"USA-states\", \"locations\": [\"VA\", \"TN\", \"PA\", \"WI\", \"NC\", \"PR\", \"CO\", \"GU\", \"MI\", \"NH\", \"MN\", \"IA\", \"Others\", \"LA\", \"ID\", \"CA\", \"ME\", \"SC\", \"WY\", \"AZ\", \"IL\", \"TX\", \"VI\", \"RI\", \"AR\", \"UT\", \"MD\", \"MS\", \"KY\", \"NV\", \"WA\", \"NE\", \"HI\", \"DE\", \"VT\", \"NY\", \"D.C.\", \"GA\", \"NM\", \"WV\", \"OH\", \"MP\", \"AK\", \"MT\", \"OK\", \"AL\", \"MA\", \"NJ\", \"OR\", \"ND\", \"MO\", \"IN\", \"CT\", \"FL\", \"KS\", \"SD\"], \"name\": \"\", \"z\": [10266.0, 7394.0, 36082.0, 4845.0, 7495.0, 1252.0, 10891.0, 136.0, 33966.0, 1588.0, 2722.0, 3748.0, 152.0, 25258.0, 1766.0, 37344.0, 907.0, 4761.0, 447.0, 5473.0, 35107.0, 21321.0, 54.0, 5841.0, 2276.0, 3445.0, 14775.0, 4894.0, 3378.0, 4081.0, 12596.0, 1813.0, 592.0, 3200.0, 823.0, 263292.0, 3206.0, 21214.0, 2210.0, 939.0, 14117.0, 14.0, 335.0, 439.0, 2894.0, 5593.0, 42944.0, 95914.0, 2059.0, 679.0, 6277.0, 12438.0, 22469.0, 28309.0, 2331.0, 1858.0], \"type\": \"choropleth\"}], \"name\": \"2020-04-22\"}, {\"data\": [{\"coloraxis\": \"coloraxis\", \"geo\": \"geo\", \"hovertemplate\": \"animation_frame=2020-04-23<br>locations=%{location}<br>color=%{z}<extra></extra>\", \"locationmode\": \"USA-states\", \"locations\": [\"KY\", \"HI\", \"LA\", \"KS\", \"IN\", \"IA\", \"WA\", \"IL\", \"AZ\", \"WV\", \"MD\", \"MA\", \"VA\", \"NV\", \"D.C.\", \"NY\", \"AK\", \"OH\", \"OK\", \"OR\", \"CT\", \"NM\", \"UT\", \"PA\", \"CO\", \"PR\", \"RI\", \"TX\", \"SC\", \"CA\", \"WY\", \"SD\", \"TN\", \"Others\", \"NJ\", \"DE\", \"WI\", \"AR\", \"ME\", \"GU\", \"MI\", \"MN\", \"MO\", \"MP\", \"VT\", \"MS\", \"MT\", \"GA\", \"VI\", \"NH\", \"NE\", \"FL\", \"ND\", \"ID\", \"NC\", \"AL\"], \"name\": \"\", \"z\": [3479.0, 596.0, 25739.0, 2721.0, 13039.0, 3924.0, 12753.0, 36937.0, 5772.0, 981.0, 15737.0, 46023.0, 10998.0, 4208.0, 3361.0, 263460.0, 337.0, 14694.0, 3017.0, 2127.0, 23100.0, 2379.0, 3612.0, 38379.0, 11278.0, 1416.0, 6256.0, 22650.0, 4917.0, 39561.0, 453.0, 1956.0, 8266.0, 152.0, 100025.0, 3308.0, 5052.0, 2599.0, 937.0, 139.0, 35296.0, 2942.0, 6506.0, 14.0, 825.0, 5153.0, 442.0, 21883.0, 54.0, 1670.0, 2202.0, 29648.0, 709.0, 1836.0, 7820.0, 5832.0], \"type\": \"choropleth\"}], \"name\": \"2020-04-23\"}, {\"data\": [{\"coloraxis\": \"coloraxis\", \"geo\": \"geo\", \"hovertemplate\": \"animation_frame=2020-04-24<br>locations=%{location}<br>color=%{z}<extra></extra>\", \"locationmode\": \"USA-states\", \"locations\": [\"GA\", \"CO\", \"D.C.\", \"WI\", \"IA\", \"WV\", \"GU\", \"CA\", \"AZ\", \"HI\", \"CT\", \"DE\", \"FL\", \"MP\", \"VI\", \"MN\", \"NM\", \"Others\", \"UT\", \"VT\", \"OR\", \"MS\", \"OK\", \"MT\", \"OH\", \"AL\", \"NC\", \"ND\", \"NY\", \"AK\", \"ID\", \"NE\", \"NH\", \"NV\", \"NJ\", \"VA\", \"MI\", \"PA\", \"MO\", \"LA\", \"ME\", \"KS\", \"TX\", \"WA\", \"SD\", \"MA\", \"SC\", \"RI\", \"WY\", \"AR\", \"IN\", \"MD\", \"TN\", \"IL\", \"PR\", \"KY\"], \"name\": \"\", \"z\": [22491.0, 12256.0, 3528.0, 5356.0, 4445.0, 1010.0, 141.0, 41355.0, 6045.0, 601.0, 23936.0, 3442.0, 30533.0, 14.0, 54.0, 3185.0, 2521.0, 152.0, 3782.0, 827.0, 2177.0, 5434.0, 3121.0, 444.0, 15169.0, 6026.0, 8290.0, 748.0, 271590.0, 339.0, 1870.0, 2424.0, 1720.0, 4398.0, 102196.0, 11594.0, 36641.0, 40208.0, 6788.0, 26140.0, 965.0, 2959.0, 23642.0, 12977.0, 2040.0, 50969.0, 5070.0, 6699.0, 473.0, 2810.0, 13681.0, 16616.0, 8728.0, 39658.0, 1276.0, 3779.0], \"type\": \"choropleth\"}], \"name\": \"2020-04-24\"}, {\"data\": [{\"coloraxis\": \"coloraxis\", \"geo\": \"geo\", \"hovertemplate\": \"animation_frame=2020-04-25<br>locations=%{location}<br>color=%{z}<extra></extra>\", \"locationmode\": \"USA-states\", \"locations\": [\"NV\", \"SD\", \"VA\", \"SC\", \"D.C.\", \"PA\", \"CA\", \"OH\", \"CT\", \"TX\", \"OK\", \"RI\", \"UT\", \"OR\", \"Others\", \"WV\", \"PR\", \"CO\", \"NY\", \"AK\", \"ID\", \"NM\", \"MI\", \"ME\", \"GU\", \"AZ\", \"MD\", \"MA\", \"AR\", \"LA\", \"HI\", \"KY\", \"KS\", \"WA\", \"IA\", \"IN\", \"IL\", \"MN\", \"MO\", \"GA\", \"NC\", \"NJ\", \"DE\", \"WI\", \"NH\", \"NE\", \"VI\", \"ND\", \"MP\", \"TN\", \"AL\", \"FL\", \"MS\", \"WY\", \"VT\", \"MT\"], \"name\": \"\", \"z\": [4539.0, 2147.0, 12366.0, 5253.0, 3699.0, 41153.0, 42368.0, 15587.0, 24583.0, 24153.0, 3194.0, 7129.0, 3948.0, 2253.0, 152.0, 1010.0, 1307.0, 12968.0, 282143.0, 339.0, 1887.0, 2660.0, 37074.0, 965.0, 141.0, 6286.0, 17766.0, 53348.0, 2911.0, 26512.0, 605.0, 3915.0, 3135.0, 13319.0, 5092.0, 14399.0, 41777.0, 3446.0, 6935.0, 23222.0, 8768.0, 105498.0, 3576.0, 5687.0, 1797.0, 2719.0, 55.0, 803.0, 14.0, 9189.0, 6026.0, 30839.0, 5718.0, 491.0, 843.0, 445.0], \"type\": \"choropleth\"}], \"name\": \"2020-04-25\"}, {\"data\": [{\"coloraxis\": \"coloraxis\", \"geo\": \"geo\", \"hovertemplate\": \"animation_frame=2020-04-26<br>locations=%{location}<br>color=%{z}<extra></extra>\", \"locationmode\": \"USA-states\", \"locations\": [\"AR\", \"WV\", \"AL\", \"AZ\", \"AK\", \"MI\", \"CO\", \"NC\", \"ND\", \"VI\", \"NE\", \"NH\", \"NJ\", \"NM\", \"VA\", \"NV\", \"NY\", \"OH\", \"OK\", \"UT\", \"OR\", \"Others\", \"PA\", \"PR\", \"RI\", \"TX\", \"SC\", \"SD\", \"MT\", \"MS\", \"MP\", \"VT\", \"CT\", \"D.C.\", \"WI\", \"DE\", \"FL\", \"GA\", \"GU\", \"HI\", \"IA\", \"ID\", \"CA\", \"IL\", \"WA\", \"KS\", \"KY\", \"LA\", \"MA\", \"MD\", \"ME\", \"TN\", \"MN\", \"MO\", \"IN\", \"WY\"], \"name\": \"\", \"z\": [3001.0, 1055.0, 6421.0, 6534.0, 340.0, 37778.0, 13441.0, 8997.0, 867.0, 57.0, 3028.0, 1864.0, 109038.0, 2726.0, 12970.0, 4734.0, 288045.0, 15972.0, 3254.0, 4123.0, 2311.0, 152.0, 42616.0, 1371.0, 7439.0, 24967.0, 5498.0, 2212.0, 448.0, 5911.0, 14.0, 851.0, 25269.0, 3841.0, 5912.0, 4034.0, 31532.0, 23486.0, 141.0, 606.0, 5476.0, 1897.0, 43558.0, 43903.0, 13521.0, 3277.0, 4085.0, 26773.0, 54938.0, 18581.0, 1015.0, 9667.0, 3602.0, 7120.0, 15012.0, 502.0], \"type\": \"choropleth\"}], \"name\": \"2020-04-26\"}]);\n",
       "                        }).then(function(){\n",
       "                            \n",
       "var gd = document.getElementById('700153e9-7f81-4e88-bcb6-a5f698962e38');\n",
       "var x = new MutationObserver(function (mutations, observer) {{\n",
       "        var display = window.getComputedStyle(gd).display;\n",
       "        if (!display || display === 'none') {{\n",
       "            console.log([gd, 'removed!']);\n",
       "            Plotly.purge(gd);\n",
       "            observer.disconnect();\n",
       "        }}\n",
       "}});\n",
       "\n",
       "// Listen for the removal of the full notebook cells\n",
       "var notebookContainer = gd.closest('#notebook-container');\n",
       "if (notebookContainer) {{\n",
       "    x.observe(notebookContainer, {childList: true});\n",
       "}}\n",
       "\n",
       "// Listen for the clearing of the current output cell\n",
       "var outputEl = gd.closest('.output');\n",
       "if (outputEl) {{\n",
       "    x.observe(outputEl, {childList: true});\n",
       "}}\n",
       "\n",
       "                        })\n",
       "                };\n",
       "                });\n",
       "            </script>\n",
       "        </div>"
      ]
     },
     "metadata": {},
     "output_type": "display_data"
    }
   ],
   "source": [
    "import datetime\n",
    "\n",
    "cumulative_df = us_covid_df.groupby([\"StateCode\", \"ObservationDate\"])[\"Confirmed\", \"Deaths\", \"Recovered\"].sum().reset_index()\n",
    "cumulative_df[\"ObservationDate\"] = pd.to_datetime(cumulative_df[\"ObservationDate\"] , format=\"%m/%d/%Y\").dt.date\n",
    "cumulative_df = cumulative_df.sort_values(by=\"ObservationDate\").reset_index(drop=True)\n",
    "start_date = datetime.date(2020, 1, 25)\n",
    "cumulative_df = cumulative_df[cumulative_df[\"ObservationDate\"]>=start_date]\n",
    "cumulative_df[\"ObservationDate\"] = cumulative_df[\"ObservationDate\"].astype(str)\n",
    "\n",
    "fig = px.choropleth(locations=cumulative_df[\"StateCode\"],\n",
    "                    color=cumulative_df[\"Confirmed\"], \n",
    "                    locationmode=\"USA-states\",\n",
    "                    scope=\"usa\",\n",
    "                    animation_frame=cumulative_df[\"ObservationDate\"],\n",
    "                    color_continuous_scale='Reds',\n",
    "                    range_color=[0,55000]\n",
    "                    #autocolorscale=False,\n",
    "                   )\n",
    "\n",
    "layout = go.Layout(\n",
    "    title=go.layout.Title(\n",
    "        text=\"Cumulative count of COVID-19 cases in US states\",\n",
    "        x=0.5\n",
    "    ),\n",
    "    font=dict(size=14),\n",
    ")\n",
    "\n",
    "fig.update_layout(layout)\n",
    "fig.show()"
   ]
  },
  {
   "cell_type": "code",
   "execution_count": null,
   "metadata": {},
   "outputs": [],
   "source": []
  }
 ],
 "metadata": {
  "kernelspec": {
   "display_name": "Python 3",
   "language": "python",
   "name": "python3"
  },
  "language_info": {
   "codemirror_mode": {
    "name": "ipython",
    "version": 3
   },
   "file_extension": ".py",
   "mimetype": "text/x-python",
   "name": "python",
   "nbconvert_exporter": "python",
   "pygments_lexer": "ipython3",
   "version": "3.8.5"
  }
 },
 "nbformat": 4,
 "nbformat_minor": 2
}
